{
 "cells": [
  {
   "cell_type": "code",
   "execution_count": 1,
   "metadata": {},
   "outputs": [],
   "source": [
    "import util\n",
    "import warnings\n",
    "import numpy as np\n",
    "\n",
    "from ld3 import LD3, Window, StreamGenerator\n",
    "\n",
    "from tqdm.notebook import tqdm\n",
    "\n",
    "from skmultilearn.dataset import load_from_arff\n",
    "\n",
    "from skmultiflow.data import DataStream\n",
    "from skmultiflow.meta import ClassifierChain\n",
    "from skmultiflow.drift_detection import ADWIN, EDDM, KSWIN, HDDM_W, HDDM_A, DDM\n",
    "\n",
    "from sklearn.metrics import f1_score\n",
    "from sklearn.naive_bayes import GaussianNB\n",
    "from sklearn.preprocessing import MultiLabelBinarizer\n",
    "\n",
    "from tornados.drift_detection.rddm import RDDM\n",
    "from tornados.drift_detection.fhddm import FHDDM\n",
    "from tornados.drift_detection.fhddms import FHDDMS\n",
    "from tornados.drift_detection.mddm_a import MDDM_A\n",
    "from tornados.drift_detection.mddm_e import MDDM_E\n",
    "from tornados.drift_detection.mddm_g import MDDM_G\n",
    "from tornados.drift_detection.fhddms_add import FHDDMS_add\n",
    "from tornados.drift_detection.seq_drift2 import SeqDrift2ChangeDetector\n",
    "\n",
    "warnings.filterwarnings('ignore')\n",
    "np.set_printoptions(precision=4, suppress=True)"
   ]
  },
  {
   "cell_type": "code",
   "execution_count": 8,
   "metadata": {},
   "outputs": [],
   "source": [
    "# Real Dataset Load\n",
    "X, y = load_from_arff('./datasets/{}'.format('20NG.arff'), label_count=20)\n",
    "X = X.toarray()\n",
    "y = y.toarray().astype(np.int8)\n",
    "sample_size = len(X)\n",
    "n_features = X.shape[1]\n",
    "\n",
    "if len(np.unique(y)) > 2:\n",
    "    mlb = MultiLabelBinarizer()\n",
    "    y = mlb.fit_transform(y)\n",
    "n_targets = y.shape[1]\n",
    "stream = DataStream(data = X, y=y, n_targets=n_targets)\n",
    "\n",
    "# Synthetic Dataset Generation\n",
    "#gen = StreamGenerator()\n",
    "#stream, sample_size, n_features, n_targets = gen.get_stream(type='sudden2')"
   ]
  },
  {
   "cell_type": "code",
   "execution_count": 12,
   "metadata": {},
   "outputs": [
    {
     "data": {
      "application/vnd.jupyter.widget-view+json": {
       "model_id": "e2209a52a38b42aa8e8e5c258e5f7a9f",
       "version_major": 2,
       "version_minor": 0
      },
      "text/plain": [
       "  0%|          | 0/19300 [00:00<?, ?it/s]"
      ]
     },
     "metadata": {},
     "output_type": "display_data"
    },
    {
     "name": "stdout",
     "output_type": "stream",
     "text": [
      "Drift@ 5027\n",
      "Drift@ 8090\n",
      "Drift@ 15583\n",
      "\n",
      "0.1616\n",
      "0.8578\n",
      "0.3173\n",
      "0.2783\n",
      "\n"
     ]
    }
   ],
   "source": [
    "detector = LD3(window_size=1000, correlation_thresh=5, len=3)\n",
    "clf = ClassifierChain(GaussianNB())\n",
    "pre_sample = [np.zeros(n_features), np.zeros(n_features)]\n",
    "pre_label = [np.ones(n_targets), np.zeros(n_targets)]\n",
    "clf.fit(np.array(pre_sample), np.array(pre_label))\n",
    "\n",
    "\n",
    "stream.restart()\n",
    "max_samples = sample_size\n",
    "y_true = []\n",
    "y_pred = []\n",
    "pretrain_X = []\n",
    "pretrain_y = []\n",
    "p_bar = tqdm(total=max_samples)\n",
    "n_samples = 0\n",
    "drift, warning = False, False\n",
    "correlation = 0\n",
    "while n_samples < max_samples and stream.has_more_samples():\n",
    "    X, y = stream.next_sample()\n",
    "    if drift:\n",
    "        print('Drift@', n_samples)\n",
    "        r1, r2 = detector._ranks\n",
    "        clf.reset()\n",
    "        clf.fit(np.array(pre_sample), np.array(pre_label))\n",
    "\n",
    "    pred = clf.predict(X)\n",
    "    #clf.partial_fit(X, np.array([y])) # For synthetic datasets\n",
    "    clf.partial_fit(X, y) # For real datasets\n",
    "    drift, warning, correlation, score = detector.update(pred.astype(np.int32))\n",
    "    \n",
    "    #y_true.append(y) # For synthetic datasets\n",
    "    y_true.extend(y) # For real datasets\n",
    "    y_pred.extend(pred)\n",
    "\n",
    "    p_bar.update(1)\n",
    "    n_samples += 1\n",
    "p_bar.close()\n",
    "stream.restart()\n",
    "\n",
    "print()\n",
    "print(np.round(util.accuracy_example(np.array([y_true]), np.array([y_pred])), decimals=4))\n",
    "print(1-np.round(util.hamming_loss(np.array(y_true), np.array(y_pred)), decimals=4))\n",
    "print(np.round(f1_score(np.array(y_true), np.array(y_pred), average='samples'),decimals=4))\n",
    "print(np.round(util.f1_micro(np.array(y_true), np.array(y_pred)), decimals=4))\n",
    "print()"
   ]
  },
  {
   "cell_type": "code",
   "execution_count": 10,
   "metadata": {},
   "outputs": [
    {
     "data": {
      "application/vnd.jupyter.widget-view+json": {
       "model_id": "f91cec6ce7114f77be3112259a92747a",
       "version_major": 2,
       "version_minor": 0
      },
      "text/plain": [
       "  0%|          | 0/19300 [00:00<?, ?it/s]"
      ]
     },
     "metadata": {},
     "output_type": "display_data"
    },
    {
     "name": "stdout",
     "output_type": "stream",
     "text": [
      "Drift@ 2815\n",
      "Drift@ 3967\n",
      "Drift@ 9599\n",
      "Drift@ 15231\n",
      "Drift@ 17279\n",
      "Drift@ 17855\n",
      "Drift@ 18111\n",
      "Drift@ 18495\n",
      "Drift@ 19295\n",
      "\n",
      "0.1386\n",
      "0.1574\n",
      "0.2999\n",
      "0.2435\n",
      "0.2368\n",
      "\n"
     ]
    },
    {
     "data": {
      "application/vnd.jupyter.widget-view+json": {
       "model_id": "7d74753dc8704105bd65922e569720bc",
       "version_major": 2,
       "version_minor": 0
      },
      "text/plain": [
       "  0%|          | 0/19300 [00:00<?, ?it/s]"
      ]
     },
     "metadata": {},
     "output_type": "display_data"
    },
    {
     "name": "stdout",
     "output_type": "stream",
     "text": [
      "Drift@ 211\n",
      "Drift@ 513\n",
      "Drift@ 786\n",
      "Drift@ 1089\n",
      "Drift@ 1382\n",
      "Drift@ 1701\n",
      "Drift@ 2002\n",
      "Drift@ 2181\n",
      "Drift@ 2451\n",
      "Drift@ 2858\n",
      "Drift@ 3154\n",
      "Drift@ 3443\n",
      "Drift@ 3779\n",
      "Drift@ 4030\n",
      "Drift@ 4342\n",
      "Drift@ 4699\n",
      "Drift@ 5019\n",
      "Drift@ 5263\n",
      "Drift@ 5523\n",
      "Drift@ 5864\n",
      "Drift@ 6161\n",
      "Drift@ 6496\n",
      "Drift@ 6745\n",
      "Drift@ 7034\n",
      "Drift@ 7340\n",
      "Drift@ 7603\n",
      "Drift@ 7828\n",
      "Drift@ 8095\n",
      "Drift@ 8408\n",
      "Drift@ 8680\n",
      "Drift@ 9042\n",
      "Drift@ 9358\n",
      "Drift@ 9678\n",
      "Drift@ 10063\n",
      "Drift@ 10430\n",
      "Drift@ 10746\n",
      "Drift@ 11118\n",
      "Drift@ 11420\n",
      "Drift@ 11725\n",
      "Drift@ 12048\n",
      "Drift@ 12324\n",
      "Drift@ 12648\n",
      "Drift@ 12915\n",
      "Drift@ 13223\n",
      "Drift@ 13555\n",
      "Drift@ 13916\n",
      "Drift@ 14280\n",
      "Drift@ 14591\n",
      "Drift@ 14811\n",
      "Drift@ 15093\n",
      "Drift@ 15343\n",
      "Drift@ 15615\n",
      "Drift@ 15952\n",
      "Drift@ 16163\n",
      "Drift@ 16471\n",
      "Drift@ 16769\n",
      "Drift@ 17049\n",
      "Drift@ 17276\n",
      "Drift@ 17529\n",
      "Drift@ 17769\n",
      "Drift@ 17996\n",
      "Drift@ 18140\n",
      "Drift@ 18319\n",
      "Drift@ 18489\n",
      "Drift@ 18663\n",
      "Drift@ 18868\n",
      "Drift@ 19130\n",
      "Drift@ 19297\n",
      "\n",
      "0.0654\n",
      "0.4514\n",
      "0.1932\n",
      "0.1227\n",
      "0.1168\n",
      "\n"
     ]
    },
    {
     "data": {
      "application/vnd.jupyter.widget-view+json": {
       "model_id": "b3e94ac806ac4d97b67dc9066aeabd19",
       "version_major": 2,
       "version_minor": 0
      },
      "text/plain": [
       "  0%|          | 0/19300 [00:00<?, ?it/s]"
      ]
     },
     "metadata": {},
     "output_type": "display_data"
    },
    {
     "name": "stdout",
     "output_type": "stream",
     "text": [
      "Drift@ 34\n",
      "Drift@ 813\n",
      "Drift@ 847\n",
      "Drift@ 921\n",
      "Drift@ 1004\n",
      "Drift@ 1041\n",
      "Drift@ 1114\n",
      "Drift@ 1209\n",
      "Drift@ 1261\n",
      "Drift@ 1362\n",
      "Drift@ 1499\n",
      "Drift@ 1629\n",
      "Drift@ 1718\n",
      "Drift@ 1762\n",
      "Drift@ 1834\n",
      "Drift@ 1875\n",
      "Drift@ 1936\n",
      "Drift@ 1972\n",
      "Drift@ 2013\n",
      "Drift@ 2066\n",
      "Drift@ 2155\n",
      "Drift@ 2264\n",
      "Drift@ 2411\n",
      "Drift@ 2501\n",
      "Drift@ 2563\n",
      "Drift@ 2623\n",
      "Drift@ 2660\n",
      "Drift@ 2729\n",
      "Drift@ 2765\n",
      "Drift@ 2829\n",
      "Drift@ 3009\n",
      "Drift@ 3042\n",
      "Drift@ 3133\n",
      "Drift@ 3237\n",
      "Drift@ 3309\n",
      "Drift@ 3392\n",
      "Drift@ 3476\n",
      "Drift@ 3535\n",
      "Drift@ 3642\n",
      "Drift@ 3723\n",
      "Drift@ 3779\n",
      "Drift@ 3870\n",
      "Drift@ 3911\n",
      "Drift@ 3969\n",
      "Drift@ 4040\n",
      "Drift@ 4106\n",
      "Drift@ 4169\n",
      "Drift@ 4247\n",
      "Drift@ 4360\n",
      "Drift@ 4434\n",
      "Drift@ 4480\n",
      "Drift@ 4567\n",
      "Drift@ 4641\n",
      "Drift@ 4713\n",
      "Drift@ 4802\n",
      "Drift@ 4878\n",
      "Drift@ 4985\n",
      "Drift@ 5044\n",
      "Drift@ 5095\n",
      "Drift@ 5209\n",
      "Drift@ 5249\n",
      "Drift@ 5335\n",
      "Drift@ 5402\n",
      "Drift@ 5484\n",
      "Drift@ 5577\n",
      "Drift@ 5615\n",
      "Drift@ 5762\n",
      "Drift@ 5804\n",
      "Drift@ 5839\n",
      "Drift@ 5889\n",
      "Drift@ 5965\n",
      "Drift@ 6039\n",
      "Drift@ 6138\n",
      "Drift@ 6195\n",
      "Drift@ 6265\n",
      "Drift@ 6358\n",
      "Drift@ 6452\n",
      "Drift@ 6502\n",
      "Drift@ 6543\n",
      "Drift@ 6611\n",
      "Drift@ 6662\n",
      "Drift@ 6731\n",
      "Drift@ 6804\n",
      "Drift@ 6860\n",
      "Drift@ 6940\n",
      "Drift@ 7005\n",
      "Drift@ 7040\n",
      "Drift@ 7111\n",
      "Drift@ 7159\n",
      "Drift@ 7271\n",
      "Drift@ 7336\n",
      "Drift@ 7418\n",
      "Drift@ 7527\n",
      "Drift@ 7591\n",
      "Drift@ 7679\n",
      "Drift@ 7753\n",
      "Drift@ 7866\n",
      "Drift@ 7939\n",
      "Drift@ 8002\n",
      "Drift@ 8160\n",
      "Drift@ 8219\n",
      "Drift@ 8255\n",
      "Drift@ 8288\n",
      "Drift@ 8363\n",
      "Drift@ 8418\n",
      "Drift@ 8474\n",
      "Drift@ 8545\n",
      "Drift@ 8634\n",
      "Drift@ 8707\n",
      "Drift@ 8779\n",
      "Drift@ 8862\n",
      "Drift@ 8961\n",
      "Drift@ 9056\n",
      "Drift@ 9145\n",
      "Drift@ 9222\n",
      "Drift@ 9303\n",
      "Drift@ 9355\n",
      "Drift@ 9442\n",
      "Drift@ 9508\n",
      "Drift@ 9630\n",
      "Drift@ 9717\n",
      "Drift@ 9873\n",
      "Drift@ 10076\n",
      "Drift@ 10173\n",
      "Drift@ 10273\n",
      "Drift@ 10392\n",
      "Drift@ 10496\n",
      "Drift@ 10553\n",
      "Drift@ 10620\n",
      "Drift@ 10693\n",
      "Drift@ 10807\n",
      "Drift@ 10847\n",
      "Drift@ 10923\n",
      "Drift@ 11012\n",
      "Drift@ 11076\n",
      "Drift@ 11162\n",
      "Drift@ 11273\n",
      "Drift@ 11366\n",
      "Drift@ 11506\n",
      "Drift@ 11616\n",
      "Drift@ 11676\n",
      "Drift@ 11771\n",
      "Drift@ 11855\n",
      "Drift@ 11956\n",
      "Drift@ 12039\n",
      "Drift@ 12137\n",
      "Drift@ 12202\n",
      "Drift@ 12281\n",
      "Drift@ 12353\n",
      "Drift@ 12429\n",
      "Drift@ 12517\n",
      "Drift@ 12609\n",
      "Drift@ 12712\n",
      "Drift@ 12771\n",
      "Drift@ 12847\n",
      "Drift@ 12931\n",
      "Drift@ 12994\n",
      "Drift@ 13103\n",
      "Drift@ 13211\n",
      "Drift@ 13300\n",
      "Drift@ 13381\n",
      "Drift@ 13456\n",
      "Drift@ 13524\n",
      "Drift@ 13642\n",
      "Drift@ 13705\n",
      "Drift@ 13785\n",
      "Drift@ 13829\n",
      "Drift@ 13928\n",
      "Drift@ 14011\n",
      "Drift@ 14093\n",
      "Drift@ 14199\n",
      "Drift@ 14234\n",
      "Drift@ 14280\n",
      "Drift@ 14372\n",
      "Drift@ 14442\n",
      "Drift@ 14514\n",
      "Drift@ 14562\n",
      "Drift@ 14608\n",
      "Drift@ 14642\n",
      "Drift@ 14677\n",
      "Drift@ 14709\n",
      "Drift@ 14749\n",
      "Drift@ 14820\n",
      "Drift@ 14889\n",
      "Drift@ 14950\n",
      "Drift@ 15033\n",
      "Drift@ 15126\n",
      "Drift@ 15225\n",
      "Drift@ 15277\n",
      "Drift@ 15349\n",
      "Drift@ 15385\n",
      "Drift@ 15438\n",
      "Drift@ 15606\n",
      "Drift@ 15732\n",
      "Drift@ 15837\n",
      "Drift@ 15966\n",
      "Drift@ 16073\n",
      "Drift@ 16132\n",
      "Drift@ 16213\n",
      "Drift@ 16254\n",
      "Drift@ 16347\n",
      "Drift@ 16427\n",
      "Drift@ 16568\n",
      "Drift@ 16662\n",
      "Drift@ 16799\n",
      "Drift@ 16891\n",
      "Drift@ 16992\n",
      "Drift@ 17108\n",
      "Drift@ 17148\n",
      "Drift@ 17209\n",
      "Drift@ 17252\n",
      "Drift@ 17336\n",
      "Drift@ 17374\n",
      "Drift@ 17428\n",
      "Drift@ 17547\n",
      "Drift@ 17602\n",
      "Drift@ 17672\n",
      "Drift@ 17762\n",
      "Drift@ 17856\n",
      "Drift@ 17927\n",
      "Drift@ 17991\n",
      "Drift@ 18043\n",
      "Drift@ 18096\n",
      "Drift@ 18133\n",
      "Drift@ 18181\n",
      "Drift@ 18248\n",
      "Drift@ 18297\n",
      "Drift@ 18359\n",
      "Drift@ 18478\n",
      "Drift@ 18543\n",
      "Drift@ 18589\n",
      "Drift@ 18662\n",
      "Drift@ 18751\n",
      "Drift@ 18782\n",
      "Drift@ 18819\n",
      "Drift@ 18920\n",
      "Drift@ 18953\n",
      "Drift@ 19054\n",
      "Drift@ 19124\n",
      "Drift@ 19190\n",
      "Drift@ 19230\n",
      "\n",
      "0.0525\n",
      "0.7729\n",
      "0.1207\n",
      "0.0997\n",
      "0.095\n",
      "\n"
     ]
    },
    {
     "data": {
      "application/vnd.jupyter.widget-view+json": {
       "model_id": "736440d357da414b83cc39b0cfc2bdb8",
       "version_major": 2,
       "version_minor": 0
      },
      "text/plain": [
       "  0%|          | 0/19300 [00:00<?, ?it/s]"
      ]
     },
     "metadata": {},
     "output_type": "display_data"
    },
    {
     "name": "stdout",
     "output_type": "stream",
     "text": [
      "Drift@ 1381\n",
      "Drift@ 3866\n",
      "Drift@ 5416\n",
      "Drift@ 5670\n",
      "Drift@ 7695\n",
      "Drift@ 9961\n",
      "\n",
      "0.137\n",
      "0.1523\n",
      "0.2743\n",
      "0.241\n",
      "0.2359\n",
      "\n"
     ]
    },
    {
     "data": {
      "application/vnd.jupyter.widget-view+json": {
       "model_id": "b4c1c7209ca14becb517694e5100cd67",
       "version_major": 2,
       "version_minor": 0
      },
      "text/plain": [
       "  0%|          | 0/19300 [00:00<?, ?it/s]"
      ]
     },
     "metadata": {},
     "output_type": "display_data"
    },
    {
     "name": "stdout",
     "output_type": "stream",
     "text": [
      "Drift@ 42\n",
      "Drift@ 1111\n",
      "\n",
      "0.1505\n",
      "0.1931\n",
      "0.3145\n",
      "0.2616\n",
      "0.2652\n",
      "\n"
     ]
    },
    {
     "data": {
      "application/vnd.jupyter.widget-view+json": {
       "model_id": "174111159382432287def943f9fd2337",
       "version_major": 2,
       "version_minor": 0
      },
      "text/plain": [
       "  0%|          | 0/19300 [00:00<?, ?it/s]"
      ]
     },
     "metadata": {},
     "output_type": "display_data"
    },
    {
     "name": "stdout",
     "output_type": "stream",
     "text": [
      "\n",
      "0.1469\n",
      "0.2047\n",
      "0.3099\n",
      "0.2561\n",
      "0.2676\n",
      "\n"
     ]
    }
   ],
   "source": [
    "# Tests for detectors in Scikit-Multiflow Framework\n",
    "detectors = [ADWIN(), EDDM(), DDM(), KSWIN(), HDDM_A(), HDDM_W()]\n",
    "for detector in detectors:\n",
    "    clf = ClassifierChain(GaussianNB())\n",
    "    pre_sample = [np.zeros(n_features), np.zeros(n_features)]\n",
    "    pre_label = [np.ones(n_targets), np.zeros(n_targets)]\n",
    "    clf.fit(np.array(pre_sample), np.array(pre_label))\n",
    "\n",
    "    stream.restart()\n",
    "    max_samples = sample_size\n",
    "    y_true = []\n",
    "    y_pred = []\n",
    "    pretrain_X = []\n",
    "    pretrain_y = []\n",
    "    p_bar = tqdm(total=max_samples)\n",
    "    n_samples = 0\n",
    "    w_x = Window(max_size=199)\n",
    "    w_y = Window(max_size=199)\n",
    "    while n_samples < max_samples and stream.has_more_samples():\n",
    "        X, y = stream.next_sample()\n",
    "        if detector.detected_change():\n",
    "            print('Drift@', n_samples)\n",
    "            detector.reset()\n",
    "            clf.reset()\n",
    "            clf.fit(np.array(pre_sample), np.array(pre_label))\n",
    "\n",
    "        pred = clf.predict(X)\n",
    "        #clf.partial_fit(X, np.array([y])) # For synthetic datasets\n",
    "        clf.partial_fit(X, y) # For real datasets\n",
    "        detector.add_element((pred.astype(np.int32).flatten().tolist())==(y.astype(np.int32).flatten().tolist()))\n",
    "\n",
    "        #y_true.append(y) # For synthetic datasets\n",
    "        y_true.extend(y) # For real datasets\n",
    "        y_pred.extend(pred)\n",
    "\n",
    "        p_bar.update(1)\n",
    "        n_samples += 1\n",
    "    \n",
    "    print()\n",
    "    print(np.round(util.accuracy_example(np.array([y_true]), np.array([y_pred])), decimals=4)) \n",
    "    print(np.round(util.hamming_loss(np.array(y_true), np.array(y_pred)), decimals=4))\n",
    "    print(np.round(f1_score(np.array(y_true), np.array(y_pred), average='samples'),decimals=4))\n",
    "    print(np.round(util.f1_micro(np.array(y_true), np.array(y_pred)), decimals=4))\n",
    "    print()\n",
    "   \n",
    "    stream.restart()"
   ]
  },
  {
   "cell_type": "code",
   "execution_count": 11,
   "metadata": {},
   "outputs": [
    {
     "data": {
      "application/vnd.jupyter.widget-view+json": {
       "model_id": "f954a909ec9346c88b227510f8ac2bd3",
       "version_major": 2,
       "version_minor": 0
      },
      "text/plain": [
       "  0%|          | 0/19300 [00:00<?, ?it/s]"
      ]
     },
     "metadata": {},
     "output_type": "display_data"
    },
    {
     "name": "stdout",
     "output_type": "stream",
     "text": [
      "Drift@ 2043\n",
      "Drift@ 8284\n",
      "Drift@ 9983\n",
      "Drift@ 14397\n",
      "Drift@ 18411\n",
      "Drift@ 18964\n",
      "\n",
      "0.1453\n",
      "0.145\n",
      "0.2965\n",
      "0.2537\n",
      "0.2471\n",
      "\n"
     ]
    },
    {
     "data": {
      "application/vnd.jupyter.widget-view+json": {
       "model_id": "c86247f8c3a34f6e9e9a316c6fefa9f6",
       "version_major": 2,
       "version_minor": 0
      },
      "text/plain": [
       "  0%|          | 0/19300 [00:00<?, ?it/s]"
      ]
     },
     "metadata": {},
     "output_type": "display_data"
    },
    {
     "name": "stdout",
     "output_type": "stream",
     "text": [
      "Drift@ 2043\n",
      "Drift@ 5304\n",
      "Drift@ 10007\n",
      "Drift@ 14397\n",
      "Drift@ 18408\n",
      "Drift@ 18632\n",
      "Drift@ 19096\n",
      "\n",
      "0.1444\n",
      "0.1401\n",
      "0.2915\n",
      "0.2523\n",
      "0.2448\n",
      "\n"
     ]
    },
    {
     "data": {
      "application/vnd.jupyter.widget-view+json": {
       "model_id": "1fcd2fac4bc949b8aca0e4e92530c16a",
       "version_major": 2,
       "version_minor": 0
      },
      "text/plain": [
       "  0%|          | 0/19300 [00:00<?, ?it/s]"
      ]
     },
     "metadata": {},
     "output_type": "display_data"
    },
    {
     "name": "stdout",
     "output_type": "stream",
     "text": [
      "Drift@ 2050\n",
      "Drift@ 9550\n",
      "\n",
      "0.1483\n",
      "0.166\n",
      "0.3024\n",
      "0.2583\n",
      "0.2563\n",
      "\n"
     ]
    },
    {
     "data": {
      "application/vnd.jupyter.widget-view+json": {
       "model_id": "a57806f2b1db4a15a9a054bdb2c6e49f",
       "version_major": 2,
       "version_minor": 0
      },
      "text/plain": [
       "  0%|          | 0/19300 [00:00<?, ?it/s]"
      ]
     },
     "metadata": {},
     "output_type": "display_data"
    },
    {
     "name": "stdout",
     "output_type": "stream",
     "text": [
      "Drift@ 2016\n",
      "Drift@ 6204\n",
      "Drift@ 8982\n",
      "Drift@ 14574\n",
      "Drift@ 15828\n",
      "Drift@ 17373\n",
      "Drift@ 18278\n",
      "Drift@ 18910\n",
      "\n",
      "0.1396\n",
      "0.1482\n",
      "0.2992\n",
      "0.245\n",
      "0.2371\n",
      "\n"
     ]
    },
    {
     "data": {
      "application/vnd.jupyter.widget-view+json": {
       "model_id": "65f688f67b224b5093d91b35e8f2038c",
       "version_major": 2,
       "version_minor": 0
      },
      "text/plain": [
       "  0%|          | 0/19300 [00:00<?, ?it/s]"
      ]
     },
     "metadata": {},
     "output_type": "display_data"
    },
    {
     "name": "stdout",
     "output_type": "stream",
     "text": [
      "Drift@ 2016\n",
      "Drift@ 5810\n",
      "Drift@ 9786\n",
      "Drift@ 15856\n",
      "Drift@ 16593\n",
      "Drift@ 17320\n",
      "Drift@ 18275\n",
      "Drift@ 18847\n",
      "\n",
      "0.1419\n",
      "0.1496\n",
      "0.304\n",
      "0.2485\n",
      "0.2412\n",
      "\n"
     ]
    },
    {
     "data": {
      "application/vnd.jupyter.widget-view+json": {
       "model_id": "eedf750e5efd4f4bac2ae496d9576bce",
       "version_major": 2,
       "version_minor": 0
      },
      "text/plain": [
       "  0%|          | 0/19300 [00:00<?, ?it/s]"
      ]
     },
     "metadata": {},
     "output_type": "display_data"
    },
    {
     "name": "stdout",
     "output_type": "stream",
     "text": [
      "Drift@ 2016\n",
      "Drift@ 5810\n",
      "Drift@ 9786\n",
      "Drift@ 15856\n",
      "Drift@ 16593\n",
      "Drift@ 17320\n",
      "Drift@ 18275\n",
      "Drift@ 18847\n",
      "\n",
      "0.1419\n",
      "0.1496\n",
      "0.304\n",
      "0.2485\n",
      "0.2412\n",
      "\n"
     ]
    },
    {
     "data": {
      "application/vnd.jupyter.widget-view+json": {
       "model_id": "e332e0cef3a2480295e92dbbb1986155",
       "version_major": 2,
       "version_minor": 0
      },
      "text/plain": [
       "  0%|          | 0/19300 [00:00<?, ?it/s]"
      ]
     },
     "metadata": {},
     "output_type": "display_data"
    },
    {
     "name": "stdout",
     "output_type": "stream",
     "text": [
      "Drift@ 800\n",
      "Drift@ 1200\n",
      "Drift@ 1600\n",
      "Drift@ 2000\n",
      "Drift@ 9800\n",
      "Drift@ 10200\n",
      "Drift@ 10600\n",
      "Drift@ 11000\n",
      "Drift@ 11400\n",
      "Drift@ 11800\n",
      "Drift@ 12400\n",
      "Drift@ 12800\n",
      "Drift@ 18600\n",
      "Drift@ 19000\n",
      "\n",
      "0.119\n",
      "0.2058\n",
      "0.2828\n",
      "0.2127\n",
      "0.2048\n",
      "\n"
     ]
    },
    {
     "data": {
      "application/vnd.jupyter.widget-view+json": {
       "model_id": "cc026fa0b41541c19e562580271cc00b",
       "version_major": 2,
       "version_minor": 0
      },
      "text/plain": [
       "  0%|          | 0/19300 [00:00<?, ?it/s]"
      ]
     },
     "metadata": {},
     "output_type": "display_data"
    },
    {
     "name": "stdout",
     "output_type": "stream",
     "text": [
      "Drift@ 391\n",
      "Drift@ 2285\n",
      "Drift@ 7718\n",
      "Drift@ 10518\n",
      "Drift@ 15103\n",
      "\n",
      "0.1562\n",
      "0.1304\n",
      "0.3021\n",
      "0.2701\n",
      "0.2627\n",
      "\n"
     ]
    }
   ],
   "source": [
    "# Tests for detectors in Tornado Framework\n",
    "detectors = [FHDDM(), FHDDMS(), FHDDMS_add(), MDDM_A(), MDDM_E(), MDDM_G(), SeqDrift2ChangeDetector(), RDDM()]\n",
    "for detector in detectors:\n",
    "    clf = ClassifierChain(GaussianNB())\n",
    "    pre_sample = [np.zeros(n_features), np.zeros(n_features)]\n",
    "    pre_label = [np.ones(n_targets), np.zeros(n_targets)]\n",
    "    clf.fit(np.array(pre_sample), np.array(pre_label))\n",
    "\n",
    "\n",
    "    stream.restart()\n",
    "    max_samples = sample_size\n",
    "    y_true = []\n",
    "    y_pred = []\n",
    "    pretrain_X = []\n",
    "    pretrain_y = []\n",
    "    p_bar = tqdm(total=max_samples)\n",
    "    n_samples = 0\n",
    "    drift = False\n",
    "    w_x = Window(max_size=199)\n",
    "    w_y = Window(max_size=199)\n",
    "    while n_samples < max_samples and stream.has_more_samples():\n",
    "        X, y = stream.next_sample()\n",
    "        if drift:\n",
    "            print('Drift@', n_samples)\n",
    "            detector.reset()\n",
    "            clf.reset()\n",
    "            clf.fit(np.array(pre_sample), np.array(pre_label))\n",
    "\n",
    "        pred = clf.predict(X)\n",
    "        #clf.partial_fit(X, np.array([y])) # For synthetic datasets\n",
    "        clf.partial_fit(X, y) # For real datasets\n",
    "        _, drift = detector.run((pred.astype(np.int32).flatten().tolist())==(y.astype(np.int32).flatten().tolist()))\n",
    "\n",
    "        #y_true.append(y) # For synthetic datasets\n",
    "        y_true.extend(y) # For real datasets\n",
    "        y_pred.extend(pred)\n",
    "\n",
    "        p_bar.update(1)\n",
    "        n_samples += 1\n",
    "    print()\n",
    "    print(np.round(util.accuracy_example(np.array([y_true]), np.array([y_pred])), decimals=4)) \n",
    "    print(np.round(util.hamming_loss(np.array(y_true), np.array(y_pred)), decimals=4))\n",
    "    print(np.round(f1_score(np.array(y_true), np.array(y_pred), average='samples'),decimals=4))\n",
    "    print(np.round(util.f1_micro(np.array(y_true), np.array(y_pred)), decimals=4))\n",
    "    print()\n",
    "    \n",
    "    stream.restart()"
   ]
  }
 ],
 "metadata": {
  "interpreter": {
   "hash": "b3d5defd48bcce546b12f2e95f99040e967dfa98e52f7fab83451f06e037fab3"
  },
  "kernelspec": {
   "display_name": "Python 3.8.8 64-bit ('ld3': conda)",
   "name": "python3"
  },
  "language_info": {
   "codemirror_mode": {
    "name": "ipython",
    "version": 3
   },
   "file_extension": ".py",
   "mimetype": "text/x-python",
   "name": "python",
   "nbconvert_exporter": "python",
   "pygments_lexer": "ipython3",
   "version": "3.8.8"
  },
  "orig_nbformat": 2
 },
 "nbformat": 4,
 "nbformat_minor": 2
}
