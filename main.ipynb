{
 "metadata": {
  "language_info": {
   "codemirror_mode": {
    "name": "ipython",
    "version": 3
   },
   "file_extension": ".py",
   "mimetype": "text/x-python",
   "name": "python",
   "nbconvert_exporter": "python",
   "pygments_lexer": "ipython3",
   "version": "3.8.8"
  },
  "orig_nbformat": 2,
  "kernelspec": {
   "name": "python388jvsc74a57bd0b3d5defd48bcce546b12f2e95f99040e967dfa98e52f7fab83451f06e037fab3",
   "display_name": "Python 3.8.8 64-bit ('ld3': conda)"
  }
 },
 "nbformat": 4,
 "nbformat_minor": 2,
 "cells": [
  {
   "cell_type": "code",
   "execution_count": 22,
   "metadata": {},
   "outputs": [],
   "source": [
    "import sys\n",
    "import numpy as np\n",
    "import pandas as pd \n",
    "from skmultiflow.data import DataStream, MultilabelGenerator, ConceptDriftStream\n",
    "from skmultiflow.meta import ClassifierChain\n",
    "from sklearn.linear_model import SGDClassifier, PassiveAggressiveClassifier\n",
    "from skmultiflow.metrics import hamming_score\n",
    "from sklearn.metrics import accuracy_score, f1_score\n",
    "from ld3 import LD3\n",
    "from skmultilearn.dataset import load_from_arff\n",
    "from sklearn.preprocessing import MultiLabelBinarizer\n",
    "from skmultiflow.drift_detection import ADWIN, EDDM, KSWIN, HDDM_W, HDDM_A, DDM, PageHinkley\n",
    "import util\n",
    "import warnings\n",
    "import matplotlib.pyplot as plt\n",
    "from tqdm.notebook import tqdm, trange\n",
    "from river.metrics import ExampleF1\n",
    "from scipy.stats import truncnorm\n",
    "\n",
    "warnings.filterwarnings('ignore')\n",
    "np.set_printoptions(precision=4, suppress=True)"
   ]
  },
  {
   "cell_type": "code",
   "execution_count": 27,
   "metadata": {},
   "outputs": [],
   "source": [
    "'''n_features = 100\n",
    "n_targets = 20\n",
    "s1 = MultilabelGenerator(n_samples=3000, n_features=n_features, n_targets=n_targets, n_labels=2, random_state=0)\n",
    "s2 = MultilabelGenerator(n_samples=3009, n_features=n_features, n_targets=n_targets, n_labels=2, random_state=250)\n",
    "stream = ConceptDriftStream(stream=s1, drift_stream=s2, position=2000, width=1, random_state=0)\n",
    "sample_size=5000'''\n",
    "\n",
    "X, y = load_from_arff('./datasets/{}'.format('OHSUMED-F.arff'), label_count=23)\n",
    "X = X.toarray()\n",
    "y = y.toarray().astype(np.int8)\n",
    "sample_size = len(X)\n",
    "n_features = X.shape[1]\n",
    "\n",
    "if len(np.unique(y)) > 2:\n",
    "    mlb = MultiLabelBinarizer()\n",
    "    y = mlb.fit_transform(y)\n",
    "\n",
    "n_targets = y.shape[1]\n",
    "stream = DataStream(data = X, y=y, n_targets=n_targets)"
   ]
  },
  {
   "cell_type": "code",
   "execution_count": 28,
   "metadata": {
    "tags": []
   },
   "outputs": [
    {
     "output_type": "display_data",
     "data": {
      "text/plain": "  0%|          | 0/13929 [00:00<?, ?it/s]",
      "application/vnd.jupyter.widget-view+json": {
       "version_major": 2,
       "version_minor": 0,
       "model_id": "6e7e3e6c15cb48748520f468cd357ac0"
      }
     },
     "metadata": {}
    },
    {
     "output_type": "stream",
     "name": "stdout",
     "text": [
      "0.8975898250495303\n",
      "0.832125284282492\n",
      "0.8637244000676338\n",
      "0.8523041310203827\n",
      "0.9297173789017146\n",
      "0.8590122117057412\n",
      "0.8144373057343229\n",
      "0.7660403613775262\n",
      "0.7614039372226484\n",
      "0.7586086064979163\n",
      "0.731249692099026\n",
      "0.7232856576271878\n",
      "0.6919364195177344\n",
      "0.6956344102779146\n",
      "0.7015414996617797\n",
      "0.6921930058121121\n",
      "0.8023804198840646\n",
      "0.8299759498039798\n",
      "0.7367024267338356\n",
      "0.7071654239437581\n",
      "0.6769805075034305\n",
      "0.692259487510259\n",
      "0.6801319256641395\n",
      "0.7786985898038505\n",
      "0.779617302597714\n",
      "0.7608719620030936\n",
      "0.6300635333035801\n",
      "0.6071553216782954\n",
      "0.7218793060090368\n",
      "0.6443034566541144\n",
      "0.6161542228634154\n",
      "0.6365144163160124\n",
      "0.5965852882814038\n",
      "0.4744874481141866\n",
      "0.6471136793312006\n",
      "0.6736999749892112\n",
      "0.6306927065893071\n",
      "0.5521292423094635\n",
      "0.5136324306293728\n",
      "0.477740562510902\n",
      "0.3698112852434335\n",
      "0.44236604976772675\n",
      "0.5489975557827159\n",
      "0.5293668105666736\n",
      "0.4206989786155734\n",
      "0.545416095022883\n",
      "0.4741873151592366\n",
      "0.19047527959069635\n",
      "0.14185206291297403\n",
      "0.09066228914043015\n",
      "0.2139694569363212\n",
      "0.358839242741067\n",
      "0.26009321436908484\n",
      "0.25628679381319863\n",
      "0.4529198143213009\n",
      "0.33529264149448523\n",
      "0.28341667479800114\n",
      "0.3542386540440521\n",
      "0.2553899230857872\n",
      "0.3811264732822695\n",
      "0.3310718920927651\n",
      "0.3218463860051495\n",
      "0.11870923165800604\n",
      "0.33489536461816904\n",
      "0.41569366377084543\n",
      "0.7466385667324693\n",
      "0.6095927623338461\n",
      "0.23627652447906394\n",
      "0.6140097174884628\n",
      "0.3306256186278498\n",
      "0.568164668136661\n",
      "0.5318401594726351\n",
      "0.4413337543678607\n",
      "-0.005301226968762764\n",
      "0.49913958712043793\n",
      "0.5877083250104798\n",
      "0.32628410562980426\n",
      "0.1921463337273308\n",
      "0.5739430656327401\n",
      "0.5540791845364285\n",
      "0.6359412555041136\n",
      "0.4876825290814316\n",
      "0.22045436161974277\n",
      "0.28099827757951035\n",
      "0.5187059575418637\n",
      "0.5332455348528905\n",
      "0.5342394228175315\n",
      "0.5877888522131021\n",
      "0.540670469498755\n",
      "0.21327919404849055\n",
      "0.5127639943559831\n",
      "0.39375032794801135\n",
      "0.41215120477043965\n",
      "-0.06246061324047536\n",
      "-0.029985142555506987\n",
      "0.3785356734591152\n",
      "0.3934245608959246\n",
      "0.0055833584542282315\n",
      "-0.08327988989726742\n",
      "0.3832541402330383\n",
      "0.5179625871479799\n",
      "0.5670293594603097\n",
      "0.17421378100907062\n",
      "0.17111738165117316\n",
      "0.17835473138035524\n",
      "0.04226345079447089\n",
      "0.05264445757029012\n",
      "-0.224810309365091\n",
      "-0.002944282758746957\n",
      "0.5354853532136319\n",
      "0.5070828218722397\n",
      "0.14044634379893886\n",
      "0.13868664737157893\n",
      "-0.018138524892874094\n",
      "0.596252164709658\n",
      "0.689920341422914\n",
      "0.598309818220194\n",
      "0.25017052046157995\n",
      "0.05854452373992841\n",
      "-0.2730149250662687\n",
      "0.09599537994567053\n",
      "0.47757611085800883\n",
      "0.5028701894785552\n",
      "0.45146303434239776\n",
      "0.6365196975474724\n",
      "0.5840943657345468\n",
      "0.31136794296382314\n",
      "0.3280361356029806\n",
      "0.45364303690200003\n",
      "0.7215259705949052\n",
      "0.6244687404931399\n",
      "0.6476970658082729\n",
      "0.5503848073273176\n",
      "-0.07788814519329812\n",
      "\n",
      "0.3943570967047168\n",
      "0.9564998891895857\n",
      "0.11505931813023368\n",
      "0.2731824345467821\n",
      "0.16796057473438655\n",
      "\n"
     ]
    }
   ],
   "source": [
    "from ld3_ import LD3\n",
    "detector = LD3(window_size=250, correlation_thresh=-1, correlation_coeff=7) #20NG-1-5   Synthetic-1-6    tmc 0.4-4/5     imbd 1-4     ohsumed 0.05/0.04-4/5\n",
    "clf = ClassifierChain(PassiveAggressiveClassifier(random_state=0))\n",
    "pre_sample = [np.zeros(n_features), np.zeros(n_features)]\n",
    "pre_label = [np.ones(n_targets), np.zeros(n_targets)]\n",
    "clf.fit(np.array(pre_sample), np.array(pre_label))\n",
    "\n",
    "stream.restart()\n",
    "max_samples = sample_size\n",
    "y_true = []\n",
    "y_pred = []\n",
    "pretrain_X = []\n",
    "pretrain_y = []\n",
    "correlation_list = []\n",
    "p_bar = tqdm(total=max_samples)\n",
    "n_samples = 0\n",
    "drift, warning = False, False\n",
    "correlation = 0\n",
    "while n_samples < max_samples and stream.has_more_samples():\n",
    "    X, y = stream.next_sample()\n",
    "    if n_samples % 100 == 0 and n_samples >500:\n",
    "        print(detector._average_correlation)\n",
    "            \n",
    "    '''if n_samples >= 1990 and n_samples <= 2050:\n",
    "        print('Correlation @', n_samples, ': ', correlation)\n",
    "        #print(detector._average_correlation)\n",
    "        r1, r2 = detector._ranks\n",
    "        print('[',','.join(list(map(str,r1))), ']', '\\t[', ','.join(list(map(str,r2))), ']')'''\n",
    "    if drift:\n",
    "        print('Drift@', n_samples)\n",
    "        r1, r2 = detector._ranks\n",
    "        print('[',','.join(list(map(str,r1))), ']', '\\t[', ','.join(list(map(str,r2))), ']')\n",
    "        clf.reset()\n",
    "        clf.fit(np.array(pre_sample), np.array(pre_label))\n",
    "\n",
    "    pred = clf.predict(X)\n",
    "    #clf.partial_fit(X, np.array([y]))\n",
    "    clf.partial_fit(X, y)\n",
    "    drift, warning, correlation = detector.update(pred.astype(np.int32))\n",
    "    if correlation > 0:\n",
    "        correlation_list.append(correlation)\n",
    "    #detector.add_element(np.all(pred.flatten() == y))\n",
    "\n",
    "    #y_true.append(y)\n",
    "    y_true.extend(y)\n",
    "    y_pred.extend(pred)\n",
    "\n",
    "    p_bar.update(1)\n",
    "    n_samples += 1\n",
    "p_bar.close()\n",
    "stream.restart()\n",
    "\n",
    "print()\n",
    "print(accuracy_score(np.array(y_true), np.array(y_pred)))\n",
    "print(hamming_score(np.array(y_true), np.array(y_pred)))\n",
    "print(f1_score(np.array(y_true), np.array(y_pred), average='samples'))\n",
    "print(f1_score(np.array(y_true), np.array(y_pred), average='micro'))\n",
    "print(f1_score(np.array(y_true), np.array(y_pred), average='macro'))\n",
    "print()"
   ]
  },
  {
   "cell_type": "code",
   "execution_count": 29,
   "metadata": {},
   "outputs": [
    {
     "output_type": "error",
     "ename": "ValueError",
     "evalue": "not enough values to unpack (expected 2, got 1)",
     "traceback": [
      "\u001b[0;31m---------------------------------------------------------------------------\u001b[0m",
      "\u001b[0;31mValueError\u001b[0m                                Traceback (most recent call last)",
      "\u001b[0;32m<ipython-input-29-f5de6f90ce68>\u001b[0m in \u001b[0;36m<module>\u001b[0;34m\u001b[0m\n\u001b[0;32m----> 1\u001b[0;31m \u001b[0mmu\u001b[0m\u001b[0;34m,\u001b[0m \u001b[0msigma\u001b[0m \u001b[0;34m=\u001b[0m \u001b[0;36m0.54\u001b[0m\u001b[0;34m,\u001b[0m  \u001b[0;31m# mean and standard deviation\u001b[0m\u001b[0;34m\u001b[0m\u001b[0;34m\u001b[0m\u001b[0m\n\u001b[0m\u001b[1;32m      2\u001b[0m \u001b[0ms\u001b[0m \u001b[0;34m=\u001b[0m \u001b[0mnp\u001b[0m\u001b[0;34m.\u001b[0m\u001b[0mrandom\u001b[0m\u001b[0;34m.\u001b[0m\u001b[0mnormal\u001b[0m\u001b[0;34m(\u001b[0m\u001b[0mmu\u001b[0m\u001b[0;34m,\u001b[0m \u001b[0msigma\u001b[0m\u001b[0;34m,\u001b[0m \u001b[0;36m1000\u001b[0m\u001b[0;34m)\u001b[0m\u001b[0;34m\u001b[0m\u001b[0;34m\u001b[0m\u001b[0m\n\u001b[1;32m      3\u001b[0m \u001b[0mcount\u001b[0m\u001b[0;34m,\u001b[0m \u001b[0mbins\u001b[0m\u001b[0;34m,\u001b[0m \u001b[0mignored\u001b[0m \u001b[0;34m=\u001b[0m \u001b[0mplt\u001b[0m\u001b[0;34m.\u001b[0m\u001b[0mhist\u001b[0m\u001b[0;34m(\u001b[0m\u001b[0ms\u001b[0m\u001b[0;34m,\u001b[0m \u001b[0;36m30\u001b[0m\u001b[0;34m,\u001b[0m \u001b[0mdensity\u001b[0m\u001b[0;34m=\u001b[0m\u001b[0;32mTrue\u001b[0m\u001b[0;34m)\u001b[0m\u001b[0;34m\u001b[0m\u001b[0;34m\u001b[0m\u001b[0m\n\u001b[1;32m      4\u001b[0m plt.plot(bins, 1/(sigma * np.sqrt(2 * np.pi)) *\n\u001b[1;32m      5\u001b[0m                \u001b[0mnp\u001b[0m\u001b[0;34m.\u001b[0m\u001b[0mexp\u001b[0m\u001b[0;34m(\u001b[0m \u001b[0;34m-\u001b[0m \u001b[0;34m(\u001b[0m\u001b[0mbins\u001b[0m \u001b[0;34m-\u001b[0m \u001b[0mmu\u001b[0m\u001b[0;34m)\u001b[0m\u001b[0;34m**\u001b[0m\u001b[0;36m2\u001b[0m \u001b[0;34m/\u001b[0m \u001b[0;34m(\u001b[0m\u001b[0;36m2\u001b[0m \u001b[0;34m*\u001b[0m \u001b[0msigma\u001b[0m\u001b[0;34m**\u001b[0m\u001b[0;36m2\u001b[0m\u001b[0;34m)\u001b[0m \u001b[0;34m)\u001b[0m\u001b[0;34m,\u001b[0m\u001b[0;34m\u001b[0m\u001b[0;34m\u001b[0m\u001b[0m\n",
      "\u001b[0;31mValueError\u001b[0m: not enough values to unpack (expected 2, got 1)"
     ]
    }
   ],
   "source": [
    "mu, sigma = 0.54,  # mean and standard deviation\n",
    "s = np.random.normal(mu, sigma, 1000)\n",
    "count, bins, ignored = plt.hist(s, 30, density=True)\n",
    "plt.plot(bins, 1/(sigma * np.sqrt(2 * np.pi)) *\n",
    "               np.exp( - (bins - mu)**2 / (2 * sigma**2) ),\n",
    "         linewidth=2, color='r')\n",
    "plt.show()"
   ]
  },
  {
   "cell_type": "code",
   "execution_count": 31,
   "metadata": {},
   "outputs": [
    {
     "output_type": "display_data",
     "data": {
      "text/plain": "<Figure size 432x288 with 4 Axes>",
      "image/svg+xml": "<?xml version=\"1.0\" encoding=\"utf-8\" standalone=\"no\"?>\n<!DOCTYPE svg PUBLIC \"-//W3C//DTD SVG 1.1//EN\"\n  \"http://www.w3.org/Graphics/SVG/1.1/DTD/svg11.dtd\">\n<!-- Created with matplotlib (https://matplotlib.org/) -->\n<svg height=\"280.888125pt\" version=\"1.1\" viewBox=\"0 0 426.041875 280.888125\" width=\"426.041875pt\" xmlns=\"http://www.w3.org/2000/svg\" xmlns:xlink=\"http://www.w3.org/1999/xlink\">\n <metadata>\n  <rdf:RDF xmlns:cc=\"http://creativecommons.org/ns#\" xmlns:dc=\"http://purl.org/dc/elements/1.1/\" xmlns:rdf=\"http://www.w3.org/1999/02/22-rdf-syntax-ns#\">\n   <cc:Work>\n    <dc:type rdf:resource=\"http://purl.org/dc/dcmitype/StillImage\"/>\n    <dc:date>2021-06-11T20:19:34.035588</dc:date>\n    <dc:format>image/svg+xml</dc:format>\n    <dc:creator>\n     <cc:Agent>\n      <dc:title>Matplotlib v3.3.4, https://matplotlib.org/</dc:title>\n     </cc:Agent>\n    </dc:creator>\n   </cc:Work>\n  </rdf:RDF>\n </metadata>\n <defs>\n  <style type=\"text/css\">*{stroke-linecap:butt;stroke-linejoin:round;}</style>\n </defs>\n <g id=\"figure_1\">\n  <g id=\"patch_1\">\n   <path d=\"M 0 280.888125 \nL 426.041875 280.888125 \nL 426.041875 0 \nL 0 0 \nz\n\" style=\"fill:none;\"/>\n  </g>\n  <g id=\"axes_1\">\n   <g id=\"patch_2\">\n    <path d=\"M 64.941875 93.118125 \nL 208.241875 93.118125 \nL 208.241875 22.318125 \nL 64.941875 22.318125 \nz\n\" style=\"fill:#ffffff;\"/>\n   </g>\n   <g id=\"patch_3\">\n    <path clip-path=\"url(#p48a3ed9223)\" d=\"M 71.455511 93.118125 \nL 72.179249 93.118125 \nL 72.179249 71.749916 \nL 71.455511 71.749916 \nz\n\" style=\"fill:#0000ff;stroke:#000000;stroke-linejoin:miter;\"/>\n   </g>\n   <g id=\"patch_4\">\n    <path clip-path=\"url(#p48a3ed9223)\" d=\"M 72.179249 93.118125 \nL 72.902986 93.118125 \nL 72.902986 89.319332 \nL 72.179249 89.319332 \nz\n\" style=\"fill:#0000ff;stroke:#000000;stroke-linejoin:miter;\"/>\n   </g>\n   <g id=\"patch_5\">\n    <path clip-path=\"url(#p48a3ed9223)\" d=\"M 72.902986 93.118125 \nL 73.626723 93.118125 \nL 73.626723 77.922954 \nL 72.902986 77.922954 \nz\n\" style=\"fill:#0000ff;stroke:#000000;stroke-linejoin:miter;\"/>\n   </g>\n   <g id=\"patch_6\">\n    <path clip-path=\"url(#p48a3ed9223)\" d=\"M 73.626723 93.118125 \nL 74.350461 93.118125 \nL 74.350461 85.283115 \nL 73.626723 85.283115 \nz\n\" style=\"fill:#0000ff;stroke:#000000;stroke-linejoin:miter;\"/>\n   </g>\n   <g id=\"patch_7\">\n    <path clip-path=\"url(#p48a3ed9223)\" d=\"M 74.350461 93.118125 \nL 75.074198 93.118125 \nL 75.074198 92.168427 \nL 74.350461 92.168427 \nz\n\" style=\"fill:#0000ff;stroke:#000000;stroke-linejoin:miter;\"/>\n   </g>\n   <g id=\"patch_8\">\n    <path clip-path=\"url(#p48a3ed9223)\" d=\"M 75.074198 93.118125 \nL 75.797936 93.118125 \nL 75.797936 92.168427 \nL 75.074198 92.168427 \nz\n\" style=\"fill:#0000ff;stroke:#000000;stroke-linejoin:miter;\"/>\n   </g>\n   <g id=\"patch_9\">\n    <path clip-path=\"url(#p48a3ed9223)\" d=\"M 75.797936 93.118125 \nL 76.521673 93.118125 \nL 76.521673 86.945087 \nL 75.797936 86.945087 \nz\n\" style=\"fill:#0000ff;stroke:#000000;stroke-linejoin:miter;\"/>\n   </g>\n   <g id=\"patch_10\">\n    <path clip-path=\"url(#p48a3ed9223)\" d=\"M 76.521673 93.118125 \nL 77.24541 93.118125 \nL 77.24541 80.534624 \nL 76.521673 80.534624 \nz\n\" style=\"fill:#0000ff;stroke:#000000;stroke-linejoin:miter;\"/>\n   </g>\n   <g id=\"patch_11\">\n    <path clip-path=\"url(#p48a3ed9223)\" d=\"M 77.24541 93.118125 \nL 77.969148 93.118125 \nL 77.969148 89.319332 \nL 77.24541 89.319332 \nz\n\" style=\"fill:#0000ff;stroke:#000000;stroke-linejoin:miter;\"/>\n   </g>\n   <g id=\"patch_12\">\n    <path clip-path=\"url(#p48a3ed9223)\" d=\"M 77.969148 93.118125 \nL 78.692885 93.118125 \nL 78.692885 81.721747 \nL 77.969148 81.721747 \nz\n\" style=\"fill:#0000ff;stroke:#000000;stroke-linejoin:miter;\"/>\n   </g>\n   <g id=\"patch_13\">\n    <path clip-path=\"url(#p48a3ed9223)\" d=\"M 78.692885 93.118125 \nL 79.416622 93.118125 \nL 79.416622 78.397803 \nL 78.692885 78.397803 \nz\n\" style=\"fill:#0000ff;stroke:#000000;stroke-linejoin:miter;\"/>\n   </g>\n   <g id=\"patch_14\">\n    <path clip-path=\"url(#p48a3ed9223)\" d=\"M 79.416622 93.118125 \nL 80.14036 93.118125 \nL 80.14036 84.095992 \nL 79.416622 84.095992 \nz\n\" style=\"fill:#0000ff;stroke:#000000;stroke-linejoin:miter;\"/>\n   </g>\n   <g id=\"patch_15\">\n    <path clip-path=\"url(#p48a3ed9223)\" d=\"M 80.14036 93.118125 \nL 80.864097 93.118125 \nL 80.864097 89.556757 \nL 80.14036 89.556757 \nz\n\" style=\"fill:#0000ff;stroke:#000000;stroke-linejoin:miter;\"/>\n   </g>\n   <g id=\"patch_16\">\n    <path clip-path=\"url(#p48a3ed9223)\" d=\"M 80.864097 93.118125 \nL 81.587835 93.118125 \nL 81.587835 93.118125 \nL 80.864097 93.118125 \nz\n\" style=\"fill:#0000ff;stroke:#000000;stroke-linejoin:miter;\"/>\n   </g>\n   <g id=\"patch_17\">\n    <path clip-path=\"url(#p48a3ed9223)\" d=\"M 81.587835 93.118125 \nL 82.311572 93.118125 \nL 82.311572 85.520539 \nL 81.587835 85.520539 \nz\n\" style=\"fill:#0000ff;stroke:#000000;stroke-linejoin:miter;\"/>\n   </g>\n   <g id=\"patch_18\">\n    <path clip-path=\"url(#p48a3ed9223)\" d=\"M 82.311572 93.118125 \nL 83.035309 93.118125 \nL 83.035309 92.643276 \nL 82.311572 92.643276 \nz\n\" style=\"fill:#0000ff;stroke:#000000;stroke-linejoin:miter;\"/>\n   </g>\n   <g id=\"patch_19\">\n    <path clip-path=\"url(#p48a3ed9223)\" d=\"M 83.035309 93.118125 \nL 83.759047 93.118125 \nL 83.759047 71.037642 \nL 83.035309 71.037642 \nz\n\" style=\"fill:#0000ff;stroke:#000000;stroke-linejoin:miter;\"/>\n   </g>\n   <g id=\"patch_20\">\n    <path clip-path=\"url(#p48a3ed9223)\" d=\"M 83.759047 93.118125 \nL 84.482784 93.118125 \nL 84.482784 86.470238 \nL 83.759047 86.470238 \nz\n\" style=\"fill:#0000ff;stroke:#000000;stroke-linejoin:miter;\"/>\n   </g>\n   <g id=\"patch_21\">\n    <path clip-path=\"url(#p48a3ed9223)\" d=\"M 84.482784 93.118125 \nL 85.206521 93.118125 \nL 85.206521 71.037642 \nL 84.482784 71.037642 \nz\n\" style=\"fill:#0000ff;stroke:#000000;stroke-linejoin:miter;\"/>\n   </g>\n   <g id=\"patch_22\">\n    <path clip-path=\"url(#p48a3ed9223)\" d=\"M 85.206521 93.118125 \nL 85.930259 93.118125 \nL 85.930259 91.218729 \nL 85.206521 91.218729 \nz\n\" style=\"fill:#0000ff;stroke:#000000;stroke-linejoin:miter;\"/>\n   </g>\n   <g id=\"patch_23\">\n    <path clip-path=\"url(#p48a3ed9223)\" d=\"M 85.930259 93.118125 \nL 86.653996 93.118125 \nL 86.653996 91.931002 \nL 85.930259 91.931002 \nz\n\" style=\"fill:#0000ff;stroke:#000000;stroke-linejoin:miter;\"/>\n   </g>\n   <g id=\"patch_24\">\n    <path clip-path=\"url(#p48a3ed9223)\" d=\"M 86.653996 93.118125 \nL 87.377734 93.118125 \nL 87.377734 92.8807 \nL 86.653996 92.8807 \nz\n\" style=\"fill:#0000ff;stroke:#000000;stroke-linejoin:miter;\"/>\n   </g>\n   <g id=\"patch_25\">\n    <path clip-path=\"url(#p48a3ed9223)\" d=\"M 87.377734 93.118125 \nL 88.101471 93.118125 \nL 88.101471 88.13221 \nL 87.377734 88.13221 \nz\n\" style=\"fill:#0000ff;stroke:#000000;stroke-linejoin:miter;\"/>\n   </g>\n   <g id=\"patch_26\">\n    <path clip-path=\"url(#p48a3ed9223)\" d=\"M 88.101471 93.118125 \nL 88.825208 93.118125 \nL 88.825208 85.995389 \nL 88.101471 85.995389 \nz\n\" style=\"fill:#0000ff;stroke:#000000;stroke-linejoin:miter;\"/>\n   </g>\n   <g id=\"patch_27\">\n    <path clip-path=\"url(#p48a3ed9223)\" d=\"M 88.825208 93.118125 \nL 89.548946 93.118125 \nL 89.548946 73.411888 \nL 88.825208 73.411888 \nz\n\" style=\"fill:#0000ff;stroke:#000000;stroke-linejoin:miter;\"/>\n   </g>\n   <g id=\"patch_28\">\n    <path clip-path=\"url(#p48a3ed9223)\" d=\"M 89.548946 93.118125 \nL 90.272683 93.118125 \nL 90.272683 66.526576 \nL 89.548946 66.526576 \nz\n\" style=\"fill:#0000ff;stroke:#000000;stroke-linejoin:miter;\"/>\n   </g>\n   <g id=\"patch_29\">\n    <path clip-path=\"url(#p48a3ed9223)\" d=\"M 90.272683 93.118125 \nL 90.99642 93.118125 \nL 90.99642 84.095992 \nL 90.272683 84.095992 \nz\n\" style=\"fill:#0000ff;stroke:#000000;stroke-linejoin:miter;\"/>\n   </g>\n   <g id=\"patch_30\">\n    <path clip-path=\"url(#p48a3ed9223)\" d=\"M 90.99642 93.118125 \nL 91.720158 93.118125 \nL 91.720158 86.707662 \nL 90.99642 86.707662 \nz\n\" style=\"fill:#0000ff;stroke:#000000;stroke-linejoin:miter;\"/>\n   </g>\n   <g id=\"patch_31\">\n    <path clip-path=\"url(#p48a3ed9223)\" d=\"M 91.720158 93.118125 \nL 92.443895 93.118125 \nL 92.443895 92.643276 \nL 91.720158 92.643276 \nz\n\" style=\"fill:#0000ff;stroke:#000000;stroke-linejoin:miter;\"/>\n   </g>\n   <g id=\"patch_32\">\n    <path clip-path=\"url(#p48a3ed9223)\" d=\"M 92.443895 93.118125 \nL 93.167633 93.118125 \nL 93.167633 87.65736 \nL 92.443895 87.65736 \nz\n\" style=\"fill:#0000ff;stroke:#000000;stroke-linejoin:miter;\"/>\n   </g>\n   <g id=\"patch_33\">\n    <path clip-path=\"url(#p48a3ed9223)\" d=\"M 93.167633 93.118125 \nL 93.89137 93.118125 \nL 93.89137 71.98734 \nL 93.167633 71.98734 \nz\n\" style=\"fill:#0000ff;stroke:#000000;stroke-linejoin:miter;\"/>\n   </g>\n   <g id=\"patch_34\">\n    <path clip-path=\"url(#p48a3ed9223)\" d=\"M 93.89137 93.118125 \nL 94.615107 93.118125 \nL 94.615107 85.995389 \nL 93.89137 85.995389 \nz\n\" style=\"fill:#0000ff;stroke:#000000;stroke-linejoin:miter;\"/>\n   </g>\n   <g id=\"patch_35\">\n    <path clip-path=\"url(#p48a3ed9223)\" d=\"M 94.615107 93.118125 \nL 95.338845 93.118125 \nL 95.338845 84.570841 \nL 94.615107 84.570841 \nz\n\" style=\"fill:#0000ff;stroke:#000000;stroke-linejoin:miter;\"/>\n   </g>\n   <g id=\"patch_36\">\n    <path clip-path=\"url(#p48a3ed9223)\" d=\"M 95.338845 93.118125 \nL 96.062582 93.118125 \nL 96.062582 70.087944 \nL 95.338845 70.087944 \nz\n\" style=\"fill:#0000ff;stroke:#000000;stroke-linejoin:miter;\"/>\n   </g>\n   <g id=\"patch_37\">\n    <path clip-path=\"url(#p48a3ed9223)\" d=\"M 96.062582 93.118125 \nL 96.786319 93.118125 \nL 96.786319 76.735831 \nL 96.062582 76.735831 \nz\n\" style=\"fill:#0000ff;stroke:#000000;stroke-linejoin:miter;\"/>\n   </g>\n   <g id=\"patch_38\">\n    <path clip-path=\"url(#p48a3ed9223)\" d=\"M 96.786319 93.118125 \nL 97.510057 93.118125 \nL 97.510057 90.26903 \nL 96.786319 90.26903 \nz\n\" style=\"fill:#0000ff;stroke:#000000;stroke-linejoin:miter;\"/>\n   </g>\n   <g id=\"patch_39\">\n    <path clip-path=\"url(#p48a3ed9223)\" d=\"M 97.510057 93.118125 \nL 98.233794 93.118125 \nL 98.233794 86.470238 \nL 97.510057 86.470238 \nz\n\" style=\"fill:#0000ff;stroke:#000000;stroke-linejoin:miter;\"/>\n   </g>\n   <g id=\"patch_40\">\n    <path clip-path=\"url(#p48a3ed9223)\" d=\"M 98.233794 93.118125 \nL 98.957532 93.118125 \nL 98.957532 62.252934 \nL 98.233794 62.252934 \nz\n\" style=\"fill:#0000ff;stroke:#000000;stroke-linejoin:miter;\"/>\n   </g>\n   <g id=\"patch_41\">\n    <path clip-path=\"url(#p48a3ed9223)\" d=\"M 98.957532 93.118125 \nL 99.681269 93.118125 \nL 99.681269 73.649312 \nL 98.957532 73.649312 \nz\n\" style=\"fill:#0000ff;stroke:#000000;stroke-linejoin:miter;\"/>\n   </g>\n   <g id=\"patch_42\">\n    <path clip-path=\"url(#p48a3ed9223)\" d=\"M 99.681269 93.118125 \nL 100.405006 93.118125 \nL 100.405006 77.21068 \nL 99.681269 77.21068 \nz\n\" style=\"fill:#0000ff;stroke:#000000;stroke-linejoin:miter;\"/>\n   </g>\n   <g id=\"patch_43\">\n    <path clip-path=\"url(#p48a3ed9223)\" d=\"M 100.405006 93.118125 \nL 101.128744 93.118125 \nL 101.128744 64.864604 \nL 100.405006 64.864604 \nz\n\" style=\"fill:#0000ff;stroke:#000000;stroke-linejoin:miter;\"/>\n   </g>\n   <g id=\"patch_44\">\n    <path clip-path=\"url(#p48a3ed9223)\" d=\"M 101.128744 93.118125 \nL 101.852481 93.118125 \nL 101.852481 69.138246 \nL 101.128744 69.138246 \nz\n\" style=\"fill:#0000ff;stroke:#000000;stroke-linejoin:miter;\"/>\n   </g>\n   <g id=\"patch_45\">\n    <path clip-path=\"url(#p48a3ed9223)\" d=\"M 101.852481 93.118125 \nL 102.576218 93.118125 \nL 102.576218 82.908869 \nL 101.852481 82.908869 \nz\n\" style=\"fill:#0000ff;stroke:#000000;stroke-linejoin:miter;\"/>\n   </g>\n   <g id=\"patch_46\">\n    <path clip-path=\"url(#p48a3ed9223)\" d=\"M 102.576218 93.118125 \nL 103.299956 93.118125 \nL 103.299956 72.462189 \nL 102.576218 72.462189 \nz\n\" style=\"fill:#0000ff;stroke:#000000;stroke-linejoin:miter;\"/>\n   </g>\n   <g id=\"patch_47\">\n    <path clip-path=\"url(#p48a3ed9223)\" d=\"M 103.299956 93.118125 \nL 104.023693 93.118125 \nL 104.023693 84.095992 \nL 103.299956 84.095992 \nz\n\" style=\"fill:#0000ff;stroke:#000000;stroke-linejoin:miter;\"/>\n   </g>\n   <g id=\"patch_48\">\n    <path clip-path=\"url(#p48a3ed9223)\" d=\"M 104.023693 93.118125 \nL 104.747431 93.118125 \nL 104.747431 83.383719 \nL 104.023693 83.383719 \nz\n\" style=\"fill:#0000ff;stroke:#000000;stroke-linejoin:miter;\"/>\n   </g>\n   <g id=\"patch_49\">\n    <path clip-path=\"url(#p48a3ed9223)\" d=\"M 104.747431 93.118125 \nL 105.471168 93.118125 \nL 105.471168 71.749916 \nL 104.747431 71.749916 \nz\n\" style=\"fill:#0000ff;stroke:#000000;stroke-linejoin:miter;\"/>\n   </g>\n   <g id=\"patch_50\">\n    <path clip-path=\"url(#p48a3ed9223)\" d=\"M 105.471168 93.118125 \nL 106.194905 93.118125 \nL 106.194905 66.764 \nL 105.471168 66.764 \nz\n\" style=\"fill:#0000ff;stroke:#000000;stroke-linejoin:miter;\"/>\n   </g>\n   <g id=\"patch_51\">\n    <path clip-path=\"url(#p48a3ed9223)\" d=\"M 106.194905 93.118125 \nL 106.918643 93.118125 \nL 106.918643 62.015509 \nL 106.194905 62.015509 \nz\n\" style=\"fill:#0000ff;stroke:#000000;stroke-linejoin:miter;\"/>\n   </g>\n   <g id=\"patch_52\">\n    <path clip-path=\"url(#p48a3ed9223)\" d=\"M 106.918643 93.118125 \nL 107.64238 93.118125 \nL 107.64238 75.548709 \nL 106.918643 75.548709 \nz\n\" style=\"fill:#0000ff;stroke:#000000;stroke-linejoin:miter;\"/>\n   </g>\n   <g id=\"patch_53\">\n    <path clip-path=\"url(#p48a3ed9223)\" d=\"M 107.64238 93.118125 \nL 108.366117 93.118125 \nL 108.366117 79.584926 \nL 107.64238 79.584926 \nz\n\" style=\"fill:#0000ff;stroke:#000000;stroke-linejoin:miter;\"/>\n   </g>\n   <g id=\"patch_54\">\n    <path clip-path=\"url(#p48a3ed9223)\" d=\"M 108.366117 93.118125 \nL 109.089855 93.118125 \nL 109.089855 90.74388 \nL 108.366117 90.74388 \nz\n\" style=\"fill:#0000ff;stroke:#000000;stroke-linejoin:miter;\"/>\n   </g>\n   <g id=\"patch_55\">\n    <path clip-path=\"url(#p48a3ed9223)\" d=\"M 109.089855 93.118125 \nL 109.813592 93.118125 \nL 109.813592 93.118125 \nL 109.089855 93.118125 \nz\n\" style=\"fill:#0000ff;stroke:#000000;stroke-linejoin:miter;\"/>\n   </g>\n   <g id=\"patch_56\">\n    <path clip-path=\"url(#p48a3ed9223)\" d=\"M 109.813592 93.118125 \nL 110.53733 93.118125 \nL 110.53733 85.283115 \nL 109.813592 85.283115 \nz\n\" style=\"fill:#0000ff;stroke:#000000;stroke-linejoin:miter;\"/>\n   </g>\n   <g id=\"patch_57\">\n    <path clip-path=\"url(#p48a3ed9223)\" d=\"M 110.53733 93.118125 \nL 111.261067 93.118125 \nL 111.261067 86.470238 \nL 110.53733 86.470238 \nz\n\" style=\"fill:#0000ff;stroke:#000000;stroke-linejoin:miter;\"/>\n   </g>\n   <g id=\"patch_58\">\n    <path clip-path=\"url(#p48a3ed9223)\" d=\"M 111.261067 93.118125 \nL 111.984804 93.118125 \nL 111.984804 85.995389 \nL 111.261067 85.995389 \nz\n\" style=\"fill:#0000ff;stroke:#000000;stroke-linejoin:miter;\"/>\n   </g>\n   <g id=\"patch_59\">\n    <path clip-path=\"url(#p48a3ed9223)\" d=\"M 111.984804 93.118125 \nL 112.708542 93.118125 \nL 112.708542 68.900821 \nL 111.984804 68.900821 \nz\n\" style=\"fill:#0000ff;stroke:#000000;stroke-linejoin:miter;\"/>\n   </g>\n   <g id=\"patch_60\">\n    <path clip-path=\"url(#p48a3ed9223)\" d=\"M 112.708542 93.118125 \nL 113.432279 93.118125 \nL 113.432279 84.808266 \nL 112.708542 84.808266 \nz\n\" style=\"fill:#0000ff;stroke:#000000;stroke-linejoin:miter;\"/>\n   </g>\n   <g id=\"patch_61\">\n    <path clip-path=\"url(#p48a3ed9223)\" d=\"M 113.432279 93.118125 \nL 114.156016 93.118125 \nL 114.156016 87.65736 \nL 113.432279 87.65736 \nz\n\" style=\"fill:#0000ff;stroke:#000000;stroke-linejoin:miter;\"/>\n   </g>\n   <g id=\"patch_62\">\n    <path clip-path=\"url(#p48a3ed9223)\" d=\"M 114.156016 93.118125 \nL 114.879754 93.118125 \nL 114.879754 85.757964 \nL 114.156016 85.757964 \nz\n\" style=\"fill:#0000ff;stroke:#000000;stroke-linejoin:miter;\"/>\n   </g>\n   <g id=\"patch_63\">\n    <path clip-path=\"url(#p48a3ed9223)\" d=\"M 114.879754 93.118125 \nL 115.603491 93.118125 \nL 115.603491 83.383719 \nL 114.879754 83.383719 \nz\n\" style=\"fill:#0000ff;stroke:#000000;stroke-linejoin:miter;\"/>\n   </g>\n   <g id=\"patch_64\">\n    <path clip-path=\"url(#p48a3ed9223)\" d=\"M 115.603491 93.118125 \nL 116.327229 93.118125 \nL 116.327229 82.196596 \nL 115.603491 82.196596 \nz\n\" style=\"fill:#0000ff;stroke:#000000;stroke-linejoin:miter;\"/>\n   </g>\n   <g id=\"patch_65\">\n    <path clip-path=\"url(#p48a3ed9223)\" d=\"M 116.327229 93.118125 \nL 117.050966 93.118125 \nL 117.050966 70.800218 \nL 116.327229 70.800218 \nz\n\" style=\"fill:#0000ff;stroke:#000000;stroke-linejoin:miter;\"/>\n   </g>\n   <g id=\"patch_66\">\n    <path clip-path=\"url(#p48a3ed9223)\" d=\"M 117.050966 93.118125 \nL 117.774703 93.118125 \nL 117.774703 57.504443 \nL 117.050966 57.504443 \nz\n\" style=\"fill:#0000ff;stroke:#000000;stroke-linejoin:miter;\"/>\n   </g>\n   <g id=\"patch_67\">\n    <path clip-path=\"url(#p48a3ed9223)\" d=\"M 117.774703 93.118125 \nL 118.498441 93.118125 \nL 118.498441 93.118125 \nL 117.774703 93.118125 \nz\n\" style=\"fill:#0000ff;stroke:#000000;stroke-linejoin:miter;\"/>\n   </g>\n   <g id=\"patch_68\">\n    <path clip-path=\"url(#p48a3ed9223)\" d=\"M 118.498441 93.118125 \nL 119.222178 93.118125 \nL 119.222178 81.009473 \nL 118.498441 81.009473 \nz\n\" style=\"fill:#0000ff;stroke:#000000;stroke-linejoin:miter;\"/>\n   </g>\n   <g id=\"patch_69\">\n    <path clip-path=\"url(#p48a3ed9223)\" d=\"M 119.222178 93.118125 \nL 119.945915 93.118125 \nL 119.945915 90.74388 \nL 119.222178 90.74388 \nz\n\" style=\"fill:#0000ff;stroke:#000000;stroke-linejoin:miter;\"/>\n   </g>\n   <g id=\"patch_70\">\n    <path clip-path=\"url(#p48a3ed9223)\" d=\"M 119.945915 93.118125 \nL 120.669653 93.118125 \nL 120.669653 86.707662 \nL 119.945915 86.707662 \nz\n\" style=\"fill:#0000ff;stroke:#000000;stroke-linejoin:miter;\"/>\n   </g>\n   <g id=\"patch_71\">\n    <path clip-path=\"url(#p48a3ed9223)\" d=\"M 120.669653 93.118125 \nL 121.39339 93.118125 \nL 121.39339 85.520539 \nL 120.669653 85.520539 \nz\n\" style=\"fill:#0000ff;stroke:#000000;stroke-linejoin:miter;\"/>\n   </g>\n   <g id=\"patch_72\">\n    <path clip-path=\"url(#p48a3ed9223)\" d=\"M 121.39339 93.118125 \nL 122.117128 93.118125 \nL 122.117128 60.590962 \nL 121.39339 60.590962 \nz\n\" style=\"fill:#0000ff;stroke:#000000;stroke-linejoin:miter;\"/>\n   </g>\n   <g id=\"patch_73\">\n    <path clip-path=\"url(#p48a3ed9223)\" d=\"M 122.117128 93.118125 \nL 122.840865 93.118125 \nL 122.840865 39.460177 \nL 122.117128 39.460177 \nz\n\" style=\"fill:#0000ff;stroke:#000000;stroke-linejoin:miter;\"/>\n   </g>\n   <g id=\"patch_74\">\n    <path clip-path=\"url(#p48a3ed9223)\" d=\"M 122.840865 93.118125 \nL 123.564602 93.118125 \nL 123.564602 78.872652 \nL 122.840865 78.872652 \nz\n\" style=\"fill:#0000ff;stroke:#000000;stroke-linejoin:miter;\"/>\n   </g>\n   <g id=\"patch_75\">\n    <path clip-path=\"url(#p48a3ed9223)\" d=\"M 123.564602 93.118125 \nL 124.28834 93.118125 \nL 124.28834 87.419936 \nL 123.564602 87.419936 \nz\n\" style=\"fill:#0000ff;stroke:#000000;stroke-linejoin:miter;\"/>\n   </g>\n   <g id=\"patch_76\">\n    <path clip-path=\"url(#p48a3ed9223)\" d=\"M 124.28834 93.118125 \nL 125.012077 93.118125 \nL 125.012077 81.721747 \nL 124.28834 81.721747 \nz\n\" style=\"fill:#0000ff;stroke:#000000;stroke-linejoin:miter;\"/>\n   </g>\n   <g id=\"patch_77\">\n    <path clip-path=\"url(#p48a3ed9223)\" d=\"M 125.012077 93.118125 \nL 125.735814 93.118125 \nL 125.735814 77.922954 \nL 125.012077 77.922954 \nz\n\" style=\"fill:#0000ff;stroke:#000000;stroke-linejoin:miter;\"/>\n   </g>\n   <g id=\"patch_78\">\n    <path clip-path=\"url(#p48a3ed9223)\" d=\"M 125.735814 93.118125 \nL 126.459552 93.118125 \nL 126.459552 70.800218 \nL 125.735814 70.800218 \nz\n\" style=\"fill:#0000ff;stroke:#000000;stroke-linejoin:miter;\"/>\n   </g>\n   <g id=\"patch_79\">\n    <path clip-path=\"url(#p48a3ed9223)\" d=\"M 126.459552 93.118125 \nL 127.183289 93.118125 \nL 127.183289 78.160379 \nL 126.459552 78.160379 \nz\n\" style=\"fill:#0000ff;stroke:#000000;stroke-linejoin:miter;\"/>\n   </g>\n   <g id=\"patch_80\">\n    <path clip-path=\"url(#p48a3ed9223)\" d=\"M 127.183289 93.118125 \nL 127.907027 93.118125 \nL 127.907027 70.087944 \nL 127.183289 70.087944 \nz\n\" style=\"fill:#0000ff;stroke:#000000;stroke-linejoin:miter;\"/>\n   </g>\n   <g id=\"patch_81\">\n    <path clip-path=\"url(#p48a3ed9223)\" d=\"M 127.907027 93.118125 \nL 128.630764 93.118125 \nL 128.630764 69.850519 \nL 127.907027 69.850519 \nz\n\" style=\"fill:#0000ff;stroke:#000000;stroke-linejoin:miter;\"/>\n   </g>\n   <g id=\"patch_82\">\n    <path clip-path=\"url(#p48a3ed9223)\" d=\"M 128.630764 93.118125 \nL 129.354501 93.118125 \nL 129.354501 72.699614 \nL 128.630764 72.699614 \nz\n\" style=\"fill:#0000ff;stroke:#000000;stroke-linejoin:miter;\"/>\n   </g>\n   <g id=\"patch_83\">\n    <path clip-path=\"url(#p48a3ed9223)\" d=\"M 129.354501 93.118125 \nL 130.078239 93.118125 \nL 130.078239 76.498407 \nL 129.354501 76.498407 \nz\n\" style=\"fill:#0000ff;stroke:#000000;stroke-linejoin:miter;\"/>\n   </g>\n   <g id=\"patch_84\">\n    <path clip-path=\"url(#p48a3ed9223)\" d=\"M 130.078239 93.118125 \nL 130.801976 93.118125 \nL 130.801976 75.073859 \nL 130.078239 75.073859 \nz\n\" style=\"fill:#0000ff;stroke:#000000;stroke-linejoin:miter;\"/>\n   </g>\n   <g id=\"patch_85\">\n    <path clip-path=\"url(#p48a3ed9223)\" d=\"M 130.801976 93.118125 \nL 131.525713 93.118125 \nL 131.525713 80.534624 \nL 130.801976 80.534624 \nz\n\" style=\"fill:#0000ff;stroke:#000000;stroke-linejoin:miter;\"/>\n   </g>\n   <g id=\"patch_86\">\n    <path clip-path=\"url(#p48a3ed9223)\" d=\"M 131.525713 93.118125 \nL 132.249451 93.118125 \nL 132.249451 64.627179 \nL 131.525713 64.627179 \nz\n\" style=\"fill:#0000ff;stroke:#000000;stroke-linejoin:miter;\"/>\n   </g>\n   <g id=\"patch_87\">\n    <path clip-path=\"url(#p48a3ed9223)\" d=\"M 132.249451 93.118125 \nL 132.973188 93.118125 \nL 132.973188 80.059775 \nL 132.249451 80.059775 \nz\n\" style=\"fill:#0000ff;stroke:#000000;stroke-linejoin:miter;\"/>\n   </g>\n   <g id=\"patch_88\">\n    <path clip-path=\"url(#p48a3ed9223)\" d=\"M 132.973188 93.118125 \nL 133.696926 93.118125 \nL 133.696926 67.238849 \nL 132.973188 67.238849 \nz\n\" style=\"fill:#0000ff;stroke:#000000;stroke-linejoin:miter;\"/>\n   </g>\n   <g id=\"patch_89\">\n    <path clip-path=\"url(#p48a3ed9223)\" d=\"M 133.696926 93.118125 \nL 134.420663 93.118125 \nL 134.420663 74.361586 \nL 133.696926 74.361586 \nz\n\" style=\"fill:#0000ff;stroke:#000000;stroke-linejoin:miter;\"/>\n   </g>\n   <g id=\"patch_90\">\n    <path clip-path=\"url(#p48a3ed9223)\" d=\"M 134.420663 93.118125 \nL 135.1444 93.118125 \nL 135.1444 69.613095 \nL 134.420663 69.613095 \nz\n\" style=\"fill:#0000ff;stroke:#000000;stroke-linejoin:miter;\"/>\n   </g>\n   <g id=\"patch_91\">\n    <path clip-path=\"url(#p48a3ed9223)\" d=\"M 135.1444 93.118125 \nL 135.868138 93.118125 \nL 135.868138 84.095992 \nL 135.1444 84.095992 \nz\n\" style=\"fill:#0000ff;stroke:#000000;stroke-linejoin:miter;\"/>\n   </g>\n   <g id=\"patch_92\">\n    <path clip-path=\"url(#p48a3ed9223)\" d=\"M 135.868138 93.118125 \nL 136.591875 93.118125 \nL 136.591875 85.283115 \nL 135.868138 85.283115 \nz\n\" style=\"fill:#0000ff;stroke:#000000;stroke-linejoin:miter;\"/>\n   </g>\n   <g id=\"patch_93\">\n    <path clip-path=\"url(#p48a3ed9223)\" d=\"M 136.591875 93.118125 \nL 137.315612 93.118125 \nL 137.315612 72.224765 \nL 136.591875 72.224765 \nz\n\" style=\"fill:#0000ff;stroke:#000000;stroke-linejoin:miter;\"/>\n   </g>\n   <g id=\"patch_94\">\n    <path clip-path=\"url(#p48a3ed9223)\" d=\"M 137.315612 93.118125 \nL 138.03935 93.118125 \nL 138.03935 68.188548 \nL 137.315612 68.188548 \nz\n\" style=\"fill:#0000ff;stroke:#000000;stroke-linejoin:miter;\"/>\n   </g>\n   <g id=\"patch_95\">\n    <path clip-path=\"url(#p48a3ed9223)\" d=\"M 138.03935 93.118125 \nL 138.763087 93.118125 \nL 138.763087 87.419936 \nL 138.03935 87.419936 \nz\n\" style=\"fill:#0000ff;stroke:#000000;stroke-linejoin:miter;\"/>\n   </g>\n   <g id=\"patch_96\">\n    <path clip-path=\"url(#p48a3ed9223)\" d=\"M 138.763087 93.118125 \nL 139.486824 93.118125 \nL 139.486824 71.275067 \nL 138.763087 71.275067 \nz\n\" style=\"fill:#0000ff;stroke:#000000;stroke-linejoin:miter;\"/>\n   </g>\n   <g id=\"patch_97\">\n    <path clip-path=\"url(#p48a3ed9223)\" d=\"M 139.486824 93.118125 \nL 140.210562 93.118125 \nL 140.210562 48.48231 \nL 139.486824 48.48231 \nz\n\" style=\"fill:#0000ff;stroke:#000000;stroke-linejoin:miter;\"/>\n   </g>\n   <g id=\"patch_98\">\n    <path clip-path=\"url(#p48a3ed9223)\" d=\"M 140.210562 93.118125 \nL 140.934299 93.118125 \nL 140.934299 60.828387 \nL 140.210562 60.828387 \nz\n\" style=\"fill:#0000ff;stroke:#000000;stroke-linejoin:miter;\"/>\n   </g>\n   <g id=\"patch_99\">\n    <path clip-path=\"url(#p48a3ed9223)\" d=\"M 140.934299 93.118125 \nL 141.658037 93.118125 \nL 141.658037 60.116113 \nL 140.934299 60.116113 \nz\n\" style=\"fill:#0000ff;stroke:#000000;stroke-linejoin:miter;\"/>\n   </g>\n   <g id=\"patch_100\">\n    <path clip-path=\"url(#p48a3ed9223)\" d=\"M 141.658037 93.118125 \nL 142.381774 93.118125 \nL 142.381774 38.03563 \nL 141.658037 38.03563 \nz\n\" style=\"fill:#0000ff;stroke:#000000;stroke-linejoin:miter;\"/>\n   </g>\n   <g id=\"patch_101\">\n    <path clip-path=\"url(#p48a3ed9223)\" d=\"M 142.381774 93.118125 \nL 143.105511 93.118125 \nL 143.105511 75.311284 \nL 142.381774 75.311284 \nz\n\" style=\"fill:#0000ff;stroke:#000000;stroke-linejoin:miter;\"/>\n   </g>\n   <g id=\"patch_102\">\n    <path clip-path=\"url(#p48a3ed9223)\" d=\"M 143.105511 93.118125 \nL 143.829249 93.118125 \nL 143.829249 70.325368 \nL 143.105511 70.325368 \nz\n\" style=\"fill:#0000ff;stroke:#000000;stroke-linejoin:miter;\"/>\n   </g>\n   <g id=\"patch_103\">\n    <path clip-path=\"url(#p48a3ed9223)\" d=\"M 143.829249 93.118125 \nL 144.552986 93.118125 \nL 144.552986 58.454141 \nL 143.829249 58.454141 \nz\n\" style=\"fill:#0000ff;stroke:#000000;stroke-linejoin:miter;\"/>\n   </g>\n   <g id=\"patch_104\">\n    <path clip-path=\"url(#p48a3ed9223)\" d=\"M 144.552986 93.118125 \nL 145.276723 93.118125 \nL 145.276723 61.303236 \nL 144.552986 61.303236 \nz\n\" style=\"fill:#0000ff;stroke:#000000;stroke-linejoin:miter;\"/>\n   </g>\n   <g id=\"patch_105\">\n    <path clip-path=\"url(#p48a3ed9223)\" d=\"M 145.276723 93.118125 \nL 146.000461 93.118125 \nL 146.000461 49.432008 \nL 145.276723 49.432008 \nz\n\" style=\"fill:#0000ff;stroke:#000000;stroke-linejoin:miter;\"/>\n   </g>\n   <g id=\"patch_106\">\n    <path clip-path=\"url(#p48a3ed9223)\" d=\"M 146.000461 93.118125 \nL 146.724198 93.118125 \nL 146.724198 65.576878 \nL 146.000461 65.576878 \nz\n\" style=\"fill:#0000ff;stroke:#000000;stroke-linejoin:miter;\"/>\n   </g>\n   <g id=\"patch_107\">\n    <path clip-path=\"url(#p48a3ed9223)\" d=\"M 146.724198 93.118125 \nL 147.447936 93.118125 \nL 147.447936 66.289151 \nL 146.724198 66.289151 \nz\n\" style=\"fill:#0000ff;stroke:#000000;stroke-linejoin:miter;\"/>\n   </g>\n   <g id=\"patch_108\">\n    <path clip-path=\"url(#p48a3ed9223)\" d=\"M 147.447936 93.118125 \nL 148.171673 93.118125 \nL 148.171673 57.267018 \nL 147.447936 57.267018 \nz\n\" style=\"fill:#0000ff;stroke:#000000;stroke-linejoin:miter;\"/>\n   </g>\n   <g id=\"patch_109\">\n    <path clip-path=\"url(#p48a3ed9223)\" d=\"M 148.171673 93.118125 \nL 148.89541 93.118125 \nL 148.89541 59.403839 \nL 148.171673 59.403839 \nz\n\" style=\"fill:#0000ff;stroke:#000000;stroke-linejoin:miter;\"/>\n   </g>\n   <g id=\"patch_110\">\n    <path clip-path=\"url(#p48a3ed9223)\" d=\"M 148.89541 93.118125 \nL 149.619148 93.118125 \nL 149.619148 60.116113 \nL 148.89541 60.116113 \nz\n\" style=\"fill:#0000ff;stroke:#000000;stroke-linejoin:miter;\"/>\n   </g>\n   <g id=\"patch_111\">\n    <path clip-path=\"url(#p48a3ed9223)\" d=\"M 149.619148 93.118125 \nL 150.342885 93.118125 \nL 150.342885 73.411888 \nL 149.619148 73.411888 \nz\n\" style=\"fill:#0000ff;stroke:#000000;stroke-linejoin:miter;\"/>\n   </g>\n   <g id=\"patch_112\">\n    <path clip-path=\"url(#p48a3ed9223)\" d=\"M 150.342885 93.118125 \nL 151.066622 93.118125 \nL 151.066622 85.757964 \nL 150.342885 85.757964 \nz\n\" style=\"fill:#0000ff;stroke:#000000;stroke-linejoin:miter;\"/>\n   </g>\n   <g id=\"patch_113\">\n    <path clip-path=\"url(#p48a3ed9223)\" d=\"M 151.066622 93.118125 \nL 151.79036 93.118125 \nL 151.79036 67.001425 \nL 151.066622 67.001425 \nz\n\" style=\"fill:#0000ff;stroke:#000000;stroke-linejoin:miter;\"/>\n   </g>\n   <g id=\"patch_114\">\n    <path clip-path=\"url(#p48a3ed9223)\" d=\"M 151.79036 93.118125 \nL 152.514097 93.118125 \nL 152.514097 43.496395 \nL 151.79036 43.496395 \nz\n\" style=\"fill:#0000ff;stroke:#000000;stroke-linejoin:miter;\"/>\n   </g>\n   <g id=\"patch_115\">\n    <path clip-path=\"url(#p48a3ed9223)\" d=\"M 152.514097 93.118125 \nL 153.237835 93.118125 \nL 153.237835 60.116113 \nL 152.514097 60.116113 \nz\n\" style=\"fill:#0000ff;stroke:#000000;stroke-linejoin:miter;\"/>\n   </g>\n   <g id=\"patch_116\">\n    <path clip-path=\"url(#p48a3ed9223)\" d=\"M 153.237835 93.118125 \nL 153.961572 93.118125 \nL 153.961572 77.922954 \nL 153.237835 77.922954 \nz\n\" style=\"fill:#0000ff;stroke:#000000;stroke-linejoin:miter;\"/>\n   </g>\n   <g id=\"patch_117\">\n    <path clip-path=\"url(#p48a3ed9223)\" d=\"M 153.961572 93.118125 \nL 154.685309 93.118125 \nL 154.685309 70.087944 \nL 153.961572 70.087944 \nz\n\" style=\"fill:#0000ff;stroke:#000000;stroke-linejoin:miter;\"/>\n   </g>\n   <g id=\"patch_118\">\n    <path clip-path=\"url(#p48a3ed9223)\" d=\"M 154.685309 93.118125 \nL 155.409047 93.118125 \nL 155.409047 56.792169 \nL 154.685309 56.792169 \nz\n\" style=\"fill:#0000ff;stroke:#000000;stroke-linejoin:miter;\"/>\n   </g>\n   <g id=\"patch_119\">\n    <path clip-path=\"url(#p48a3ed9223)\" d=\"M 155.409047 93.118125 \nL 156.132784 93.118125 \nL 156.132784 85.995389 \nL 155.409047 85.995389 \nz\n\" style=\"fill:#0000ff;stroke:#000000;stroke-linejoin:miter;\"/>\n   </g>\n   <g id=\"patch_120\">\n    <path clip-path=\"url(#p48a3ed9223)\" d=\"M 156.132784 93.118125 \nL 156.856521 93.118125 \nL 156.856521 68.425972 \nL 156.132784 68.425972 \nz\n\" style=\"fill:#0000ff;stroke:#000000;stroke-linejoin:miter;\"/>\n   </g>\n   <g id=\"patch_121\">\n    <path clip-path=\"url(#p48a3ed9223)\" d=\"M 156.856521 93.118125 \nL 157.580259 93.118125 \nL 157.580259 71.512491 \nL 156.856521 71.512491 \nz\n\" style=\"fill:#0000ff;stroke:#000000;stroke-linejoin:miter;\"/>\n   </g>\n   <g id=\"patch_122\">\n    <path clip-path=\"url(#p48a3ed9223)\" d=\"M 157.580259 93.118125 \nL 158.303996 93.118125 \nL 158.303996 63.677481 \nL 157.580259 63.677481 \nz\n\" style=\"fill:#0000ff;stroke:#000000;stroke-linejoin:miter;\"/>\n   </g>\n   <g id=\"patch_123\">\n    <path clip-path=\"url(#p48a3ed9223)\" d=\"M 158.303996 93.118125 \nL 159.027734 93.118125 \nL 159.027734 51.568829 \nL 158.303996 51.568829 \nz\n\" style=\"fill:#0000ff;stroke:#000000;stroke-linejoin:miter;\"/>\n   </g>\n   <g id=\"patch_124\">\n    <path clip-path=\"url(#p48a3ed9223)\" d=\"M 159.027734 93.118125 \nL 159.751471 93.118125 \nL 159.751471 60.590962 \nL 159.027734 60.590962 \nz\n\" style=\"fill:#0000ff;stroke:#000000;stroke-linejoin:miter;\"/>\n   </g>\n   <g id=\"patch_125\">\n    <path clip-path=\"url(#p48a3ed9223)\" d=\"M 159.751471 93.118125 \nL 160.475208 93.118125 \nL 160.475208 52.043678 \nL 159.751471 52.043678 \nz\n\" style=\"fill:#0000ff;stroke:#000000;stroke-linejoin:miter;\"/>\n   </g>\n   <g id=\"patch_126\">\n    <path clip-path=\"url(#p48a3ed9223)\" d=\"M 160.475208 93.118125 \nL 161.198946 93.118125 \nL 161.198946 73.411888 \nL 160.475208 73.411888 \nz\n\" style=\"fill:#0000ff;stroke:#000000;stroke-linejoin:miter;\"/>\n   </g>\n   <g id=\"patch_127\">\n    <path clip-path=\"url(#p48a3ed9223)\" d=\"M 161.198946 93.118125 \nL 161.922683 93.118125 \nL 161.922683 86.232813 \nL 161.198946 86.232813 \nz\n\" style=\"fill:#0000ff;stroke:#000000;stroke-linejoin:miter;\"/>\n   </g>\n   <g id=\"patch_128\">\n    <path clip-path=\"url(#p48a3ed9223)\" d=\"M 161.922683 93.118125 \nL 162.64642 93.118125 \nL 162.64642 81.484322 \nL 161.922683 81.484322 \nz\n\" style=\"fill:#0000ff;stroke:#000000;stroke-linejoin:miter;\"/>\n   </g>\n   <g id=\"patch_129\">\n    <path clip-path=\"url(#p48a3ed9223)\" d=\"M 162.64642 93.118125 \nL 163.370158 93.118125 \nL 163.370158 67.951123 \nL 162.64642 67.951123 \nz\n\" style=\"fill:#0000ff;stroke:#000000;stroke-linejoin:miter;\"/>\n   </g>\n   <g id=\"patch_130\">\n    <path clip-path=\"url(#p48a3ed9223)\" d=\"M 163.370158 93.118125 \nL 164.093895 93.118125 \nL 164.093895 62.965207 \nL 163.370158 62.965207 \nz\n\" style=\"fill:#0000ff;stroke:#000000;stroke-linejoin:miter;\"/>\n   </g>\n   <g id=\"patch_131\">\n    <path clip-path=\"url(#p48a3ed9223)\" d=\"M 164.093895 93.118125 \nL 164.817633 93.118125 \nL 164.817633 63.914906 \nL 164.093895 63.914906 \nz\n\" style=\"fill:#0000ff;stroke:#000000;stroke-linejoin:miter;\"/>\n   </g>\n   <g id=\"patch_132\">\n    <path clip-path=\"url(#p48a3ed9223)\" d=\"M 164.817633 93.118125 \nL 165.54137 93.118125 \nL 165.54137 86.232813 \nL 164.817633 86.232813 \nz\n\" style=\"fill:#0000ff;stroke:#000000;stroke-linejoin:miter;\"/>\n   </g>\n   <g id=\"patch_133\">\n    <path clip-path=\"url(#p48a3ed9223)\" d=\"M 165.54137 93.118125 \nL 166.265107 93.118125 \nL 166.265107 76.498407 \nL 165.54137 76.498407 \nz\n\" style=\"fill:#0000ff;stroke:#000000;stroke-linejoin:miter;\"/>\n   </g>\n   <g id=\"patch_134\">\n    <path clip-path=\"url(#p48a3ed9223)\" d=\"M 166.265107 93.118125 \nL 166.988845 93.118125 \nL 166.988845 25.689554 \nL 166.265107 25.689554 \nz\n\" style=\"fill:#0000ff;stroke:#000000;stroke-linejoin:miter;\"/>\n   </g>\n   <g id=\"patch_135\">\n    <path clip-path=\"url(#p48a3ed9223)\" d=\"M 166.988845 93.118125 \nL 167.712582 93.118125 \nL 167.712582 72.462189 \nL 166.988845 72.462189 \nz\n\" style=\"fill:#0000ff;stroke:#000000;stroke-linejoin:miter;\"/>\n   </g>\n   <g id=\"patch_136\">\n    <path clip-path=\"url(#p48a3ed9223)\" d=\"M 167.712582 93.118125 \nL 168.436319 93.118125 \nL 168.436319 83.146294 \nL 167.712582 83.146294 \nz\n\" style=\"fill:#0000ff;stroke:#000000;stroke-linejoin:miter;\"/>\n   </g>\n   <g id=\"patch_137\">\n    <path clip-path=\"url(#p48a3ed9223)\" d=\"M 168.436319 93.118125 \nL 169.160057 93.118125 \nL 169.160057 64.389755 \nL 168.436319 64.389755 \nz\n\" style=\"fill:#0000ff;stroke:#000000;stroke-linejoin:miter;\"/>\n   </g>\n   <g id=\"patch_138\">\n    <path clip-path=\"url(#p48a3ed9223)\" d=\"M 169.160057 93.118125 \nL 169.883794 93.118125 \nL 169.883794 69.138246 \nL 169.160057 69.138246 \nz\n\" style=\"fill:#0000ff;stroke:#000000;stroke-linejoin:miter;\"/>\n   </g>\n   <g id=\"patch_139\">\n    <path clip-path=\"url(#p48a3ed9223)\" d=\"M 169.883794 93.118125 \nL 170.607532 93.118125 \nL 170.607532 88.13221 \nL 169.883794 88.13221 \nz\n\" style=\"fill:#0000ff;stroke:#000000;stroke-linejoin:miter;\"/>\n   </g>\n   <g id=\"patch_140\">\n    <path clip-path=\"url(#p48a3ed9223)\" d=\"M 170.607532 93.118125 \nL 171.331269 93.118125 \nL 171.331269 75.311284 \nL 170.607532 75.311284 \nz\n\" style=\"fill:#0000ff;stroke:#000000;stroke-linejoin:miter;\"/>\n   </g>\n   <g id=\"patch_141\">\n    <path clip-path=\"url(#p48a3ed9223)\" d=\"M 171.331269 93.118125 \nL 172.055006 93.118125 \nL 172.055006 63.677481 \nL 171.331269 63.677481 \nz\n\" style=\"fill:#0000ff;stroke:#000000;stroke-linejoin:miter;\"/>\n   </g>\n   <g id=\"patch_142\">\n    <path clip-path=\"url(#p48a3ed9223)\" d=\"M 172.055006 93.118125 \nL 172.778744 93.118125 \nL 172.778744 38.03563 \nL 172.055006 38.03563 \nz\n\" style=\"fill:#0000ff;stroke:#000000;stroke-linejoin:miter;\"/>\n   </g>\n   <g id=\"patch_143\">\n    <path clip-path=\"url(#p48a3ed9223)\" d=\"M 172.778744 93.118125 \nL 173.502481 93.118125 \nL 173.502481 81.009473 \nL 172.778744 81.009473 \nz\n\" style=\"fill:#0000ff;stroke:#000000;stroke-linejoin:miter;\"/>\n   </g>\n   <g id=\"patch_144\">\n    <path clip-path=\"url(#p48a3ed9223)\" d=\"M 173.502481 93.118125 \nL 174.226218 93.118125 \nL 174.226218 86.707662 \nL 173.502481 86.707662 \nz\n\" style=\"fill:#0000ff;stroke:#000000;stroke-linejoin:miter;\"/>\n   </g>\n   <g id=\"patch_145\">\n    <path clip-path=\"url(#p48a3ed9223)\" d=\"M 174.226218 93.118125 \nL 174.949956 93.118125 \nL 174.949956 67.951123 \nL 174.226218 67.951123 \nz\n\" style=\"fill:#0000ff;stroke:#000000;stroke-linejoin:miter;\"/>\n   </g>\n   <g id=\"patch_146\">\n    <path clip-path=\"url(#p48a3ed9223)\" d=\"M 174.949956 93.118125 \nL 175.673693 93.118125 \nL 175.673693 80.772049 \nL 174.949956 80.772049 \nz\n\" style=\"fill:#0000ff;stroke:#000000;stroke-linejoin:miter;\"/>\n   </g>\n   <g id=\"patch_147\">\n    <path clip-path=\"url(#p48a3ed9223)\" d=\"M 175.673693 93.118125 \nL 176.397431 93.118125 \nL 176.397431 52.755952 \nL 175.673693 52.755952 \nz\n\" style=\"fill:#0000ff;stroke:#000000;stroke-linejoin:miter;\"/>\n   </g>\n   <g id=\"patch_148\">\n    <path clip-path=\"url(#p48a3ed9223)\" d=\"M 176.397431 93.118125 \nL 177.121168 93.118125 \nL 177.121168 56.554745 \nL 176.397431 56.554745 \nz\n\" style=\"fill:#0000ff;stroke:#000000;stroke-linejoin:miter;\"/>\n   </g>\n   <g id=\"patch_149\">\n    <path clip-path=\"url(#p48a3ed9223)\" d=\"M 177.121168 93.118125 \nL 177.844905 93.118125 \nL 177.844905 80.059775 \nL 177.121168 80.059775 \nz\n\" style=\"fill:#0000ff;stroke:#000000;stroke-linejoin:miter;\"/>\n   </g>\n   <g id=\"patch_150\">\n    <path clip-path=\"url(#p48a3ed9223)\" d=\"M 177.844905 93.118125 \nL 178.568643 93.118125 \nL 178.568643 84.095992 \nL 177.844905 84.095992 \nz\n\" style=\"fill:#0000ff;stroke:#000000;stroke-linejoin:miter;\"/>\n   </g>\n   <g id=\"patch_151\">\n    <path clip-path=\"url(#p48a3ed9223)\" d=\"M 178.568643 93.118125 \nL 179.29238 93.118125 \nL 179.29238 58.454141 \nL 178.568643 58.454141 \nz\n\" style=\"fill:#0000ff;stroke:#000000;stroke-linejoin:miter;\"/>\n   </g>\n   <g id=\"patch_152\">\n    <path clip-path=\"url(#p48a3ed9223)\" d=\"M 179.29238 93.118125 \nL 180.016117 93.118125 \nL 180.016117 89.794181 \nL 179.29238 89.794181 \nz\n\" style=\"fill:#0000ff;stroke:#000000;stroke-linejoin:miter;\"/>\n   </g>\n   <g id=\"patch_153\">\n    <path clip-path=\"url(#p48a3ed9223)\" d=\"M 180.016117 93.118125 \nL 180.739855 93.118125 \nL 180.739855 93.118125 \nL 180.016117 93.118125 \nz\n\" style=\"fill:#0000ff;stroke:#000000;stroke-linejoin:miter;\"/>\n   </g>\n   <g id=\"patch_154\">\n    <path clip-path=\"url(#p48a3ed9223)\" d=\"M 180.739855 93.118125 \nL 181.463592 93.118125 \nL 181.463592 82.908869 \nL 180.739855 82.908869 \nz\n\" style=\"fill:#0000ff;stroke:#000000;stroke-linejoin:miter;\"/>\n   </g>\n   <g id=\"patch_155\">\n    <path clip-path=\"url(#p48a3ed9223)\" d=\"M 181.463592 93.118125 \nL 182.18733 93.118125 \nL 182.18733 74.124161 \nL 181.463592 74.124161 \nz\n\" style=\"fill:#0000ff;stroke:#000000;stroke-linejoin:miter;\"/>\n   </g>\n   <g id=\"patch_156\">\n    <path clip-path=\"url(#p48a3ed9223)\" d=\"M 182.18733 93.118125 \nL 182.911067 93.118125 \nL 182.911067 92.168427 \nL 182.18733 92.168427 \nz\n\" style=\"fill:#0000ff;stroke:#000000;stroke-linejoin:miter;\"/>\n   </g>\n   <g id=\"patch_157\">\n    <path clip-path=\"url(#p48a3ed9223)\" d=\"M 182.911067 93.118125 \nL 183.634804 93.118125 \nL 183.634804 78.635228 \nL 182.911067 78.635228 \nz\n\" style=\"fill:#0000ff;stroke:#000000;stroke-linejoin:miter;\"/>\n   </g>\n   <g id=\"patch_158\">\n    <path clip-path=\"url(#p48a3ed9223)\" d=\"M 183.634804 93.118125 \nL 184.358542 93.118125 \nL 184.358542 68.663397 \nL 183.634804 68.663397 \nz\n\" style=\"fill:#0000ff;stroke:#000000;stroke-linejoin:miter;\"/>\n   </g>\n   <g id=\"patch_159\">\n    <path clip-path=\"url(#p48a3ed9223)\" d=\"M 184.358542 93.118125 \nL 185.082279 93.118125 \nL 185.082279 90.74388 \nL 184.358542 90.74388 \nz\n\" style=\"fill:#0000ff;stroke:#000000;stroke-linejoin:miter;\"/>\n   </g>\n   <g id=\"patch_160\">\n    <path clip-path=\"url(#p48a3ed9223)\" d=\"M 185.082279 93.118125 \nL 185.806016 93.118125 \nL 185.806016 82.43402 \nL 185.082279 82.43402 \nz\n\" style=\"fill:#0000ff;stroke:#000000;stroke-linejoin:miter;\"/>\n   </g>\n   <g id=\"patch_161\">\n    <path clip-path=\"url(#p48a3ed9223)\" d=\"M 185.806016 93.118125 \nL 186.529754 93.118125 \nL 186.529754 78.160379 \nL 185.806016 78.160379 \nz\n\" style=\"fill:#0000ff;stroke:#000000;stroke-linejoin:miter;\"/>\n   </g>\n   <g id=\"patch_162\">\n    <path clip-path=\"url(#p48a3ed9223)\" d=\"M 186.529754 93.118125 \nL 187.253491 93.118125 \nL 187.253491 91.456153 \nL 186.529754 91.456153 \nz\n\" style=\"fill:#0000ff;stroke:#000000;stroke-linejoin:miter;\"/>\n   </g>\n   <g id=\"patch_163\">\n    <path clip-path=\"url(#p48a3ed9223)\" d=\"M 187.253491 93.118125 \nL 187.977229 93.118125 \nL 187.977229 91.693578 \nL 187.253491 91.693578 \nz\n\" style=\"fill:#0000ff;stroke:#000000;stroke-linejoin:miter;\"/>\n   </g>\n   <g id=\"patch_164\">\n    <path clip-path=\"url(#p48a3ed9223)\" d=\"M 187.977229 93.118125 \nL 188.700966 93.118125 \nL 188.700966 86.470238 \nL 187.977229 86.470238 \nz\n\" style=\"fill:#0000ff;stroke:#000000;stroke-linejoin:miter;\"/>\n   </g>\n   <g id=\"patch_165\">\n    <path clip-path=\"url(#p48a3ed9223)\" d=\"M 188.700966 93.118125 \nL 189.424703 93.118125 \nL 189.424703 61.065811 \nL 188.700966 61.065811 \nz\n\" style=\"fill:#0000ff;stroke:#000000;stroke-linejoin:miter;\"/>\n   </g>\n   <g id=\"patch_166\">\n    <path clip-path=\"url(#p48a3ed9223)\" d=\"M 189.424703 93.118125 \nL 190.148441 93.118125 \nL 190.148441 84.333417 \nL 189.424703 84.333417 \nz\n\" style=\"fill:#0000ff;stroke:#000000;stroke-linejoin:miter;\"/>\n   </g>\n   <g id=\"patch_167\">\n    <path clip-path=\"url(#p48a3ed9223)\" d=\"M 190.148441 93.118125 \nL 190.872178 93.118125 \nL 190.872178 78.397803 \nL 190.148441 78.397803 \nz\n\" style=\"fill:#0000ff;stroke:#000000;stroke-linejoin:miter;\"/>\n   </g>\n   <g id=\"patch_168\">\n    <path clip-path=\"url(#p48a3ed9223)\" d=\"M 190.872178 93.118125 \nL 191.595915 93.118125 \nL 191.595915 83.858568 \nL 190.872178 83.858568 \nz\n\" style=\"fill:#0000ff;stroke:#000000;stroke-linejoin:miter;\"/>\n   </g>\n   <g id=\"patch_169\">\n    <path clip-path=\"url(#p48a3ed9223)\" d=\"M 191.595915 93.118125 \nL 192.319653 93.118125 \nL 192.319653 93.118125 \nL 191.595915 93.118125 \nz\n\" style=\"fill:#0000ff;stroke:#000000;stroke-linejoin:miter;\"/>\n   </g>\n   <g id=\"patch_170\">\n    <path clip-path=\"url(#p48a3ed9223)\" d=\"M 192.319653 93.118125 \nL 193.04339 93.118125 \nL 193.04339 80.297199 \nL 192.319653 80.297199 \nz\n\" style=\"fill:#0000ff;stroke:#000000;stroke-linejoin:miter;\"/>\n   </g>\n   <g id=\"patch_171\">\n    <path clip-path=\"url(#p48a3ed9223)\" d=\"M 193.04339 93.118125 \nL 193.767128 93.118125 \nL 193.767128 93.118125 \nL 193.04339 93.118125 \nz\n\" style=\"fill:#0000ff;stroke:#000000;stroke-linejoin:miter;\"/>\n   </g>\n   <g id=\"patch_172\">\n    <path clip-path=\"url(#p48a3ed9223)\" d=\"M 193.767128 93.118125 \nL 194.490865 93.118125 \nL 194.490865 91.931002 \nL 193.767128 91.931002 \nz\n\" style=\"fill:#0000ff;stroke:#000000;stroke-linejoin:miter;\"/>\n   </g>\n   <g id=\"patch_173\">\n    <path clip-path=\"url(#p48a3ed9223)\" d=\"M 194.490865 93.118125 \nL 195.214602 93.118125 \nL 195.214602 68.900821 \nL 194.490865 68.900821 \nz\n\" style=\"fill:#0000ff;stroke:#000000;stroke-linejoin:miter;\"/>\n   </g>\n   <g id=\"patch_174\">\n    <path clip-path=\"url(#p48a3ed9223)\" d=\"M 195.214602 93.118125 \nL 195.93834 93.118125 \nL 195.93834 89.081908 \nL 195.214602 89.081908 \nz\n\" style=\"fill:#0000ff;stroke:#000000;stroke-linejoin:miter;\"/>\n   </g>\n   <g id=\"patch_175\">\n    <path clip-path=\"url(#p48a3ed9223)\" d=\"M 195.93834 93.118125 \nL 196.662077 93.118125 \nL 196.662077 84.808266 \nL 195.93834 84.808266 \nz\n\" style=\"fill:#0000ff;stroke:#000000;stroke-linejoin:miter;\"/>\n   </g>\n   <g id=\"patch_176\">\n    <path clip-path=\"url(#p48a3ed9223)\" d=\"M 196.662077 93.118125 \nL 197.385814 93.118125 \nL 197.385814 93.118125 \nL 196.662077 93.118125 \nz\n\" style=\"fill:#0000ff;stroke:#000000;stroke-linejoin:miter;\"/>\n   </g>\n   <g id=\"patch_177\">\n    <path clip-path=\"url(#p48a3ed9223)\" d=\"M 197.385814 93.118125 \nL 198.109552 93.118125 \nL 198.109552 93.118125 \nL 197.385814 93.118125 \nz\n\" style=\"fill:#0000ff;stroke:#000000;stroke-linejoin:miter;\"/>\n   </g>\n   <g id=\"patch_178\">\n    <path clip-path=\"url(#p48a3ed9223)\" d=\"M 198.109552 93.118125 \nL 198.833289 93.118125 \nL 198.833289 93.118125 \nL 198.109552 93.118125 \nz\n\" style=\"fill:#0000ff;stroke:#000000;stroke-linejoin:miter;\"/>\n   </g>\n   <g id=\"patch_179\">\n    <path clip-path=\"url(#p48a3ed9223)\" d=\"M 198.833289 93.118125 \nL 199.557027 93.118125 \nL 199.557027 93.118125 \nL 198.833289 93.118125 \nz\n\" style=\"fill:#0000ff;stroke:#000000;stroke-linejoin:miter;\"/>\n   </g>\n   <g id=\"patch_180\">\n    <path clip-path=\"url(#p48a3ed9223)\" d=\"M 199.557027 93.118125 \nL 200.280764 93.118125 \nL 200.280764 83.621143 \nL 199.557027 83.621143 \nz\n\" style=\"fill:#0000ff;stroke:#000000;stroke-linejoin:miter;\"/>\n   </g>\n   <g id=\"patch_181\">\n    <path clip-path=\"url(#p48a3ed9223)\" d=\"M 200.280764 93.118125 \nL 201.004501 93.118125 \nL 201.004501 93.118125 \nL 200.280764 93.118125 \nz\n\" style=\"fill:#0000ff;stroke:#000000;stroke-linejoin:miter;\"/>\n   </g>\n   <g id=\"patch_182\">\n    <path clip-path=\"url(#p48a3ed9223)\" d=\"M 201.004501 93.118125 \nL 201.728239 93.118125 \nL 201.728239 90.74388 \nL 201.004501 90.74388 \nz\n\" style=\"fill:#0000ff;stroke:#000000;stroke-linejoin:miter;\"/>\n   </g>\n   <g id=\"matplotlib.axis_1\">\n    <g id=\"xtick_1\">\n     <g id=\"line2d_1\">\n      <defs>\n       <path d=\"M 0 0 \nL 0 3.5 \n\" id=\"m38d0d61ca5\" style=\"stroke:#000000;stroke-width:0.8;\"/>\n      </defs>\n      <g>\n       <use style=\"stroke:#000000;stroke-width:0.8;\" x=\"71.440811\" xlink:href=\"#m38d0d61ca5\" y=\"93.118125\"/>\n      </g>\n     </g>\n     <g id=\"text_1\">\n      <!-- 0.0 -->\n      <g transform=\"translate(63.489248 107.716563)scale(0.1 -0.1)\">\n       <defs>\n        <path d=\"M 31.78125 66.40625 \nQ 24.171875 66.40625 20.328125 58.90625 \nQ 16.5 51.421875 16.5 36.375 \nQ 16.5 21.390625 20.328125 13.890625 \nQ 24.171875 6.390625 31.78125 6.390625 \nQ 39.453125 6.390625 43.28125 13.890625 \nQ 47.125 21.390625 47.125 36.375 \nQ 47.125 51.421875 43.28125 58.90625 \nQ 39.453125 66.40625 31.78125 66.40625 \nz\nM 31.78125 74.21875 \nQ 44.046875 74.21875 50.515625 64.515625 \nQ 56.984375 54.828125 56.984375 36.375 \nQ 56.984375 17.96875 50.515625 8.265625 \nQ 44.046875 -1.421875 31.78125 -1.421875 \nQ 19.53125 -1.421875 13.0625 8.265625 \nQ 6.59375 17.96875 6.59375 36.375 \nQ 6.59375 54.828125 13.0625 64.515625 \nQ 19.53125 74.21875 31.78125 74.21875 \nz\n\" id=\"DejaVuSans-48\"/>\n        <path d=\"M 10.6875 12.40625 \nL 21 12.40625 \nL 21 0 \nL 10.6875 0 \nz\n\" id=\"DejaVuSans-46\"/>\n       </defs>\n       <use xlink:href=\"#DejaVuSans-48\"/>\n       <use x=\"63.623047\" xlink:href=\"#DejaVuSans-46\"/>\n       <use x=\"95.410156\" xlink:href=\"#DejaVuSans-48\"/>\n      </g>\n     </g>\n    </g>\n    <g id=\"xtick_2\">\n     <g id=\"line2d_2\">\n      <g>\n       <use style=\"stroke:#000000;stroke-width:0.8;\" x=\"140.275921\" xlink:href=\"#m38d0d61ca5\" y=\"93.118125\"/>\n      </g>\n     </g>\n     <g id=\"text_2\">\n      <!-- 0.5 -->\n      <g transform=\"translate(132.324358 107.716563)scale(0.1 -0.1)\">\n       <defs>\n        <path d=\"M 10.796875 72.90625 \nL 49.515625 72.90625 \nL 49.515625 64.59375 \nL 19.828125 64.59375 \nL 19.828125 46.734375 \nQ 21.96875 47.46875 24.109375 47.828125 \nQ 26.265625 48.1875 28.421875 48.1875 \nQ 40.625 48.1875 47.75 41.5 \nQ 54.890625 34.8125 54.890625 23.390625 \nQ 54.890625 11.625 47.5625 5.09375 \nQ 40.234375 -1.421875 26.90625 -1.421875 \nQ 22.3125 -1.421875 17.546875 -0.640625 \nQ 12.796875 0.140625 7.71875 1.703125 \nL 7.71875 11.625 \nQ 12.109375 9.234375 16.796875 8.0625 \nQ 21.484375 6.890625 26.703125 6.890625 \nQ 35.15625 6.890625 40.078125 11.328125 \nQ 45.015625 15.765625 45.015625 23.390625 \nQ 45.015625 31 40.078125 35.4375 \nQ 35.15625 39.890625 26.703125 39.890625 \nQ 22.75 39.890625 18.8125 39.015625 \nQ 14.890625 38.140625 10.796875 36.28125 \nz\n\" id=\"DejaVuSans-53\"/>\n       </defs>\n       <use xlink:href=\"#DejaVuSans-48\"/>\n       <use x=\"63.623047\" xlink:href=\"#DejaVuSans-46\"/>\n       <use x=\"95.410156\" xlink:href=\"#DejaVuSans-53\"/>\n      </g>\n     </g>\n    </g>\n    <g id=\"text_3\">\n     <!-- Delay (min) -->\n     <g transform=\"translate(72.224688 130.512813)scale(0.22 -0.22)\">\n      <defs>\n       <path d=\"M 19.671875 64.796875 \nL 19.671875 8.109375 \nL 31.59375 8.109375 \nQ 46.6875 8.109375 53.6875 14.9375 \nQ 60.6875 21.78125 60.6875 36.53125 \nQ 60.6875 51.171875 53.6875 57.984375 \nQ 46.6875 64.796875 31.59375 64.796875 \nz\nM 9.8125 72.90625 \nL 30.078125 72.90625 \nQ 51.265625 72.90625 61.171875 64.09375 \nQ 71.09375 55.28125 71.09375 36.53125 \nQ 71.09375 17.671875 61.125 8.828125 \nQ 51.171875 0 30.078125 0 \nL 9.8125 0 \nz\n\" id=\"DejaVuSans-68\"/>\n       <path d=\"M 56.203125 29.59375 \nL 56.203125 25.203125 \nL 14.890625 25.203125 \nQ 15.484375 15.921875 20.484375 11.0625 \nQ 25.484375 6.203125 34.421875 6.203125 \nQ 39.59375 6.203125 44.453125 7.46875 \nQ 49.3125 8.734375 54.109375 11.28125 \nL 54.109375 2.78125 \nQ 49.265625 0.734375 44.1875 -0.34375 \nQ 39.109375 -1.421875 33.890625 -1.421875 \nQ 20.796875 -1.421875 13.15625 6.1875 \nQ 5.515625 13.8125 5.515625 26.8125 \nQ 5.515625 40.234375 12.765625 48.109375 \nQ 20.015625 56 32.328125 56 \nQ 43.359375 56 49.78125 48.890625 \nQ 56.203125 41.796875 56.203125 29.59375 \nz\nM 47.21875 32.234375 \nQ 47.125 39.59375 43.09375 43.984375 \nQ 39.0625 48.390625 32.421875 48.390625 \nQ 24.90625 48.390625 20.390625 44.140625 \nQ 15.875 39.890625 15.1875 32.171875 \nz\n\" id=\"DejaVuSans-101\"/>\n       <path d=\"M 9.421875 75.984375 \nL 18.40625 75.984375 \nL 18.40625 0 \nL 9.421875 0 \nz\n\" id=\"DejaVuSans-108\"/>\n       <path d=\"M 34.28125 27.484375 \nQ 23.390625 27.484375 19.1875 25 \nQ 14.984375 22.515625 14.984375 16.5 \nQ 14.984375 11.71875 18.140625 8.90625 \nQ 21.296875 6.109375 26.703125 6.109375 \nQ 34.1875 6.109375 38.703125 11.40625 \nQ 43.21875 16.703125 43.21875 25.484375 \nL 43.21875 27.484375 \nz\nM 52.203125 31.203125 \nL 52.203125 0 \nL 43.21875 0 \nL 43.21875 8.296875 \nQ 40.140625 3.328125 35.546875 0.953125 \nQ 30.953125 -1.421875 24.3125 -1.421875 \nQ 15.921875 -1.421875 10.953125 3.296875 \nQ 6 8.015625 6 15.921875 \nQ 6 25.140625 12.171875 29.828125 \nQ 18.359375 34.515625 30.609375 34.515625 \nL 43.21875 34.515625 \nL 43.21875 35.40625 \nQ 43.21875 41.609375 39.140625 45 \nQ 35.0625 48.390625 27.6875 48.390625 \nQ 23 48.390625 18.546875 47.265625 \nQ 14.109375 46.140625 10.015625 43.890625 \nL 10.015625 52.203125 \nQ 14.9375 54.109375 19.578125 55.046875 \nQ 24.21875 56 28.609375 56 \nQ 40.484375 56 46.34375 49.84375 \nQ 52.203125 43.703125 52.203125 31.203125 \nz\n\" id=\"DejaVuSans-97\"/>\n       <path d=\"M 32.171875 -5.078125 \nQ 28.375 -14.84375 24.75 -17.8125 \nQ 21.140625 -20.796875 15.09375 -20.796875 \nL 7.90625 -20.796875 \nL 7.90625 -13.28125 \nL 13.1875 -13.28125 \nQ 16.890625 -13.28125 18.9375 -11.515625 \nQ 21 -9.765625 23.484375 -3.21875 \nL 25.09375 0.875 \nL 2.984375 54.6875 \nL 12.5 54.6875 \nL 29.59375 11.921875 \nL 46.6875 54.6875 \nL 56.203125 54.6875 \nz\n\" id=\"DejaVuSans-121\"/>\n       <path id=\"DejaVuSans-32\"/>\n       <path d=\"M 31 75.875 \nQ 24.46875 64.65625 21.28125 53.65625 \nQ 18.109375 42.671875 18.109375 31.390625 \nQ 18.109375 20.125 21.3125 9.0625 \nQ 24.515625 -2 31 -13.1875 \nL 23.1875 -13.1875 \nQ 15.875 -1.703125 12.234375 9.375 \nQ 8.59375 20.453125 8.59375 31.390625 \nQ 8.59375 42.28125 12.203125 53.3125 \nQ 15.828125 64.359375 23.1875 75.875 \nz\n\" id=\"DejaVuSans-40\"/>\n       <path d=\"M 52 44.1875 \nQ 55.375 50.25 60.0625 53.125 \nQ 64.75 56 71.09375 56 \nQ 79.640625 56 84.28125 50.015625 \nQ 88.921875 44.046875 88.921875 33.015625 \nL 88.921875 0 \nL 79.890625 0 \nL 79.890625 32.71875 \nQ 79.890625 40.578125 77.09375 44.375 \nQ 74.3125 48.1875 68.609375 48.1875 \nQ 61.625 48.1875 57.5625 43.546875 \nQ 53.515625 38.921875 53.515625 30.90625 \nL 53.515625 0 \nL 44.484375 0 \nL 44.484375 32.71875 \nQ 44.484375 40.625 41.703125 44.40625 \nQ 38.921875 48.1875 33.109375 48.1875 \nQ 26.21875 48.1875 22.15625 43.53125 \nQ 18.109375 38.875 18.109375 30.90625 \nL 18.109375 0 \nL 9.078125 0 \nL 9.078125 54.6875 \nL 18.109375 54.6875 \nL 18.109375 46.1875 \nQ 21.1875 51.21875 25.484375 53.609375 \nQ 29.78125 56 35.6875 56 \nQ 41.65625 56 45.828125 52.96875 \nQ 50 49.953125 52 44.1875 \nz\n\" id=\"DejaVuSans-109\"/>\n       <path d=\"M 9.421875 54.6875 \nL 18.40625 54.6875 \nL 18.40625 0 \nL 9.421875 0 \nz\nM 9.421875 75.984375 \nL 18.40625 75.984375 \nL 18.40625 64.59375 \nL 9.421875 64.59375 \nz\n\" id=\"DejaVuSans-105\"/>\n       <path d=\"M 54.890625 33.015625 \nL 54.890625 0 \nL 45.90625 0 \nL 45.90625 32.71875 \nQ 45.90625 40.484375 42.875 44.328125 \nQ 39.84375 48.1875 33.796875 48.1875 \nQ 26.515625 48.1875 22.3125 43.546875 \nQ 18.109375 38.921875 18.109375 30.90625 \nL 18.109375 0 \nL 9.078125 0 \nL 9.078125 54.6875 \nL 18.109375 54.6875 \nL 18.109375 46.1875 \nQ 21.34375 51.125 25.703125 53.5625 \nQ 30.078125 56 35.796875 56 \nQ 45.21875 56 50.046875 50.171875 \nQ 54.890625 44.34375 54.890625 33.015625 \nz\n\" id=\"DejaVuSans-110\"/>\n       <path d=\"M 8.015625 75.875 \nL 15.828125 75.875 \nQ 23.140625 64.359375 26.78125 53.3125 \nQ 30.421875 42.28125 30.421875 31.390625 \nQ 30.421875 20.453125 26.78125 9.375 \nQ 23.140625 -1.703125 15.828125 -13.1875 \nL 8.015625 -13.1875 \nQ 14.5 -2 17.703125 9.0625 \nQ 20.90625 20.125 20.90625 31.390625 \nQ 20.90625 42.671875 17.703125 53.65625 \nQ 14.5 64.65625 8.015625 75.875 \nz\n\" id=\"DejaVuSans-41\"/>\n      </defs>\n      <use xlink:href=\"#DejaVuSans-68\"/>\n      <use x=\"77.001953\" xlink:href=\"#DejaVuSans-101\"/>\n      <use x=\"138.525391\" xlink:href=\"#DejaVuSans-108\"/>\n      <use x=\"166.308594\" xlink:href=\"#DejaVuSans-97\"/>\n      <use x=\"227.587891\" xlink:href=\"#DejaVuSans-121\"/>\n      <use x=\"286.767578\" xlink:href=\"#DejaVuSans-32\"/>\n      <use x=\"318.554688\" xlink:href=\"#DejaVuSans-40\"/>\n      <use x=\"357.568359\" xlink:href=\"#DejaVuSans-109\"/>\n      <use x=\"454.980469\" xlink:href=\"#DejaVuSans-105\"/>\n      <use x=\"482.763672\" xlink:href=\"#DejaVuSans-110\"/>\n      <use x=\"546.142578\" xlink:href=\"#DejaVuSans-41\"/>\n     </g>\n    </g>\n   </g>\n   <g id=\"matplotlib.axis_2\">\n    <g id=\"ytick_1\">\n     <g id=\"line2d_3\">\n      <defs>\n       <path d=\"M 0 0 \nL -3.5 0 \n\" id=\"ma8f40bbefa\" style=\"stroke:#000000;stroke-width:0.8;\"/>\n      </defs>\n      <g>\n       <use style=\"stroke:#000000;stroke-width:0.8;\" x=\"64.941875\" xlink:href=\"#ma8f40bbefa\" y=\"93.118125\"/>\n      </g>\n     </g>\n     <g id=\"text_4\">\n      <!-- 0 -->\n      <g transform=\"translate(51.579375 96.917344)scale(0.1 -0.1)\">\n       <use xlink:href=\"#DejaVuSans-48\"/>\n      </g>\n     </g>\n    </g>\n    <g id=\"ytick_2\">\n     <g id=\"line2d_4\">\n      <g>\n       <use style=\"stroke:#000000;stroke-width:0.8;\" x=\"64.941875\" xlink:href=\"#ma8f40bbefa\" y=\"69.37567\"/>\n      </g>\n     </g>\n     <g id=\"text_5\">\n      <!-- 100 -->\n      <g transform=\"translate(38.854375 73.174889)scale(0.1 -0.1)\">\n       <defs>\n        <path d=\"M 12.40625 8.296875 \nL 28.515625 8.296875 \nL 28.515625 63.921875 \nL 10.984375 60.40625 \nL 10.984375 69.390625 \nL 28.421875 72.90625 \nL 38.28125 72.90625 \nL 38.28125 8.296875 \nL 54.390625 8.296875 \nL 54.390625 0 \nL 12.40625 0 \nz\n\" id=\"DejaVuSans-49\"/>\n       </defs>\n       <use xlink:href=\"#DejaVuSans-49\"/>\n       <use x=\"63.623047\" xlink:href=\"#DejaVuSans-48\"/>\n       <use x=\"127.246094\" xlink:href=\"#DejaVuSans-48\"/>\n      </g>\n     </g>\n    </g>\n    <g id=\"ytick_3\">\n     <g id=\"line2d_5\">\n      <g>\n       <use style=\"stroke:#000000;stroke-width:0.8;\" x=\"64.941875\" xlink:href=\"#ma8f40bbefa\" y=\"45.633216\"/>\n      </g>\n     </g>\n     <g id=\"text_6\">\n      <!-- 200 -->\n      <g transform=\"translate(38.854375 49.432434)scale(0.1 -0.1)\">\n       <defs>\n        <path d=\"M 19.1875 8.296875 \nL 53.609375 8.296875 \nL 53.609375 0 \nL 7.328125 0 \nL 7.328125 8.296875 \nQ 12.9375 14.109375 22.625 23.890625 \nQ 32.328125 33.6875 34.8125 36.53125 \nQ 39.546875 41.84375 41.421875 45.53125 \nQ 43.3125 49.21875 43.3125 52.78125 \nQ 43.3125 58.59375 39.234375 62.25 \nQ 35.15625 65.921875 28.609375 65.921875 \nQ 23.96875 65.921875 18.8125 64.3125 \nQ 13.671875 62.703125 7.8125 59.421875 \nL 7.8125 69.390625 \nQ 13.765625 71.78125 18.9375 73 \nQ 24.125 74.21875 28.421875 74.21875 \nQ 39.75 74.21875 46.484375 68.546875 \nQ 53.21875 62.890625 53.21875 53.421875 \nQ 53.21875 48.921875 51.53125 44.890625 \nQ 49.859375 40.875 45.40625 35.40625 \nQ 44.1875 33.984375 37.640625 27.21875 \nQ 31.109375 20.453125 19.1875 8.296875 \nz\n\" id=\"DejaVuSans-50\"/>\n       </defs>\n       <use xlink:href=\"#DejaVuSans-50\"/>\n       <use x=\"63.623047\" xlink:href=\"#DejaVuSans-48\"/>\n       <use x=\"127.246094\" xlink:href=\"#DejaVuSans-48\"/>\n      </g>\n     </g>\n    </g>\n    <g id=\"text_7\">\n     <!-- Flights -->\n     <g transform=\"translate(30.279063 94.153906)rotate(-90)scale(0.22 -0.22)\">\n      <defs>\n       <path d=\"M 9.8125 72.90625 \nL 51.703125 72.90625 \nL 51.703125 64.59375 \nL 19.671875 64.59375 \nL 19.671875 43.109375 \nL 48.578125 43.109375 \nL 48.578125 34.8125 \nL 19.671875 34.8125 \nL 19.671875 0 \nL 9.8125 0 \nz\n\" id=\"DejaVuSans-70\"/>\n       <path d=\"M 45.40625 27.984375 \nQ 45.40625 37.75 41.375 43.109375 \nQ 37.359375 48.484375 30.078125 48.484375 \nQ 22.859375 48.484375 18.828125 43.109375 \nQ 14.796875 37.75 14.796875 27.984375 \nQ 14.796875 18.265625 18.828125 12.890625 \nQ 22.859375 7.515625 30.078125 7.515625 \nQ 37.359375 7.515625 41.375 12.890625 \nQ 45.40625 18.265625 45.40625 27.984375 \nz\nM 54.390625 6.78125 \nQ 54.390625 -7.171875 48.1875 -13.984375 \nQ 42 -20.796875 29.203125 -20.796875 \nQ 24.46875 -20.796875 20.265625 -20.09375 \nQ 16.0625 -19.390625 12.109375 -17.921875 \nL 12.109375 -9.1875 \nQ 16.0625 -11.328125 19.921875 -12.34375 \nQ 23.78125 -13.375 27.78125 -13.375 \nQ 36.625 -13.375 41.015625 -8.765625 \nQ 45.40625 -4.15625 45.40625 5.171875 \nL 45.40625 9.625 \nQ 42.625 4.78125 38.28125 2.390625 \nQ 33.9375 0 27.875 0 \nQ 17.828125 0 11.671875 7.65625 \nQ 5.515625 15.328125 5.515625 27.984375 \nQ 5.515625 40.671875 11.671875 48.328125 \nQ 17.828125 56 27.875 56 \nQ 33.9375 56 38.28125 53.609375 \nQ 42.625 51.21875 45.40625 46.390625 \nL 45.40625 54.6875 \nL 54.390625 54.6875 \nz\n\" id=\"DejaVuSans-103\"/>\n       <path d=\"M 54.890625 33.015625 \nL 54.890625 0 \nL 45.90625 0 \nL 45.90625 32.71875 \nQ 45.90625 40.484375 42.875 44.328125 \nQ 39.84375 48.1875 33.796875 48.1875 \nQ 26.515625 48.1875 22.3125 43.546875 \nQ 18.109375 38.921875 18.109375 30.90625 \nL 18.109375 0 \nL 9.078125 0 \nL 9.078125 75.984375 \nL 18.109375 75.984375 \nL 18.109375 46.1875 \nQ 21.34375 51.125 25.703125 53.5625 \nQ 30.078125 56 35.796875 56 \nQ 45.21875 56 50.046875 50.171875 \nQ 54.890625 44.34375 54.890625 33.015625 \nz\n\" id=\"DejaVuSans-104\"/>\n       <path d=\"M 18.3125 70.21875 \nL 18.3125 54.6875 \nL 36.8125 54.6875 \nL 36.8125 47.703125 \nL 18.3125 47.703125 \nL 18.3125 18.015625 \nQ 18.3125 11.328125 20.140625 9.421875 \nQ 21.96875 7.515625 27.59375 7.515625 \nL 36.8125 7.515625 \nL 36.8125 0 \nL 27.59375 0 \nQ 17.1875 0 13.234375 3.875 \nQ 9.28125 7.765625 9.28125 18.015625 \nL 9.28125 47.703125 \nL 2.6875 47.703125 \nL 2.6875 54.6875 \nL 9.28125 54.6875 \nL 9.28125 70.21875 \nz\n\" id=\"DejaVuSans-116\"/>\n       <path d=\"M 44.28125 53.078125 \nL 44.28125 44.578125 \nQ 40.484375 46.53125 36.375 47.5 \nQ 32.28125 48.484375 27.875 48.484375 \nQ 21.1875 48.484375 17.84375 46.4375 \nQ 14.5 44.390625 14.5 40.28125 \nQ 14.5 37.15625 16.890625 35.375 \nQ 19.28125 33.59375 26.515625 31.984375 \nL 29.59375 31.296875 \nQ 39.15625 29.25 43.1875 25.515625 \nQ 47.21875 21.78125 47.21875 15.09375 \nQ 47.21875 7.46875 41.1875 3.015625 \nQ 35.15625 -1.421875 24.609375 -1.421875 \nQ 20.21875 -1.421875 15.453125 -0.5625 \nQ 10.6875 0.296875 5.421875 2 \nL 5.421875 11.28125 \nQ 10.40625 8.6875 15.234375 7.390625 \nQ 20.0625 6.109375 24.8125 6.109375 \nQ 31.15625 6.109375 34.5625 8.28125 \nQ 37.984375 10.453125 37.984375 14.40625 \nQ 37.984375 18.0625 35.515625 20.015625 \nQ 33.0625 21.96875 24.703125 23.78125 \nL 21.578125 24.515625 \nQ 13.234375 26.265625 9.515625 29.90625 \nQ 5.8125 33.546875 5.8125 39.890625 \nQ 5.8125 47.609375 11.28125 51.796875 \nQ 16.75 56 26.8125 56 \nQ 31.78125 56 36.171875 55.265625 \nQ 40.578125 54.546875 44.28125 53.078125 \nz\n\" id=\"DejaVuSans-115\"/>\n      </defs>\n      <use xlink:href=\"#DejaVuSans-70\"/>\n      <use x=\"57.519531\" xlink:href=\"#DejaVuSans-108\"/>\n      <use x=\"85.302734\" xlink:href=\"#DejaVuSans-105\"/>\n      <use x=\"113.085938\" xlink:href=\"#DejaVuSans-103\"/>\n      <use x=\"176.5625\" xlink:href=\"#DejaVuSans-104\"/>\n      <use x=\"239.941406\" xlink:href=\"#DejaVuSans-116\"/>\n      <use x=\"279.150391\" xlink:href=\"#DejaVuSans-115\"/>\n     </g>\n    </g>\n   </g>\n   <g id=\"patch_183\">\n    <path d=\"M 64.941875 93.118125 \nL 64.941875 22.318125 \n\" style=\"fill:none;stroke:#000000;stroke-linecap:square;stroke-linejoin:miter;stroke-width:0.8;\"/>\n   </g>\n   <g id=\"patch_184\">\n    <path d=\"M 208.241875 93.118125 \nL 208.241875 22.318125 \n\" style=\"fill:none;stroke:#000000;stroke-linecap:square;stroke-linejoin:miter;stroke-width:0.8;\"/>\n   </g>\n   <g id=\"patch_185\">\n    <path d=\"M 64.941875 93.118125 \nL 208.241875 93.118125 \n\" style=\"fill:none;stroke:#000000;stroke-linecap:square;stroke-linejoin:miter;stroke-width:0.8;\"/>\n   </g>\n   <g id=\"patch_186\">\n    <path d=\"M 64.941875 22.318125 \nL 208.241875 22.318125 \n\" style=\"fill:none;stroke:#000000;stroke-linecap:square;stroke-linejoin:miter;stroke-width:0.8;\"/>\n   </g>\n   <g id=\"text_8\">\n    <!-- Histogram -->\n    <g transform=\"translate(105.466875 16.318125)scale(0.12 -0.12)\">\n     <defs>\n      <path d=\"M 9.8125 72.90625 \nL 19.671875 72.90625 \nL 19.671875 43.015625 \nL 55.515625 43.015625 \nL 55.515625 72.90625 \nL 65.375 72.90625 \nL 65.375 0 \nL 55.515625 0 \nL 55.515625 34.71875 \nL 19.671875 34.71875 \nL 19.671875 0 \nL 9.8125 0 \nz\n\" id=\"DejaVuSans-72\"/>\n      <path d=\"M 30.609375 48.390625 \nQ 23.390625 48.390625 19.1875 42.75 \nQ 14.984375 37.109375 14.984375 27.296875 \nQ 14.984375 17.484375 19.15625 11.84375 \nQ 23.34375 6.203125 30.609375 6.203125 \nQ 37.796875 6.203125 41.984375 11.859375 \nQ 46.1875 17.53125 46.1875 27.296875 \nQ 46.1875 37.015625 41.984375 42.703125 \nQ 37.796875 48.390625 30.609375 48.390625 \nz\nM 30.609375 56 \nQ 42.328125 56 49.015625 48.375 \nQ 55.71875 40.765625 55.71875 27.296875 \nQ 55.71875 13.875 49.015625 6.21875 \nQ 42.328125 -1.421875 30.609375 -1.421875 \nQ 18.84375 -1.421875 12.171875 6.21875 \nQ 5.515625 13.875 5.515625 27.296875 \nQ 5.515625 40.765625 12.171875 48.375 \nQ 18.84375 56 30.609375 56 \nz\n\" id=\"DejaVuSans-111\"/>\n      <path d=\"M 41.109375 46.296875 \nQ 39.59375 47.171875 37.8125 47.578125 \nQ 36.03125 48 33.890625 48 \nQ 26.265625 48 22.1875 43.046875 \nQ 18.109375 38.09375 18.109375 28.8125 \nL 18.109375 0 \nL 9.078125 0 \nL 9.078125 54.6875 \nL 18.109375 54.6875 \nL 18.109375 46.1875 \nQ 20.953125 51.171875 25.484375 53.578125 \nQ 30.03125 56 36.53125 56 \nQ 37.453125 56 38.578125 55.875 \nQ 39.703125 55.765625 41.0625 55.515625 \nz\n\" id=\"DejaVuSans-114\"/>\n     </defs>\n     <use xlink:href=\"#DejaVuSans-72\"/>\n     <use x=\"75.195312\" xlink:href=\"#DejaVuSans-105\"/>\n     <use x=\"102.978516\" xlink:href=\"#DejaVuSans-115\"/>\n     <use x=\"155.078125\" xlink:href=\"#DejaVuSans-116\"/>\n     <use x=\"194.287109\" xlink:href=\"#DejaVuSans-111\"/>\n     <use x=\"255.46875\" xlink:href=\"#DejaVuSans-103\"/>\n     <use x=\"318.945312\" xlink:href=\"#DejaVuSans-114\"/>\n     <use x=\"360.058594\" xlink:href=\"#DejaVuSans-97\"/>\n     <use x=\"421.337891\" xlink:href=\"#DejaVuSans-109\"/>\n    </g>\n   </g>\n  </g>\n  <g id=\"axes_2\">\n   <g id=\"patch_187\">\n    <path d=\"M 275.541875 93.118125 \nL 418.841875 93.118125 \nL 418.841875 22.318125 \nL 275.541875 22.318125 \nz\n\" style=\"fill:#ffffff;\"/>\n   </g>\n   <g id=\"patch_188\">\n    <path clip-path=\"url(#p2d60348771)\" d=\"M 282.055511 93.118125 \nL 285.674198 93.118125 \nL 285.674198 72.977123 \nL 282.055511 72.977123 \nz\n\" style=\"fill:#0000ff;stroke:#000000;stroke-linejoin:miter;\"/>\n   </g>\n   <g id=\"patch_189\">\n    <path clip-path=\"url(#p2d60348771)\" d=\"M 285.674198 93.118125 \nL 289.292885 93.118125 \nL 289.292885 78.815095 \nL 285.674198 78.815095 \nz\n\" style=\"fill:#0000ff;stroke:#000000;stroke-linejoin:miter;\"/>\n   </g>\n   <g id=\"patch_190\">\n    <path clip-path=\"url(#p2d60348771)\" d=\"M 289.292885 93.118125 \nL 292.911572 93.118125 \nL 292.911572 78.815095 \nL 289.292885 78.815095 \nz\n\" style=\"fill:#0000ff;stroke:#000000;stroke-linejoin:miter;\"/>\n   </g>\n   <g id=\"patch_191\">\n    <path clip-path=\"url(#p2d60348771)\" d=\"M 292.911572 93.118125 \nL 296.530259 93.118125 \nL 296.530259 71.323031 \nL 292.911572 71.323031 \nz\n\" style=\"fill:#0000ff;stroke:#000000;stroke-linejoin:miter;\"/>\n   </g>\n   <g id=\"patch_192\">\n    <path clip-path=\"url(#p2d60348771)\" d=\"M 296.530259 93.118125 \nL 300.148946 93.118125 \nL 300.148946 79.496191 \nL 296.530259 79.496191 \nz\n\" style=\"fill:#0000ff;stroke:#000000;stroke-linejoin:miter;\"/>\n   </g>\n   <g id=\"patch_193\">\n    <path clip-path=\"url(#p2d60348771)\" d=\"M 300.148946 93.118125 \nL 303.767633 93.118125 \nL 303.767633 73.463621 \nL 300.148946 73.463621 \nz\n\" style=\"fill:#0000ff;stroke:#000000;stroke-linejoin:miter;\"/>\n   </g>\n   <g id=\"patch_194\">\n    <path clip-path=\"url(#p2d60348771)\" d=\"M 303.767633 93.118125 \nL 307.386319 93.118125 \nL 307.386319 61.884977 \nL 303.767633 61.884977 \nz\n\" style=\"fill:#0000ff;stroke:#000000;stroke-linejoin:miter;\"/>\n   </g>\n   <g id=\"patch_195\">\n    <path clip-path=\"url(#p2d60348771)\" d=\"M 307.386319 93.118125 \nL 311.005006 93.118125 \nL 311.005006 62.079576 \nL 307.386319 62.079576 \nz\n\" style=\"fill:#0000ff;stroke:#000000;stroke-linejoin:miter;\"/>\n   </g>\n   <g id=\"patch_196\">\n    <path clip-path=\"url(#p2d60348771)\" d=\"M 311.005006 93.118125 \nL 314.623693 93.118125 \nL 314.623693 55.365909 \nL 311.005006 55.365909 \nz\n\" style=\"fill:#0000ff;stroke:#000000;stroke-linejoin:miter;\"/>\n   </g>\n   <g id=\"patch_197\">\n    <path clip-path=\"url(#p2d60348771)\" d=\"M 314.623693 93.118125 \nL 318.24238 93.118125 \nL 318.24238 49.625237 \nL 314.623693 49.625237 \nz\n\" style=\"fill:#0000ff;stroke:#000000;stroke-linejoin:miter;\"/>\n   </g>\n   <g id=\"patch_198\">\n    <path clip-path=\"url(#p2d60348771)\" d=\"M 318.24238 93.118125 \nL 321.861067 93.118125 \nL 321.861067 80.663786 \nL 318.24238 80.663786 \nz\n\" style=\"fill:#0000ff;stroke:#000000;stroke-linejoin:miter;\"/>\n   </g>\n   <g id=\"patch_199\">\n    <path clip-path=\"url(#p2d60348771)\" d=\"M 321.861067 93.118125 \nL 325.479754 93.118125 \nL 325.479754 71.61493 \nL 321.861067 71.61493 \nz\n\" style=\"fill:#0000ff;stroke:#000000;stroke-linejoin:miter;\"/>\n   </g>\n   <g id=\"patch_200\">\n    <path clip-path=\"url(#p2d60348771)\" d=\"M 325.479754 93.118125 \nL 329.098441 93.118125 \nL 329.098441 60.911982 \nL 325.479754 60.911982 \nz\n\" style=\"fill:#0000ff;stroke:#000000;stroke-linejoin:miter;\"/>\n   </g>\n   <g id=\"patch_201\">\n    <path clip-path=\"url(#p2d60348771)\" d=\"M 329.098441 93.118125 \nL 332.717128 93.118125 \nL 332.717128 68.112147 \nL 329.098441 68.112147 \nz\n\" style=\"fill:#0000ff;stroke:#000000;stroke-linejoin:miter;\"/>\n   </g>\n   <g id=\"patch_202\">\n    <path clip-path=\"url(#p2d60348771)\" d=\"M 332.717128 93.118125 \nL 336.335814 93.118125 \nL 336.335814 52.057725 \nL 332.717128 52.057725 \nz\n\" style=\"fill:#0000ff;stroke:#000000;stroke-linejoin:miter;\"/>\n   </g>\n   <g id=\"patch_203\">\n    <path clip-path=\"url(#p2d60348771)\" d=\"M 336.335814 93.118125 \nL 339.954501 93.118125 \nL 339.954501 50.500933 \nL 336.335814 50.500933 \nz\n\" style=\"fill:#0000ff;stroke:#000000;stroke-linejoin:miter;\"/>\n   </g>\n   <g id=\"patch_204\">\n    <path clip-path=\"url(#p2d60348771)\" d=\"M 339.954501 93.118125 \nL 343.573188 93.118125 \nL 343.573188 56.728102 \nL 339.954501 56.728102 \nz\n\" style=\"fill:#0000ff;stroke:#000000;stroke-linejoin:miter;\"/>\n   </g>\n   <g id=\"patch_205\">\n    <path clip-path=\"url(#p2d60348771)\" d=\"M 343.573188 93.118125 \nL 347.191875 93.118125 \nL 347.191875 58.284895 \nL 343.573188 58.284895 \nz\n\" style=\"fill:#0000ff;stroke:#000000;stroke-linejoin:miter;\"/>\n   </g>\n   <g id=\"patch_206\">\n    <path clip-path=\"url(#p2d60348771)\" d=\"M 347.191875 93.118125 \nL 350.810562 93.118125 \nL 350.810562 44.760261 \nL 347.191875 44.760261 \nz\n\" style=\"fill:#0000ff;stroke:#000000;stroke-linejoin:miter;\"/>\n   </g>\n   <g id=\"patch_207\">\n    <path clip-path=\"url(#p2d60348771)\" d=\"M 350.810562 93.118125 \nL 354.429249 93.118125 \nL 354.429249 27.149046 \nL 350.810562 27.149046 \nz\n\" style=\"fill:#0000ff;stroke:#000000;stroke-linejoin:miter;\"/>\n   </g>\n   <g id=\"patch_208\">\n    <path clip-path=\"url(#p2d60348771)\" d=\"M 354.429249 93.118125 \nL 358.047936 93.118125 \nL 358.047936 25.689554 \nL 354.429249 25.689554 \nz\n\" style=\"fill:#0000ff;stroke:#000000;stroke-linejoin:miter;\"/>\n   </g>\n   <g id=\"patch_209\">\n    <path clip-path=\"url(#p2d60348771)\" d=\"M 358.047936 93.118125 \nL 361.666622 93.118125 \nL 361.666622 39.992584 \nL 358.047936 39.992584 \nz\n\" style=\"fill:#0000ff;stroke:#000000;stroke-linejoin:miter;\"/>\n   </g>\n   <g id=\"patch_210\">\n    <path clip-path=\"url(#p2d60348771)\" d=\"M 361.666622 93.118125 \nL 365.285309 93.118125 \nL 365.285309 32.889718 \nL 361.666622 32.889718 \nz\n\" style=\"fill:#0000ff;stroke:#000000;stroke-linejoin:miter;\"/>\n   </g>\n   <g id=\"patch_211\">\n    <path clip-path=\"url(#p2d60348771)\" d=\"M 365.285309 93.118125 \nL 368.903996 93.118125 \nL 368.903996 44.273763 \nL 365.285309 44.273763 \nz\n\" style=\"fill:#0000ff;stroke:#000000;stroke-linejoin:miter;\"/>\n   </g>\n   <g id=\"patch_212\">\n    <path clip-path=\"url(#p2d60348771)\" d=\"M 368.903996 93.118125 \nL 372.522683 93.118125 \nL 372.522683 35.030308 \nL 368.903996 35.030308 \nz\n\" style=\"fill:#0000ff;stroke:#000000;stroke-linejoin:miter;\"/>\n   </g>\n   <g id=\"patch_213\">\n    <path clip-path=\"url(#p2d60348771)\" d=\"M 372.522683 93.118125 \nL 376.14137 93.118125 \nL 376.14137 50.890131 \nL 372.522683 50.890131 \nz\n\" style=\"fill:#0000ff;stroke:#000000;stroke-linejoin:miter;\"/>\n   </g>\n   <g id=\"patch_214\">\n    <path clip-path=\"url(#p2d60348771)\" d=\"M 376.14137 93.118125 \nL 379.760057 93.118125 \nL 379.760057 34.349211 \nL 376.14137 34.349211 \nz\n\" style=\"fill:#0000ff;stroke:#000000;stroke-linejoin:miter;\"/>\n   </g>\n   <g id=\"patch_215\">\n    <path clip-path=\"url(#p2d60348771)\" d=\"M 379.760057 93.118125 \nL 383.378744 93.118125 \nL 383.378744 39.311487 \nL 379.760057 39.311487 \nz\n\" style=\"fill:#0000ff;stroke:#000000;stroke-linejoin:miter;\"/>\n   </g>\n   <g id=\"patch_216\">\n    <path clip-path=\"url(#p2d60348771)\" d=\"M 383.378744 93.118125 \nL 386.997431 93.118125 \nL 386.997431 53.614517 \nL 383.378744 53.614517 \nz\n\" style=\"fill:#0000ff;stroke:#000000;stroke-linejoin:miter;\"/>\n   </g>\n   <g id=\"patch_217\">\n    <path clip-path=\"url(#p2d60348771)\" d=\"M 386.997431 93.118125 \nL 390.616117 93.118125 \nL 390.616117 53.517218 \nL 386.997431 53.517218 \nz\n\" style=\"fill:#0000ff;stroke:#000000;stroke-linejoin:miter;\"/>\n   </g>\n   <g id=\"patch_218\">\n    <path clip-path=\"url(#p2d60348771)\" d=\"M 390.616117 93.118125 \nL 394.234804 93.118125 \nL 394.234804 74.825814 \nL 390.616117 74.825814 \nz\n\" style=\"fill:#0000ff;stroke:#000000;stroke-linejoin:miter;\"/>\n   </g>\n   <g id=\"patch_219\">\n    <path clip-path=\"url(#p2d60348771)\" d=\"M 394.234804 93.118125 \nL 397.853491 93.118125 \nL 397.853491 70.933833 \nL 394.234804 70.933833 \nz\n\" style=\"fill:#0000ff;stroke:#000000;stroke-linejoin:miter;\"/>\n   </g>\n   <g id=\"patch_220\">\n    <path clip-path=\"url(#p2d60348771)\" d=\"M 397.853491 93.118125 \nL 401.472178 93.118125 \nL 401.472178 67.041852 \nL 397.853491 67.041852 \nz\n\" style=\"fill:#0000ff;stroke:#000000;stroke-linejoin:miter;\"/>\n   </g>\n   <g id=\"patch_221\">\n    <path clip-path=\"url(#p2d60348771)\" d=\"M 401.472178 93.118125 \nL 405.090865 93.118125 \nL 405.090865 83.582771 \nL 401.472178 83.582771 \nz\n\" style=\"fill:#0000ff;stroke:#000000;stroke-linejoin:miter;\"/>\n   </g>\n   <g id=\"patch_222\">\n    <path clip-path=\"url(#p2d60348771)\" d=\"M 405.090865 93.118125 \nL 408.709552 93.118125 \nL 408.709552 78.133998 \nL 405.090865 78.133998 \nz\n\" style=\"fill:#0000ff;stroke:#000000;stroke-linejoin:miter;\"/>\n   </g>\n   <g id=\"patch_223\">\n    <path clip-path=\"url(#p2d60348771)\" d=\"M 408.709552 93.118125 \nL 412.328239 93.118125 \nL 412.328239 88.253149 \nL 408.709552 88.253149 \nz\n\" style=\"fill:#0000ff;stroke:#000000;stroke-linejoin:miter;\"/>\n   </g>\n   <g id=\"matplotlib.axis_3\">\n    <g id=\"xtick_3\">\n     <g id=\"line2d_6\">\n      <g>\n       <use style=\"stroke:#000000;stroke-width:0.8;\" x=\"282.040811\" xlink:href=\"#m38d0d61ca5\" y=\"93.118125\"/>\n      </g>\n     </g>\n     <g id=\"text_9\">\n      <!-- 0.0 -->\n      <g transform=\"translate(274.089248 107.716563)scale(0.1 -0.1)\">\n       <use xlink:href=\"#DejaVuSans-48\"/>\n       <use x=\"63.623047\" xlink:href=\"#DejaVuSans-46\"/>\n       <use x=\"95.410156\" xlink:href=\"#DejaVuSans-48\"/>\n      </g>\n     </g>\n    </g>\n    <g id=\"xtick_4\">\n     <g id=\"line2d_7\">\n      <g>\n       <use style=\"stroke:#000000;stroke-width:0.8;\" x=\"350.875921\" xlink:href=\"#m38d0d61ca5\" y=\"93.118125\"/>\n      </g>\n     </g>\n     <g id=\"text_10\">\n      <!-- 0.5 -->\n      <g transform=\"translate(342.924358 107.716563)scale(0.1 -0.1)\">\n       <use xlink:href=\"#DejaVuSans-48\"/>\n       <use x=\"63.623047\" xlink:href=\"#DejaVuSans-46\"/>\n       <use x=\"95.410156\" xlink:href=\"#DejaVuSans-53\"/>\n      </g>\n     </g>\n    </g>\n    <g id=\"text_11\">\n     <!-- Delay (min) -->\n     <g transform=\"translate(282.824687 130.512813)scale(0.22 -0.22)\">\n      <use xlink:href=\"#DejaVuSans-68\"/>\n      <use x=\"77.001953\" xlink:href=\"#DejaVuSans-101\"/>\n      <use x=\"138.525391\" xlink:href=\"#DejaVuSans-108\"/>\n      <use x=\"166.308594\" xlink:href=\"#DejaVuSans-97\"/>\n      <use x=\"227.587891\" xlink:href=\"#DejaVuSans-121\"/>\n      <use x=\"286.767578\" xlink:href=\"#DejaVuSans-32\"/>\n      <use x=\"318.554688\" xlink:href=\"#DejaVuSans-40\"/>\n      <use x=\"357.568359\" xlink:href=\"#DejaVuSans-109\"/>\n      <use x=\"454.980469\" xlink:href=\"#DejaVuSans-105\"/>\n      <use x=\"482.763672\" xlink:href=\"#DejaVuSans-110\"/>\n      <use x=\"546.142578\" xlink:href=\"#DejaVuSans-41\"/>\n     </g>\n    </g>\n   </g>\n   <g id=\"matplotlib.axis_4\">\n    <g id=\"ytick_4\">\n     <g id=\"line2d_8\">\n      <g>\n       <use style=\"stroke:#000000;stroke-width:0.8;\" x=\"275.541875\" xlink:href=\"#ma8f40bbefa\" y=\"93.118125\"/>\n      </g>\n     </g>\n     <g id=\"text_12\">\n      <!-- 0 -->\n      <g transform=\"translate(262.179375 96.917344)scale(0.1 -0.1)\">\n       <use xlink:href=\"#DejaVuSans-48\"/>\n      </g>\n     </g>\n    </g>\n    <g id=\"ytick_5\">\n     <g id=\"line2d_9\">\n      <g>\n       <use style=\"stroke:#000000;stroke-width:0.8;\" x=\"275.541875\" xlink:href=\"#ma8f40bbefa\" y=\"68.793244\"/>\n      </g>\n     </g>\n     <g id=\"text_13\">\n      <!-- 250 -->\n      <g transform=\"translate(249.454375 72.592462)scale(0.1 -0.1)\">\n       <use xlink:href=\"#DejaVuSans-50\"/>\n       <use x=\"63.623047\" xlink:href=\"#DejaVuSans-53\"/>\n       <use x=\"127.246094\" xlink:href=\"#DejaVuSans-48\"/>\n      </g>\n     </g>\n    </g>\n    <g id=\"ytick_6\">\n     <g id=\"line2d_10\">\n      <g>\n       <use style=\"stroke:#000000;stroke-width:0.8;\" x=\"275.541875\" xlink:href=\"#ma8f40bbefa\" y=\"44.468362\"/>\n      </g>\n     </g>\n     <g id=\"text_14\">\n      <!-- 500 -->\n      <g transform=\"translate(249.454375 48.267581)scale(0.1 -0.1)\">\n       <use xlink:href=\"#DejaVuSans-53\"/>\n       <use x=\"63.623047\" xlink:href=\"#DejaVuSans-48\"/>\n       <use x=\"127.246094\" xlink:href=\"#DejaVuSans-48\"/>\n      </g>\n     </g>\n    </g>\n    <g id=\"text_15\">\n     <!-- Flights -->\n     <g transform=\"translate(240.879063 94.153906)rotate(-90)scale(0.22 -0.22)\">\n      <use xlink:href=\"#DejaVuSans-70\"/>\n      <use x=\"57.519531\" xlink:href=\"#DejaVuSans-108\"/>\n      <use x=\"85.302734\" xlink:href=\"#DejaVuSans-105\"/>\n      <use x=\"113.085938\" xlink:href=\"#DejaVuSans-103\"/>\n      <use x=\"176.5625\" xlink:href=\"#DejaVuSans-104\"/>\n      <use x=\"239.941406\" xlink:href=\"#DejaVuSans-116\"/>\n      <use x=\"279.150391\" xlink:href=\"#DejaVuSans-115\"/>\n     </g>\n    </g>\n   </g>\n   <g id=\"patch_224\">\n    <path d=\"M 275.541875 93.118125 \nL 275.541875 22.318125 \n\" style=\"fill:none;stroke:#000000;stroke-linecap:square;stroke-linejoin:miter;stroke-width:0.8;\"/>\n   </g>\n   <g id=\"patch_225\">\n    <path d=\"M 418.841875 93.118125 \nL 418.841875 22.318125 \n\" style=\"fill:none;stroke:#000000;stroke-linecap:square;stroke-linejoin:miter;stroke-width:0.8;\"/>\n   </g>\n   <g id=\"patch_226\">\n    <path d=\"M 275.541875 93.118125 \nL 418.841875 93.118125 \n\" style=\"fill:none;stroke:#000000;stroke-linecap:square;stroke-linejoin:miter;stroke-width:0.8;\"/>\n   </g>\n   <g id=\"patch_227\">\n    <path d=\"M 275.541875 22.318125 \nL 418.841875 22.318125 \n\" style=\"fill:none;stroke:#000000;stroke-linecap:square;stroke-linejoin:miter;stroke-width:0.8;\"/>\n   </g>\n   <g id=\"text_16\">\n    <!-- Histogram -->\n    <g transform=\"translate(316.066875 16.318125)scale(0.12 -0.12)\">\n     <use xlink:href=\"#DejaVuSans-72\"/>\n     <use x=\"75.195312\" xlink:href=\"#DejaVuSans-105\"/>\n     <use x=\"102.978516\" xlink:href=\"#DejaVuSans-115\"/>\n     <use x=\"155.078125\" xlink:href=\"#DejaVuSans-116\"/>\n     <use x=\"194.287109\" xlink:href=\"#DejaVuSans-111\"/>\n     <use x=\"255.46875\" xlink:href=\"#DejaVuSans-103\"/>\n     <use x=\"318.945312\" xlink:href=\"#DejaVuSans-114\"/>\n     <use x=\"360.058594\" xlink:href=\"#DejaVuSans-97\"/>\n     <use x=\"421.337891\" xlink:href=\"#DejaVuSans-109\"/>\n    </g>\n   </g>\n  </g>\n  <g id=\"axes_3\">\n   <g id=\"patch_228\">\n    <path d=\"M 64.941875 231.718125 \nL 208.241875 231.718125 \nL 208.241875 160.918125 \nL 64.941875 160.918125 \nz\n\" style=\"fill:#ffffff;\"/>\n   </g>\n   <g id=\"patch_229\">\n    <path clip-path=\"url(#p2853ca57da)\" d=\"M 71.455511 231.718125 \nL 78.692885 231.718125 \nL 78.692885 212.452819 \nL 71.455511 212.452819 \nz\n\" style=\"fill:#0000ff;stroke:#000000;stroke-linejoin:miter;\"/>\n   </g>\n   <g id=\"patch_230\">\n    <path clip-path=\"url(#p2853ca57da)\" d=\"M 78.692885 231.718125 \nL 85.930259 231.718125 \nL 85.930259 211.527649 \nL 78.692885 211.527649 \nz\n\" style=\"fill:#0000ff;stroke:#000000;stroke-linejoin:miter;\"/>\n   </g>\n   <g id=\"patch_231\">\n    <path clip-path=\"url(#p2853ca57da)\" d=\"M 85.930259 231.718125 \nL 93.167633 231.718125 \nL 93.167633 213.10588 \nL 85.930259 213.10588 \nz\n\" style=\"fill:#0000ff;stroke:#000000;stroke-linejoin:miter;\"/>\n   </g>\n   <g id=\"patch_232\">\n    <path clip-path=\"url(#p2853ca57da)\" d=\"M 93.167633 231.718125 \nL 100.405006 231.718125 \nL 100.405006 196.888193 \nL 93.167633 196.888193 \nz\n\" style=\"fill:#0000ff;stroke:#000000;stroke-linejoin:miter;\"/>\n   </g>\n   <g id=\"patch_233\">\n    <path clip-path=\"url(#p2853ca57da)\" d=\"M 100.405006 231.718125 \nL 107.64238 231.718125 \nL 107.64238 186.275948 \nL 100.405006 186.275948 \nz\n\" style=\"fill:#0000ff;stroke:#000000;stroke-linejoin:miter;\"/>\n   </g>\n   <g id=\"patch_234\">\n    <path clip-path=\"url(#p2853ca57da)\" d=\"M 107.64238 231.718125 \nL 114.879754 231.718125 \nL 114.879754 212.724928 \nL 107.64238 212.724928 \nz\n\" style=\"fill:#0000ff;stroke:#000000;stroke-linejoin:miter;\"/>\n   </g>\n   <g id=\"patch_235\">\n    <path clip-path=\"url(#p2853ca57da)\" d=\"M 114.879754 231.718125 \nL 122.117128 231.718125 \nL 122.117128 199.718125 \nL 114.879754 199.718125 \nz\n\" style=\"fill:#0000ff;stroke:#000000;stroke-linejoin:miter;\"/>\n   </g>\n   <g id=\"patch_236\">\n    <path clip-path=\"url(#p2853ca57da)\" d=\"M 122.117128 231.718125 \nL 129.354501 231.718125 \nL 129.354501 184.915404 \nL 122.117128 184.915404 \nz\n\" style=\"fill:#0000ff;stroke:#000000;stroke-linejoin:miter;\"/>\n   </g>\n   <g id=\"patch_237\">\n    <path clip-path=\"url(#p2853ca57da)\" d=\"M 129.354501 231.718125 \nL 136.591875 231.718125 \nL 136.591875 191.88139 \nL 129.354501 191.88139 \nz\n\" style=\"fill:#0000ff;stroke:#000000;stroke-linejoin:miter;\"/>\n   </g>\n   <g id=\"patch_238\">\n    <path clip-path=\"url(#p2853ca57da)\" d=\"M 136.591875 231.718125 \nL 143.829249 231.718125 \nL 143.829249 167.772547 \nL 136.591875 167.772547 \nz\n\" style=\"fill:#0000ff;stroke:#000000;stroke-linejoin:miter;\"/>\n   </g>\n   <g id=\"patch_239\">\n    <path clip-path=\"url(#p2853ca57da)\" d=\"M 143.829249 231.718125 \nL 151.066622 231.718125 \nL 151.066622 164.289554 \nL 143.829249 164.289554 \nz\n\" style=\"fill:#0000ff;stroke:#000000;stroke-linejoin:miter;\"/>\n   </g>\n   <g id=\"patch_240\">\n    <path clip-path=\"url(#p2853ca57da)\" d=\"M 151.066622 231.718125 \nL 158.303996 231.718125 \nL 158.303996 170.711322 \nL 151.066622 170.711322 \nz\n\" style=\"fill:#0000ff;stroke:#000000;stroke-linejoin:miter;\"/>\n   </g>\n   <g id=\"patch_241\">\n    <path clip-path=\"url(#p2853ca57da)\" d=\"M 158.303996 231.718125 \nL 165.54137 231.718125 \nL 165.54137 175.609281 \nL 158.303996 175.609281 \nz\n\" style=\"fill:#0000ff;stroke:#000000;stroke-linejoin:miter;\"/>\n   </g>\n   <g id=\"patch_242\">\n    <path clip-path=\"url(#p2853ca57da)\" d=\"M 165.54137 231.718125 \nL 172.778744 231.718125 \nL 172.778744 168.752139 \nL 165.54137 168.752139 \nz\n\" style=\"fill:#0000ff;stroke:#000000;stroke-linejoin:miter;\"/>\n   </g>\n   <g id=\"patch_243\">\n    <path clip-path=\"url(#p2853ca57da)\" d=\"M 172.778744 231.718125 \nL 180.016117 231.718125 \nL 180.016117 187.473227 \nL 172.778744 187.473227 \nz\n\" style=\"fill:#0000ff;stroke:#000000;stroke-linejoin:miter;\"/>\n   </g>\n   <g id=\"patch_244\">\n    <path clip-path=\"url(#p2853ca57da)\" d=\"M 180.016117 231.718125 \nL 187.253491 231.718125 \nL 187.253491 209.078669 \nL 180.016117 209.078669 \nz\n\" style=\"fill:#0000ff;stroke:#000000;stroke-linejoin:miter;\"/>\n   </g>\n   <g id=\"patch_245\">\n    <path clip-path=\"url(#p2853ca57da)\" d=\"M 187.253491 231.718125 \nL 194.490865 231.718125 \nL 194.490865 211.799758 \nL 187.253491 211.799758 \nz\n\" style=\"fill:#0000ff;stroke:#000000;stroke-linejoin:miter;\"/>\n   </g>\n   <g id=\"patch_246\">\n    <path clip-path=\"url(#p2853ca57da)\" d=\"M 194.490865 231.718125 \nL 201.728239 231.718125 \nL 201.728239 220.616084 \nL 194.490865 220.616084 \nz\n\" style=\"fill:#0000ff;stroke:#000000;stroke-linejoin:miter;\"/>\n   </g>\n   <g id=\"matplotlib.axis_5\">\n    <g id=\"xtick_5\">\n     <g id=\"line2d_11\">\n      <g>\n       <use style=\"stroke:#000000;stroke-width:0.8;\" x=\"71.440811\" xlink:href=\"#m38d0d61ca5\" y=\"231.718125\"/>\n      </g>\n     </g>\n     <g id=\"text_17\">\n      <!-- 0.0 -->\n      <g transform=\"translate(63.489248 246.316563)scale(0.1 -0.1)\">\n       <use xlink:href=\"#DejaVuSans-48\"/>\n       <use x=\"63.623047\" xlink:href=\"#DejaVuSans-46\"/>\n       <use x=\"95.410156\" xlink:href=\"#DejaVuSans-48\"/>\n      </g>\n     </g>\n    </g>\n    <g id=\"xtick_6\">\n     <g id=\"line2d_12\">\n      <g>\n       <use style=\"stroke:#000000;stroke-width:0.8;\" x=\"140.275921\" xlink:href=\"#m38d0d61ca5\" y=\"231.718125\"/>\n      </g>\n     </g>\n     <g id=\"text_18\">\n      <!-- 0.5 -->\n      <g transform=\"translate(132.324358 246.316563)scale(0.1 -0.1)\">\n       <use xlink:href=\"#DejaVuSans-48\"/>\n       <use x=\"63.623047\" xlink:href=\"#DejaVuSans-46\"/>\n       <use x=\"95.410156\" xlink:href=\"#DejaVuSans-53\"/>\n      </g>\n     </g>\n    </g>\n    <g id=\"text_19\">\n     <!-- Delay (min) -->\n     <g transform=\"translate(72.224688 269.112813)scale(0.22 -0.22)\">\n      <use xlink:href=\"#DejaVuSans-68\"/>\n      <use x=\"77.001953\" xlink:href=\"#DejaVuSans-101\"/>\n      <use x=\"138.525391\" xlink:href=\"#DejaVuSans-108\"/>\n      <use x=\"166.308594\" xlink:href=\"#DejaVuSans-97\"/>\n      <use x=\"227.587891\" xlink:href=\"#DejaVuSans-121\"/>\n      <use x=\"286.767578\" xlink:href=\"#DejaVuSans-32\"/>\n      <use x=\"318.554688\" xlink:href=\"#DejaVuSans-40\"/>\n      <use x=\"357.568359\" xlink:href=\"#DejaVuSans-109\"/>\n      <use x=\"454.980469\" xlink:href=\"#DejaVuSans-105\"/>\n      <use x=\"482.763672\" xlink:href=\"#DejaVuSans-110\"/>\n      <use x=\"546.142578\" xlink:href=\"#DejaVuSans-41\"/>\n     </g>\n    </g>\n   </g>\n   <g id=\"matplotlib.axis_6\">\n    <g id=\"ytick_7\">\n     <g id=\"line2d_13\">\n      <g>\n       <use style=\"stroke:#000000;stroke-width:0.8;\" x=\"64.941875\" xlink:href=\"#ma8f40bbefa\" y=\"231.718125\"/>\n      </g>\n     </g>\n     <g id=\"text_20\">\n      <!-- 0 -->\n      <g transform=\"translate(51.579375 235.517344)scale(0.1 -0.1)\">\n       <use xlink:href=\"#DejaVuSans-48\"/>\n      </g>\n     </g>\n    </g>\n    <g id=\"ytick_8\">\n     <g id=\"line2d_14\">\n      <g>\n       <use style=\"stroke:#000000;stroke-width:0.8;\" x=\"64.941875\" xlink:href=\"#ma8f40bbefa\" y=\"204.507241\"/>\n      </g>\n     </g>\n     <g id=\"text_21\">\n      <!-- 500 -->\n      <g transform=\"translate(38.854375 208.306459)scale(0.1 -0.1)\">\n       <use xlink:href=\"#DejaVuSans-53\"/>\n       <use x=\"63.623047\" xlink:href=\"#DejaVuSans-48\"/>\n       <use x=\"127.246094\" xlink:href=\"#DejaVuSans-48\"/>\n      </g>\n     </g>\n    </g>\n    <g id=\"ytick_9\">\n     <g id=\"line2d_15\">\n      <g>\n       <use style=\"stroke:#000000;stroke-width:0.8;\" x=\"64.941875\" xlink:href=\"#ma8f40bbefa\" y=\"177.296356\"/>\n      </g>\n     </g>\n     <g id=\"text_22\">\n      <!-- 1000 -->\n      <g transform=\"translate(32.491875 181.095575)scale(0.1 -0.1)\">\n       <use xlink:href=\"#DejaVuSans-49\"/>\n       <use x=\"63.623047\" xlink:href=\"#DejaVuSans-48\"/>\n       <use x=\"127.246094\" xlink:href=\"#DejaVuSans-48\"/>\n       <use x=\"190.869141\" xlink:href=\"#DejaVuSans-48\"/>\n      </g>\n     </g>\n    </g>\n    <g id=\"text_23\">\n     <!-- Flights -->\n     <g transform=\"translate(23.916563 232.753906)rotate(-90)scale(0.22 -0.22)\">\n      <use xlink:href=\"#DejaVuSans-70\"/>\n      <use x=\"57.519531\" xlink:href=\"#DejaVuSans-108\"/>\n      <use x=\"85.302734\" xlink:href=\"#DejaVuSans-105\"/>\n      <use x=\"113.085938\" xlink:href=\"#DejaVuSans-103\"/>\n      <use x=\"176.5625\" xlink:href=\"#DejaVuSans-104\"/>\n      <use x=\"239.941406\" xlink:href=\"#DejaVuSans-116\"/>\n      <use x=\"279.150391\" xlink:href=\"#DejaVuSans-115\"/>\n     </g>\n    </g>\n   </g>\n   <g id=\"patch_247\">\n    <path d=\"M 64.941875 231.718125 \nL 64.941875 160.918125 \n\" style=\"fill:none;stroke:#000000;stroke-linecap:square;stroke-linejoin:miter;stroke-width:0.8;\"/>\n   </g>\n   <g id=\"patch_248\">\n    <path d=\"M 208.241875 231.718125 \nL 208.241875 160.918125 \n\" style=\"fill:none;stroke:#000000;stroke-linecap:square;stroke-linejoin:miter;stroke-width:0.8;\"/>\n   </g>\n   <g id=\"patch_249\">\n    <path d=\"M 64.941875 231.718125 \nL 208.241875 231.718125 \n\" style=\"fill:none;stroke:#000000;stroke-linecap:square;stroke-linejoin:miter;stroke-width:0.8;\"/>\n   </g>\n   <g id=\"patch_250\">\n    <path d=\"M 64.941875 160.918125 \nL 208.241875 160.918125 \n\" style=\"fill:none;stroke:#000000;stroke-linecap:square;stroke-linejoin:miter;stroke-width:0.8;\"/>\n   </g>\n   <g id=\"text_24\">\n    <!-- Histogram -->\n    <g transform=\"translate(105.466875 154.918125)scale(0.12 -0.12)\">\n     <use xlink:href=\"#DejaVuSans-72\"/>\n     <use x=\"75.195312\" xlink:href=\"#DejaVuSans-105\"/>\n     <use x=\"102.978516\" xlink:href=\"#DejaVuSans-115\"/>\n     <use x=\"155.078125\" xlink:href=\"#DejaVuSans-116\"/>\n     <use x=\"194.287109\" xlink:href=\"#DejaVuSans-111\"/>\n     <use x=\"255.46875\" xlink:href=\"#DejaVuSans-103\"/>\n     <use x=\"318.945312\" xlink:href=\"#DejaVuSans-114\"/>\n     <use x=\"360.058594\" xlink:href=\"#DejaVuSans-97\"/>\n     <use x=\"421.337891\" xlink:href=\"#DejaVuSans-109\"/>\n    </g>\n   </g>\n  </g>\n  <g id=\"axes_4\">\n   <g id=\"patch_251\">\n    <path d=\"M 275.541875 231.718125 \nL 418.841875 231.718125 \nL 418.841875 160.918125 \nL 275.541875 160.918125 \nz\n\" style=\"fill:#ffffff;\"/>\n   </g>\n   <g id=\"patch_252\">\n    <path clip-path=\"url(#pb02795c1c8)\" d=\"M 282.055511 231.718125 \nL 292.911572 231.718125 \nL 292.911572 213.633696 \nL 282.055511 213.633696 \nz\n\" style=\"fill:#0000ff;stroke:#000000;stroke-linejoin:miter;\"/>\n   </g>\n   <g id=\"patch_253\">\n    <path clip-path=\"url(#pb02795c1c8)\" d=\"M 292.911572 231.718125 \nL 303.767633 231.718125 \nL 303.767633 211.287412 \nL 292.911572 211.287412 \nz\n\" style=\"fill:#0000ff;stroke:#000000;stroke-linejoin:miter;\"/>\n   </g>\n   <g id=\"patch_254\">\n    <path clip-path=\"url(#pb02795c1c8)\" d=\"M 303.767633 231.718125 \nL 314.623693 231.718125 \nL 314.623693 194.610753 \nL 303.767633 194.610753 \nz\n\" style=\"fill:#0000ff;stroke:#000000;stroke-linejoin:miter;\"/>\n   </g>\n   <g id=\"patch_255\">\n    <path clip-path=\"url(#pb02795c1c8)\" d=\"M 314.623693 231.718125 \nL 325.479754 231.718125 \nL 325.479754 202.985179 \nL 314.623693 202.985179 \nz\n\" style=\"fill:#0000ff;stroke:#000000;stroke-linejoin:miter;\"/>\n   </g>\n   <g id=\"patch_256\">\n    <path clip-path=\"url(#pb02795c1c8)\" d=\"M 325.479754 231.718125 \nL 336.335814 231.718125 \nL 336.335814 195.260493 \nL 325.479754 195.260493 \nz\n\" style=\"fill:#0000ff;stroke:#000000;stroke-linejoin:miter;\"/>\n   </g>\n   <g id=\"patch_257\">\n    <path clip-path=\"url(#pb02795c1c8)\" d=\"M 336.335814 231.718125 \nL 347.191875 231.718125 \nL 347.191875 189.485026 \nL 336.335814 189.485026 \nz\n\" style=\"fill:#0000ff;stroke:#000000;stroke-linejoin:miter;\"/>\n   </g>\n   <g id=\"patch_258\">\n    <path clip-path=\"url(#pb02795c1c8)\" d=\"M 347.191875 231.718125 \nL 358.047936 231.718125 \nL 358.047936 164.289554 \nL 347.191875 164.289554 \nz\n\" style=\"fill:#0000ff;stroke:#000000;stroke-linejoin:miter;\"/>\n   </g>\n   <g id=\"patch_259\">\n    <path clip-path=\"url(#pb02795c1c8)\" d=\"M 358.047936 231.718125 \nL 368.903996 231.718125 \nL 368.903996 171.544983 \nL 358.047936 171.544983 \nz\n\" style=\"fill:#0000ff;stroke:#000000;stroke-linejoin:miter;\"/>\n   </g>\n   <g id=\"patch_260\">\n    <path clip-path=\"url(#pb02795c1c8)\" d=\"M 368.903996 231.718125 \nL 379.760057 231.718125 \nL 379.760057 172.700077 \nL 368.903996 172.700077 \nz\n\" style=\"fill:#0000ff;stroke:#000000;stroke-linejoin:miter;\"/>\n   </g>\n   <g id=\"patch_261\">\n    <path clip-path=\"url(#pb02795c1c8)\" d=\"M 379.760057 231.718125 \nL 390.616117 231.718125 \nL 390.616117 182.41008 \nL 379.760057 182.41008 \nz\n\" style=\"fill:#0000ff;stroke:#000000;stroke-linejoin:miter;\"/>\n   </g>\n   <g id=\"patch_262\">\n    <path clip-path=\"url(#pb02795c1c8)\" d=\"M 390.616117 231.718125 \nL 401.472178 231.718125 \nL 401.472178 207.028006 \nL 390.616117 207.028006 \nz\n\" style=\"fill:#0000ff;stroke:#000000;stroke-linejoin:miter;\"/>\n   </g>\n   <g id=\"patch_263\">\n    <path clip-path=\"url(#pb02795c1c8)\" d=\"M 401.472178 231.718125 \nL 412.328239 231.718125 \nL 412.328239 220.816932 \nL 401.472178 220.816932 \nz\n\" style=\"fill:#0000ff;stroke:#000000;stroke-linejoin:miter;\"/>\n   </g>\n   <g id=\"matplotlib.axis_7\">\n    <g id=\"xtick_7\">\n     <g id=\"line2d_16\">\n      <g>\n       <use style=\"stroke:#000000;stroke-width:0.8;\" x=\"282.040811\" xlink:href=\"#m38d0d61ca5\" y=\"231.718125\"/>\n      </g>\n     </g>\n     <g id=\"text_25\">\n      <!-- 0.0 -->\n      <g transform=\"translate(274.089248 246.316563)scale(0.1 -0.1)\">\n       <use xlink:href=\"#DejaVuSans-48\"/>\n       <use x=\"63.623047\" xlink:href=\"#DejaVuSans-46\"/>\n       <use x=\"95.410156\" xlink:href=\"#DejaVuSans-48\"/>\n      </g>\n     </g>\n    </g>\n    <g id=\"xtick_8\">\n     <g id=\"line2d_17\">\n      <g>\n       <use style=\"stroke:#000000;stroke-width:0.8;\" x=\"350.875921\" xlink:href=\"#m38d0d61ca5\" y=\"231.718125\"/>\n      </g>\n     </g>\n     <g id=\"text_26\">\n      <!-- 0.5 -->\n      <g transform=\"translate(342.924358 246.316563)scale(0.1 -0.1)\">\n       <use xlink:href=\"#DejaVuSans-48\"/>\n       <use x=\"63.623047\" xlink:href=\"#DejaVuSans-46\"/>\n       <use x=\"95.410156\" xlink:href=\"#DejaVuSans-53\"/>\n      </g>\n     </g>\n    </g>\n    <g id=\"text_27\">\n     <!-- Delay (min) -->\n     <g transform=\"translate(282.824687 269.112813)scale(0.22 -0.22)\">\n      <use xlink:href=\"#DejaVuSans-68\"/>\n      <use x=\"77.001953\" xlink:href=\"#DejaVuSans-101\"/>\n      <use x=\"138.525391\" xlink:href=\"#DejaVuSans-108\"/>\n      <use x=\"166.308594\" xlink:href=\"#DejaVuSans-97\"/>\n      <use x=\"227.587891\" xlink:href=\"#DejaVuSans-121\"/>\n      <use x=\"286.767578\" xlink:href=\"#DejaVuSans-32\"/>\n      <use x=\"318.554688\" xlink:href=\"#DejaVuSans-40\"/>\n      <use x=\"357.568359\" xlink:href=\"#DejaVuSans-109\"/>\n      <use x=\"454.980469\" xlink:href=\"#DejaVuSans-105\"/>\n      <use x=\"482.763672\" xlink:href=\"#DejaVuSans-110\"/>\n      <use x=\"546.142578\" xlink:href=\"#DejaVuSans-41\"/>\n     </g>\n    </g>\n   </g>\n   <g id=\"matplotlib.axis_8\">\n    <g id=\"ytick_10\">\n     <g id=\"line2d_18\">\n      <g>\n       <use style=\"stroke:#000000;stroke-width:0.8;\" x=\"275.541875\" xlink:href=\"#ma8f40bbefa\" y=\"231.718125\"/>\n      </g>\n     </g>\n     <g id=\"text_28\">\n      <!-- 0 -->\n      <g transform=\"translate(262.179375 235.517344)scale(0.1 -0.1)\">\n       <use xlink:href=\"#DejaVuSans-48\"/>\n      </g>\n     </g>\n    </g>\n    <g id=\"ytick_11\">\n     <g id=\"line2d_19\">\n      <g>\n       <use style=\"stroke:#000000;stroke-width:0.8;\" x=\"275.541875\" xlink:href=\"#ma8f40bbefa\" y=\"195.621459\"/>\n      </g>\n     </g>\n     <g id=\"text_29\">\n      <!-- 1000 -->\n      <g transform=\"translate(243.091875 199.420678)scale(0.1 -0.1)\">\n       <use xlink:href=\"#DejaVuSans-49\"/>\n       <use x=\"63.623047\" xlink:href=\"#DejaVuSans-48\"/>\n       <use x=\"127.246094\" xlink:href=\"#DejaVuSans-48\"/>\n       <use x=\"190.869141\" xlink:href=\"#DejaVuSans-48\"/>\n      </g>\n     </g>\n    </g>\n    <g id=\"text_30\">\n     <!-- Flights -->\n     <g transform=\"translate(234.516563 232.753906)rotate(-90)scale(0.22 -0.22)\">\n      <use xlink:href=\"#DejaVuSans-70\"/>\n      <use x=\"57.519531\" xlink:href=\"#DejaVuSans-108\"/>\n      <use x=\"85.302734\" xlink:href=\"#DejaVuSans-105\"/>\n      <use x=\"113.085938\" xlink:href=\"#DejaVuSans-103\"/>\n      <use x=\"176.5625\" xlink:href=\"#DejaVuSans-104\"/>\n      <use x=\"239.941406\" xlink:href=\"#DejaVuSans-116\"/>\n      <use x=\"279.150391\" xlink:href=\"#DejaVuSans-115\"/>\n     </g>\n    </g>\n   </g>\n   <g id=\"patch_264\">\n    <path d=\"M 275.541875 231.718125 \nL 275.541875 160.918125 \n\" style=\"fill:none;stroke:#000000;stroke-linecap:square;stroke-linejoin:miter;stroke-width:0.8;\"/>\n   </g>\n   <g id=\"patch_265\">\n    <path d=\"M 418.841875 231.718125 \nL 418.841875 160.918125 \n\" style=\"fill:none;stroke:#000000;stroke-linecap:square;stroke-linejoin:miter;stroke-width:0.8;\"/>\n   </g>\n   <g id=\"patch_266\">\n    <path d=\"M 275.541875 231.718125 \nL 418.841875 231.718125 \n\" style=\"fill:none;stroke:#000000;stroke-linecap:square;stroke-linejoin:miter;stroke-width:0.8;\"/>\n   </g>\n   <g id=\"patch_267\">\n    <path d=\"M 275.541875 160.918125 \nL 418.841875 160.918125 \n\" style=\"fill:none;stroke:#000000;stroke-linecap:square;stroke-linejoin:miter;stroke-width:0.8;\"/>\n   </g>\n   <g id=\"text_31\">\n    <!-- Histogram -->\n    <g transform=\"translate(316.066875 154.918125)scale(0.12 -0.12)\">\n     <use xlink:href=\"#DejaVuSans-72\"/>\n     <use x=\"75.195312\" xlink:href=\"#DejaVuSans-105\"/>\n     <use x=\"102.978516\" xlink:href=\"#DejaVuSans-115\"/>\n     <use x=\"155.078125\" xlink:href=\"#DejaVuSans-116\"/>\n     <use x=\"194.287109\" xlink:href=\"#DejaVuSans-111\"/>\n     <use x=\"255.46875\" xlink:href=\"#DejaVuSans-103\"/>\n     <use x=\"318.945312\" xlink:href=\"#DejaVuSans-114\"/>\n     <use x=\"360.058594\" xlink:href=\"#DejaVuSans-97\"/>\n     <use x=\"421.337891\" xlink:href=\"#DejaVuSans-109\"/>\n    </g>\n   </g>\n  </g>\n </g>\n <defs>\n  <clipPath id=\"p48a3ed9223\">\n   <rect height=\"70.8\" width=\"143.3\" x=\"64.941875\" y=\"22.318125\"/>\n  </clipPath>\n  <clipPath id=\"p2d60348771\">\n   <rect height=\"70.8\" width=\"143.3\" x=\"275.541875\" y=\"22.318125\"/>\n  </clipPath>\n  <clipPath id=\"p2853ca57da\">\n   <rect height=\"70.8\" width=\"143.3\" x=\"64.941875\" y=\"160.918125\"/>\n  </clipPath>\n  <clipPath id=\"pb02795c1c8\">\n   <rect height=\"70.8\" width=\"143.3\" x=\"275.541875\" y=\"160.918125\"/>\n  </clipPath>\n </defs>\n</svg>\n",
      "image/png": "[encoded data removed]"
     },
     "metadata": {
      "needs_background": "light"
     }
    }
   ],
   "source": [
    "for i, binwidth in enumerate([1, 5, 10, 15]):\n",
    "    \n",
    "    # Set up the plot\n",
    "    ax = plt.subplot(2, 2, i + 1)\n",
    "    \n",
    "    # Draw the plot\n",
    "    ax.hist(correlation_list, bins = int(180/binwidth),\n",
    "             color = 'blue', edgecolor = 'black')\n",
    "    \n",
    "    # Title and labels\n",
    "    ax.set_title('Histogram')\n",
    "    ax.set_xlabel('Delay (min)', size = 22)\n",
    "    ax.set_ylabel('Flights', size= 22)\n",
    "\n",
    "plt.tight_layout()\n",
    "plt.show()"
   ]
  },
  {
   "cell_type": "code",
   "execution_count": 32,
   "metadata": {},
   "outputs": [
    {
     "output_type": "stream",
     "name": "stdout",
     "text": [
      "[0.0001 0.0001 0.0002 0.0002 0.0002 0.0008 0.0008 0.0008 0.0008 0.0008\n 0.0008 0.0008]\n"
     ]
    }
   ],
   "source": [
    "sort = np.argsort(correlation_list)\n",
    "print(np.array(correlation_list)[sort[:int(len(correlation_list)/1000)]])"
   ]
  },
  {
   "cell_type": "code",
   "execution_count": 6,
   "metadata": {},
   "outputs": [
    {
     "output_type": "stream",
     "name": "stdout",
     "text": [
      "0.1162\n0.87316\n0.29535096381878995\n0.3232312453313414\n"
     ]
    },
    {
     "output_type": "execute_result",
     "data": {
      "text/plain": [
       "0.6623583731145778"
      ]
     },
     "metadata": {},
     "execution_count": 6
    }
   ],
   "source": [
    "print(accuracy_score(np.array(y_true), np.array(y_pred)))\n",
    "print(hamming_score(np.array(y_true), np.array(y_pred)))\n",
    "print(f1_score(np.array(y_true), np.array(y_pred), average='samples'))\n",
    "print(f1_score(np.array(y_true), np.array(y_pred), average='micro'))\n",
    "\n",
    "\n",
    "0.04770962379774891\n",
    "0.8903891388922691\n",
    "0.23064926923800752\n",
    "0.24206504001944298\n",
    "0.13854895326189495\n",
    "\n",
    "0.556321243523316\n",
    "0.9675984455958548\n",
    "0.6144031581544535\n",
    "0.6688729448518704\n",
    "0.6691942897702132\n",
    "\n",
    "0.1144\n",
    "0.8734999999999999\n",
    "0.2947831131187653\n",
    "0.323022583752542\n",
    "\n",
    "0.1052\n",
    "0.8694000000000001\n",
    "0.3114175971854233\n",
    "0.3364495478101819\n",
    "\n",
    "0.1172\n",
    "0.8736599999999999\n",
    "0.3097356535734796\n",
    "0.3377018242818201\n",
    "\n",
    "\n",
    "0.19525360420889606\n",
    "0.9708287566406674\n",
    "0.6235609037722215\n",
    "0.6623583731145778\n",
    "\n"
   ]
  },
  {
   "cell_type": "code",
   "execution_count": 7,
   "metadata": {},
   "outputs": [
    {
     "output_type": "display_data",
     "data": {
      "text/plain": "  0%|          | 0/5000 [00:00<?, ?it/s]",
      "application/vnd.jupyter.widget-view+json": {
       "version_major": 2,
       "version_minor": 0,
       "model_id": "7e0e83c34451455a93f0e07288445c3a"
      }
     },
     "metadata": {}
    },
    {
     "output_type": "error",
     "ename": "ValueError",
     "evalue": "not enough values to unpack (expected 2, got 1)",
     "traceback": [
      "\u001b[0;31m---------------------------------------------------------------------------\u001b[0m",
      "\u001b[0;31mValueError\u001b[0m                                Traceback (most recent call last)",
      "\u001b[0;32m<ipython-input-7-87f308febeb3>\u001b[0m in \u001b[0;36m<module>\u001b[0;34m\u001b[0m\n\u001b[1;32m     27\u001b[0m         \u001b[0mpred\u001b[0m \u001b[0;34m=\u001b[0m \u001b[0mclf\u001b[0m\u001b[0;34m.\u001b[0m\u001b[0mpredict\u001b[0m\u001b[0;34m(\u001b[0m\u001b[0mX\u001b[0m\u001b[0;34m)\u001b[0m\u001b[0;34m\u001b[0m\u001b[0;34m\u001b[0m\u001b[0m\n\u001b[1;32m     28\u001b[0m         \u001b[0;31m#clf.partial_fit(X, np.array([y]))\u001b[0m\u001b[0;34m\u001b[0m\u001b[0;34m\u001b[0m\u001b[0;34m\u001b[0m\u001b[0m\n\u001b[0;32m---> 29\u001b[0;31m         \u001b[0mclf\u001b[0m\u001b[0;34m.\u001b[0m\u001b[0mpartial_fit\u001b[0m\u001b[0;34m(\u001b[0m\u001b[0mX\u001b[0m\u001b[0;34m,\u001b[0m \u001b[0my\u001b[0m\u001b[0;34m)\u001b[0m\u001b[0;34m\u001b[0m\u001b[0;34m\u001b[0m\u001b[0m\n\u001b[0m\u001b[1;32m     30\u001b[0m         \u001b[0;31m#detector.add_element(pred.astype(np.int32))\u001b[0m\u001b[0;34m\u001b[0m\u001b[0;34m\u001b[0m\u001b[0;34m\u001b[0m\u001b[0m\n\u001b[1;32m     31\u001b[0m         \u001b[0;31m#detector.add_element(np.all(pred.flatten() == y))\u001b[0m\u001b[0;34m\u001b[0m\u001b[0;34m\u001b[0m\u001b[0;34m\u001b[0m\u001b[0m\n",
      "\u001b[0;32m~/miniconda3/envs/ld3/lib/python3.8/site-packages/skmultiflow/meta/classifier_chains.py\u001b[0m in \u001b[0;36mpartial_fit\u001b[0;34m(self, X, y, classes, sample_weight)\u001b[0m\n\u001b[1;32m    163\u001b[0m             \u001b[0;32mreturn\u001b[0m \u001b[0mself\u001b[0m\u001b[0;34m\u001b[0m\u001b[0;34m\u001b[0m\u001b[0m\n\u001b[1;32m    164\u001b[0m \u001b[0;34m\u001b[0m\u001b[0m\n\u001b[0;32m--> 165\u001b[0;31m         \u001b[0mN\u001b[0m\u001b[0;34m,\u001b[0m \u001b[0mself\u001b[0m\u001b[0;34m.\u001b[0m\u001b[0mL\u001b[0m \u001b[0;34m=\u001b[0m \u001b[0my\u001b[0m\u001b[0;34m.\u001b[0m\u001b[0mshape\u001b[0m\u001b[0;34m\u001b[0m\u001b[0;34m\u001b[0m\u001b[0m\n\u001b[0m\u001b[1;32m    166\u001b[0m         \u001b[0mL\u001b[0m \u001b[0;34m=\u001b[0m \u001b[0mself\u001b[0m\u001b[0;34m.\u001b[0m\u001b[0mL\u001b[0m\u001b[0;34m\u001b[0m\u001b[0;34m\u001b[0m\u001b[0m\n\u001b[1;32m    167\u001b[0m         \u001b[0mN\u001b[0m\u001b[0;34m,\u001b[0m \u001b[0mD\u001b[0m \u001b[0;34m=\u001b[0m \u001b[0mX\u001b[0m\u001b[0;34m.\u001b[0m\u001b[0mshape\u001b[0m\u001b[0;34m\u001b[0m\u001b[0;34m\u001b[0m\u001b[0m\n",
      "\u001b[0;31mValueError\u001b[0m: not enough values to unpack (expected 2, got 1)"
     ]
    }
   ],
   "source": [
    "detectors = [ADWIN(), EDDM(), DDM()]\n",
    "for detector in detectors:\n",
    "    #detector = EDDM()#LD3(k=1, window_size=500)\n",
    "    clf = ClassifierChain(PassiveAggressiveClassifier(random_state=0))\n",
    "    pre_sample = [np.zeros(n_features), np.zeros(n_features)]\n",
    "    pre_label = [np.ones(n_targets), np.zeros(n_targets)]\n",
    "    clf.fit(np.array(pre_sample), np.array(pre_label))\n",
    "\n",
    "\n",
    "    max_samples = sample_size\n",
    "    y_true = []\n",
    "    y_pred = []\n",
    "    pretrain_X = []\n",
    "    pretrain_y = []\n",
    "    p_bar = tqdm(total=max_samples)\n",
    "    n_samples = 0\n",
    "\n",
    "    while n_samples < max_samples and stream.has_more_samples():\n",
    "        X, y = stream.next_sample()\n",
    "\n",
    "        if detector.detected_change():\n",
    "            print('Drift@', n_samples)\n",
    "            detector.reset()\n",
    "            clf.reset()\n",
    "            clf.fit(np.array(pre_sample), np.array(pre_label))\n",
    "\n",
    "        pred = clf.predict(X)\n",
    "        #clf.partial_fit(X, np.array([y]))\n",
    "        clf.partial_fit(X, y)\n",
    "        #detector.add_element(pred.astype(np.int32))\n",
    "        #detector.add_element(np.all(pred.flatten() == y))\n",
    "        detector.add_element((pred.astype(np.int32).flatten().tolist())==(y.astype(np.int32).flatten().tolist()))\n",
    "\n",
    "        #y_true.append(y)\n",
    "        y_true.extend(y)\n",
    "        y_pred.extend(pred)\n",
    "\n",
    "        p_bar.update(1)\n",
    "        n_samples += 1\n",
    "    \n",
    "    print(accuracy_score(np.array(y_true), np.array(y_pred)))\n",
    "    print(hamming_score(np.array(y_true), np.array(y_pred)))\n",
    "    print(f1_score(np.array(y_true), np.array(y_pred), average='samples'))\n",
    "    print(f1_score(np.array(y_true), np.array(y_pred), average='micro'))\n",
    "    print()\n",
    "\n",
    "    stream.restart()"
   ]
  },
  {
   "cell_type": "code",
   "execution_count": null,
   "metadata": {},
   "outputs": [],
   "source": [
    "print(accuracy_score(np.array(y_true), np.array(y_pred)))\n",
    "print(hamming_score(np.array(y_true), np.array(y_pred)))\n",
    "print(f1_score(np.array(y_true), np.array(y_pred), average='samples'))\n",
    "print(f1_score(np.array(y_true), np.array(y_pred), average='micro'))"
   ]
  },
  {
   "cell_type": "code",
   "execution_count": 10,
   "metadata": {},
   "outputs": [],
   "source": [
    "a = np.array([1, 19, 3, 8, 5, 18, 4, 2, 0, 13, 11, 7, 17, 6, 9, 10, 12, 14, 15, 16])\n",
    "b = np.array([19, 1, 2, 7, 3, 5, 18, 17, 13, 4, 8, 11, 0, 10, 6, 12, 9, 14, 15, 16]) \n",
    "\n",
    "c = np.array([19, 1, 2, 17, 10, 18, 7, 8, 3, 12, 4, 6, 5, 13, 11, 9, 14, 15, 0, 16])\n",
    "d = np.array([19, 2, 1, 8, 18, 5, 17, 3, 13, 12, 4, 6, 7, 10, 11, 9, 14, 15, 16, 0]) \n",
    "\n",
    "x = np.array([ 1,8,19,5,13,0,17,2,18,11,3,6,9,10,12,4,7,14,15,16 ])\n",
    "y = np.array([ 19,2,1,8,18,10,12,5,3,4,7,6,11,9,13,17,14,0,15,16 ])\n",
    "\n",
    "e = np.array([ 8,19,17,1,3,5,0,9,18,2,4,6,11,7,13,12,10,14,15,16 ])\n",
    "f = np.array([ 19,1,2,8,7,18,5,3,4,13,11,10,17,0,6,12,9,14,15,16 ])"
   ]
  },
  {
   "cell_type": "code",
   "execution_count": 3,
   "metadata": {},
   "outputs": [
    {
     "output_type": "execute_result",
     "data": {
      "text/plain": [
       "'for i in range(20):\\n    argx[i] *= 1/(argx[i]+1)\\n    argy[i] *= 1/(argy[i]+1)\\n    maxx[i] *= 1/(maxx[i]+1)\\n    maxy[i] *= 1/(maxy[i]+1)'"
      ]
     },
     "metadata": {},
     "execution_count": 3
    }
   ],
   "source": [
    "argx = (np.argsort(a)).astype(np.float)#np.arange(1,21,1).astype(np.float)\n",
    "argy = (np.argsort(b)).astype(np.float)#np.flip(np.arange(1,21,1)).astype(np.float) \n",
    "maxx = np.arange(1,21,1).astype(np.float)\n",
    "maxy = np.flip(np.arange(1,21,1)).astype(np.float) \n",
    "\n",
    "'''for i in range(20):\n",
    "    argx[i] *= 1/(argx[i]+1)\n",
    "    argy[i] *= 1/(argy[i]+1)\n",
    "    maxx[i] *= 1/(maxx[i]+1)\n",
    "    maxy[i] *= 1/(maxy[i]+1)'''\n",
    "\n"
   ]
  },
  {
   "cell_type": "code",
   "execution_count": 9,
   "metadata": {},
   "outputs": [
    {
     "output_type": "stream",
     "name": "stdout",
     "text": [
      "[ 8.  0.  7.  2.  6.  4. 13. 11.  3. 14. 15. 10. 16.  9. 17. 18. 19. 12.\n  5.  1.]\n[12.  1.  2.  4.  9.  5. 14.  3. 10. 16. 13. 11. 15.  8. 17. 18. 19.  7.\n  6.  0.]\n"
     ]
    }
   ],
   "source": [
    "print(argx)\n",
    "print(argy)"
   ]
  },
  {
   "cell_type": "code",
   "execution_count": 6,
   "metadata": {},
   "outputs": [],
   "source": [
    "def WS(rx, ry):\n",
    "    sum_ = 0\n",
    "    ranks_x = np.argsort(rx)\n",
    "    ranks_y = np.argsort(ry)\n",
    "    for i in range(len(rx)):\n",
    "        sum_ += (1/(2**(ranks_x[i]))) * ((np.abs(ranks_x[i] - ranks_y[i]))/(np.max([np.abs(1-ranks_x[i]), np.abs(len(rx) - ranks_x[i])])))\n",
    "    return 1 - sum_"
   ]
  },
  {
   "cell_type": "code",
   "execution_count": 14,
   "metadata": {},
   "outputs": [
    {
     "output_type": "execute_result",
     "data": {
      "text/plain": [
       "0.6403404417406884"
      ]
     },
     "metadata": {},
     "execution_count": 14
    }
   ],
   "source": [
    "WS(e,f)"
   ]
  },
  {
   "cell_type": "code",
   "execution_count": 9,
   "metadata": {},
   "outputs": [
    {
     "output_type": "execute_result",
     "data": {
      "text/plain": [
       "-0.2583333333333333"
      ]
     },
     "metadata": {},
     "execution_count": 9
    }
   ],
   "source": [
    "a = [1,2,3,4,5]\n",
    "b = [5,4,3,2,1]\n",
    "WS(a, b)"
   ]
  },
  {
   "cell_type": "code",
   "execution_count": 11,
   "metadata": {},
   "outputs": [
    {
     "output_type": "execute_result",
     "data": {
      "text/plain": [
       "SpearmanrResult(correlation=-0.7, pvalue=0.1881204043741873)"
      ]
     },
     "metadata": {},
     "execution_count": 11
    }
   ],
   "source": [
    "from scipy.stats import kendalltau, spearmanr\n",
    "spearmanr(x[:5],y[:5])"
   ]
  },
  {
   "cell_type": "code",
   "execution_count": 12,
   "metadata": {},
   "outputs": [
    {
     "output_type": "execute_result",
     "data": {
      "text/plain": [
       "0.15639097744360897"
      ]
     },
     "metadata": {},
     "execution_count": 12
    }
   ],
   "source": [
    "from scipy.spatial.distance import correlation\n",
    "correlation(argx,argy)"
   ]
  },
  {
   "cell_type": "code",
   "execution_count": 13,
   "metadata": {},
   "outputs": [],
   "source": [
    "def dist(x, y, w):\n",
    "    sum_ = 0\n",
    "    for i in range(len(x)):\n",
    "        abs_ = np.abs(x[i] - y[i])\n",
    "        add =  abs_*w[i] if abs_ > 1 else 0\n",
    "        sum_ += add\n",
    "    return sum_\n",
    "        "
   ]
  },
  {
   "cell_type": "code",
   "execution_count": 14,
   "metadata": {},
   "outputs": [
    {
     "output_type": "execute_result",
     "data": {
      "text/plain": [
       "0.00974723033648846"
      ]
     },
     "metadata": {},
     "execution_count": 14
    }
   ],
   "source": [
    "from scipy.spatial import distance\n",
    "((dist(argx, argy, w=1/((3)**(argy*argy))) / np.sqrt(len(argx))) + (dist(argx, argy, w=1/((3)**(argx*argx))) / np.sqrt(len(argx)))) / 2 #/ 0.05617535148406078"
   ]
  },
  {
   "cell_type": "code",
   "execution_count": 15,
   "metadata": {},
   "outputs": [
    {
     "output_type": "execute_result",
     "data": {
      "text/plain": [
       "nan"
      ]
     },
     "metadata": {},
     "execution_count": 15
    }
   ],
   "source": [
    "def rank_correlation(x, y, dist=distance.correlation):\n",
    "        c = np.array([dist(x[i], y[i]) * (1/((y[i]))) for i in range(len(x))]).sum()\n",
    "        return c\n",
    "rank_correlation(argx, argy)"
   ]
  },
  {
   "cell_type": "code",
   "execution_count": 16,
   "metadata": {},
   "outputs": [
    {
     "output_type": "execute_result",
     "data": {
      "text/plain": [
       "array([0.0833, 1.    , 0.5   , 0.25  , 0.1111, 0.2   , 0.0714, 0.3333,\n",
       "       0.1   , 0.0625, 0.0769, 0.0909, 0.0667, 0.125 , 0.0588, 0.0556,\n",
       "       0.0526, 0.1429, 0.1667,    inf])"
      ]
     },
     "metadata": {},
     "execution_count": 16
    }
   ],
   "source": [
    "1/argy"
   ]
  },
  {
   "cell_type": "code",
   "execution_count": 17,
   "metadata": {},
   "outputs": [
    {
     "output_type": "stream",
     "name": "stdout",
     "text": [
      "inf\n"
     ]
    }
   ],
   "source": [
    "from scipy.spatial import distance\n",
    "dist = distance.cityblock # * 1/((argy[i])**2)\n",
    "s = np.array([dist(argx[i], argy[i]) * 1/((argy[i])**2) for i in range(20)]).sum()\n",
    "\n",
    "'''for i in range(20):\n",
    "    s += dist(argx[i], argy[i]) * 1/((argy[i])**2)'''\n",
    "\n",
    "smax = 0\n",
    "for i in range(20):\n",
    "    smax += dist(argx[i], argx[i]) * 1/((argy[i])**2)\n",
    "\n",
    "print(s)"
   ]
  },
  {
   "cell_type": "code",
   "execution_count": 18,
   "metadata": {},
   "outputs": [
    {
     "output_type": "stream",
     "name": "stdout",
     "text": [
      "WeightedTauResult(correlation=-0.6713827328914972, pvalue=nan)\nWeightedTauResult(correlation=0.3524122261236008, pvalue=nan)\nWeightedTauResult(correlation=-0.7990832874910562, pvalue=nan)\n"
     ]
    }
   ],
   "source": [
    "0.5429113076754074\n",
    "55.77\n",
    "weigher = lambda r: 1/((1+r)**2)\n",
    "print(weightedtau(a,b,rank=True, additive=False, weigher=weigher))\n",
    "print(weightedtau(c,d,rank=True, additive=False, weigher=weigher))\n",
    "print(weightedtau(x,y,rank=True, additive=False, weigher=weigher))"
   ]
  },
  {
   "cell_type": "code",
   "execution_count": 19,
   "metadata": {},
   "outputs": [
    {
     "output_type": "stream",
     "name": "stdout",
     "text": [
      "[17 18 19]\n[ 1 10]\n[11 18 19]\n"
     ]
    }
   ],
   "source": [
    "print(np.where(a==b)[0])\n",
    "print(np.where(c==d)[0])\n",
    "print(np.where(x==y)[0])"
   ]
  },
  {
   "cell_type": "code",
   "execution_count": 20,
   "metadata": {},
   "outputs": [
    {
     "output_type": "stream",
     "name": "stdout",
     "text": [
      "WeightedTauResult(correlation=0.6962121412338664, pvalue=nan)\nWeightedTauResult(correlation=0.07118840640971633, pvalue=nan)\nWeightedTauResult(correlation=0.18079986971236403, pvalue=nan)\n"
     ]
    }
   ],
   "source": [
    "weigher = lambda r: 1/((r+1))\n",
    "print(weightedtau(np.argsort(a),np.argsort(b),rank=False, additive=False, weigher=weigher))\n",
    "print(weightedtau(np.argsort(c),np.argsort(d),rank=False, additive=False, weigher=weigher))\n",
    "print(weightedtau(np.argsort(x),np.argsort(y),rank=False, additive=False, weigher=weigher))"
   ]
  },
  {
   "cell_type": "code",
   "execution_count": null,
   "metadata": {},
   "outputs": [],
   "source": []
  }
 ]
}