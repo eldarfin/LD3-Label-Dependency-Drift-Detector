{
 "metadata": {
  "language_info": {
   "codemirror_mode": {
    "name": "ipython",
    "version": 3
   },
   "file_extension": ".py",
   "mimetype": "text/x-python",
   "name": "python",
   "nbconvert_exporter": "python",
   "pygments_lexer": "ipython3",
   "version": "3.8.8"
  },
  "orig_nbformat": 2,
  "kernelspec": {
   "name": "python388jvsc74a57bd0b3d5defd48bcce546b12f2e95f99040e967dfa98e52f7fab83451f06e037fab3",
   "display_name": "Python 3.8.8 64-bit ('ld3': conda)"
  }
 },
 "nbformat": 4,
 "nbformat_minor": 2,
 "cells": [
  {
   "cell_type": "code",
   "execution_count": 1,
   "metadata": {},
   "outputs": [],
   "source": [
    "import sys\n",
    "import numpy as np\n",
    "import pandas as pd \n",
    "from skmultiflow.data import DataStream, MultilabelGenerator, ConceptDriftStream\n",
    "from skmultiflow.meta import ClassifierChain\n",
    "from sklearn.linear_model import SGDClassifier, PassiveAggressiveClassifier\n",
    "from skmultiflow.metrics import hamming_score\n",
    "from sklearn.metrics import accuracy_score, f1_score\n",
    "from ld3 import LD3\n",
    "from skmultilearn.dataset import load_from_arff\n",
    "from sklearn.preprocessing import MultiLabelBinarizer\n",
    "from skmultiflow.drift_detection import ADWIN, EDDM, KSWIN, HDDM_W, HDDM_A, DDM, PageHinkley\n",
    "import util\n",
    "import warnings\n",
    "import matplotlib.pyplot as plt\n",
    "from tqdm.notebook import tqdm, trange\n",
    "from river.metrics import ExampleF1\n",
    "from scipy.stats import truncnorm\n",
    "\n",
    "warnings.filterwarnings('ignore')\n",
    "np.set_printoptions(precision=4, suppress=True)"
   ]
  },
  {
   "cell_type": "code",
   "execution_count": 9,
   "metadata": {},
   "outputs": [],
   "source": [
    "'''n_features = 100\n",
    "n_targets = 20\n",
    "s1 = MultilabelGenerator(n_samples=3000, n_features=n_features, n_targets=n_targets, n_labels=1, random_state=0)\n",
    "s2 = MultilabelGenerator(n_samples=3009, n_features=n_features, n_targets=n_targets, n_labels=2, random_state=250)\n",
    "stream = ConceptDriftStream(stream=s1, drift_stream=s2, position=2000, width=1, random_state=0)\n",
    "sample_size=5000'''\n",
    "\n",
    "X, y = load_from_arff('./datasets/{}'.format('20NG.arff'), label_count=20)\n",
    "X = X.toarray()\n",
    "y = y.toarray().astype(np.int8)\n",
    "sample_size = len(X)\n",
    "n_features = X.shape[1]\n",
    "\n",
    "if len(np.unique(y)) > 2:\n",
    "    mlb = MultiLabelBinarizer()\n",
    "    y = mlb.fit_transform(y)\n",
    "\n",
    "n_targets = y.shape[1]\n",
    "stream = DataStream(data = X, y=y, n_targets=n_targets)"
   ]
  },
  {
   "cell_type": "code",
   "execution_count": 11,
   "metadata": {
    "tags": []
   },
   "outputs": [
    {
     "output_type": "display_data",
     "data": {
      "text/plain": "  0%|          | 0/19300 [00:00<?, ?it/s]",
      "application/vnd.jupyter.widget-view+json": {
       "version_major": 2,
       "version_minor": 0,
       "model_id": "7bd3a920425545118d834f79ed15a480"
      }
     },
     "metadata": {}
    },
    {
     "output_type": "display_data",
     "data": {
      "text/plain": "<Figure size 432x288 with 1 Axes>",
      "image/svg+xml": "<?xml version=\"1.0\" encoding=\"utf-8\" standalone=\"no\"?>\n<!DOCTYPE svg PUBLIC \"-//W3C//DTD SVG 1.1//EN\"\n  \"http://www.w3.org/Graphics/SVG/1.1/DTD/svg11.dtd\">\n<!-- Created with matplotlib (https://matplotlib.org/) -->\n<svg height=\"248.518125pt\" version=\"1.1\" viewBox=\"0 0 368.925 248.518125\" width=\"368.925pt\" xmlns=\"http://www.w3.org/2000/svg\" xmlns:xlink=\"http://www.w3.org/1999/xlink\">\n <metadata>\n  <rdf:RDF xmlns:cc=\"http://creativecommons.org/ns#\" xmlns:dc=\"http://purl.org/dc/elements/1.1/\" xmlns:rdf=\"http://www.w3.org/1999/02/22-rdf-syntax-ns#\">\n   <cc:Work>\n    <dc:type rdf:resource=\"http://purl.org/dc/dcmitype/StillImage\"/>\n    <dc:date>2021-06-12T01:15:08.781732</dc:date>\n    <dc:format>image/svg+xml</dc:format>\n    <dc:creator>\n     <cc:Agent>\n      <dc:title>Matplotlib v3.3.4, https://matplotlib.org/</dc:title>\n     </cc:Agent>\n    </dc:creator>\n   </cc:Work>\n  </rdf:RDF>\n </metadata>\n <defs>\n  <style type=\"text/css\">*{stroke-linecap:butt;stroke-linejoin:round;}</style>\n </defs>\n <g id=\"figure_1\">\n  <g id=\"patch_1\">\n   <path d=\"M -0 248.518125 \nL 368.925 248.518125 \nL 368.925 0 \nL -0 0 \nz\n\" style=\"fill:none;\"/>\n  </g>\n  <g id=\"axes_1\">\n   <g id=\"patch_2\">\n    <path d=\"M 26.925 224.64 \nL 361.725 224.64 \nL 361.725 7.2 \nL 26.925 7.2 \nz\n\" style=\"fill:#ffffff;\"/>\n   </g>\n   <g id=\"patch_3\">\n    <path clip-path=\"url(#p45d11627c4)\" d=\"M 249.276412 224.64 \nL 251.68703 224.64 \nL 251.68703 219.933506 \nL 249.276412 219.933506 \nz\n\" style=\"fill:#1f77b4;\"/>\n   </g>\n   <g id=\"patch_4\">\n    <path clip-path=\"url(#p45d11627c4)\" d=\"M 251.68703 224.64 \nL 254.097649 224.64 \nL 254.097649 224.64 \nL 251.68703 224.64 \nz\n\" style=\"fill:#1f77b4;\"/>\n   </g>\n   <g id=\"patch_5\">\n    <path clip-path=\"url(#p45d11627c4)\" d=\"M 254.097649 224.64 \nL 256.508268 224.64 \nL 256.508268 224.64 \nL 254.097649 224.64 \nz\n\" style=\"fill:#1f77b4;\"/>\n   </g>\n   <g id=\"patch_6\">\n    <path clip-path=\"url(#p45d11627c4)\" d=\"M 256.508268 224.64 \nL 258.918886 224.64 \nL 258.918886 224.64 \nL 256.508268 224.64 \nz\n\" style=\"fill:#1f77b4;\"/>\n   </g>\n   <g id=\"patch_7\">\n    <path clip-path=\"url(#p45d11627c4)\" d=\"M 258.918886 224.64 \nL 261.329505 224.64 \nL 261.329505 224.64 \nL 258.918886 224.64 \nz\n\" style=\"fill:#1f77b4;\"/>\n   </g>\n   <g id=\"patch_8\">\n    <path clip-path=\"url(#p45d11627c4)\" d=\"M 261.329505 224.64 \nL 263.740124 224.64 \nL 263.740124 224.64 \nL 261.329505 224.64 \nz\n\" style=\"fill:#1f77b4;\"/>\n   </g>\n   <g id=\"patch_9\">\n    <path clip-path=\"url(#p45d11627c4)\" d=\"M 263.740124 224.64 \nL 266.150742 224.64 \nL 266.150742 224.64 \nL 263.740124 224.64 \nz\n\" style=\"fill:#1f77b4;\"/>\n   </g>\n   <g id=\"patch_10\">\n    <path clip-path=\"url(#p45d11627c4)\" d=\"M 266.150742 224.64 \nL 268.561361 224.64 \nL 268.561361 224.64 \nL 266.150742 224.64 \nz\n\" style=\"fill:#1f77b4;\"/>\n   </g>\n   <g id=\"patch_11\">\n    <path clip-path=\"url(#p45d11627c4)\" d=\"M 268.561361 224.64 \nL 270.97198 224.64 \nL 270.97198 224.64 \nL 268.561361 224.64 \nz\n\" style=\"fill:#1f77b4;\"/>\n   </g>\n   <g id=\"patch_12\">\n    <path clip-path=\"url(#p45d11627c4)\" d=\"M 270.97198 224.64 \nL 273.382599 224.64 \nL 273.382599 224.64 \nL 270.97198 224.64 \nz\n\" style=\"fill:#1f77b4;\"/>\n   </g>\n   <g id=\"patch_13\">\n    <path clip-path=\"url(#p45d11627c4)\" d=\"M 273.382599 224.64 \nL 275.793217 224.64 \nL 275.793217 182.281558 \nL 273.382599 182.281558 \nz\n\" style=\"fill:#1f77b4;\"/>\n   </g>\n   <g id=\"patch_14\">\n    <path clip-path=\"url(#p45d11627c4)\" d=\"M 275.793217 224.64 \nL 278.203836 224.64 \nL 278.203836 224.64 \nL 275.793217 224.64 \nz\n\" style=\"fill:#1f77b4;\"/>\n   </g>\n   <g id=\"patch_15\">\n    <path clip-path=\"url(#p45d11627c4)\" d=\"M 278.203836 224.64 \nL 280.614455 224.64 \nL 280.614455 224.64 \nL 278.203836 224.64 \nz\n\" style=\"fill:#1f77b4;\"/>\n   </g>\n   <g id=\"patch_16\">\n    <path clip-path=\"url(#p45d11627c4)\" d=\"M 280.614455 224.64 \nL 283.025073 224.64 \nL 283.025073 224.64 \nL 280.614455 224.64 \nz\n\" style=\"fill:#1f77b4;\"/>\n   </g>\n   <g id=\"patch_17\">\n    <path clip-path=\"url(#p45d11627c4)\" d=\"M 283.025073 224.64 \nL 285.435692 224.64 \nL 285.435692 224.64 \nL 283.025073 224.64 \nz\n\" style=\"fill:#1f77b4;\"/>\n   </g>\n   <g id=\"patch_18\">\n    <path clip-path=\"url(#p45d11627c4)\" d=\"M 285.435692 224.64 \nL 287.846311 224.64 \nL 287.846311 224.64 \nL 285.435692 224.64 \nz\n\" style=\"fill:#1f77b4;\"/>\n   </g>\n   <g id=\"patch_19\">\n    <path clip-path=\"url(#p45d11627c4)\" d=\"M 287.846311 224.64 \nL 290.256929 224.64 \nL 290.256929 215.227013 \nL 287.846311 215.227013 \nz\n\" style=\"fill:#1f77b4;\"/>\n   </g>\n   <g id=\"patch_20\">\n    <path clip-path=\"url(#p45d11627c4)\" d=\"M 290.256929 224.64 \nL 292.667548 224.64 \nL 292.667548 224.64 \nL 290.256929 224.64 \nz\n\" style=\"fill:#1f77b4;\"/>\n   </g>\n   <g id=\"patch_21\">\n    <path clip-path=\"url(#p45d11627c4)\" d=\"M 292.667548 224.64 \nL 295.078167 224.64 \nL 295.078167 224.64 \nL 292.667548 224.64 \nz\n\" style=\"fill:#1f77b4;\"/>\n   </g>\n   <g id=\"patch_22\">\n    <path clip-path=\"url(#p45d11627c4)\" d=\"M 295.078167 224.64 \nL 297.488785 224.64 \nL 297.488785 224.64 \nL 295.078167 224.64 \nz\n\" style=\"fill:#1f77b4;\"/>\n   </g>\n   <g id=\"patch_23\">\n    <path clip-path=\"url(#p45d11627c4)\" d=\"M 297.488785 224.64 \nL 299.899404 224.64 \nL 299.899404 224.64 \nL 297.488785 224.64 \nz\n\" style=\"fill:#1f77b4;\"/>\n   </g>\n   <g id=\"patch_24\">\n    <path clip-path=\"url(#p45d11627c4)\" d=\"M 299.899404 224.64 \nL 302.310023 224.64 \nL 302.310023 215.227013 \nL 299.899404 215.227013 \nz\n\" style=\"fill:#1f77b4;\"/>\n   </g>\n   <g id=\"patch_25\">\n    <path clip-path=\"url(#p45d11627c4)\" d=\"M 302.310023 224.64 \nL 304.720642 224.64 \nL 304.720642 205.814026 \nL 302.310023 205.814026 \nz\n\" style=\"fill:#1f77b4;\"/>\n   </g>\n   <g id=\"patch_26\">\n    <path clip-path=\"url(#p45d11627c4)\" d=\"M 304.720642 224.64 \nL 307.13126 224.64 \nL 307.13126 224.64 \nL 304.720642 224.64 \nz\n\" style=\"fill:#1f77b4;\"/>\n   </g>\n   <g id=\"patch_27\">\n    <path clip-path=\"url(#p45d11627c4)\" d=\"M 307.13126 224.64 \nL 309.541879 224.64 \nL 309.541879 92.858182 \nL 307.13126 92.858182 \nz\n\" style=\"fill:#1f77b4;\"/>\n   </g>\n   <g id=\"patch_28\">\n    <path clip-path=\"url(#p45d11627c4)\" d=\"M 309.541879 224.64 \nL 311.952498 224.64 \nL 311.952498 17.554286 \nL 309.541879 17.554286 \nz\n\" style=\"fill:#1f77b4;\"/>\n   </g>\n   <g id=\"patch_29\">\n    <path clip-path=\"url(#p45d11627c4)\" d=\"M 311.952498 224.64 \nL 314.363116 224.64 \nL 314.363116 154.042597 \nL 311.952498 154.042597 \nz\n\" style=\"fill:#1f77b4;\"/>\n   </g>\n   <g id=\"patch_30\">\n    <path clip-path=\"url(#p45d11627c4)\" d=\"M 314.363116 224.64 \nL 316.773735 224.64 \nL 316.773735 163.455584 \nL 314.363116 163.455584 \nz\n\" style=\"fill:#1f77b4;\"/>\n   </g>\n   <g id=\"patch_31\">\n    <path clip-path=\"url(#p45d11627c4)\" d=\"M 316.773735 224.64 \nL 319.184354 224.64 \nL 319.184354 196.401039 \nL 316.773735 196.401039 \nz\n\" style=\"fill:#1f77b4;\"/>\n   </g>\n   <g id=\"patch_32\">\n    <path clip-path=\"url(#p45d11627c4)\" d=\"M 319.184354 224.64 \nL 321.594972 224.64 \nL 321.594972 196.401039 \nL 319.184354 196.401039 \nz\n\" style=\"fill:#1f77b4;\"/>\n   </g>\n   <g id=\"patch_33\">\n    <path clip-path=\"url(#p45d11627c4)\" d=\"M 321.594972 224.64 \nL 324.005591 224.64 \nL 324.005591 201.107532 \nL 321.594972 201.107532 \nz\n\" style=\"fill:#1f77b4;\"/>\n   </g>\n   <g id=\"patch_34\">\n    <path clip-path=\"url(#p45d11627c4)\" d=\"M 324.005591 224.64 \nL 326.41621 224.64 \nL 326.41621 172.868571 \nL 324.005591 172.868571 \nz\n\" style=\"fill:#1f77b4;\"/>\n   </g>\n   <g id=\"patch_35\">\n    <path clip-path=\"url(#p45d11627c4)\" d=\"M 326.41621 224.64 \nL 328.826829 224.64 \nL 328.826829 224.64 \nL 326.41621 224.64 \nz\n\" style=\"fill:#1f77b4;\"/>\n   </g>\n   <g id=\"patch_36\">\n    <path clip-path=\"url(#p45d11627c4)\" d=\"M 328.826829 224.64 \nL 331.237447 224.64 \nL 331.237447 41.086753 \nL 328.826829 41.086753 \nz\n\" style=\"fill:#1f77b4;\"/>\n   </g>\n   <g id=\"patch_37\">\n    <path clip-path=\"url(#p45d11627c4)\" d=\"M 331.237447 224.64 \nL 333.648066 224.64 \nL 333.648066 26.967273 \nL 331.237447 26.967273 \nz\n\" style=\"fill:#1f77b4;\"/>\n   </g>\n   <g id=\"patch_38\">\n    <path clip-path=\"url(#p45d11627c4)\" d=\"M 333.648066 224.64 \nL 336.058685 224.64 \nL 336.058685 111.684156 \nL 333.648066 111.684156 \nz\n\" style=\"fill:#1f77b4;\"/>\n   </g>\n   <g id=\"matplotlib.axis_1\">\n    <g id=\"xtick_1\">\n     <g id=\"line2d_1\">\n      <defs>\n       <path d=\"M 0 0 \nL 0 3.5 \n\" id=\"m44bfe46d8c\" style=\"stroke:#000000;stroke-width:0.8;\"/>\n      </defs>\n      <g>\n       <use style=\"stroke:#000000;stroke-width:0.8;\" x=\"42.143182\" xlink:href=\"#m44bfe46d8c\" y=\"224.64\"/>\n      </g>\n     </g>\n     <g id=\"text_1\">\n      <!-- −1.00 -->\n      <g transform=\"translate(26.820526 239.238437)scale(0.1 -0.1)\">\n       <defs>\n        <path d=\"M 10.59375 35.5 \nL 73.1875 35.5 \nL 73.1875 27.203125 \nL 10.59375 27.203125 \nz\n\" id=\"DejaVuSans-8722\"/>\n        <path d=\"M 12.40625 8.296875 \nL 28.515625 8.296875 \nL 28.515625 63.921875 \nL 10.984375 60.40625 \nL 10.984375 69.390625 \nL 28.421875 72.90625 \nL 38.28125 72.90625 \nL 38.28125 8.296875 \nL 54.390625 8.296875 \nL 54.390625 0 \nL 12.40625 0 \nz\n\" id=\"DejaVuSans-49\"/>\n        <path d=\"M 10.6875 12.40625 \nL 21 12.40625 \nL 21 0 \nL 10.6875 0 \nz\n\" id=\"DejaVuSans-46\"/>\n        <path d=\"M 31.78125 66.40625 \nQ 24.171875 66.40625 20.328125 58.90625 \nQ 16.5 51.421875 16.5 36.375 \nQ 16.5 21.390625 20.328125 13.890625 \nQ 24.171875 6.390625 31.78125 6.390625 \nQ 39.453125 6.390625 43.28125 13.890625 \nQ 47.125 21.390625 47.125 36.375 \nQ 47.125 51.421875 43.28125 58.90625 \nQ 39.453125 66.40625 31.78125 66.40625 \nz\nM 31.78125 74.21875 \nQ 44.046875 74.21875 50.515625 64.515625 \nQ 56.984375 54.828125 56.984375 36.375 \nQ 56.984375 17.96875 50.515625 8.265625 \nQ 44.046875 -1.421875 31.78125 -1.421875 \nQ 19.53125 -1.421875 13.0625 8.265625 \nQ 6.59375 17.96875 6.59375 36.375 \nQ 6.59375 54.828125 13.0625 64.515625 \nQ 19.53125 74.21875 31.78125 74.21875 \nz\n\" id=\"DejaVuSans-48\"/>\n       </defs>\n       <use xlink:href=\"#DejaVuSans-8722\"/>\n       <use x=\"83.789062\" xlink:href=\"#DejaVuSans-49\"/>\n       <use x=\"147.412109\" xlink:href=\"#DejaVuSans-46\"/>\n       <use x=\"179.199219\" xlink:href=\"#DejaVuSans-48\"/>\n       <use x=\"242.822266\" xlink:href=\"#DejaVuSans-48\"/>\n      </g>\n     </g>\n    </g>\n    <g id=\"xtick_2\">\n     <g id=\"line2d_2\">\n      <g>\n       <use style=\"stroke:#000000;stroke-width:0.8;\" x=\"80.188636\" xlink:href=\"#m44bfe46d8c\" y=\"224.64\"/>\n      </g>\n     </g>\n     <g id=\"text_2\">\n      <!-- −0.75 -->\n      <g transform=\"translate(64.86598 239.238437)scale(0.1 -0.1)\">\n       <defs>\n        <path d=\"M 8.203125 72.90625 \nL 55.078125 72.90625 \nL 55.078125 68.703125 \nL 28.609375 0 \nL 18.3125 0 \nL 43.21875 64.59375 \nL 8.203125 64.59375 \nz\n\" id=\"DejaVuSans-55\"/>\n        <path d=\"M 10.796875 72.90625 \nL 49.515625 72.90625 \nL 49.515625 64.59375 \nL 19.828125 64.59375 \nL 19.828125 46.734375 \nQ 21.96875 47.46875 24.109375 47.828125 \nQ 26.265625 48.1875 28.421875 48.1875 \nQ 40.625 48.1875 47.75 41.5 \nQ 54.890625 34.8125 54.890625 23.390625 \nQ 54.890625 11.625 47.5625 5.09375 \nQ 40.234375 -1.421875 26.90625 -1.421875 \nQ 22.3125 -1.421875 17.546875 -0.640625 \nQ 12.796875 0.140625 7.71875 1.703125 \nL 7.71875 11.625 \nQ 12.109375 9.234375 16.796875 8.0625 \nQ 21.484375 6.890625 26.703125 6.890625 \nQ 35.15625 6.890625 40.078125 11.328125 \nQ 45.015625 15.765625 45.015625 23.390625 \nQ 45.015625 31 40.078125 35.4375 \nQ 35.15625 39.890625 26.703125 39.890625 \nQ 22.75 39.890625 18.8125 39.015625 \nQ 14.890625 38.140625 10.796875 36.28125 \nz\n\" id=\"DejaVuSans-53\"/>\n       </defs>\n       <use xlink:href=\"#DejaVuSans-8722\"/>\n       <use x=\"83.789062\" xlink:href=\"#DejaVuSans-48\"/>\n       <use x=\"147.412109\" xlink:href=\"#DejaVuSans-46\"/>\n       <use x=\"179.199219\" xlink:href=\"#DejaVuSans-55\"/>\n       <use x=\"242.822266\" xlink:href=\"#DejaVuSans-53\"/>\n      </g>\n     </g>\n    </g>\n    <g id=\"xtick_3\">\n     <g id=\"line2d_3\">\n      <g>\n       <use style=\"stroke:#000000;stroke-width:0.8;\" x=\"118.234091\" xlink:href=\"#m44bfe46d8c\" y=\"224.64\"/>\n      </g>\n     </g>\n     <g id=\"text_3\">\n      <!-- −0.50 -->\n      <g transform=\"translate(102.911435 239.238437)scale(0.1 -0.1)\">\n       <use xlink:href=\"#DejaVuSans-8722\"/>\n       <use x=\"83.789062\" xlink:href=\"#DejaVuSans-48\"/>\n       <use x=\"147.412109\" xlink:href=\"#DejaVuSans-46\"/>\n       <use x=\"179.199219\" xlink:href=\"#DejaVuSans-53\"/>\n       <use x=\"242.822266\" xlink:href=\"#DejaVuSans-48\"/>\n      </g>\n     </g>\n    </g>\n    <g id=\"xtick_4\">\n     <g id=\"line2d_4\">\n      <g>\n       <use style=\"stroke:#000000;stroke-width:0.8;\" x=\"156.279545\" xlink:href=\"#m44bfe46d8c\" y=\"224.64\"/>\n      </g>\n     </g>\n     <g id=\"text_4\">\n      <!-- −0.25 -->\n      <g transform=\"translate(140.956889 239.238437)scale(0.1 -0.1)\">\n       <defs>\n        <path d=\"M 19.1875 8.296875 \nL 53.609375 8.296875 \nL 53.609375 0 \nL 7.328125 0 \nL 7.328125 8.296875 \nQ 12.9375 14.109375 22.625 23.890625 \nQ 32.328125 33.6875 34.8125 36.53125 \nQ 39.546875 41.84375 41.421875 45.53125 \nQ 43.3125 49.21875 43.3125 52.78125 \nQ 43.3125 58.59375 39.234375 62.25 \nQ 35.15625 65.921875 28.609375 65.921875 \nQ 23.96875 65.921875 18.8125 64.3125 \nQ 13.671875 62.703125 7.8125 59.421875 \nL 7.8125 69.390625 \nQ 13.765625 71.78125 18.9375 73 \nQ 24.125 74.21875 28.421875 74.21875 \nQ 39.75 74.21875 46.484375 68.546875 \nQ 53.21875 62.890625 53.21875 53.421875 \nQ 53.21875 48.921875 51.53125 44.890625 \nQ 49.859375 40.875 45.40625 35.40625 \nQ 44.1875 33.984375 37.640625 27.21875 \nQ 31.109375 20.453125 19.1875 8.296875 \nz\n\" id=\"DejaVuSans-50\"/>\n       </defs>\n       <use xlink:href=\"#DejaVuSans-8722\"/>\n       <use x=\"83.789062\" xlink:href=\"#DejaVuSans-48\"/>\n       <use x=\"147.412109\" xlink:href=\"#DejaVuSans-46\"/>\n       <use x=\"179.199219\" xlink:href=\"#DejaVuSans-50\"/>\n       <use x=\"242.822266\" xlink:href=\"#DejaVuSans-53\"/>\n      </g>\n     </g>\n    </g>\n    <g id=\"xtick_5\">\n     <g id=\"line2d_5\">\n      <g>\n       <use style=\"stroke:#000000;stroke-width:0.8;\" x=\"194.325\" xlink:href=\"#m44bfe46d8c\" y=\"224.64\"/>\n      </g>\n     </g>\n     <g id=\"text_5\">\n      <!-- 0.00 -->\n      <g transform=\"translate(183.192188 239.238437)scale(0.1 -0.1)\">\n       <use xlink:href=\"#DejaVuSans-48\"/>\n       <use x=\"63.623047\" xlink:href=\"#DejaVuSans-46\"/>\n       <use x=\"95.410156\" xlink:href=\"#DejaVuSans-48\"/>\n       <use x=\"159.033203\" xlink:href=\"#DejaVuSans-48\"/>\n      </g>\n     </g>\n    </g>\n    <g id=\"xtick_6\">\n     <g id=\"line2d_6\">\n      <g>\n       <use style=\"stroke:#000000;stroke-width:0.8;\" x=\"232.370455\" xlink:href=\"#m44bfe46d8c\" y=\"224.64\"/>\n      </g>\n     </g>\n     <g id=\"text_6\">\n      <!-- 0.25 -->\n      <g transform=\"translate(221.237642 239.238437)scale(0.1 -0.1)\">\n       <use xlink:href=\"#DejaVuSans-48\"/>\n       <use x=\"63.623047\" xlink:href=\"#DejaVuSans-46\"/>\n       <use x=\"95.410156\" xlink:href=\"#DejaVuSans-50\"/>\n       <use x=\"159.033203\" xlink:href=\"#DejaVuSans-53\"/>\n      </g>\n     </g>\n    </g>\n    <g id=\"xtick_7\">\n     <g id=\"line2d_7\">\n      <g>\n       <use style=\"stroke:#000000;stroke-width:0.8;\" x=\"270.415909\" xlink:href=\"#m44bfe46d8c\" y=\"224.64\"/>\n      </g>\n     </g>\n     <g id=\"text_7\">\n      <!-- 0.50 -->\n      <g transform=\"translate(259.283097 239.238437)scale(0.1 -0.1)\">\n       <use xlink:href=\"#DejaVuSans-48\"/>\n       <use x=\"63.623047\" xlink:href=\"#DejaVuSans-46\"/>\n       <use x=\"95.410156\" xlink:href=\"#DejaVuSans-53\"/>\n       <use x=\"159.033203\" xlink:href=\"#DejaVuSans-48\"/>\n      </g>\n     </g>\n    </g>\n    <g id=\"xtick_8\">\n     <g id=\"line2d_8\">\n      <g>\n       <use style=\"stroke:#000000;stroke-width:0.8;\" x=\"308.461364\" xlink:href=\"#m44bfe46d8c\" y=\"224.64\"/>\n      </g>\n     </g>\n     <g id=\"text_8\">\n      <!-- 0.75 -->\n      <g transform=\"translate(297.328551 239.238437)scale(0.1 -0.1)\">\n       <use xlink:href=\"#DejaVuSans-48\"/>\n       <use x=\"63.623047\" xlink:href=\"#DejaVuSans-46\"/>\n       <use x=\"95.410156\" xlink:href=\"#DejaVuSans-55\"/>\n       <use x=\"159.033203\" xlink:href=\"#DejaVuSans-53\"/>\n      </g>\n     </g>\n    </g>\n    <g id=\"xtick_9\">\n     <g id=\"line2d_9\">\n      <g>\n       <use style=\"stroke:#000000;stroke-width:0.8;\" x=\"346.506818\" xlink:href=\"#m44bfe46d8c\" y=\"224.64\"/>\n      </g>\n     </g>\n     <g id=\"text_9\">\n      <!-- 1.00 -->\n      <g transform=\"translate(335.374006 239.238437)scale(0.1 -0.1)\">\n       <use xlink:href=\"#DejaVuSans-49\"/>\n       <use x=\"63.623047\" xlink:href=\"#DejaVuSans-46\"/>\n       <use x=\"95.410156\" xlink:href=\"#DejaVuSans-48\"/>\n       <use x=\"159.033203\" xlink:href=\"#DejaVuSans-48\"/>\n      </g>\n     </g>\n    </g>\n   </g>\n   <g id=\"matplotlib.axis_2\">\n    <g id=\"ytick_1\">\n     <g id=\"line2d_10\">\n      <defs>\n       <path d=\"M 0 0 \nL -3.5 0 \n\" id=\"m190dbcfac4\" style=\"stroke:#000000;stroke-width:0.8;\"/>\n      </defs>\n      <g>\n       <use style=\"stroke:#000000;stroke-width:0.8;\" x=\"26.925\" xlink:href=\"#m190dbcfac4\" y=\"224.64\"/>\n      </g>\n     </g>\n     <g id=\"text_10\">\n      <!-- 0 -->\n      <g transform=\"translate(13.5625 228.439219)scale(0.1 -0.1)\">\n       <use xlink:href=\"#DejaVuSans-48\"/>\n      </g>\n     </g>\n    </g>\n    <g id=\"ytick_2\">\n     <g id=\"line2d_11\">\n      <g>\n       <use style=\"stroke:#000000;stroke-width:0.8;\" x=\"26.925\" xlink:href=\"#m190dbcfac4\" y=\"187.214558\"/>\n      </g>\n     </g>\n     <g id=\"text_11\">\n      <!-- 2 -->\n      <g transform=\"translate(13.5625 191.013777)scale(0.1 -0.1)\">\n       <use xlink:href=\"#DejaVuSans-50\"/>\n      </g>\n     </g>\n    </g>\n    <g id=\"ytick_3\">\n     <g id=\"line2d_12\">\n      <g>\n       <use style=\"stroke:#000000;stroke-width:0.8;\" x=\"26.925\" xlink:href=\"#m190dbcfac4\" y=\"149.789117\"/>\n      </g>\n     </g>\n     <g id=\"text_12\">\n      <!-- 4 -->\n      <g transform=\"translate(13.5625 153.588336)scale(0.1 -0.1)\">\n       <defs>\n        <path d=\"M 37.796875 64.3125 \nL 12.890625 25.390625 \nL 37.796875 25.390625 \nz\nM 35.203125 72.90625 \nL 47.609375 72.90625 \nL 47.609375 25.390625 \nL 58.015625 25.390625 \nL 58.015625 17.1875 \nL 47.609375 17.1875 \nL 47.609375 0 \nL 37.796875 0 \nL 37.796875 17.1875 \nL 4.890625 17.1875 \nL 4.890625 26.703125 \nz\n\" id=\"DejaVuSans-52\"/>\n       </defs>\n       <use xlink:href=\"#DejaVuSans-52\"/>\n      </g>\n     </g>\n    </g>\n    <g id=\"ytick_4\">\n     <g id=\"line2d_13\">\n      <g>\n       <use style=\"stroke:#000000;stroke-width:0.8;\" x=\"26.925\" xlink:href=\"#m190dbcfac4\" y=\"112.363675\"/>\n      </g>\n     </g>\n     <g id=\"text_13\">\n      <!-- 6 -->\n      <g transform=\"translate(13.5625 116.162894)scale(0.1 -0.1)\">\n       <defs>\n        <path d=\"M 33.015625 40.375 \nQ 26.375 40.375 22.484375 35.828125 \nQ 18.609375 31.296875 18.609375 23.390625 \nQ 18.609375 15.53125 22.484375 10.953125 \nQ 26.375 6.390625 33.015625 6.390625 \nQ 39.65625 6.390625 43.53125 10.953125 \nQ 47.40625 15.53125 47.40625 23.390625 \nQ 47.40625 31.296875 43.53125 35.828125 \nQ 39.65625 40.375 33.015625 40.375 \nz\nM 52.59375 71.296875 \nL 52.59375 62.3125 \nQ 48.875 64.0625 45.09375 64.984375 \nQ 41.3125 65.921875 37.59375 65.921875 \nQ 27.828125 65.921875 22.671875 59.328125 \nQ 17.53125 52.734375 16.796875 39.40625 \nQ 19.671875 43.65625 24.015625 45.921875 \nQ 28.375 48.1875 33.59375 48.1875 \nQ 44.578125 48.1875 50.953125 41.515625 \nQ 57.328125 34.859375 57.328125 23.390625 \nQ 57.328125 12.15625 50.6875 5.359375 \nQ 44.046875 -1.421875 33.015625 -1.421875 \nQ 20.359375 -1.421875 13.671875 8.265625 \nQ 6.984375 17.96875 6.984375 36.375 \nQ 6.984375 53.65625 15.1875 63.9375 \nQ 23.390625 74.21875 37.203125 74.21875 \nQ 40.921875 74.21875 44.703125 73.484375 \nQ 48.484375 72.75 52.59375 71.296875 \nz\n\" id=\"DejaVuSans-54\"/>\n       </defs>\n       <use xlink:href=\"#DejaVuSans-54\"/>\n      </g>\n     </g>\n    </g>\n    <g id=\"ytick_5\">\n     <g id=\"line2d_14\">\n      <g>\n       <use style=\"stroke:#000000;stroke-width:0.8;\" x=\"26.925\" xlink:href=\"#m190dbcfac4\" y=\"74.938234\"/>\n      </g>\n     </g>\n     <g id=\"text_14\">\n      <!-- 8 -->\n      <g transform=\"translate(13.5625 78.737453)scale(0.1 -0.1)\">\n       <defs>\n        <path d=\"M 31.78125 34.625 \nQ 24.75 34.625 20.71875 30.859375 \nQ 16.703125 27.09375 16.703125 20.515625 \nQ 16.703125 13.921875 20.71875 10.15625 \nQ 24.75 6.390625 31.78125 6.390625 \nQ 38.8125 6.390625 42.859375 10.171875 \nQ 46.921875 13.96875 46.921875 20.515625 \nQ 46.921875 27.09375 42.890625 30.859375 \nQ 38.875 34.625 31.78125 34.625 \nz\nM 21.921875 38.8125 \nQ 15.578125 40.375 12.03125 44.71875 \nQ 8.5 49.078125 8.5 55.328125 \nQ 8.5 64.0625 14.71875 69.140625 \nQ 20.953125 74.21875 31.78125 74.21875 \nQ 42.671875 74.21875 48.875 69.140625 \nQ 55.078125 64.0625 55.078125 55.328125 \nQ 55.078125 49.078125 51.53125 44.71875 \nQ 48 40.375 41.703125 38.8125 \nQ 48.828125 37.15625 52.796875 32.3125 \nQ 56.78125 27.484375 56.78125 20.515625 \nQ 56.78125 9.90625 50.3125 4.234375 \nQ 43.84375 -1.421875 31.78125 -1.421875 \nQ 19.734375 -1.421875 13.25 4.234375 \nQ 6.78125 9.90625 6.78125 20.515625 \nQ 6.78125 27.484375 10.78125 32.3125 \nQ 14.796875 37.15625 21.921875 38.8125 \nz\nM 18.3125 54.390625 \nQ 18.3125 48.734375 21.84375 45.5625 \nQ 25.390625 42.390625 31.78125 42.390625 \nQ 38.140625 42.390625 41.71875 45.5625 \nQ 45.3125 48.734375 45.3125 54.390625 \nQ 45.3125 60.0625 41.71875 63.234375 \nQ 38.140625 66.40625 31.78125 66.40625 \nQ 25.390625 66.40625 21.84375 63.234375 \nQ 18.3125 60.0625 18.3125 54.390625 \nz\n\" id=\"DejaVuSans-56\"/>\n       </defs>\n       <use xlink:href=\"#DejaVuSans-56\"/>\n      </g>\n     </g>\n    </g>\n    <g id=\"ytick_6\">\n     <g id=\"line2d_15\">\n      <g>\n       <use style=\"stroke:#000000;stroke-width:0.8;\" x=\"26.925\" xlink:href=\"#m190dbcfac4\" y=\"37.512792\"/>\n      </g>\n     </g>\n     <g id=\"text_15\">\n      <!-- 10 -->\n      <g transform=\"translate(7.2 41.312011)scale(0.1 -0.1)\">\n       <use xlink:href=\"#DejaVuSans-49\"/>\n       <use x=\"63.623047\" xlink:href=\"#DejaVuSans-48\"/>\n      </g>\n     </g>\n    </g>\n   </g>\n   <g id=\"line2d_16\">\n    <path clip-path=\"url(#p45d11627c4)\" d=\"M 42.143182 224.64 \nL 45.217562 224.64 \nL 48.291942 224.64 \nL 51.366322 224.64 \nL 54.440702 224.64 \nL 57.515083 224.64 \nL 60.589463 224.64 \nL 63.663843 224.64 \nL 66.738223 224.64 \nL 69.812603 224.64 \nL 72.886983 224.64 \nL 75.961364 224.64 \nL 79.035744 224.64 \nL 82.110124 224.64 \nL 85.184504 224.64 \nL 88.258884 224.64 \nL 91.333264 224.64 \nL 94.407645 224.64 \nL 97.482025 224.64 \nL 100.556405 224.64 \nL 103.630785 224.64 \nL 106.705165 224.64 \nL 109.779545 224.64 \nL 112.853926 224.64 \nL 115.928306 224.64 \nL 119.002686 224.64 \nL 122.077066 224.64 \nL 125.151446 224.64 \nL 128.225826 224.64 \nL 131.300207 224.64 \nL 134.374587 224.64 \nL 137.448967 224.64 \nL 140.523347 224.64 \nL 143.597727 224.64 \nL 146.672107 224.64 \nL 149.746488 224.64 \nL 152.820868 224.64 \nL 155.895248 224.64 \nL 158.969628 224.64 \nL 162.044008 224.64 \nL 165.118388 224.64 \nL 168.192769 224.64 \nL 171.267149 224.639999 \nL 174.341529 224.639998 \nL 177.415909 224.639996 \nL 180.490289 224.639989 \nL 183.564669 224.639973 \nL 186.63905 224.639938 \nL 189.71343 224.639859 \nL 192.78781 224.639696 \nL 195.86219 224.639368 \nL 198.93657 224.638739 \nL 202.01095 224.637582 \nL 205.085331 224.635543 \nL 208.159711 224.632099 \nL 211.234091 224.626521 \nL 214.308471 224.617849 \nL 217.382851 224.604885 \nL 220.457231 224.586214 \nL 223.531612 224.560216 \nL 226.605992 224.525068 \nL 229.680372 224.478667 \nL 232.754752 224.418467 \nL 235.829132 224.341233 \nL 238.903512 224.242774 \nL 241.977893 224.117802 \nL 245.052273 223.960063 \nL 248.126653 223.762854 \nL 251.201033 223.519845 \nL 254.275413 223.225875 \nL 257.349793 222.87713 \nL 260.424174 222.469934 \nL 263.498554 221.997564 \nL 266.572934 221.444951 \nL 269.647314 220.781994 \nL 272.721694 219.957151 \nL 275.796074 218.89378 \nL 278.870455 217.491845 \nL 281.944835 215.636973 \nL 285.019215 213.217217 \nL 288.093595 210.145631 \nL 291.167975 206.384532 \nL 294.242355 201.965859 \nL 297.316736 197.00213 \nL 300.391116 191.684403 \nL 303.465496 186.266895 \nL 306.539876 181.041528 \nL 309.614256 176.308172 \nL 312.688636 172.346798 \nL 315.763017 169.395875 \nL 318.837397 167.638163 \nL 321.911777 167.192057 \nL 324.986157 168.105434 \nL 328.060537 170.350006 \nL 331.134917 173.816884 \nL 334.209298 178.316671 \nL 337.283678 183.588348 \nL 340.358058 189.319557 \nL 343.432438 195.177391 \nL 346.506818 200.84477 \n\" style=\"fill:none;stroke:#ff7f0e;stroke-linecap:square;stroke-width:1.5;\"/>\n   </g>\n   <g id=\"patch_39\">\n    <path d=\"M 26.925 224.64 \nL 26.925 7.2 \n\" style=\"fill:none;stroke:#000000;stroke-linecap:square;stroke-linejoin:miter;stroke-width:0.8;\"/>\n   </g>\n   <g id=\"patch_40\">\n    <path d=\"M 361.725 224.64 \nL 361.725 7.2 \n\" style=\"fill:none;stroke:#000000;stroke-linecap:square;stroke-linejoin:miter;stroke-width:0.8;\"/>\n   </g>\n   <g id=\"patch_41\">\n    <path d=\"M 26.925 224.64 \nL 361.725 224.64 \n\" style=\"fill:none;stroke:#000000;stroke-linecap:square;stroke-linejoin:miter;stroke-width:0.8;\"/>\n   </g>\n   <g id=\"patch_42\">\n    <path d=\"M 26.925 7.2 \nL 361.725 7.2 \n\" style=\"fill:none;stroke:#000000;stroke-linecap:square;stroke-linejoin:miter;stroke-width:0.8;\"/>\n   </g>\n  </g>\n </g>\n <defs>\n  <clipPath id=\"p45d11627c4\">\n   <rect height=\"217.44\" width=\"334.8\" x=\"26.925\" y=\"7.2\"/>\n  </clipPath>\n </defs>\n</svg>\n",
      "image/png": "[encoded data removed]"
     },
     "metadata": {
      "needs_background": "light"
     }
    },
    {
     "output_type": "stream",
     "name": "stdout",
     "text": [
      "Correlation:  0.3610905185610317\nScore:  0.0514279668723988\nDrift@ 5300\n[ 9,1,19,18,8,2,13,4,3,7,15,16,6,5,12,11,0,14,10,17 ] \t[ 19,18,3,1,7,6,2,14,4,11,9,8,5,10,15,13,12,16,17,0 ]\n"
     ]
    },
    {
     "output_type": "display_data",
     "data": {
      "text/plain": "<Figure size 432x288 with 1 Axes>",
      "image/svg+xml": "<?xml version=\"1.0\" encoding=\"utf-8\" standalone=\"no\"?>\n<!DOCTYPE svg PUBLIC \"-//W3C//DTD SVG 1.1//EN\"\n  \"http://www.w3.org/Graphics/SVG/1.1/DTD/svg11.dtd\">\n<!-- Created with matplotlib (https://matplotlib.org/) -->\n<svg height=\"248.518125pt\" version=\"1.1\" viewBox=\"0 0 368.925 248.518125\" width=\"368.925pt\" xmlns=\"http://www.w3.org/2000/svg\" xmlns:xlink=\"http://www.w3.org/1999/xlink\">\n <metadata>\n  <rdf:RDF xmlns:cc=\"http://creativecommons.org/ns#\" xmlns:dc=\"http://purl.org/dc/elements/1.1/\" xmlns:rdf=\"http://www.w3.org/1999/02/22-rdf-syntax-ns#\">\n   <cc:Work>\n    <dc:type rdf:resource=\"http://purl.org/dc/dcmitype/StillImage\"/>\n    <dc:date>2021-06-12T01:15:18.884603</dc:date>\n    <dc:format>image/svg+xml</dc:format>\n    <dc:creator>\n     <cc:Agent>\n      <dc:title>Matplotlib v3.3.4, https://matplotlib.org/</dc:title>\n     </cc:Agent>\n    </dc:creator>\n   </cc:Work>\n  </rdf:RDF>\n </metadata>\n <defs>\n  <style type=\"text/css\">*{stroke-linecap:butt;stroke-linejoin:round;}</style>\n </defs>\n <g id=\"figure_1\">\n  <g id=\"patch_1\">\n   <path d=\"M -0 248.518125 \nL 368.925 248.518125 \nL 368.925 0 \nL -0 0 \nz\n\" style=\"fill:none;\"/>\n  </g>\n  <g id=\"axes_1\">\n   <g id=\"patch_2\">\n    <path d=\"M 26.925 224.64 \nL 361.725 224.64 \nL 361.725 7.2 \nL 26.925 7.2 \nz\n\" style=\"fill:#ffffff;\"/>\n   </g>\n   <g id=\"patch_3\">\n    <path clip-path=\"url(#pab9d624946)\" d=\"M 278.973759 224.64 \nL 280.805845 224.64 \nL 280.805845 222.43696 \nL 278.973759 222.43696 \nz\n\" style=\"fill:#1f77b4;\"/>\n   </g>\n   <g id=\"patch_4\">\n    <path clip-path=\"url(#pab9d624946)\" d=\"M 280.805845 224.64 \nL 282.637932 224.64 \nL 282.637932 224.64 \nL 280.805845 224.64 \nz\n\" style=\"fill:#1f77b4;\"/>\n   </g>\n   <g id=\"patch_5\">\n    <path clip-path=\"url(#pab9d624946)\" d=\"M 282.637932 224.64 \nL 284.470018 224.64 \nL 284.470018 224.64 \nL 282.637932 224.64 \nz\n\" style=\"fill:#1f77b4;\"/>\n   </g>\n   <g id=\"patch_6\">\n    <path clip-path=\"url(#pab9d624946)\" d=\"M 284.470018 224.64 \nL 286.302104 224.64 \nL 286.302104 224.64 \nL 284.470018 224.64 \nz\n\" style=\"fill:#1f77b4;\"/>\n   </g>\n   <g id=\"patch_7\">\n    <path clip-path=\"url(#pab9d624946)\" d=\"M 286.302104 224.64 \nL 288.134191 224.64 \nL 288.134191 224.64 \nL 286.302104 224.64 \nz\n\" style=\"fill:#1f77b4;\"/>\n   </g>\n   <g id=\"patch_8\">\n    <path clip-path=\"url(#pab9d624946)\" d=\"M 288.134191 224.64 \nL 289.966277 224.64 \nL 289.966277 224.64 \nL 288.134191 224.64 \nz\n\" style=\"fill:#1f77b4;\"/>\n   </g>\n   <g id=\"patch_9\">\n    <path clip-path=\"url(#pab9d624946)\" d=\"M 289.966277 224.64 \nL 291.798363 224.64 \nL 291.798363 224.64 \nL 289.966277 224.64 \nz\n\" style=\"fill:#1f77b4;\"/>\n   </g>\n   <g id=\"patch_10\">\n    <path clip-path=\"url(#pab9d624946)\" d=\"M 291.798363 224.64 \nL 293.63045 224.64 \nL 293.63045 224.64 \nL 291.798363 224.64 \nz\n\" style=\"fill:#1f77b4;\"/>\n   </g>\n   <g id=\"patch_11\">\n    <path clip-path=\"url(#pab9d624946)\" d=\"M 293.63045 224.64 \nL 295.462536 224.64 \nL 295.462536 224.64 \nL 293.63045 224.64 \nz\n\" style=\"fill:#1f77b4;\"/>\n   </g>\n   <g id=\"patch_12\">\n    <path clip-path=\"url(#pab9d624946)\" d=\"M 295.462536 224.64 \nL 297.294622 224.64 \nL 297.294622 224.64 \nL 295.462536 224.64 \nz\n\" style=\"fill:#1f77b4;\"/>\n   </g>\n   <g id=\"patch_13\">\n    <path clip-path=\"url(#pab9d624946)\" d=\"M 297.294622 224.64 \nL 299.126709 224.64 \nL 299.126709 224.64 \nL 297.294622 224.64 \nz\n\" style=\"fill:#1f77b4;\"/>\n   </g>\n   <g id=\"patch_14\">\n    <path clip-path=\"url(#pab9d624946)\" d=\"M 299.126709 224.64 \nL 300.958795 224.64 \nL 300.958795 224.64 \nL 299.126709 224.64 \nz\n\" style=\"fill:#1f77b4;\"/>\n   </g>\n   <g id=\"patch_15\">\n    <path clip-path=\"url(#pab9d624946)\" d=\"M 300.958795 224.64 \nL 302.790881 224.64 \nL 302.790881 224.64 \nL 300.958795 224.64 \nz\n\" style=\"fill:#1f77b4;\"/>\n   </g>\n   <g id=\"patch_16\">\n    <path clip-path=\"url(#pab9d624946)\" d=\"M 302.790881 224.64 \nL 304.622968 224.64 \nL 304.622968 224.64 \nL 302.790881 224.64 \nz\n\" style=\"fill:#1f77b4;\"/>\n   </g>\n   <g id=\"patch_17\">\n    <path clip-path=\"url(#pab9d624946)\" d=\"M 304.622968 224.64 \nL 306.455054 224.64 \nL 306.455054 224.64 \nL 304.622968 224.64 \nz\n\" style=\"fill:#1f77b4;\"/>\n   </g>\n   <g id=\"patch_18\">\n    <path clip-path=\"url(#pab9d624946)\" d=\"M 306.455054 224.64 \nL 308.28714 224.64 \nL 308.28714 224.64 \nL 306.455054 224.64 \nz\n\" style=\"fill:#1f77b4;\"/>\n   </g>\n   <g id=\"patch_19\">\n    <path clip-path=\"url(#pab9d624946)\" d=\"M 308.28714 224.64 \nL 310.119227 224.64 \nL 310.119227 224.64 \nL 308.28714 224.64 \nz\n\" style=\"fill:#1f77b4;\"/>\n   </g>\n   <g id=\"patch_20\">\n    <path clip-path=\"url(#pab9d624946)\" d=\"M 310.119227 224.64 \nL 311.951313 224.64 \nL 311.951313 224.64 \nL 310.119227 224.64 \nz\n\" style=\"fill:#1f77b4;\"/>\n   </g>\n   <g id=\"patch_21\">\n    <path clip-path=\"url(#pab9d624946)\" d=\"M 311.951313 224.64 \nL 313.783399 224.64 \nL 313.783399 224.64 \nL 311.951313 224.64 \nz\n\" style=\"fill:#1f77b4;\"/>\n   </g>\n   <g id=\"patch_22\">\n    <path clip-path=\"url(#pab9d624946)\" d=\"M 313.783399 224.64 \nL 315.615486 224.64 \nL 315.615486 224.64 \nL 313.783399 224.64 \nz\n\" style=\"fill:#1f77b4;\"/>\n   </g>\n   <g id=\"patch_23\">\n    <path clip-path=\"url(#pab9d624946)\" d=\"M 315.615486 224.64 \nL 317.447572 224.64 \nL 317.447572 224.64 \nL 315.615486 224.64 \nz\n\" style=\"fill:#1f77b4;\"/>\n   </g>\n   <g id=\"patch_24\">\n    <path clip-path=\"url(#pab9d624946)\" d=\"M 317.447572 224.64 \nL 319.279658 224.64 \nL 319.279658 224.64 \nL 317.447572 224.64 \nz\n\" style=\"fill:#1f77b4;\"/>\n   </g>\n   <g id=\"patch_25\">\n    <path clip-path=\"url(#pab9d624946)\" d=\"M 319.279658 224.64 \nL 321.111745 224.64 \nL 321.111745 224.64 \nL 319.279658 224.64 \nz\n\" style=\"fill:#1f77b4;\"/>\n   </g>\n   <g id=\"patch_26\">\n    <path clip-path=\"url(#pab9d624946)\" d=\"M 321.111745 224.64 \nL 322.943831 224.64 \nL 322.943831 224.64 \nL 321.111745 224.64 \nz\n\" style=\"fill:#1f77b4;\"/>\n   </g>\n   <g id=\"patch_27\">\n    <path clip-path=\"url(#pab9d624946)\" d=\"M 322.943831 224.64 \nL 324.775917 224.64 \nL 324.775917 224.64 \nL 322.943831 224.64 \nz\n\" style=\"fill:#1f77b4;\"/>\n   </g>\n   <g id=\"patch_28\">\n    <path clip-path=\"url(#pab9d624946)\" d=\"M 324.775917 224.64 \nL 326.608004 224.64 \nL 326.608004 224.64 \nL 324.775917 224.64 \nz\n\" style=\"fill:#1f77b4;\"/>\n   </g>\n   <g id=\"patch_29\">\n    <path clip-path=\"url(#pab9d624946)\" d=\"M 326.608004 224.64 \nL 328.44009 224.64 \nL 328.44009 191.594407 \nL 326.608004 191.594407 \nz\n\" style=\"fill:#1f77b4;\"/>\n   </g>\n   <g id=\"patch_30\">\n    <path clip-path=\"url(#pab9d624946)\" d=\"M 328.44009 224.64 \nL 330.272176 224.64 \nL 330.272176 17.554286 \nL 328.44009 17.554286 \nz\n\" style=\"fill:#1f77b4;\"/>\n   </g>\n   <g id=\"patch_31\">\n    <path clip-path=\"url(#pab9d624946)\" d=\"M 330.272176 224.64 \nL 332.104263 224.64 \nL 332.104263 180.57921 \nL 330.272176 180.57921 \nz\n\" style=\"fill:#1f77b4;\"/>\n   </g>\n   <g id=\"patch_32\">\n    <path clip-path=\"url(#pab9d624946)\" d=\"M 332.104263 224.64 \nL 333.936349 224.64 \nL 333.936349 200.406565 \nL 332.104263 200.406565 \nz\n\" style=\"fill:#1f77b4;\"/>\n   </g>\n   <g id=\"patch_33\">\n    <path clip-path=\"url(#pab9d624946)\" d=\"M 333.936349 224.64 \nL 335.768435 224.64 \nL 335.768435 211.421763 \nL 333.936349 211.421763 \nz\n\" style=\"fill:#1f77b4;\"/>\n   </g>\n   <g id=\"patch_34\">\n    <path clip-path=\"url(#pab9d624946)\" d=\"M 335.768435 224.64 \nL 337.600522 224.64 \nL 337.600522 129.909301 \nL 335.768435 129.909301 \nz\n\" style=\"fill:#1f77b4;\"/>\n   </g>\n   <g id=\"patch_35\">\n    <path clip-path=\"url(#pab9d624946)\" d=\"M 337.600522 224.64 \nL 339.432608 224.64 \nL 339.432608 160.751854 \nL 337.600522 160.751854 \nz\n\" style=\"fill:#1f77b4;\"/>\n   </g>\n   <g id=\"patch_36\">\n    <path clip-path=\"url(#pab9d624946)\" d=\"M 339.432608 224.64 \nL 341.264694 224.64 \nL 341.264694 218.030881 \nL 339.432608 218.030881 \nz\n\" style=\"fill:#1f77b4;\"/>\n   </g>\n   <g id=\"patch_37\">\n    <path clip-path=\"url(#pab9d624946)\" d=\"M 341.264694 224.64 \nL 343.096781 224.64 \nL 343.096781 200.406565 \nL 341.264694 200.406565 \nz\n\" style=\"fill:#1f77b4;\"/>\n   </g>\n   <g id=\"patch_38\">\n    <path clip-path=\"url(#pab9d624946)\" d=\"M 343.096781 224.64 \nL 344.928867 224.64 \nL 344.928867 184.985289 \nL 343.096781 184.985289 \nz\n\" style=\"fill:#1f77b4;\"/>\n   </g>\n   <g id=\"matplotlib.axis_1\">\n    <g id=\"xtick_1\">\n     <g id=\"line2d_1\">\n      <defs>\n       <path d=\"M 0 0 \nL 0 3.5 \n\" id=\"md6a26e7809\" style=\"stroke:#000000;stroke-width:0.8;\"/>\n      </defs>\n      <g>\n       <use style=\"stroke:#000000;stroke-width:0.8;\" x=\"42.143182\" xlink:href=\"#md6a26e7809\" y=\"224.64\"/>\n      </g>\n     </g>\n     <g id=\"text_1\">\n      <!-- −1.00 -->\n      <g transform=\"translate(26.820526 239.238437)scale(0.1 -0.1)\">\n       <defs>\n        <path d=\"M 10.59375 35.5 \nL 73.1875 35.5 \nL 73.1875 27.203125 \nL 10.59375 27.203125 \nz\n\" id=\"DejaVuSans-8722\"/>\n        <path d=\"M 12.40625 8.296875 \nL 28.515625 8.296875 \nL 28.515625 63.921875 \nL 10.984375 60.40625 \nL 10.984375 69.390625 \nL 28.421875 72.90625 \nL 38.28125 72.90625 \nL 38.28125 8.296875 \nL 54.390625 8.296875 \nL 54.390625 0 \nL 12.40625 0 \nz\n\" id=\"DejaVuSans-49\"/>\n        <path d=\"M 10.6875 12.40625 \nL 21 12.40625 \nL 21 0 \nL 10.6875 0 \nz\n\" id=\"DejaVuSans-46\"/>\n        <path d=\"M 31.78125 66.40625 \nQ 24.171875 66.40625 20.328125 58.90625 \nQ 16.5 51.421875 16.5 36.375 \nQ 16.5 21.390625 20.328125 13.890625 \nQ 24.171875 6.390625 31.78125 6.390625 \nQ 39.453125 6.390625 43.28125 13.890625 \nQ 47.125 21.390625 47.125 36.375 \nQ 47.125 51.421875 43.28125 58.90625 \nQ 39.453125 66.40625 31.78125 66.40625 \nz\nM 31.78125 74.21875 \nQ 44.046875 74.21875 50.515625 64.515625 \nQ 56.984375 54.828125 56.984375 36.375 \nQ 56.984375 17.96875 50.515625 8.265625 \nQ 44.046875 -1.421875 31.78125 -1.421875 \nQ 19.53125 -1.421875 13.0625 8.265625 \nQ 6.59375 17.96875 6.59375 36.375 \nQ 6.59375 54.828125 13.0625 64.515625 \nQ 19.53125 74.21875 31.78125 74.21875 \nz\n\" id=\"DejaVuSans-48\"/>\n       </defs>\n       <use xlink:href=\"#DejaVuSans-8722\"/>\n       <use x=\"83.789062\" xlink:href=\"#DejaVuSans-49\"/>\n       <use x=\"147.412109\" xlink:href=\"#DejaVuSans-46\"/>\n       <use x=\"179.199219\" xlink:href=\"#DejaVuSans-48\"/>\n       <use x=\"242.822266\" xlink:href=\"#DejaVuSans-48\"/>\n      </g>\n     </g>\n    </g>\n    <g id=\"xtick_2\">\n     <g id=\"line2d_2\">\n      <g>\n       <use style=\"stroke:#000000;stroke-width:0.8;\" x=\"80.188636\" xlink:href=\"#md6a26e7809\" y=\"224.64\"/>\n      </g>\n     </g>\n     <g id=\"text_2\">\n      <!-- −0.75 -->\n      <g transform=\"translate(64.86598 239.238437)scale(0.1 -0.1)\">\n       <defs>\n        <path d=\"M 8.203125 72.90625 \nL 55.078125 72.90625 \nL 55.078125 68.703125 \nL 28.609375 0 \nL 18.3125 0 \nL 43.21875 64.59375 \nL 8.203125 64.59375 \nz\n\" id=\"DejaVuSans-55\"/>\n        <path d=\"M 10.796875 72.90625 \nL 49.515625 72.90625 \nL 49.515625 64.59375 \nL 19.828125 64.59375 \nL 19.828125 46.734375 \nQ 21.96875 47.46875 24.109375 47.828125 \nQ 26.265625 48.1875 28.421875 48.1875 \nQ 40.625 48.1875 47.75 41.5 \nQ 54.890625 34.8125 54.890625 23.390625 \nQ 54.890625 11.625 47.5625 5.09375 \nQ 40.234375 -1.421875 26.90625 -1.421875 \nQ 22.3125 -1.421875 17.546875 -0.640625 \nQ 12.796875 0.140625 7.71875 1.703125 \nL 7.71875 11.625 \nQ 12.109375 9.234375 16.796875 8.0625 \nQ 21.484375 6.890625 26.703125 6.890625 \nQ 35.15625 6.890625 40.078125 11.328125 \nQ 45.015625 15.765625 45.015625 23.390625 \nQ 45.015625 31 40.078125 35.4375 \nQ 35.15625 39.890625 26.703125 39.890625 \nQ 22.75 39.890625 18.8125 39.015625 \nQ 14.890625 38.140625 10.796875 36.28125 \nz\n\" id=\"DejaVuSans-53\"/>\n       </defs>\n       <use xlink:href=\"#DejaVuSans-8722\"/>\n       <use x=\"83.789062\" xlink:href=\"#DejaVuSans-48\"/>\n       <use x=\"147.412109\" xlink:href=\"#DejaVuSans-46\"/>\n       <use x=\"179.199219\" xlink:href=\"#DejaVuSans-55\"/>\n       <use x=\"242.822266\" xlink:href=\"#DejaVuSans-53\"/>\n      </g>\n     </g>\n    </g>\n    <g id=\"xtick_3\">\n     <g id=\"line2d_3\">\n      <g>\n       <use style=\"stroke:#000000;stroke-width:0.8;\" x=\"118.234091\" xlink:href=\"#md6a26e7809\" y=\"224.64\"/>\n      </g>\n     </g>\n     <g id=\"text_3\">\n      <!-- −0.50 -->\n      <g transform=\"translate(102.911435 239.238437)scale(0.1 -0.1)\">\n       <use xlink:href=\"#DejaVuSans-8722\"/>\n       <use x=\"83.789062\" xlink:href=\"#DejaVuSans-48\"/>\n       <use x=\"147.412109\" xlink:href=\"#DejaVuSans-46\"/>\n       <use x=\"179.199219\" xlink:href=\"#DejaVuSans-53\"/>\n       <use x=\"242.822266\" xlink:href=\"#DejaVuSans-48\"/>\n      </g>\n     </g>\n    </g>\n    <g id=\"xtick_4\">\n     <g id=\"line2d_4\">\n      <g>\n       <use style=\"stroke:#000000;stroke-width:0.8;\" x=\"156.279545\" xlink:href=\"#md6a26e7809\" y=\"224.64\"/>\n      </g>\n     </g>\n     <g id=\"text_4\">\n      <!-- −0.25 -->\n      <g transform=\"translate(140.956889 239.238437)scale(0.1 -0.1)\">\n       <defs>\n        <path d=\"M 19.1875 8.296875 \nL 53.609375 8.296875 \nL 53.609375 0 \nL 7.328125 0 \nL 7.328125 8.296875 \nQ 12.9375 14.109375 22.625 23.890625 \nQ 32.328125 33.6875 34.8125 36.53125 \nQ 39.546875 41.84375 41.421875 45.53125 \nQ 43.3125 49.21875 43.3125 52.78125 \nQ 43.3125 58.59375 39.234375 62.25 \nQ 35.15625 65.921875 28.609375 65.921875 \nQ 23.96875 65.921875 18.8125 64.3125 \nQ 13.671875 62.703125 7.8125 59.421875 \nL 7.8125 69.390625 \nQ 13.765625 71.78125 18.9375 73 \nQ 24.125 74.21875 28.421875 74.21875 \nQ 39.75 74.21875 46.484375 68.546875 \nQ 53.21875 62.890625 53.21875 53.421875 \nQ 53.21875 48.921875 51.53125 44.890625 \nQ 49.859375 40.875 45.40625 35.40625 \nQ 44.1875 33.984375 37.640625 27.21875 \nQ 31.109375 20.453125 19.1875 8.296875 \nz\n\" id=\"DejaVuSans-50\"/>\n       </defs>\n       <use xlink:href=\"#DejaVuSans-8722\"/>\n       <use x=\"83.789062\" xlink:href=\"#DejaVuSans-48\"/>\n       <use x=\"147.412109\" xlink:href=\"#DejaVuSans-46\"/>\n       <use x=\"179.199219\" xlink:href=\"#DejaVuSans-50\"/>\n       <use x=\"242.822266\" xlink:href=\"#DejaVuSans-53\"/>\n      </g>\n     </g>\n    </g>\n    <g id=\"xtick_5\">\n     <g id=\"line2d_5\">\n      <g>\n       <use style=\"stroke:#000000;stroke-width:0.8;\" x=\"194.325\" xlink:href=\"#md6a26e7809\" y=\"224.64\"/>\n      </g>\n     </g>\n     <g id=\"text_5\">\n      <!-- 0.00 -->\n      <g transform=\"translate(183.192188 239.238437)scale(0.1 -0.1)\">\n       <use xlink:href=\"#DejaVuSans-48\"/>\n       <use x=\"63.623047\" xlink:href=\"#DejaVuSans-46\"/>\n       <use x=\"95.410156\" xlink:href=\"#DejaVuSans-48\"/>\n       <use x=\"159.033203\" xlink:href=\"#DejaVuSans-48\"/>\n      </g>\n     </g>\n    </g>\n    <g id=\"xtick_6\">\n     <g id=\"line2d_6\">\n      <g>\n       <use style=\"stroke:#000000;stroke-width:0.8;\" x=\"232.370455\" xlink:href=\"#md6a26e7809\" y=\"224.64\"/>\n      </g>\n     </g>\n     <g id=\"text_6\">\n      <!-- 0.25 -->\n      <g transform=\"translate(221.237642 239.238437)scale(0.1 -0.1)\">\n       <use xlink:href=\"#DejaVuSans-48\"/>\n       <use x=\"63.623047\" xlink:href=\"#DejaVuSans-46\"/>\n       <use x=\"95.410156\" xlink:href=\"#DejaVuSans-50\"/>\n       <use x=\"159.033203\" xlink:href=\"#DejaVuSans-53\"/>\n      </g>\n     </g>\n    </g>\n    <g id=\"xtick_7\">\n     <g id=\"line2d_7\">\n      <g>\n       <use style=\"stroke:#000000;stroke-width:0.8;\" x=\"270.415909\" xlink:href=\"#md6a26e7809\" y=\"224.64\"/>\n      </g>\n     </g>\n     <g id=\"text_7\">\n      <!-- 0.50 -->\n      <g transform=\"translate(259.283097 239.238437)scale(0.1 -0.1)\">\n       <use xlink:href=\"#DejaVuSans-48\"/>\n       <use x=\"63.623047\" xlink:href=\"#DejaVuSans-46\"/>\n       <use x=\"95.410156\" xlink:href=\"#DejaVuSans-53\"/>\n       <use x=\"159.033203\" xlink:href=\"#DejaVuSans-48\"/>\n      </g>\n     </g>\n    </g>\n    <g id=\"xtick_8\">\n     <g id=\"line2d_8\">\n      <g>\n       <use style=\"stroke:#000000;stroke-width:0.8;\" x=\"308.461364\" xlink:href=\"#md6a26e7809\" y=\"224.64\"/>\n      </g>\n     </g>\n     <g id=\"text_8\">\n      <!-- 0.75 -->\n      <g transform=\"translate(297.328551 239.238437)scale(0.1 -0.1)\">\n       <use xlink:href=\"#DejaVuSans-48\"/>\n       <use x=\"63.623047\" xlink:href=\"#DejaVuSans-46\"/>\n       <use x=\"95.410156\" xlink:href=\"#DejaVuSans-55\"/>\n       <use x=\"159.033203\" xlink:href=\"#DejaVuSans-53\"/>\n      </g>\n     </g>\n    </g>\n    <g id=\"xtick_9\">\n     <g id=\"line2d_9\">\n      <g>\n       <use style=\"stroke:#000000;stroke-width:0.8;\" x=\"346.506818\" xlink:href=\"#md6a26e7809\" y=\"224.64\"/>\n      </g>\n     </g>\n     <g id=\"text_9\">\n      <!-- 1.00 -->\n      <g transform=\"translate(335.374006 239.238437)scale(0.1 -0.1)\">\n       <use xlink:href=\"#DejaVuSans-49\"/>\n       <use x=\"63.623047\" xlink:href=\"#DejaVuSans-46\"/>\n       <use x=\"95.410156\" xlink:href=\"#DejaVuSans-48\"/>\n       <use x=\"159.033203\" xlink:href=\"#DejaVuSans-48\"/>\n      </g>\n     </g>\n    </g>\n   </g>\n   <g id=\"matplotlib.axis_2\">\n    <g id=\"ytick_1\">\n     <g id=\"line2d_10\">\n      <defs>\n       <path d=\"M 0 0 \nL -3.5 0 \n\" id=\"md9c0573a85\" style=\"stroke:#000000;stroke-width:0.8;\"/>\n      </defs>\n      <g>\n       <use style=\"stroke:#000000;stroke-width:0.8;\" x=\"26.925\" xlink:href=\"#md9c0573a85\" y=\"224.64\"/>\n      </g>\n     </g>\n     <g id=\"text_10\">\n      <!-- 0 -->\n      <g transform=\"translate(13.5625 228.439219)scale(0.1 -0.1)\">\n       <use xlink:href=\"#DejaVuSans-48\"/>\n      </g>\n     </g>\n    </g>\n    <g id=\"ytick_2\">\n     <g id=\"line2d_11\">\n      <g>\n       <use style=\"stroke:#000000;stroke-width:0.8;\" x=\"26.925\" xlink:href=\"#md9c0573a85\" y=\"191.354953\"/>\n      </g>\n     </g>\n     <g id=\"text_11\">\n      <!-- 5 -->\n      <g transform=\"translate(13.5625 195.154171)scale(0.1 -0.1)\">\n       <use xlink:href=\"#DejaVuSans-53\"/>\n      </g>\n     </g>\n    </g>\n    <g id=\"ytick_3\">\n     <g id=\"line2d_12\">\n      <g>\n       <use style=\"stroke:#000000;stroke-width:0.8;\" x=\"26.925\" xlink:href=\"#md9c0573a85\" y=\"158.069905\"/>\n      </g>\n     </g>\n     <g id=\"text_12\">\n      <!-- 10 -->\n      <g transform=\"translate(7.2 161.869124)scale(0.1 -0.1)\">\n       <use xlink:href=\"#DejaVuSans-49\"/>\n       <use x=\"63.623047\" xlink:href=\"#DejaVuSans-48\"/>\n      </g>\n     </g>\n    </g>\n    <g id=\"ytick_4\">\n     <g id=\"line2d_13\">\n      <g>\n       <use style=\"stroke:#000000;stroke-width:0.8;\" x=\"26.925\" xlink:href=\"#md9c0573a85\" y=\"124.784858\"/>\n      </g>\n     </g>\n     <g id=\"text_13\">\n      <!-- 15 -->\n      <g transform=\"translate(7.2 128.584077)scale(0.1 -0.1)\">\n       <use xlink:href=\"#DejaVuSans-49\"/>\n       <use x=\"63.623047\" xlink:href=\"#DejaVuSans-53\"/>\n      </g>\n     </g>\n    </g>\n    <g id=\"ytick_5\">\n     <g id=\"line2d_14\">\n      <g>\n       <use style=\"stroke:#000000;stroke-width:0.8;\" x=\"26.925\" xlink:href=\"#md9c0573a85\" y=\"91.499811\"/>\n      </g>\n     </g>\n     <g id=\"text_14\">\n      <!-- 20 -->\n      <g transform=\"translate(7.2 95.299029)scale(0.1 -0.1)\">\n       <use xlink:href=\"#DejaVuSans-50\"/>\n       <use x=\"63.623047\" xlink:href=\"#DejaVuSans-48\"/>\n      </g>\n     </g>\n    </g>\n    <g id=\"ytick_6\">\n     <g id=\"line2d_15\">\n      <g>\n       <use style=\"stroke:#000000;stroke-width:0.8;\" x=\"26.925\" xlink:href=\"#md9c0573a85\" y=\"58.214763\"/>\n      </g>\n     </g>\n     <g id=\"text_15\">\n      <!-- 25 -->\n      <g transform=\"translate(7.2 62.013982)scale(0.1 -0.1)\">\n       <use xlink:href=\"#DejaVuSans-50\"/>\n       <use x=\"63.623047\" xlink:href=\"#DejaVuSans-53\"/>\n      </g>\n     </g>\n    </g>\n    <g id=\"ytick_7\">\n     <g id=\"line2d_16\">\n      <g>\n       <use style=\"stroke:#000000;stroke-width:0.8;\" x=\"26.925\" xlink:href=\"#md9c0573a85\" y=\"24.929716\"/>\n      </g>\n     </g>\n     <g id=\"text_16\">\n      <!-- 30 -->\n      <g transform=\"translate(7.2 28.728935)scale(0.1 -0.1)\">\n       <defs>\n        <path d=\"M 40.578125 39.3125 \nQ 47.65625 37.796875 51.625 33 \nQ 55.609375 28.21875 55.609375 21.1875 \nQ 55.609375 10.40625 48.1875 4.484375 \nQ 40.765625 -1.421875 27.09375 -1.421875 \nQ 22.515625 -1.421875 17.65625 -0.515625 \nQ 12.796875 0.390625 7.625 2.203125 \nL 7.625 11.71875 \nQ 11.71875 9.328125 16.59375 8.109375 \nQ 21.484375 6.890625 26.8125 6.890625 \nQ 36.078125 6.890625 40.9375 10.546875 \nQ 45.796875 14.203125 45.796875 21.1875 \nQ 45.796875 27.640625 41.28125 31.265625 \nQ 36.765625 34.90625 28.71875 34.90625 \nL 20.21875 34.90625 \nL 20.21875 43.015625 \nL 29.109375 43.015625 \nQ 36.375 43.015625 40.234375 45.921875 \nQ 44.09375 48.828125 44.09375 54.296875 \nQ 44.09375 59.90625 40.109375 62.90625 \nQ 36.140625 65.921875 28.71875 65.921875 \nQ 24.65625 65.921875 20.015625 65.03125 \nQ 15.375 64.15625 9.8125 62.3125 \nL 9.8125 71.09375 \nQ 15.4375 72.65625 20.34375 73.4375 \nQ 25.25 74.21875 29.59375 74.21875 \nQ 40.828125 74.21875 47.359375 69.109375 \nQ 53.90625 64.015625 53.90625 55.328125 \nQ 53.90625 49.265625 50.4375 45.09375 \nQ 46.96875 40.921875 40.578125 39.3125 \nz\n\" id=\"DejaVuSans-51\"/>\n       </defs>\n       <use xlink:href=\"#DejaVuSans-51\"/>\n       <use x=\"63.623047\" xlink:href=\"#DejaVuSans-48\"/>\n      </g>\n     </g>\n    </g>\n   </g>\n   <g id=\"line2d_17\">\n    <path clip-path=\"url(#pab9d624946)\" d=\"M 42.143182 224.64 \nL 45.217562 224.64 \nL 48.291942 224.64 \nL 51.366322 224.64 \nL 54.440702 224.64 \nL 57.515083 224.64 \nL 60.589463 224.64 \nL 63.663843 224.64 \nL 66.738223 224.64 \nL 69.812603 224.64 \nL 72.886983 224.64 \nL 75.961364 224.64 \nL 79.035744 224.64 \nL 82.110124 224.64 \nL 85.184504 224.64 \nL 88.258884 224.64 \nL 91.333264 224.64 \nL 94.407645 224.64 \nL 97.482025 224.64 \nL 100.556405 224.64 \nL 103.630785 224.64 \nL 106.705165 224.64 \nL 109.779545 224.64 \nL 112.853926 224.64 \nL 115.928306 224.64 \nL 119.002686 224.64 \nL 122.077066 224.64 \nL 125.151446 224.64 \nL 128.225826 224.64 \nL 131.300207 224.64 \nL 134.374587 224.64 \nL 137.448967 224.64 \nL 140.523347 224.64 \nL 143.597727 224.64 \nL 146.672107 224.64 \nL 149.746488 224.64 \nL 152.820868 224.64 \nL 155.895248 224.64 \nL 158.969628 224.64 \nL 162.044008 224.64 \nL 165.118388 224.64 \nL 168.192769 224.64 \nL 171.267149 224.64 \nL 174.341529 224.64 \nL 177.415909 224.64 \nL 180.490289 224.64 \nL 183.564669 224.64 \nL 186.63905 224.64 \nL 189.71343 224.64 \nL 192.78781 224.64 \nL 195.86219 224.64 \nL 198.93657 224.64 \nL 202.01095 224.64 \nL 205.085331 224.639999 \nL 208.159711 224.639998 \nL 211.234091 224.639995 \nL 214.308471 224.639987 \nL 217.382851 224.639971 \nL 220.457231 224.639935 \nL 223.531612 224.639861 \nL 226.605992 224.639716 \nL 229.680372 224.639442 \nL 232.754752 224.638949 \nL 235.829132 224.638098 \nL 238.903512 224.636696 \nL 241.977893 224.634488 \nL 245.052273 224.631174 \nL 248.126653 224.626428 \nL 251.201033 224.61996 \nL 254.275413 224.611573 \nL 257.349793 224.601241 \nL 260.424174 224.589142 \nL 263.498554 224.575629 \nL 266.572934 224.561062 \nL 269.647314 224.545446 \nL 272.721694 224.527786 \nL 275.796074 224.505095 \nL 278.870455 224.470973 \nL 281.944835 224.413753 \nL 285.019215 224.314278 \nL 288.093595 224.143592 \nL 291.167975 223.86107 \nL 294.242355 223.41387 \nL 297.316736 222.738798 \nL 300.391116 221.76772 \nL 303.465496 220.43721 \nL 306.539876 218.702204 \nL 309.614256 216.552022 \nL 312.688636 214.025668 \nL 315.763017 211.222216 \nL 318.837397 208.302056 \nL 321.911777 205.476102 \nL 324.986157 202.982638 \nL 328.060537 201.054842 \nL 331.134917 199.884975 \nL 334.209298 199.592859 \nL 337.283678 200.205804 \nL 340.358058 201.654626 \nL 343.432438 203.786494 \nL 346.506818 206.391335 \n\" style=\"fill:none;stroke:#ff7f0e;stroke-linecap:square;stroke-width:1.5;\"/>\n   </g>\n   <g id=\"patch_39\">\n    <path d=\"M 26.925 224.64 \nL 26.925 7.2 \n\" style=\"fill:none;stroke:#000000;stroke-linecap:square;stroke-linejoin:miter;stroke-width:0.8;\"/>\n   </g>\n   <g id=\"patch_40\">\n    <path d=\"M 361.725 224.64 \nL 361.725 7.2 \n\" style=\"fill:none;stroke:#000000;stroke-linecap:square;stroke-linejoin:miter;stroke-width:0.8;\"/>\n   </g>\n   <g id=\"patch_41\">\n    <path d=\"M 26.925 224.64 \nL 361.725 224.64 \n\" style=\"fill:none;stroke:#000000;stroke-linecap:square;stroke-linejoin:miter;stroke-width:0.8;\"/>\n   </g>\n   <g id=\"patch_42\">\n    <path d=\"M 26.925 7.2 \nL 361.725 7.2 \n\" style=\"fill:none;stroke:#000000;stroke-linecap:square;stroke-linejoin:miter;stroke-width:0.8;\"/>\n   </g>\n  </g>\n </g>\n <defs>\n  <clipPath id=\"pab9d624946\">\n   <rect height=\"217.44\" width=\"334.8\" x=\"26.925\" y=\"7.2\"/>\n  </clipPath>\n </defs>\n</svg>\n",
      "image/png": "[encoded data removed]"
     },
     "metadata": {
      "needs_background": "light"
     }
    },
    {
     "output_type": "stream",
     "name": "stdout",
     "text": [
      "Correlation:  0.5562343778321716\nScore:  0.02561067228536596\nDrift@ 6362\n[ 19,13,1,3,18,6,2,0,8,5,7,4,16,11,15,14,9,10,12,17 ] \t[ 19,18,1,6,2,9,3,7,5,4,12,8,11,10,15,16,13,14,17,0 ]\n"
     ]
    },
    {
     "output_type": "display_data",
     "data": {
      "text/plain": "<Figure size 432x288 with 1 Axes>",
      "image/svg+xml": "<?xml version=\"1.0\" encoding=\"utf-8\" standalone=\"no\"?>\n<!DOCTYPE svg PUBLIC \"-//W3C//DTD SVG 1.1//EN\"\n  \"http://www.w3.org/Graphics/SVG/1.1/DTD/svg11.dtd\">\n<!-- Created with matplotlib (https://matplotlib.org/) -->\n<svg height=\"248.518125pt\" version=\"1.1\" viewBox=\"0 0 368.925 248.518125\" width=\"368.925pt\" xmlns=\"http://www.w3.org/2000/svg\" xmlns:xlink=\"http://www.w3.org/1999/xlink\">\n <metadata>\n  <rdf:RDF xmlns:cc=\"http://creativecommons.org/ns#\" xmlns:dc=\"http://purl.org/dc/elements/1.1/\" xmlns:rdf=\"http://www.w3.org/1999/02/22-rdf-syntax-ns#\">\n   <cc:Work>\n    <dc:type rdf:resource=\"http://purl.org/dc/dcmitype/StillImage\"/>\n    <dc:date>2021-06-12T01:17:18.877929</dc:date>\n    <dc:format>image/svg+xml</dc:format>\n    <dc:creator>\n     <cc:Agent>\n      <dc:title>Matplotlib v3.3.4, https://matplotlib.org/</dc:title>\n     </cc:Agent>\n    </dc:creator>\n   </cc:Work>\n  </rdf:RDF>\n </metadata>\n <defs>\n  <style type=\"text/css\">*{stroke-linecap:butt;stroke-linejoin:round;}</style>\n </defs>\n <g id=\"figure_1\">\n  <g id=\"patch_1\">\n   <path d=\"M -0 248.518125 \nL 368.925 248.518125 \nL 368.925 0 \nL -0 0 \nz\n\" style=\"fill:none;\"/>\n  </g>\n  <g id=\"axes_1\">\n   <g id=\"patch_2\">\n    <path d=\"M 26.925 224.64 \nL 361.725 224.64 \nL 361.725 7.2 \nL 26.925 7.2 \nz\n\" style=\"fill:#ffffff;\"/>\n   </g>\n   <g id=\"patch_3\">\n    <path clip-path=\"url(#p8ed8bc424f)\" d=\"M 269.546342 224.64 \nL 271.674652 224.64 \nL 271.674652 222.114564 \nL 269.546342 222.114564 \nz\n\" style=\"fill:#1f77b4;\"/>\n   </g>\n   <g id=\"patch_4\">\n    <path clip-path=\"url(#p8ed8bc424f)\" d=\"M 271.674652 224.64 \nL 273.802962 224.64 \nL 273.802962 224.64 \nL 271.674652 224.64 \nz\n\" style=\"fill:#1f77b4;\"/>\n   </g>\n   <g id=\"patch_5\">\n    <path clip-path=\"url(#p8ed8bc424f)\" d=\"M 273.802962 224.64 \nL 275.931273 224.64 \nL 275.931273 224.64 \nL 273.802962 224.64 \nz\n\" style=\"fill:#1f77b4;\"/>\n   </g>\n   <g id=\"patch_6\">\n    <path clip-path=\"url(#p8ed8bc424f)\" d=\"M 275.931273 224.64 \nL 278.059583 224.64 \nL 278.059583 224.64 \nL 275.931273 224.64 \nz\n\" style=\"fill:#1f77b4;\"/>\n   </g>\n   <g id=\"patch_7\">\n    <path clip-path=\"url(#p8ed8bc424f)\" d=\"M 278.059583 224.64 \nL 280.187893 224.64 \nL 280.187893 224.64 \nL 278.059583 224.64 \nz\n\" style=\"fill:#1f77b4;\"/>\n   </g>\n   <g id=\"patch_8\">\n    <path clip-path=\"url(#p8ed8bc424f)\" d=\"M 280.187893 224.64 \nL 282.316203 224.64 \nL 282.316203 224.64 \nL 280.187893 224.64 \nz\n\" style=\"fill:#1f77b4;\"/>\n   </g>\n   <g id=\"patch_9\">\n    <path clip-path=\"url(#p8ed8bc424f)\" d=\"M 282.316203 224.64 \nL 284.444513 224.64 \nL 284.444513 224.64 \nL 282.316203 224.64 \nz\n\" style=\"fill:#1f77b4;\"/>\n   </g>\n   <g id=\"patch_10\">\n    <path clip-path=\"url(#p8ed8bc424f)\" d=\"M 284.444513 224.64 \nL 286.572823 224.64 \nL 286.572823 224.64 \nL 284.444513 224.64 \nz\n\" style=\"fill:#1f77b4;\"/>\n   </g>\n   <g id=\"patch_11\">\n    <path clip-path=\"url(#p8ed8bc424f)\" d=\"M 286.572823 224.64 \nL 288.701133 224.64 \nL 288.701133 224.64 \nL 286.572823 224.64 \nz\n\" style=\"fill:#1f77b4;\"/>\n   </g>\n   <g id=\"patch_12\">\n    <path clip-path=\"url(#p8ed8bc424f)\" d=\"M 288.701133 224.64 \nL 290.829444 224.64 \nL 290.829444 224.64 \nL 288.701133 224.64 \nz\n\" style=\"fill:#1f77b4;\"/>\n   </g>\n   <g id=\"patch_13\">\n    <path clip-path=\"url(#p8ed8bc424f)\" d=\"M 290.829444 224.64 \nL 292.957754 224.64 \nL 292.957754 224.64 \nL 290.829444 224.64 \nz\n\" style=\"fill:#1f77b4;\"/>\n   </g>\n   <g id=\"patch_14\">\n    <path clip-path=\"url(#p8ed8bc424f)\" d=\"M 292.957754 224.64 \nL 295.086064 224.64 \nL 295.086064 224.64 \nL 292.957754 224.64 \nz\n\" style=\"fill:#1f77b4;\"/>\n   </g>\n   <g id=\"patch_15\">\n    <path clip-path=\"url(#p8ed8bc424f)\" d=\"M 295.086064 224.64 \nL 297.214374 224.64 \nL 297.214374 224.64 \nL 295.086064 224.64 \nz\n\" style=\"fill:#1f77b4;\"/>\n   </g>\n   <g id=\"patch_16\">\n    <path clip-path=\"url(#p8ed8bc424f)\" d=\"M 297.214374 224.64 \nL 299.342684 224.64 \nL 299.342684 224.64 \nL 297.214374 224.64 \nz\n\" style=\"fill:#1f77b4;\"/>\n   </g>\n   <g id=\"patch_17\">\n    <path clip-path=\"url(#p8ed8bc424f)\" d=\"M 299.342684 224.64 \nL 301.470994 224.64 \nL 301.470994 224.64 \nL 299.342684 224.64 \nz\n\" style=\"fill:#1f77b4;\"/>\n   </g>\n   <g id=\"patch_18\">\n    <path clip-path=\"url(#p8ed8bc424f)\" d=\"M 301.470994 224.64 \nL 303.599304 224.64 \nL 303.599304 224.64 \nL 301.470994 224.64 \nz\n\" style=\"fill:#1f77b4;\"/>\n   </g>\n   <g id=\"patch_19\">\n    <path clip-path=\"url(#p8ed8bc424f)\" d=\"M 303.599304 224.64 \nL 305.727614 224.64 \nL 305.727614 224.64 \nL 303.599304 224.64 \nz\n\" style=\"fill:#1f77b4;\"/>\n   </g>\n   <g id=\"patch_20\">\n    <path clip-path=\"url(#p8ed8bc424f)\" d=\"M 305.727614 224.64 \nL 307.855925 224.64 \nL 307.855925 224.64 \nL 305.727614 224.64 \nz\n\" style=\"fill:#1f77b4;\"/>\n   </g>\n   <g id=\"patch_21\">\n    <path clip-path=\"url(#p8ed8bc424f)\" d=\"M 307.855925 224.64 \nL 309.984235 224.64 \nL 309.984235 224.64 \nL 307.855925 224.64 \nz\n\" style=\"fill:#1f77b4;\"/>\n   </g>\n   <g id=\"patch_22\">\n    <path clip-path=\"url(#p8ed8bc424f)\" d=\"M 309.984235 224.64 \nL 312.112545 224.64 \nL 312.112545 224.64 \nL 309.984235 224.64 \nz\n\" style=\"fill:#1f77b4;\"/>\n   </g>\n   <g id=\"patch_23\">\n    <path clip-path=\"url(#p8ed8bc424f)\" d=\"M 312.112545 224.64 \nL 314.240855 224.64 \nL 314.240855 224.64 \nL 312.112545 224.64 \nz\n\" style=\"fill:#1f77b4;\"/>\n   </g>\n   <g id=\"patch_24\">\n    <path clip-path=\"url(#p8ed8bc424f)\" d=\"M 314.240855 224.64 \nL 316.369165 224.64 \nL 316.369165 224.64 \nL 314.240855 224.64 \nz\n\" style=\"fill:#1f77b4;\"/>\n   </g>\n   <g id=\"patch_25\">\n    <path clip-path=\"url(#p8ed8bc424f)\" d=\"M 316.369165 224.64 \nL 318.497475 224.64 \nL 318.497475 224.64 \nL 316.369165 224.64 \nz\n\" style=\"fill:#1f77b4;\"/>\n   </g>\n   <g id=\"patch_26\">\n    <path clip-path=\"url(#p8ed8bc424f)\" d=\"M 318.497475 224.64 \nL 320.625785 224.64 \nL 320.625785 224.64 \nL 318.497475 224.64 \nz\n\" style=\"fill:#1f77b4;\"/>\n   </g>\n   <g id=\"patch_27\">\n    <path clip-path=\"url(#p8ed8bc424f)\" d=\"M 320.625785 224.64 \nL 322.754095 224.64 \nL 322.754095 224.64 \nL 320.625785 224.64 \nz\n\" style=\"fill:#1f77b4;\"/>\n   </g>\n   <g id=\"patch_28\">\n    <path clip-path=\"url(#p8ed8bc424f)\" d=\"M 322.754095 224.64 \nL 324.882406 224.64 \nL 324.882406 224.64 \nL 322.754095 224.64 \nz\n\" style=\"fill:#1f77b4;\"/>\n   </g>\n   <g id=\"patch_29\">\n    <path clip-path=\"url(#p8ed8bc424f)\" d=\"M 324.882406 224.64 \nL 327.010716 224.64 \nL 327.010716 196.860209 \nL 324.882406 196.860209 \nz\n\" style=\"fill:#1f77b4;\"/>\n   </g>\n   <g id=\"patch_30\">\n    <path clip-path=\"url(#p8ed8bc424f)\" d=\"M 327.010716 224.64 \nL 329.139026 224.64 \nL 329.139026 222.114564 \nL 327.010716 222.114564 \nz\n\" style=\"fill:#1f77b4;\"/>\n   </g>\n   <g id=\"patch_31\">\n    <path clip-path=\"url(#p8ed8bc424f)\" d=\"M 329.139026 224.64 \nL 331.267336 224.64 \nL 331.267336 219.589129 \nL 329.139026 219.589129 \nz\n\" style=\"fill:#1f77b4;\"/>\n   </g>\n   <g id=\"patch_32\">\n    <path clip-path=\"url(#p8ed8bc424f)\" d=\"M 331.267336 224.64 \nL 333.395646 224.64 \nL 333.395646 209.487387 \nL 331.267336 209.487387 \nz\n\" style=\"fill:#1f77b4;\"/>\n   </g>\n   <g id=\"patch_33\">\n    <path clip-path=\"url(#p8ed8bc424f)\" d=\"M 333.395646 224.64 \nL 335.523956 224.64 \nL 335.523956 212.012822 \nL 333.395646 212.012822 \nz\n\" style=\"fill:#1f77b4;\"/>\n   </g>\n   <g id=\"patch_34\">\n    <path clip-path=\"url(#p8ed8bc424f)\" d=\"M 335.523956 224.64 \nL 337.652266 224.64 \nL 337.652266 189.283902 \nL 335.523956 189.283902 \nz\n\" style=\"fill:#1f77b4;\"/>\n   </g>\n   <g id=\"patch_35\">\n    <path clip-path=\"url(#p8ed8bc424f)\" d=\"M 337.652266 224.64 \nL 339.780577 224.64 \nL 339.780577 222.114564 \nL 337.652266 222.114564 \nz\n\" style=\"fill:#1f77b4;\"/>\n   </g>\n   <g id=\"patch_36\">\n    <path clip-path=\"url(#p8ed8bc424f)\" d=\"M 339.780577 224.64 \nL 341.908887 224.64 \nL 341.908887 57.961254 \nL 339.780577 57.961254 \nz\n\" style=\"fill:#1f77b4;\"/>\n   </g>\n   <g id=\"patch_37\">\n    <path clip-path=\"url(#p8ed8bc424f)\" d=\"M 341.908887 224.64 \nL 344.037197 224.64 \nL 344.037197 68.062997 \nL 341.908887 68.062997 \nz\n\" style=\"fill:#1f77b4;\"/>\n   </g>\n   <g id=\"patch_38\">\n    <path clip-path=\"url(#p8ed8bc424f)\" d=\"M 344.037197 224.64 \nL 346.165507 224.64 \nL 346.165507 17.554286 \nL 344.037197 17.554286 \nz\n\" style=\"fill:#1f77b4;\"/>\n   </g>\n   <g id=\"matplotlib.axis_1\">\n    <g id=\"xtick_1\">\n     <g id=\"line2d_1\">\n      <defs>\n       <path d=\"M 0 0 \nL 0 3.5 \n\" id=\"m999fc4db1c\" style=\"stroke:#000000;stroke-width:0.8;\"/>\n      </defs>\n      <g>\n       <use style=\"stroke:#000000;stroke-width:0.8;\" x=\"42.143182\" xlink:href=\"#m999fc4db1c\" y=\"224.64\"/>\n      </g>\n     </g>\n     <g id=\"text_1\">\n      <!-- −1.00 -->\n      <g transform=\"translate(26.820526 239.238437)scale(0.1 -0.1)\">\n       <defs>\n        <path d=\"M 10.59375 35.5 \nL 73.1875 35.5 \nL 73.1875 27.203125 \nL 10.59375 27.203125 \nz\n\" id=\"DejaVuSans-8722\"/>\n        <path d=\"M 12.40625 8.296875 \nL 28.515625 8.296875 \nL 28.515625 63.921875 \nL 10.984375 60.40625 \nL 10.984375 69.390625 \nL 28.421875 72.90625 \nL 38.28125 72.90625 \nL 38.28125 8.296875 \nL 54.390625 8.296875 \nL 54.390625 0 \nL 12.40625 0 \nz\n\" id=\"DejaVuSans-49\"/>\n        <path d=\"M 10.6875 12.40625 \nL 21 12.40625 \nL 21 0 \nL 10.6875 0 \nz\n\" id=\"DejaVuSans-46\"/>\n        <path d=\"M 31.78125 66.40625 \nQ 24.171875 66.40625 20.328125 58.90625 \nQ 16.5 51.421875 16.5 36.375 \nQ 16.5 21.390625 20.328125 13.890625 \nQ 24.171875 6.390625 31.78125 6.390625 \nQ 39.453125 6.390625 43.28125 13.890625 \nQ 47.125 21.390625 47.125 36.375 \nQ 47.125 51.421875 43.28125 58.90625 \nQ 39.453125 66.40625 31.78125 66.40625 \nz\nM 31.78125 74.21875 \nQ 44.046875 74.21875 50.515625 64.515625 \nQ 56.984375 54.828125 56.984375 36.375 \nQ 56.984375 17.96875 50.515625 8.265625 \nQ 44.046875 -1.421875 31.78125 -1.421875 \nQ 19.53125 -1.421875 13.0625 8.265625 \nQ 6.59375 17.96875 6.59375 36.375 \nQ 6.59375 54.828125 13.0625 64.515625 \nQ 19.53125 74.21875 31.78125 74.21875 \nz\n\" id=\"DejaVuSans-48\"/>\n       </defs>\n       <use xlink:href=\"#DejaVuSans-8722\"/>\n       <use x=\"83.789062\" xlink:href=\"#DejaVuSans-49\"/>\n       <use x=\"147.412109\" xlink:href=\"#DejaVuSans-46\"/>\n       <use x=\"179.199219\" xlink:href=\"#DejaVuSans-48\"/>\n       <use x=\"242.822266\" xlink:href=\"#DejaVuSans-48\"/>\n      </g>\n     </g>\n    </g>\n    <g id=\"xtick_2\">\n     <g id=\"line2d_2\">\n      <g>\n       <use style=\"stroke:#000000;stroke-width:0.8;\" x=\"80.188636\" xlink:href=\"#m999fc4db1c\" y=\"224.64\"/>\n      </g>\n     </g>\n     <g id=\"text_2\">\n      <!-- −0.75 -->\n      <g transform=\"translate(64.86598 239.238437)scale(0.1 -0.1)\">\n       <defs>\n        <path d=\"M 8.203125 72.90625 \nL 55.078125 72.90625 \nL 55.078125 68.703125 \nL 28.609375 0 \nL 18.3125 0 \nL 43.21875 64.59375 \nL 8.203125 64.59375 \nz\n\" id=\"DejaVuSans-55\"/>\n        <path d=\"M 10.796875 72.90625 \nL 49.515625 72.90625 \nL 49.515625 64.59375 \nL 19.828125 64.59375 \nL 19.828125 46.734375 \nQ 21.96875 47.46875 24.109375 47.828125 \nQ 26.265625 48.1875 28.421875 48.1875 \nQ 40.625 48.1875 47.75 41.5 \nQ 54.890625 34.8125 54.890625 23.390625 \nQ 54.890625 11.625 47.5625 5.09375 \nQ 40.234375 -1.421875 26.90625 -1.421875 \nQ 22.3125 -1.421875 17.546875 -0.640625 \nQ 12.796875 0.140625 7.71875 1.703125 \nL 7.71875 11.625 \nQ 12.109375 9.234375 16.796875 8.0625 \nQ 21.484375 6.890625 26.703125 6.890625 \nQ 35.15625 6.890625 40.078125 11.328125 \nQ 45.015625 15.765625 45.015625 23.390625 \nQ 45.015625 31 40.078125 35.4375 \nQ 35.15625 39.890625 26.703125 39.890625 \nQ 22.75 39.890625 18.8125 39.015625 \nQ 14.890625 38.140625 10.796875 36.28125 \nz\n\" id=\"DejaVuSans-53\"/>\n       </defs>\n       <use xlink:href=\"#DejaVuSans-8722\"/>\n       <use x=\"83.789062\" xlink:href=\"#DejaVuSans-48\"/>\n       <use x=\"147.412109\" xlink:href=\"#DejaVuSans-46\"/>\n       <use x=\"179.199219\" xlink:href=\"#DejaVuSans-55\"/>\n       <use x=\"242.822266\" xlink:href=\"#DejaVuSans-53\"/>\n      </g>\n     </g>\n    </g>\n    <g id=\"xtick_3\">\n     <g id=\"line2d_3\">\n      <g>\n       <use style=\"stroke:#000000;stroke-width:0.8;\" x=\"118.234091\" xlink:href=\"#m999fc4db1c\" y=\"224.64\"/>\n      </g>\n     </g>\n     <g id=\"text_3\">\n      <!-- −0.50 -->\n      <g transform=\"translate(102.911435 239.238437)scale(0.1 -0.1)\">\n       <use xlink:href=\"#DejaVuSans-8722\"/>\n       <use x=\"83.789062\" xlink:href=\"#DejaVuSans-48\"/>\n       <use x=\"147.412109\" xlink:href=\"#DejaVuSans-46\"/>\n       <use x=\"179.199219\" xlink:href=\"#DejaVuSans-53\"/>\n       <use x=\"242.822266\" xlink:href=\"#DejaVuSans-48\"/>\n      </g>\n     </g>\n    </g>\n    <g id=\"xtick_4\">\n     <g id=\"line2d_4\">\n      <g>\n       <use style=\"stroke:#000000;stroke-width:0.8;\" x=\"156.279545\" xlink:href=\"#m999fc4db1c\" y=\"224.64\"/>\n      </g>\n     </g>\n     <g id=\"text_4\">\n      <!-- −0.25 -->\n      <g transform=\"translate(140.956889 239.238437)scale(0.1 -0.1)\">\n       <defs>\n        <path d=\"M 19.1875 8.296875 \nL 53.609375 8.296875 \nL 53.609375 0 \nL 7.328125 0 \nL 7.328125 8.296875 \nQ 12.9375 14.109375 22.625 23.890625 \nQ 32.328125 33.6875 34.8125 36.53125 \nQ 39.546875 41.84375 41.421875 45.53125 \nQ 43.3125 49.21875 43.3125 52.78125 \nQ 43.3125 58.59375 39.234375 62.25 \nQ 35.15625 65.921875 28.609375 65.921875 \nQ 23.96875 65.921875 18.8125 64.3125 \nQ 13.671875 62.703125 7.8125 59.421875 \nL 7.8125 69.390625 \nQ 13.765625 71.78125 18.9375 73 \nQ 24.125 74.21875 28.421875 74.21875 \nQ 39.75 74.21875 46.484375 68.546875 \nQ 53.21875 62.890625 53.21875 53.421875 \nQ 53.21875 48.921875 51.53125 44.890625 \nQ 49.859375 40.875 45.40625 35.40625 \nQ 44.1875 33.984375 37.640625 27.21875 \nQ 31.109375 20.453125 19.1875 8.296875 \nz\n\" id=\"DejaVuSans-50\"/>\n       </defs>\n       <use xlink:href=\"#DejaVuSans-8722\"/>\n       <use x=\"83.789062\" xlink:href=\"#DejaVuSans-48\"/>\n       <use x=\"147.412109\" xlink:href=\"#DejaVuSans-46\"/>\n       <use x=\"179.199219\" xlink:href=\"#DejaVuSans-50\"/>\n       <use x=\"242.822266\" xlink:href=\"#DejaVuSans-53\"/>\n      </g>\n     </g>\n    </g>\n    <g id=\"xtick_5\">\n     <g id=\"line2d_5\">\n      <g>\n       <use style=\"stroke:#000000;stroke-width:0.8;\" x=\"194.325\" xlink:href=\"#m999fc4db1c\" y=\"224.64\"/>\n      </g>\n     </g>\n     <g id=\"text_5\">\n      <!-- 0.00 -->\n      <g transform=\"translate(183.192188 239.238437)scale(0.1 -0.1)\">\n       <use xlink:href=\"#DejaVuSans-48\"/>\n       <use x=\"63.623047\" xlink:href=\"#DejaVuSans-46\"/>\n       <use x=\"95.410156\" xlink:href=\"#DejaVuSans-48\"/>\n       <use x=\"159.033203\" xlink:href=\"#DejaVuSans-48\"/>\n      </g>\n     </g>\n    </g>\n    <g id=\"xtick_6\">\n     <g id=\"line2d_6\">\n      <g>\n       <use style=\"stroke:#000000;stroke-width:0.8;\" x=\"232.370455\" xlink:href=\"#m999fc4db1c\" y=\"224.64\"/>\n      </g>\n     </g>\n     <g id=\"text_6\">\n      <!-- 0.25 -->\n      <g transform=\"translate(221.237642 239.238437)scale(0.1 -0.1)\">\n       <use xlink:href=\"#DejaVuSans-48\"/>\n       <use x=\"63.623047\" xlink:href=\"#DejaVuSans-46\"/>\n       <use x=\"95.410156\" xlink:href=\"#DejaVuSans-50\"/>\n       <use x=\"159.033203\" xlink:href=\"#DejaVuSans-53\"/>\n      </g>\n     </g>\n    </g>\n    <g id=\"xtick_7\">\n     <g id=\"line2d_7\">\n      <g>\n       <use style=\"stroke:#000000;stroke-width:0.8;\" x=\"270.415909\" xlink:href=\"#m999fc4db1c\" y=\"224.64\"/>\n      </g>\n     </g>\n     <g id=\"text_7\">\n      <!-- 0.50 -->\n      <g transform=\"translate(259.283097 239.238437)scale(0.1 -0.1)\">\n       <use xlink:href=\"#DejaVuSans-48\"/>\n       <use x=\"63.623047\" xlink:href=\"#DejaVuSans-46\"/>\n       <use x=\"95.410156\" xlink:href=\"#DejaVuSans-53\"/>\n       <use x=\"159.033203\" xlink:href=\"#DejaVuSans-48\"/>\n      </g>\n     </g>\n    </g>\n    <g id=\"xtick_8\">\n     <g id=\"line2d_8\">\n      <g>\n       <use style=\"stroke:#000000;stroke-width:0.8;\" x=\"308.461364\" xlink:href=\"#m999fc4db1c\" y=\"224.64\"/>\n      </g>\n     </g>\n     <g id=\"text_8\">\n      <!-- 0.75 -->\n      <g transform=\"translate(297.328551 239.238437)scale(0.1 -0.1)\">\n       <use xlink:href=\"#DejaVuSans-48\"/>\n       <use x=\"63.623047\" xlink:href=\"#DejaVuSans-46\"/>\n       <use x=\"95.410156\" xlink:href=\"#DejaVuSans-55\"/>\n       <use x=\"159.033203\" xlink:href=\"#DejaVuSans-53\"/>\n      </g>\n     </g>\n    </g>\n    <g id=\"xtick_9\">\n     <g id=\"line2d_9\">\n      <g>\n       <use style=\"stroke:#000000;stroke-width:0.8;\" x=\"346.506818\" xlink:href=\"#m999fc4db1c\" y=\"224.64\"/>\n      </g>\n     </g>\n     <g id=\"text_9\">\n      <!-- 1.00 -->\n      <g transform=\"translate(335.374006 239.238437)scale(0.1 -0.1)\">\n       <use xlink:href=\"#DejaVuSans-49\"/>\n       <use x=\"63.623047\" xlink:href=\"#DejaVuSans-46\"/>\n       <use x=\"95.410156\" xlink:href=\"#DejaVuSans-48\"/>\n       <use x=\"159.033203\" xlink:href=\"#DejaVuSans-48\"/>\n      </g>\n     </g>\n    </g>\n   </g>\n   <g id=\"matplotlib.axis_2\">\n    <g id=\"ytick_1\">\n     <g id=\"line2d_10\">\n      <defs>\n       <path d=\"M 0 0 \nL -3.5 0 \n\" id=\"m5df4237f29\" style=\"stroke:#000000;stroke-width:0.8;\"/>\n      </defs>\n      <g>\n       <use style=\"stroke:#000000;stroke-width:0.8;\" x=\"26.925\" xlink:href=\"#m5df4237f29\" y=\"224.64\"/>\n      </g>\n     </g>\n     <g id=\"text_10\">\n      <!-- 0 -->\n      <g transform=\"translate(13.5625 228.439219)scale(0.1 -0.1)\">\n       <use xlink:href=\"#DejaVuSans-48\"/>\n      </g>\n     </g>\n    </g>\n    <g id=\"ytick_2\">\n     <g id=\"line2d_11\">\n      <g>\n       <use style=\"stroke:#000000;stroke-width:0.8;\" x=\"26.925\" xlink:href=\"#m5df4237f29\" y=\"180.314652\"/>\n      </g>\n     </g>\n     <g id=\"text_11\">\n      <!-- 5 -->\n      <g transform=\"translate(13.5625 184.11387)scale(0.1 -0.1)\">\n       <use xlink:href=\"#DejaVuSans-53\"/>\n      </g>\n     </g>\n    </g>\n    <g id=\"ytick_3\">\n     <g id=\"line2d_12\">\n      <g>\n       <use style=\"stroke:#000000;stroke-width:0.8;\" x=\"26.925\" xlink:href=\"#m5df4237f29\" y=\"135.989303\"/>\n      </g>\n     </g>\n     <g id=\"text_12\">\n      <!-- 10 -->\n      <g transform=\"translate(7.2 139.788522)scale(0.1 -0.1)\">\n       <use xlink:href=\"#DejaVuSans-49\"/>\n       <use x=\"63.623047\" xlink:href=\"#DejaVuSans-48\"/>\n      </g>\n     </g>\n    </g>\n    <g id=\"ytick_4\">\n     <g id=\"line2d_13\">\n      <g>\n       <use style=\"stroke:#000000;stroke-width:0.8;\" x=\"26.925\" xlink:href=\"#m5df4237f29\" y=\"91.663955\"/>\n      </g>\n     </g>\n     <g id=\"text_13\">\n      <!-- 15 -->\n      <g transform=\"translate(7.2 95.463174)scale(0.1 -0.1)\">\n       <use xlink:href=\"#DejaVuSans-49\"/>\n       <use x=\"63.623047\" xlink:href=\"#DejaVuSans-53\"/>\n      </g>\n     </g>\n    </g>\n    <g id=\"ytick_5\">\n     <g id=\"line2d_14\">\n      <g>\n       <use style=\"stroke:#000000;stroke-width:0.8;\" x=\"26.925\" xlink:href=\"#m5df4237f29\" y=\"47.338607\"/>\n      </g>\n     </g>\n     <g id=\"text_14\">\n      <!-- 20 -->\n      <g transform=\"translate(7.2 51.137825)scale(0.1 -0.1)\">\n       <use xlink:href=\"#DejaVuSans-50\"/>\n       <use x=\"63.623047\" xlink:href=\"#DejaVuSans-48\"/>\n      </g>\n     </g>\n    </g>\n   </g>\n   <g id=\"line2d_15\">\n    <path clip-path=\"url(#p8ed8bc424f)\" d=\"M 42.143182 224.64 \nL 45.217562 224.64 \nL 48.291942 224.64 \nL 51.366322 224.64 \nL 54.440702 224.64 \nL 57.515083 224.64 \nL 60.589463 224.64 \nL 63.663843 224.64 \nL 66.738223 224.64 \nL 69.812603 224.64 \nL 72.886983 224.64 \nL 75.961364 224.64 \nL 79.035744 224.64 \nL 82.110124 224.64 \nL 85.184504 224.64 \nL 88.258884 224.64 \nL 91.333264 224.64 \nL 94.407645 224.64 \nL 97.482025 224.64 \nL 100.556405 224.64 \nL 103.630785 224.64 \nL 106.705165 224.64 \nL 109.779545 224.64 \nL 112.853926 224.64 \nL 115.928306 224.64 \nL 119.002686 224.64 \nL 122.077066 224.64 \nL 125.151446 224.64 \nL 128.225826 224.64 \nL 131.300207 224.64 \nL 134.374587 224.64 \nL 137.448967 224.64 \nL 140.523347 224.64 \nL 143.597727 224.64 \nL 146.672107 224.64 \nL 149.746488 224.64 \nL 152.820868 224.64 \nL 155.895248 224.64 \nL 158.969628 224.64 \nL 162.044008 224.64 \nL 165.118388 224.64 \nL 168.192769 224.64 \nL 171.267149 224.64 \nL 174.341529 224.64 \nL 177.415909 224.64 \nL 180.490289 224.64 \nL 183.564669 224.64 \nL 186.63905 224.64 \nL 189.71343 224.64 \nL 192.78781 224.64 \nL 195.86219 224.639999 \nL 198.93657 224.639997 \nL 202.01095 224.639993 \nL 205.085331 224.639982 \nL 208.159711 224.639959 \nL 211.234091 224.639909 \nL 214.308471 224.639806 \nL 217.382851 224.639604 \nL 220.457231 224.639225 \nL 223.531612 224.638542 \nL 226.605992 224.637369 \nL 229.680372 224.635442 \nL 232.754752 224.632419 \nL 235.829132 224.627895 \nL 238.903512 224.621443 \nL 241.977893 224.612691 \nL 245.052273 224.601417 \nL 248.126653 224.587668 \nL 251.201033 224.571855 \nL 254.275413 224.554803 \nL 257.349793 224.53772 \nL 260.424174 224.522062 \nL 263.498554 224.5093 \nL 266.572934 224.500611 \nL 269.647314 224.496524 \nL 272.721694 224.496561 \nL 275.796074 224.498856 \nL 278.870455 224.499711 \nL 281.944835 224.492977 \nL 285.019215 224.469119 \nL 288.093595 224.413838 \nL 291.167975 224.306159 \nL 294.242355 224.116104 \nL 297.316736 223.802258 \nL 300.391116 223.309923 \nL 303.465496 222.570879 \nL 306.539876 221.506108 \nL 309.614256 220.032817 \nL 312.688636 218.076714 \nL 315.763017 215.589385 \nL 318.837397 212.568939 \nL 321.911777 209.080096 \nL 324.986157 205.268197 \nL 328.060537 201.361149 \nL 331.134917 197.654668 \nL 334.209298 194.479664 \nL 337.283678 192.155494 \nL 340.358058 190.937691 \nL 343.432438 190.971833 \nL 346.506818 192.265055 \n\" style=\"fill:none;stroke:#ff7f0e;stroke-linecap:square;stroke-width:1.5;\"/>\n   </g>\n   <g id=\"patch_39\">\n    <path d=\"M 26.925 224.64 \nL 26.925 7.2 \n\" style=\"fill:none;stroke:#000000;stroke-linecap:square;stroke-linejoin:miter;stroke-width:0.8;\"/>\n   </g>\n   <g id=\"patch_40\">\n    <path d=\"M 361.725 224.64 \nL 361.725 7.2 \n\" style=\"fill:none;stroke:#000000;stroke-linecap:square;stroke-linejoin:miter;stroke-width:0.8;\"/>\n   </g>\n   <g id=\"patch_41\">\n    <path d=\"M 26.925 224.64 \nL 361.725 224.64 \n\" style=\"fill:none;stroke:#000000;stroke-linecap:square;stroke-linejoin:miter;stroke-width:0.8;\"/>\n   </g>\n   <g id=\"patch_42\">\n    <path d=\"M 26.925 7.2 \nL 361.725 7.2 \n\" style=\"fill:none;stroke:#000000;stroke-linecap:square;stroke-linejoin:miter;stroke-width:0.8;\"/>\n   </g>\n  </g>\n </g>\n <defs>\n  <clipPath id=\"p8ed8bc424f\">\n   <rect height=\"217.44\" width=\"334.8\" x=\"26.925\" y=\"7.2\"/>\n  </clipPath>\n </defs>\n</svg>\n",
      "image/png": "[encoded data removed]"
     },
     "metadata": {
      "needs_background": "light"
     }
    },
    {
     "output_type": "stream",
     "name": "stdout",
     "text": [
      "Correlation:  0.49428600023438085\n",
      "Score:  0.01617732349604982\n",
      "Drift@ 18034\n",
      "[ 19,17,18,3,1,2,5,14,8,0,4,6,7,9,15,10,11,12,13,16 ] \t[ 19,18,3,1,2,0,4,5,8,6,7,14,9,10,16,11,12,13,15,17 ]\n",
      "\n",
      "0.547461139896373\n",
      "0.9665492227979275\n",
      "0.6028877374784111\n",
      "0.6577608142493638\n",
      "0.6580187262078417\n",
      "\n"
     ]
    }
   ],
   "source": [
    "from ld3_ import LD3\n",
    "detector = LD3(window_size=250, correlation_thresh=0.06, bandwith=0.1) #20NG-1-5   Synthetic-0.51    tmc 0.4-4/5     imbd 1-4     ohsumed 0.5\n",
    "clf = ClassifierChain(PassiveAggressiveClassifier(random_state=0))\n",
    "pre_sample = [np.zeros(n_features), np.zeros(n_features)]\n",
    "pre_label = [np.ones(n_targets), np.zeros(n_targets)]\n",
    "clf.fit(np.array(pre_sample), np.array(pre_label))\n",
    "\n",
    "stream.restart()\n",
    "max_samples = sample_size\n",
    "y_true = []\n",
    "y_pred = []\n",
    "pretrain_X = []\n",
    "pretrain_y = []\n",
    "correlation_list = []\n",
    "p_bar = tqdm(total=max_samples)\n",
    "n_samples = 0\n",
    "drift, warning = False, False\n",
    "correlation = 0\n",
    "while n_samples < max_samples and stream.has_more_samples():\n",
    "    X, y = stream.next_sample()\n",
    "    '''if n_samples % 100 == 0 and n_samples >500:\n",
    "        print(detector._average_correlation)'''\n",
    "            \n",
    "    '''if n_samples >= 1990 and n_samples <= 2050:\n",
    "        print('Correlation @', n_samples, ': ', score, correlation)\n",
    "        #print(detector._average_correlation)\n",
    "        #r1, r2 = detector._ranks\n",
    "        #print('[',','.join(list(map(str,r1))), ']', '\\t[', ','.join(list(map(str,r2))), ']')'''\n",
    "    if drift:\n",
    "        print('Drift@', n_samples)\n",
    "        r1, r2 = detector._ranks\n",
    "        print('[',','.join(list(map(str,r1))), ']', '\\t[', ','.join(list(map(str,r2))), ']')\n",
    "        clf.reset()\n",
    "        clf.fit(np.array(pre_sample), np.array(pre_label))\n",
    "\n",
    "    pred = clf.predict(X)\n",
    "    #clf.partial_fit(X, np.array([y]))\n",
    "    clf.partial_fit(X, y)\n",
    "    drift, warning, correlation, score = detector.update(pred.astype(np.int32))\n",
    "    if correlation > 0:\n",
    "        correlation_list.append(correlation)\n",
    "    #detector.add_element(np.all(pred.flatten() == y))\n",
    "\n",
    "    #y_true.append(y)\n",
    "    y_true.extend(y)\n",
    "    y_pred.extend(pred)\n",
    "\n",
    "    p_bar.update(1)\n",
    "    n_samples += 1\n",
    "p_bar.close()\n",
    "stream.restart()\n",
    "\n",
    "print()\n",
    "print(accuracy_score(np.array(y_true), np.array(y_pred)))\n",
    "print(hamming_score(np.array(y_true), np.array(y_pred)))\n",
    "print(f1_score(np.array(y_true), np.array(y_pred), average='samples'))\n",
    "print(f1_score(np.array(y_true), np.array(y_pred), average='micro'))\n",
    "print(f1_score(np.array(y_true), np.array(y_pred), average='macro'))\n",
    "print()"
   ]
  },
  {
   "cell_type": "code",
   "execution_count": 10,
   "metadata": {},
   "outputs": [
    {
     "output_type": "display_data",
     "data": {
      "text/plain": "  0%|          | 0/19300 [00:00<?, ?it/s]",
      "application/vnd.jupyter.widget-view+json": {
       "version_major": 2,
       "version_minor": 0,
       "model_id": "269db5f78f404105bcf671c3c7e095c5"
      }
     },
     "metadata": {}
    },
    {
     "output_type": "stream",
     "name": "stdout",
     "text": [
      "Drift@ 1791\n",
      "Drift@ 2015\n",
      "Drift@ 2527\n",
      "Drift@ 3103\n",
      "Drift@ 3711\n",
      "Drift@ 4895\n",
      "Drift@ 5343\n",
      "Drift@ 5599\n",
      "Drift@ 6111\n",
      "Drift@ 6655\n",
      "Drift@ 7167\n",
      "Drift@ 7743\n",
      "Drift@ 8319\n",
      "Drift@ 9215\n",
      "Drift@ 9983\n",
      "Drift@ 11135\n",
      "Drift@ 11903\n",
      "Drift@ 12351\n",
      "Drift@ 12863\n",
      "Drift@ 13119\n",
      "Drift@ 13983\n",
      "Drift@ 14463\n",
      "Drift@ 14847\n",
      "Drift@ 15359\n",
      "Drift@ 16031\n",
      "Drift@ 16895\n",
      "Drift@ 17343\n",
      "Drift@ 18207\n",
      "Drift@ 18591\n",
      "Drift@ 19199\n",
      "0.35590673575129533\n",
      "0.9508056994818652\n",
      "0.3881794643073818\n",
      "0.4611368086495076\n",
      "0.45567112871572923\n",
      "\n"
     ]
    },
    {
     "output_type": "display_data",
     "data": {
      "text/plain": "  0%|          | 0/19300 [00:00<?, ?it/s]",
      "application/vnd.jupyter.widget-view+json": {
       "version_major": 2,
       "version_minor": 0,
       "model_id": "9f06d8e35d2340e79b59cf7e40639e34"
      }
     },
     "metadata": {}
    },
    {
     "output_type": "stream",
     "name": "stdout",
     "text": [
      "Drift@ 87\n",
      "Drift@ 215\n",
      "Drift@ 485\n",
      "Drift@ 716\n",
      "Drift@ 913\n",
      "Drift@ 1132\n",
      "Drift@ 1340\n",
      "Drift@ 1569\n",
      "Drift@ 1831\n",
      "Drift@ 1974\n",
      "Drift@ 2012\n",
      "Drift@ 2052\n",
      "Drift@ 2121\n",
      "Drift@ 2176\n",
      "Drift@ 2353\n",
      "Drift@ 2562\n",
      "Drift@ 2742\n",
      "Drift@ 2981\n",
      "Drift@ 3210\n",
      "Drift@ 3402\n",
      "Drift@ 3595\n",
      "Drift@ 3765\n",
      "Drift@ 3929\n",
      "Drift@ 4109\n",
      "Drift@ 4296\n",
      "Drift@ 4562\n",
      "Drift@ 4802\n",
      "Drift@ 5041\n",
      "Drift@ 5250\n",
      "Drift@ 5446\n",
      "Drift@ 5541\n",
      "Drift@ 5728\n",
      "Drift@ 5902\n",
      "Drift@ 6074\n",
      "Drift@ 6241\n",
      "Drift@ 6478\n",
      "Drift@ 6637\n",
      "Drift@ 6826\n",
      "Drift@ 7012\n",
      "Drift@ 7135\n",
      "Drift@ 7306\n",
      "Drift@ 7496\n",
      "Drift@ 7712\n",
      "Drift@ 7916\n",
      "Drift@ 8020\n",
      "Drift@ 8233\n",
      "Drift@ 8466\n",
      "Drift@ 8672\n",
      "Drift@ 8901\n",
      "Drift@ 9138\n",
      "Drift@ 9381\n",
      "Drift@ 9629\n",
      "Drift@ 9830\n",
      "Drift@ 9949\n",
      "Drift@ 10112\n",
      "Drift@ 10311\n",
      "Drift@ 10555\n",
      "Drift@ 10746\n",
      "Drift@ 10992\n",
      "Drift@ 11245\n",
      "Drift@ 11476\n",
      "Drift@ 11679\n",
      "Drift@ 11847\n",
      "Drift@ 12093\n",
      "Drift@ 12289\n",
      "Drift@ 12503\n",
      "Drift@ 12704\n",
      "Drift@ 12909\n",
      "Drift@ 12993\n",
      "Drift@ 13239\n",
      "Drift@ 13451\n",
      "Drift@ 13710\n",
      "Drift@ 13954\n",
      "Drift@ 14189\n",
      "Drift@ 14438\n",
      "Drift@ 14559\n",
      "Drift@ 14704\n",
      "Drift@ 14844\n",
      "Drift@ 15040\n",
      "Drift@ 15225\n",
      "Drift@ 15367\n",
      "Drift@ 15459\n",
      "Drift@ 15702\n",
      "Drift@ 15919\n",
      "Drift@ 16104\n",
      "Drift@ 16249\n",
      "Drift@ 16410\n",
      "Drift@ 16567\n",
      "Drift@ 16707\n",
      "Drift@ 16817\n",
      "Drift@ 16971\n",
      "Drift@ 17078\n",
      "Drift@ 17206\n",
      "Drift@ 17338\n",
      "Drift@ 17424\n",
      "Drift@ 17550\n",
      "Drift@ 17694\n",
      "Drift@ 17798\n",
      "Drift@ 17913\n",
      "Drift@ 18003\n",
      "Drift@ 18105\n",
      "Drift@ 18149\n",
      "Drift@ 18188\n",
      "Drift@ 18301\n",
      "Drift@ 18365\n",
      "Drift@ 18420\n",
      "Drift@ 18464\n",
      "Drift@ 18522\n",
      "Drift@ 18578\n",
      "Drift@ 18662\n",
      "Drift@ 18748\n",
      "Drift@ 18794\n",
      "Drift@ 18860\n",
      "Drift@ 18932\n",
      "Drift@ 19019\n",
      "Drift@ 19063\n",
      "Drift@ 19118\n",
      "Drift@ 19172\n",
      "Drift@ 19214\n",
      "Drift@ 19254\n",
      "0.2038860103626943\n",
      "0.916020725388601\n",
      "0.21768784820288692\n",
      "0.23934672423502912\n",
      "0.23440226431991223\n",
      "\n"
     ]
    },
    {
     "output_type": "display_data",
     "data": {
      "text/plain": "  0%|          | 0/19300 [00:00<?, ?it/s]",
      "application/vnd.jupyter.widget-view+json": {
       "version_major": 2,
       "version_minor": 0,
       "model_id": "fb3f8b975c6541e69d1c947808b4be89"
      }
     },
     "metadata": {}
    },
    {
     "output_type": "stream",
     "name": "stdout",
     "text": [
      "Drift@ 35\n",
      "Drift@ 98\n",
      "Drift@ 238\n",
      "Drift@ 511\n",
      "Drift@ 575\n",
      "Drift@ 610\n",
      "Drift@ 668\n",
      "Drift@ 709\n",
      "Drift@ 783\n",
      "Drift@ 1067\n",
      "Drift@ 1226\n",
      "Drift@ 1511\n",
      "Drift@ 1585\n",
      "Drift@ 1694\n",
      "Drift@ 1836\n",
      "Drift@ 1877\n",
      "Drift@ 1927\n",
      "Drift@ 1963\n",
      "Drift@ 3863\n",
      "Drift@ 3896\n",
      "Drift@ 4110\n",
      "Drift@ 4230\n",
      "Drift@ 4461\n",
      "Drift@ 4588\n",
      "Drift@ 4620\n",
      "Drift@ 4853\n",
      "Drift@ 4895\n",
      "Drift@ 5020\n",
      "Drift@ 5059\n",
      "Drift@ 5139\n",
      "Drift@ 5267\n",
      "Drift@ 5426\n",
      "Drift@ 5476\n",
      "Drift@ 5929\n",
      "Drift@ 6149\n",
      "Drift@ 6320\n",
      "Drift@ 6414\n",
      "Drift@ 6478\n",
      "Drift@ 6553\n",
      "Drift@ 6599\n",
      "Drift@ 6772\n",
      "Drift@ 6942\n",
      "Drift@ 7003\n",
      "Drift@ 7511\n",
      "Drift@ 7610\n",
      "Drift@ 7777\n",
      "Drift@ 7816\n",
      "Drift@ 7857\n",
      "Drift@ 7984\n",
      "Drift@ 8569\n",
      "Drift@ 8623\n",
      "Drift@ 8832\n",
      "Drift@ 9002\n",
      "Drift@ 9252\n",
      "Drift@ 9326\n",
      "Drift@ 9361\n",
      "Drift@ 9493\n",
      "Drift@ 9641\n",
      "Drift@ 9673\n",
      "Drift@ 9756\n",
      "Drift@ 9793\n",
      "Drift@ 9878\n",
      "Drift@ 9931\n",
      "Drift@ 10797\n",
      "Drift@ 10860\n",
      "Drift@ 10973\n",
      "Drift@ 11052\n",
      "Drift@ 11084\n",
      "Drift@ 11203\n",
      "Drift@ 11252\n",
      "Drift@ 11287\n",
      "Drift@ 11325\n",
      "Drift@ 11378\n",
      "Drift@ 11421\n",
      "Drift@ 11460\n",
      "Drift@ 11524\n",
      "Drift@ 11562\n",
      "Drift@ 11596\n",
      "Drift@ 11640\n",
      "Drift@ 11673\n",
      "Drift@ 11870\n",
      "Drift@ 12145\n",
      "Drift@ 12305\n",
      "Drift@ 12442\n",
      "Drift@ 12585\n",
      "Drift@ 12650\n",
      "Drift@ 12787\n",
      "Drift@ 12930\n",
      "Drift@ 12963\n",
      "Drift@ 13380\n",
      "Drift@ 13456\n",
      "Drift@ 13625\n",
      "Drift@ 13684\n",
      "Drift@ 13777\n",
      "Drift@ 13829\n",
      "Drift@ 13895\n",
      "Drift@ 13935\n",
      "Drift@ 13972\n",
      "Drift@ 14016\n",
      "Drift@ 14085\n",
      "Drift@ 14127\n",
      "Drift@ 14234\n",
      "Drift@ 14412\n",
      "Drift@ 14552\n",
      "Drift@ 14803\n",
      "Drift@ 14897\n",
      "Drift@ 15065\n",
      "Drift@ 15142\n",
      "Drift@ 15297\n",
      "Drift@ 15352\n",
      "Drift@ 15411\n",
      "Drift@ 15771\n",
      "Drift@ 15862\n",
      "Drift@ 15981\n",
      "Drift@ 16015\n",
      "Drift@ 16109\n",
      "Drift@ 16215\n",
      "Drift@ 16259\n",
      "Drift@ 16490\n",
      "Drift@ 16532\n",
      "Drift@ 16578\n",
      "Drift@ 16631\n",
      "Drift@ 16687\n",
      "Drift@ 16737\n",
      "Drift@ 16781\n",
      "Drift@ 16986\n",
      "Drift@ 17021\n",
      "Drift@ 17074\n",
      "Drift@ 17137\n",
      "Drift@ 17354\n",
      "Drift@ 17442\n",
      "Drift@ 17545\n",
      "Drift@ 17815\n",
      "Drift@ 17880\n",
      "Drift@ 17918\n",
      "Drift@ 17964\n",
      "Drift@ 18002\n",
      "0.24124352331606216\n",
      "0.9124844559585492\n",
      "0.2612966146478755\n",
      "0.26631626957409377\n",
      "0.2636852794814716\n",
      "\n"
     ]
    },
    {
     "output_type": "execute_result",
     "data": {
      "text/plain": [
       "0.3326566201173057"
      ]
     },
     "metadata": {},
     "execution_count": 10
    }
   ],
   "source": [
    "detectors = [ADWIN(), EDDM(), DDM()]\n",
    "for detector in detectors:\n",
    "    #detector = EDDM()#LD3(k=1, window_size=500)\n",
    "    clf = ClassifierChain(PassiveAggressiveClassifier(random_state=0))\n",
    "    pre_sample = [np.zeros(n_features), np.zeros(n_features)]\n",
    "    pre_label = [np.ones(n_targets), np.zeros(n_targets)]\n",
    "    clf.fit(np.array(pre_sample), np.array(pre_label))\n",
    "\n",
    "\n",
    "    max_samples = sample_size\n",
    "    y_true = []\n",
    "    y_pred = []\n",
    "    pretrain_X = []\n",
    "    pretrain_y = []\n",
    "    p_bar = tqdm(total=max_samples)\n",
    "    n_samples = 0\n",
    "\n",
    "    while n_samples < max_samples and stream.has_more_samples():\n",
    "        X, y = stream.next_sample()\n",
    "\n",
    "        if detector.detected_change():\n",
    "            print('Drift@', n_samples)\n",
    "            detector.reset()\n",
    "            clf.reset()\n",
    "            clf.fit(np.array(pre_sample), np.array(pre_label))\n",
    "\n",
    "        pred = clf.predict(X)\n",
    "        #clf.partial_fit(X, np.array([y]))\n",
    "        clf.partial_fit(X, y)\n",
    "        #detector.add_element(pred.astype(np.int32))\n",
    "        #detector.add_element(np.all(pred.flatten() == y))\n",
    "        detector.add_element((pred.astype(np.int32).flatten().tolist())==(y.astype(np.int32).flatten().tolist()))\n",
    "\n",
    "        #y_true.append(y)\n",
    "        y_true.extend(y)\n",
    "        y_pred.extend(pred)\n",
    "\n",
    "        p_bar.update(1)\n",
    "        n_samples += 1\n",
    "    \n",
    "    print(accuracy_score(np.array(y_true), np.array(y_pred)))\n",
    "    print(hamming_score(np.array(y_true), np.array(y_pred)))\n",
    "    print(f1_score(np.array(y_true), np.array(y_pred), average='samples'))\n",
    "    print(f1_score(np.array(y_true), np.array(y_pred), average='micro'))\n",
    "    print(f1_score(np.array(y_true), np.array(y_pred), average='macro'))\n",
    "    print()\n",
    "\n",
    "    stream.restart()\n",
    "    0.2346\n",
    "0.9034700000000001\n",
    "0.289334758912585\n",
    "0.3533194881757889\n",
    "0.3326566201173057"
   ]
  },
  {
   "cell_type": "code",
   "execution_count": 4,
   "metadata": {},
   "outputs": [
    {
     "output_type": "display_data",
     "data": {
      "text/plain": "<Figure size 432x288 with 1 Axes>",
      "image/svg+xml": "<?xml version=\"1.0\" encoding=\"utf-8\" standalone=\"no\"?>\n<!DOCTYPE svg PUBLIC \"-//W3C//DTD SVG 1.1//EN\"\n  \"http://www.w3.org/Graphics/SVG/1.1/DTD/svg11.dtd\">\n<!-- Created with matplotlib (https://matplotlib.org/) -->\n<svg height=\"248.518125pt\" version=\"1.1\" viewBox=\"0 0 372.103125 248.518125\" width=\"372.103125pt\" xmlns=\"http://www.w3.org/2000/svg\" xmlns:xlink=\"http://www.w3.org/1999/xlink\">\n <metadata>\n  <rdf:RDF xmlns:cc=\"http://creativecommons.org/ns#\" xmlns:dc=\"http://purl.org/dc/elements/1.1/\" xmlns:rdf=\"http://www.w3.org/1999/02/22-rdf-syntax-ns#\">\n   <cc:Work>\n    <dc:type rdf:resource=\"http://purl.org/dc/dcmitype/StillImage\"/>\n    <dc:date>2021-06-12T00:14:52.338116</dc:date>\n    <dc:format>image/svg+xml</dc:format>\n    <dc:creator>\n     <cc:Agent>\n      <dc:title>Matplotlib v3.3.4, https://matplotlib.org/</dc:title>\n     </cc:Agent>\n    </dc:creator>\n   </cc:Work>\n  </rdf:RDF>\n </metadata>\n <defs>\n  <style type=\"text/css\">*{stroke-linecap:butt;stroke-linejoin:round;}</style>\n </defs>\n <g id=\"figure_1\">\n  <g id=\"patch_1\">\n   <path d=\"M 0 248.518125 \nL 372.103125 248.518125 \nL 372.103125 0 \nL 0 0 \nz\n\" style=\"fill:none;\"/>\n  </g>\n  <g id=\"axes_1\">\n   <g id=\"patch_2\">\n    <path d=\"M 30.103125 224.64 \nL 364.903125 224.64 \nL 364.903125 7.2 \nL 30.103125 7.2 \nz\n\" style=\"fill:#ffffff;\"/>\n   </g>\n   <g id=\"patch_3\">\n    <path clip-path=\"url(#pdc213e2aa8)\" d=\"M 201.60154 224.64 \nL 205.655477 224.64 \nL 205.655477 223.277594 \nL 201.60154 223.277594 \nz\n\" style=\"fill:#1f77b4;\"/>\n   </g>\n   <g id=\"patch_4\">\n    <path clip-path=\"url(#pdc213e2aa8)\" d=\"M 205.655477 224.64 \nL 209.709413 224.64 \nL 209.709413 224.64 \nL 205.655477 224.64 \nz\n\" style=\"fill:#1f77b4;\"/>\n   </g>\n   <g id=\"patch_5\">\n    <path clip-path=\"url(#pdc213e2aa8)\" d=\"M 209.709413 224.64 \nL 213.76335 224.64 \nL 213.76335 224.64 \nL 209.709413 224.64 \nz\n\" style=\"fill:#1f77b4;\"/>\n   </g>\n   <g id=\"patch_6\">\n    <path clip-path=\"url(#pdc213e2aa8)\" d=\"M 213.76335 224.64 \nL 217.817286 224.64 \nL 217.817286 224.64 \nL 213.76335 224.64 \nz\n\" style=\"fill:#1f77b4;\"/>\n   </g>\n   <g id=\"patch_7\">\n    <path clip-path=\"url(#pdc213e2aa8)\" d=\"M 217.817286 224.64 \nL 221.871223 224.64 \nL 221.871223 223.958797 \nL 217.817286 223.958797 \nz\n\" style=\"fill:#1f77b4;\"/>\n   </g>\n   <g id=\"patch_8\">\n    <path clip-path=\"url(#pdc213e2aa8)\" d=\"M 221.871223 224.64 \nL 225.925159 224.64 \nL 225.925159 223.277594 \nL 221.871223 223.277594 \nz\n\" style=\"fill:#1f77b4;\"/>\n   </g>\n   <g id=\"patch_9\">\n    <path clip-path=\"url(#pdc213e2aa8)\" d=\"M 225.925159 224.64 \nL 229.979096 224.64 \nL 229.979096 219.871579 \nL 225.925159 219.871579 \nz\n\" style=\"fill:#1f77b4;\"/>\n   </g>\n   <g id=\"patch_10\">\n    <path clip-path=\"url(#pdc213e2aa8)\" d=\"M 229.979096 224.64 \nL 234.033032 224.64 \nL 234.033032 221.233985 \nL 229.979096 221.233985 \nz\n\" style=\"fill:#1f77b4;\"/>\n   </g>\n   <g id=\"patch_11\">\n    <path clip-path=\"url(#pdc213e2aa8)\" d=\"M 234.033032 224.64 \nL 238.086969 224.64 \nL 238.086969 221.233985 \nL 234.033032 221.233985 \nz\n\" style=\"fill:#1f77b4;\"/>\n   </g>\n   <g id=\"patch_12\">\n    <path clip-path=\"url(#pdc213e2aa8)\" d=\"M 238.086969 224.64 \nL 242.140905 224.64 \nL 242.140905 206.928722 \nL 238.086969 206.928722 \nz\n\" style=\"fill:#1f77b4;\"/>\n   </g>\n   <g id=\"patch_13\">\n    <path clip-path=\"url(#pdc213e2aa8)\" d=\"M 242.140905 224.64 \nL 246.194842 224.64 \nL 246.194842 202.841504 \nL 242.140905 202.841504 \nz\n\" style=\"fill:#1f77b4;\"/>\n   </g>\n   <g id=\"patch_14\">\n    <path clip-path=\"url(#pdc213e2aa8)\" d=\"M 246.194842 224.64 \nL 250.248778 224.64 \nL 250.248778 204.20391 \nL 246.194842 204.20391 \nz\n\" style=\"fill:#1f77b4;\"/>\n   </g>\n   <g id=\"patch_15\">\n    <path clip-path=\"url(#pdc213e2aa8)\" d=\"M 250.248778 224.64 \nL 254.302715 224.64 \nL 254.302715 170.143759 \nL 250.248778 170.143759 \nz\n\" style=\"fill:#1f77b4;\"/>\n   </g>\n   <g id=\"patch_16\">\n    <path clip-path=\"url(#pdc213e2aa8)\" d=\"M 254.302715 224.64 \nL 258.356651 224.64 \nL 258.356651 191.942256 \nL 254.302715 191.942256 \nz\n\" style=\"fill:#1f77b4;\"/>\n   </g>\n   <g id=\"patch_17\">\n    <path clip-path=\"url(#pdc213e2aa8)\" d=\"M 258.356651 224.64 \nL 262.410588 224.64 \nL 262.410588 179.680602 \nL 258.356651 179.680602 \nz\n\" style=\"fill:#1f77b4;\"/>\n   </g>\n   <g id=\"patch_18\">\n    <path clip-path=\"url(#pdc213e2aa8)\" d=\"M 262.410588 224.64 \nL 266.464524 224.64 \nL 266.464524 196.710677 \nL 262.410588 196.710677 \nz\n\" style=\"fill:#1f77b4;\"/>\n   </g>\n   <g id=\"patch_19\">\n    <path clip-path=\"url(#pdc213e2aa8)\" d=\"M 266.464524 224.64 \nL 270.518461 224.64 \nL 270.518461 192.623459 \nL 266.464524 192.623459 \nz\n\" style=\"fill:#1f77b4;\"/>\n   </g>\n   <g id=\"patch_20\">\n    <path clip-path=\"url(#pdc213e2aa8)\" d=\"M 270.518461 224.64 \nL 274.572397 224.64 \nL 274.572397 183.086617 \nL 270.518461 183.086617 \nz\n\" style=\"fill:#1f77b4;\"/>\n   </g>\n   <g id=\"patch_21\">\n    <path clip-path=\"url(#pdc213e2aa8)\" d=\"M 274.572397 224.64 \nL 278.626334 224.64 \nL 278.626334 183.76782 \nL 274.572397 183.76782 \nz\n\" style=\"fill:#1f77b4;\"/>\n   </g>\n   <g id=\"patch_22\">\n    <path clip-path=\"url(#pdc213e2aa8)\" d=\"M 278.626334 224.64 \nL 282.68027 224.64 \nL 282.68027 161.28812 \nL 278.626334 161.28812 \nz\n\" style=\"fill:#1f77b4;\"/>\n   </g>\n   <g id=\"patch_23\">\n    <path clip-path=\"url(#pdc213e2aa8)\" d=\"M 282.68027 224.64 \nL 286.734207 224.64 \nL 286.734207 145.620451 \nL 282.68027 145.620451 \nz\n\" style=\"fill:#1f77b4;\"/>\n   </g>\n   <g id=\"patch_24\">\n    <path clip-path=\"url(#pdc213e2aa8)\" d=\"M 286.734207 224.64 \nL 290.788143 224.64 \nL 290.788143 119.053534 \nL 286.734207 119.053534 \nz\n\" style=\"fill:#1f77b4;\"/>\n   </g>\n   <g id=\"patch_25\">\n    <path clip-path=\"url(#pdc213e2aa8)\" d=\"M 290.788143 224.64 \nL 294.84208 224.64 \nL 294.84208 105.429474 \nL 290.788143 105.429474 \nz\n\" style=\"fill:#1f77b4;\"/>\n   </g>\n   <g id=\"patch_26\">\n    <path clip-path=\"url(#pdc213e2aa8)\" d=\"M 294.84208 224.64 \nL 298.896016 224.64 \nL 298.896016 131.315188 \nL 294.84208 131.315188 \nz\n\" style=\"fill:#1f77b4;\"/>\n   </g>\n   <g id=\"patch_27\">\n    <path clip-path=\"url(#pdc213e2aa8)\" d=\"M 298.896016 224.64 \nL 302.949953 224.64 \nL 302.949953 78.181353 \nL 298.896016 78.181353 \nz\n\" style=\"fill:#1f77b4;\"/>\n   </g>\n   <g id=\"patch_28\">\n    <path clip-path=\"url(#pdc213e2aa8)\" d=\"M 302.949953 224.64 \nL 307.003889 224.64 \nL 307.003889 40.715188 \nL 302.949953 40.715188 \nz\n\" style=\"fill:#1f77b4;\"/>\n   </g>\n   <g id=\"patch_29\">\n    <path clip-path=\"url(#pdc213e2aa8)\" d=\"M 307.003889 224.64 \nL 311.057826 224.64 \nL 311.057826 72.731729 \nL 307.003889 72.731729 \nz\n\" style=\"fill:#1f77b4;\"/>\n   </g>\n   <g id=\"patch_30\">\n    <path clip-path=\"url(#pdc213e2aa8)\" d=\"M 311.057826 224.64 \nL 315.111762 224.64 \nL 315.111762 22.322707 \nL 311.057826 22.322707 \nz\n\" style=\"fill:#1f77b4;\"/>\n   </g>\n   <g id=\"patch_31\">\n    <path clip-path=\"url(#pdc213e2aa8)\" d=\"M 315.111762 224.64 \nL 319.165699 224.64 \nL 319.165699 67.282105 \nL 315.111762 67.282105 \nz\n\" style=\"fill:#1f77b4;\"/>\n   </g>\n   <g id=\"patch_32\">\n    <path clip-path=\"url(#pdc213e2aa8)\" d=\"M 319.165699 224.64 \nL 323.219635 224.64 \nL 323.219635 29.134737 \nL 319.165699 29.134737 \nz\n\" style=\"fill:#1f77b4;\"/>\n   </g>\n   <g id=\"patch_33\">\n    <path clip-path=\"url(#pdc213e2aa8)\" d=\"M 323.219635 224.64 \nL 327.273572 224.64 \nL 327.273572 17.554286 \nL 323.219635 17.554286 \nz\n\" style=\"fill:#1f77b4;\"/>\n   </g>\n   <g id=\"patch_34\">\n    <path clip-path=\"url(#pdc213e2aa8)\" d=\"M 327.273572 224.64 \nL 331.327508 224.64 \nL 331.327508 40.715188 \nL 327.273572 40.715188 \nz\n\" style=\"fill:#1f77b4;\"/>\n   </g>\n   <g id=\"patch_35\">\n    <path clip-path=\"url(#pdc213e2aa8)\" d=\"M 331.327508 224.64 \nL 335.381445 224.64 \nL 335.381445 100.661053 \nL 331.327508 100.661053 \nz\n\" style=\"fill:#1f77b4;\"/>\n   </g>\n   <g id=\"patch_36\">\n    <path clip-path=\"url(#pdc213e2aa8)\" d=\"M 335.381445 224.64 \nL 339.435381 224.64 \nL 339.435381 148.345263 \nL 335.381445 148.345263 \nz\n\" style=\"fill:#1f77b4;\"/>\n   </g>\n   <g id=\"patch_37\">\n    <path clip-path=\"url(#pdc213e2aa8)\" d=\"M 339.435381 224.64 \nL 343.489318 224.64 \nL 343.489318 149.707669 \nL 339.435381 149.707669 \nz\n\" style=\"fill:#1f77b4;\"/>\n   </g>\n   <g id=\"patch_38\">\n    <path clip-path=\"url(#pdc213e2aa8)\" d=\"M 343.489318 224.64 \nL 347.543254 224.64 \nL 347.543254 183.086617 \nL 343.489318 183.086617 \nz\n\" style=\"fill:#1f77b4;\"/>\n   </g>\n   <g id=\"matplotlib.axis_1\">\n    <g id=\"xtick_1\">\n     <g id=\"line2d_1\">\n      <defs>\n       <path d=\"M 0 0 \nL 0 3.5 \n\" id=\"m942d054f9a\" style=\"stroke:#000000;stroke-width:0.8;\"/>\n      </defs>\n      <g>\n       <use style=\"stroke:#000000;stroke-width:0.8;\" x=\"45.321307\" xlink:href=\"#m942d054f9a\" y=\"224.64\"/>\n      </g>\n     </g>\n     <g id=\"text_1\">\n      <!-- −1.00 -->\n      <g transform=\"translate(29.998651 239.238437)scale(0.1 -0.1)\">\n       <defs>\n        <path d=\"M 10.59375 35.5 \nL 73.1875 35.5 \nL 73.1875 27.203125 \nL 10.59375 27.203125 \nz\n\" id=\"DejaVuSans-8722\"/>\n        <path d=\"M 12.40625 8.296875 \nL 28.515625 8.296875 \nL 28.515625 63.921875 \nL 10.984375 60.40625 \nL 10.984375 69.390625 \nL 28.421875 72.90625 \nL 38.28125 72.90625 \nL 38.28125 8.296875 \nL 54.390625 8.296875 \nL 54.390625 0 \nL 12.40625 0 \nz\n\" id=\"DejaVuSans-49\"/>\n        <path d=\"M 10.6875 12.40625 \nL 21 12.40625 \nL 21 0 \nL 10.6875 0 \nz\n\" id=\"DejaVuSans-46\"/>\n        <path d=\"M 31.78125 66.40625 \nQ 24.171875 66.40625 20.328125 58.90625 \nQ 16.5 51.421875 16.5 36.375 \nQ 16.5 21.390625 20.328125 13.890625 \nQ 24.171875 6.390625 31.78125 6.390625 \nQ 39.453125 6.390625 43.28125 13.890625 \nQ 47.125 21.390625 47.125 36.375 \nQ 47.125 51.421875 43.28125 58.90625 \nQ 39.453125 66.40625 31.78125 66.40625 \nz\nM 31.78125 74.21875 \nQ 44.046875 74.21875 50.515625 64.515625 \nQ 56.984375 54.828125 56.984375 36.375 \nQ 56.984375 17.96875 50.515625 8.265625 \nQ 44.046875 -1.421875 31.78125 -1.421875 \nQ 19.53125 -1.421875 13.0625 8.265625 \nQ 6.59375 17.96875 6.59375 36.375 \nQ 6.59375 54.828125 13.0625 64.515625 \nQ 19.53125 74.21875 31.78125 74.21875 \nz\n\" id=\"DejaVuSans-48\"/>\n       </defs>\n       <use xlink:href=\"#DejaVuSans-8722\"/>\n       <use x=\"83.789062\" xlink:href=\"#DejaVuSans-49\"/>\n       <use x=\"147.412109\" xlink:href=\"#DejaVuSans-46\"/>\n       <use x=\"179.199219\" xlink:href=\"#DejaVuSans-48\"/>\n       <use x=\"242.822266\" xlink:href=\"#DejaVuSans-48\"/>\n      </g>\n     </g>\n    </g>\n    <g id=\"xtick_2\">\n     <g id=\"line2d_2\">\n      <g>\n       <use style=\"stroke:#000000;stroke-width:0.8;\" x=\"83.366761\" xlink:href=\"#m942d054f9a\" y=\"224.64\"/>\n      </g>\n     </g>\n     <g id=\"text_2\">\n      <!-- −0.75 -->\n      <g transform=\"translate(68.044105 239.238437)scale(0.1 -0.1)\">\n       <defs>\n        <path d=\"M 8.203125 72.90625 \nL 55.078125 72.90625 \nL 55.078125 68.703125 \nL 28.609375 0 \nL 18.3125 0 \nL 43.21875 64.59375 \nL 8.203125 64.59375 \nz\n\" id=\"DejaVuSans-55\"/>\n        <path d=\"M 10.796875 72.90625 \nL 49.515625 72.90625 \nL 49.515625 64.59375 \nL 19.828125 64.59375 \nL 19.828125 46.734375 \nQ 21.96875 47.46875 24.109375 47.828125 \nQ 26.265625 48.1875 28.421875 48.1875 \nQ 40.625 48.1875 47.75 41.5 \nQ 54.890625 34.8125 54.890625 23.390625 \nQ 54.890625 11.625 47.5625 5.09375 \nQ 40.234375 -1.421875 26.90625 -1.421875 \nQ 22.3125 -1.421875 17.546875 -0.640625 \nQ 12.796875 0.140625 7.71875 1.703125 \nL 7.71875 11.625 \nQ 12.109375 9.234375 16.796875 8.0625 \nQ 21.484375 6.890625 26.703125 6.890625 \nQ 35.15625 6.890625 40.078125 11.328125 \nQ 45.015625 15.765625 45.015625 23.390625 \nQ 45.015625 31 40.078125 35.4375 \nQ 35.15625 39.890625 26.703125 39.890625 \nQ 22.75 39.890625 18.8125 39.015625 \nQ 14.890625 38.140625 10.796875 36.28125 \nz\n\" id=\"DejaVuSans-53\"/>\n       </defs>\n       <use xlink:href=\"#DejaVuSans-8722\"/>\n       <use x=\"83.789062\" xlink:href=\"#DejaVuSans-48\"/>\n       <use x=\"147.412109\" xlink:href=\"#DejaVuSans-46\"/>\n       <use x=\"179.199219\" xlink:href=\"#DejaVuSans-55\"/>\n       <use x=\"242.822266\" xlink:href=\"#DejaVuSans-53\"/>\n      </g>\n     </g>\n    </g>\n    <g id=\"xtick_3\">\n     <g id=\"line2d_3\">\n      <g>\n       <use style=\"stroke:#000000;stroke-width:0.8;\" x=\"121.412216\" xlink:href=\"#m942d054f9a\" y=\"224.64\"/>\n      </g>\n     </g>\n     <g id=\"text_3\">\n      <!-- −0.50 -->\n      <g transform=\"translate(106.08956 239.238437)scale(0.1 -0.1)\">\n       <use xlink:href=\"#DejaVuSans-8722\"/>\n       <use x=\"83.789062\" xlink:href=\"#DejaVuSans-48\"/>\n       <use x=\"147.412109\" xlink:href=\"#DejaVuSans-46\"/>\n       <use x=\"179.199219\" xlink:href=\"#DejaVuSans-53\"/>\n       <use x=\"242.822266\" xlink:href=\"#DejaVuSans-48\"/>\n      </g>\n     </g>\n    </g>\n    <g id=\"xtick_4\">\n     <g id=\"line2d_4\">\n      <g>\n       <use style=\"stroke:#000000;stroke-width:0.8;\" x=\"159.45767\" xlink:href=\"#m942d054f9a\" y=\"224.64\"/>\n      </g>\n     </g>\n     <g id=\"text_4\">\n      <!-- −0.25 -->\n      <g transform=\"translate(144.135014 239.238437)scale(0.1 -0.1)\">\n       <defs>\n        <path d=\"M 19.1875 8.296875 \nL 53.609375 8.296875 \nL 53.609375 0 \nL 7.328125 0 \nL 7.328125 8.296875 \nQ 12.9375 14.109375 22.625 23.890625 \nQ 32.328125 33.6875 34.8125 36.53125 \nQ 39.546875 41.84375 41.421875 45.53125 \nQ 43.3125 49.21875 43.3125 52.78125 \nQ 43.3125 58.59375 39.234375 62.25 \nQ 35.15625 65.921875 28.609375 65.921875 \nQ 23.96875 65.921875 18.8125 64.3125 \nQ 13.671875 62.703125 7.8125 59.421875 \nL 7.8125 69.390625 \nQ 13.765625 71.78125 18.9375 73 \nQ 24.125 74.21875 28.421875 74.21875 \nQ 39.75 74.21875 46.484375 68.546875 \nQ 53.21875 62.890625 53.21875 53.421875 \nQ 53.21875 48.921875 51.53125 44.890625 \nQ 49.859375 40.875 45.40625 35.40625 \nQ 44.1875 33.984375 37.640625 27.21875 \nQ 31.109375 20.453125 19.1875 8.296875 \nz\n\" id=\"DejaVuSans-50\"/>\n       </defs>\n       <use xlink:href=\"#DejaVuSans-8722\"/>\n       <use x=\"83.789062\" xlink:href=\"#DejaVuSans-48\"/>\n       <use x=\"147.412109\" xlink:href=\"#DejaVuSans-46\"/>\n       <use x=\"179.199219\" xlink:href=\"#DejaVuSans-50\"/>\n       <use x=\"242.822266\" xlink:href=\"#DejaVuSans-53\"/>\n      </g>\n     </g>\n    </g>\n    <g id=\"xtick_5\">\n     <g id=\"line2d_5\">\n      <g>\n       <use style=\"stroke:#000000;stroke-width:0.8;\" x=\"197.503125\" xlink:href=\"#m942d054f9a\" y=\"224.64\"/>\n      </g>\n     </g>\n     <g id=\"text_5\">\n      <!-- 0.00 -->\n      <g transform=\"translate(186.370313 239.238437)scale(0.1 -0.1)\">\n       <use xlink:href=\"#DejaVuSans-48\"/>\n       <use x=\"63.623047\" xlink:href=\"#DejaVuSans-46\"/>\n       <use x=\"95.410156\" xlink:href=\"#DejaVuSans-48\"/>\n       <use x=\"159.033203\" xlink:href=\"#DejaVuSans-48\"/>\n      </g>\n     </g>\n    </g>\n    <g id=\"xtick_6\">\n     <g id=\"line2d_6\">\n      <g>\n       <use style=\"stroke:#000000;stroke-width:0.8;\" x=\"235.54858\" xlink:href=\"#m942d054f9a\" y=\"224.64\"/>\n      </g>\n     </g>\n     <g id=\"text_6\">\n      <!-- 0.25 -->\n      <g transform=\"translate(224.415767 239.238437)scale(0.1 -0.1)\">\n       <use xlink:href=\"#DejaVuSans-48\"/>\n       <use x=\"63.623047\" xlink:href=\"#DejaVuSans-46\"/>\n       <use x=\"95.410156\" xlink:href=\"#DejaVuSans-50\"/>\n       <use x=\"159.033203\" xlink:href=\"#DejaVuSans-53\"/>\n      </g>\n     </g>\n    </g>\n    <g id=\"xtick_7\">\n     <g id=\"line2d_7\">\n      <g>\n       <use style=\"stroke:#000000;stroke-width:0.8;\" x=\"273.594034\" xlink:href=\"#m942d054f9a\" y=\"224.64\"/>\n      </g>\n     </g>\n     <g id=\"text_7\">\n      <!-- 0.50 -->\n      <g transform=\"translate(262.461222 239.238437)scale(0.1 -0.1)\">\n       <use xlink:href=\"#DejaVuSans-48\"/>\n       <use x=\"63.623047\" xlink:href=\"#DejaVuSans-46\"/>\n       <use x=\"95.410156\" xlink:href=\"#DejaVuSans-53\"/>\n       <use x=\"159.033203\" xlink:href=\"#DejaVuSans-48\"/>\n      </g>\n     </g>\n    </g>\n    <g id=\"xtick_8\">\n     <g id=\"line2d_8\">\n      <g>\n       <use style=\"stroke:#000000;stroke-width:0.8;\" x=\"311.639489\" xlink:href=\"#m942d054f9a\" y=\"224.64\"/>\n      </g>\n     </g>\n     <g id=\"text_8\">\n      <!-- 0.75 -->\n      <g transform=\"translate(300.506676 239.238437)scale(0.1 -0.1)\">\n       <use xlink:href=\"#DejaVuSans-48\"/>\n       <use x=\"63.623047\" xlink:href=\"#DejaVuSans-46\"/>\n       <use x=\"95.410156\" xlink:href=\"#DejaVuSans-55\"/>\n       <use x=\"159.033203\" xlink:href=\"#DejaVuSans-53\"/>\n      </g>\n     </g>\n    </g>\n    <g id=\"xtick_9\">\n     <g id=\"line2d_9\">\n      <g>\n       <use style=\"stroke:#000000;stroke-width:0.8;\" x=\"349.684943\" xlink:href=\"#m942d054f9a\" y=\"224.64\"/>\n      </g>\n     </g>\n     <g id=\"text_9\">\n      <!-- 1.00 -->\n      <g transform=\"translate(338.552131 239.238437)scale(0.1 -0.1)\">\n       <use xlink:href=\"#DejaVuSans-49\"/>\n       <use x=\"63.623047\" xlink:href=\"#DejaVuSans-46\"/>\n       <use x=\"95.410156\" xlink:href=\"#DejaVuSans-48\"/>\n       <use x=\"159.033203\" xlink:href=\"#DejaVuSans-48\"/>\n      </g>\n     </g>\n    </g>\n   </g>\n   <g id=\"matplotlib.axis_2\">\n    <g id=\"ytick_1\">\n     <g id=\"line2d_10\">\n      <defs>\n       <path d=\"M 0 0 \nL -3.5 0 \n\" id=\"m56809da125\" style=\"stroke:#000000;stroke-width:0.8;\"/>\n      </defs>\n      <g>\n       <use style=\"stroke:#000000;stroke-width:0.8;\" x=\"30.103125\" xlink:href=\"#m56809da125\" y=\"224.64\"/>\n      </g>\n     </g>\n     <g id=\"text_10\">\n      <!-- 0.0 -->\n      <g transform=\"translate(7.2 228.439219)scale(0.1 -0.1)\">\n       <use xlink:href=\"#DejaVuSans-48\"/>\n       <use x=\"63.623047\" xlink:href=\"#DejaVuSans-46\"/>\n       <use x=\"95.410156\" xlink:href=\"#DejaVuSans-48\"/>\n      </g>\n     </g>\n    </g>\n    <g id=\"ytick_2\">\n     <g id=\"line2d_11\">\n      <g>\n       <use style=\"stroke:#000000;stroke-width:0.8;\" x=\"30.103125\" xlink:href=\"#m56809da125\" y=\"190.606407\"/>\n      </g>\n     </g>\n     <g id=\"text_11\">\n      <!-- 0.5 -->\n      <g transform=\"translate(7.2 194.405626)scale(0.1 -0.1)\">\n       <use xlink:href=\"#DejaVuSans-48\"/>\n       <use x=\"63.623047\" xlink:href=\"#DejaVuSans-46\"/>\n       <use x=\"95.410156\" xlink:href=\"#DejaVuSans-53\"/>\n      </g>\n     </g>\n    </g>\n    <g id=\"ytick_3\">\n     <g id=\"line2d_12\">\n      <g>\n       <use style=\"stroke:#000000;stroke-width:0.8;\" x=\"30.103125\" xlink:href=\"#m56809da125\" y=\"156.572814\"/>\n      </g>\n     </g>\n     <g id=\"text_12\">\n      <!-- 1.0 -->\n      <g transform=\"translate(7.2 160.372033)scale(0.1 -0.1)\">\n       <use xlink:href=\"#DejaVuSans-49\"/>\n       <use x=\"63.623047\" xlink:href=\"#DejaVuSans-46\"/>\n       <use x=\"95.410156\" xlink:href=\"#DejaVuSans-48\"/>\n      </g>\n     </g>\n    </g>\n    <g id=\"ytick_4\">\n     <g id=\"line2d_13\">\n      <g>\n       <use style=\"stroke:#000000;stroke-width:0.8;\" x=\"30.103125\" xlink:href=\"#m56809da125\" y=\"122.539221\"/>\n      </g>\n     </g>\n     <g id=\"text_13\">\n      <!-- 1.5 -->\n      <g transform=\"translate(7.2 126.33844)scale(0.1 -0.1)\">\n       <use xlink:href=\"#DejaVuSans-49\"/>\n       <use x=\"63.623047\" xlink:href=\"#DejaVuSans-46\"/>\n       <use x=\"95.410156\" xlink:href=\"#DejaVuSans-53\"/>\n      </g>\n     </g>\n    </g>\n    <g id=\"ytick_5\">\n     <g id=\"line2d_14\">\n      <g>\n       <use style=\"stroke:#000000;stroke-width:0.8;\" x=\"30.103125\" xlink:href=\"#m56809da125\" y=\"88.505629\"/>\n      </g>\n     </g>\n     <g id=\"text_14\">\n      <!-- 2.0 -->\n      <g transform=\"translate(7.2 92.304847)scale(0.1 -0.1)\">\n       <use xlink:href=\"#DejaVuSans-50\"/>\n       <use x=\"63.623047\" xlink:href=\"#DejaVuSans-46\"/>\n       <use x=\"95.410156\" xlink:href=\"#DejaVuSans-48\"/>\n      </g>\n     </g>\n    </g>\n    <g id=\"ytick_6\">\n     <g id=\"line2d_15\">\n      <g>\n       <use style=\"stroke:#000000;stroke-width:0.8;\" x=\"30.103125\" xlink:href=\"#m56809da125\" y=\"54.472036\"/>\n      </g>\n     </g>\n     <g id=\"text_15\">\n      <!-- 2.5 -->\n      <g transform=\"translate(7.2 58.271254)scale(0.1 -0.1)\">\n       <use xlink:href=\"#DejaVuSans-50\"/>\n       <use x=\"63.623047\" xlink:href=\"#DejaVuSans-46\"/>\n       <use x=\"95.410156\" xlink:href=\"#DejaVuSans-53\"/>\n      </g>\n     </g>\n    </g>\n    <g id=\"ytick_7\">\n     <g id=\"line2d_16\">\n      <g>\n       <use style=\"stroke:#000000;stroke-width:0.8;\" x=\"30.103125\" xlink:href=\"#m56809da125\" y=\"20.438443\"/>\n      </g>\n     </g>\n     <g id=\"text_16\">\n      <!-- 3.0 -->\n      <g transform=\"translate(7.2 24.237662)scale(0.1 -0.1)\">\n       <defs>\n        <path d=\"M 40.578125 39.3125 \nQ 47.65625 37.796875 51.625 33 \nQ 55.609375 28.21875 55.609375 21.1875 \nQ 55.609375 10.40625 48.1875 4.484375 \nQ 40.765625 -1.421875 27.09375 -1.421875 \nQ 22.515625 -1.421875 17.65625 -0.515625 \nQ 12.796875 0.390625 7.625 2.203125 \nL 7.625 11.71875 \nQ 11.71875 9.328125 16.59375 8.109375 \nQ 21.484375 6.890625 26.8125 6.890625 \nQ 36.078125 6.890625 40.9375 10.546875 \nQ 45.796875 14.203125 45.796875 21.1875 \nQ 45.796875 27.640625 41.28125 31.265625 \nQ 36.765625 34.90625 28.71875 34.90625 \nL 20.21875 34.90625 \nL 20.21875 43.015625 \nL 29.109375 43.015625 \nQ 36.375 43.015625 40.234375 45.921875 \nQ 44.09375 48.828125 44.09375 54.296875 \nQ 44.09375 59.90625 40.109375 62.90625 \nQ 36.140625 65.921875 28.71875 65.921875 \nQ 24.65625 65.921875 20.015625 65.03125 \nQ 15.375 64.15625 9.8125 62.3125 \nL 9.8125 71.09375 \nQ 15.4375 72.65625 20.34375 73.4375 \nQ 25.25 74.21875 29.59375 74.21875 \nQ 40.828125 74.21875 47.359375 69.109375 \nQ 53.90625 64.015625 53.90625 55.328125 \nQ 53.90625 49.265625 50.4375 45.09375 \nQ 46.96875 40.921875 40.578125 39.3125 \nz\n\" id=\"DejaVuSans-51\"/>\n       </defs>\n       <use xlink:href=\"#DejaVuSans-51\"/>\n       <use x=\"63.623047\" xlink:href=\"#DejaVuSans-46\"/>\n       <use x=\"95.410156\" xlink:href=\"#DejaVuSans-48\"/>\n      </g>\n     </g>\n    </g>\n   </g>\n   <g id=\"line2d_17\">\n    <path clip-path=\"url(#pdc213e2aa8)\" d=\"M 45.321307 224.64 \nL 48.395687 224.64 \nL 51.470067 224.64 \nL 54.544447 224.64 \nL 57.618827 224.64 \nL 60.693208 224.64 \nL 63.767588 224.64 \nL 66.841968 224.64 \nL 69.916348 224.64 \nL 72.990728 224.64 \nL 76.065108 224.64 \nL 79.139489 224.64 \nL 82.213869 224.64 \nL 85.288249 224.64 \nL 88.362629 224.64 \nL 91.437009 224.64 \nL 94.511389 224.64 \nL 97.58577 224.64 \nL 100.66015 224.64 \nL 103.73453 224.64 \nL 106.80891 224.64 \nL 109.88329 224.64 \nL 112.95767 224.64 \nL 116.032051 224.64 \nL 119.106431 224.64 \nL 122.180811 224.64 \nL 125.255191 224.64 \nL 128.329571 224.639999 \nL 131.403951 224.639997 \nL 134.478332 224.639993 \nL 137.552712 224.639984 \nL 140.627092 224.639963 \nL 143.701472 224.639918 \nL 146.775852 224.639825 \nL 149.850232 224.63964 \nL 152.924613 224.639288 \nL 155.998993 224.638647 \nL 159.073373 224.637529 \nL 162.147753 224.635656 \nL 165.222133 224.632644 \nL 168.296513 224.62799 \nL 171.370894 224.621062 \nL 174.445274 224.611092 \nL 177.519654 224.597164 \nL 180.594034 224.578142 \nL 183.668414 224.552526 \nL 186.742794 224.518172 \nL 189.817175 224.471832 \nL 192.891555 224.408503 \nL 195.965935 224.320598 \nL 199.040315 224.197003 \nL 202.114695 224.022138 \nL 205.189075 223.775187 \nL 208.263456 223.429697 \nL 211.337836 222.953768 \nL 214.412216 222.311084 \nL 217.486596 221.462984 \nL 220.560976 220.371685 \nL 223.635356 219.00458 \nL 226.709737 217.339224 \nL 229.784117 215.368241 \nL 232.858497 213.103034 \nL 235.932877 210.574968 \nL 239.007257 207.832859 \nL 242.081637 204.93611 \nL 245.156018 201.943818 \nL 248.230398 198.901316 \nL 251.304778 195.826649 \nL 254.379158 192.700068 \nL 257.453538 189.459418 \nL 260.527918 186.003262 \nL 263.602299 182.201956 \nL 266.676679 177.915004 \nL 269.751059 173.011563 \nL 272.825439 167.390306 \nL 275.899819 160.995219 \nL 278.974199 153.825207 \nL 282.04858 145.937087 \nL 285.12296 137.443208 \nL 288.19734 128.505832 \nL 291.27172 119.330539 \nL 294.3461 110.160165 \nL 297.42048 101.269617 \nL 300.494861 92.96082 \nL 303.569241 85.556245 \nL 306.643621 79.389314 \nL 309.718001 74.790274 \nL 312.792381 72.066862 \nL 315.866761 71.480206 \nL 318.941142 73.217678 \nL 322.015522 77.365862 \nL 325.089902 83.888002 \nL 328.164282 92.610757 \nL 331.238662 103.224589 \nL 334.313042 115.30021 \nL 337.387423 128.320711 \nL 340.461803 141.725809 \nL 343.536183 154.961996 \nL 346.610563 167.531083 \nL 349.684943 179.029915 \n\" style=\"fill:none;stroke:#ff7f0e;stroke-linecap:square;stroke-width:1.5;\"/>\n   </g>\n   <g id=\"patch_39\">\n    <path d=\"M 30.103125 224.64 \nL 30.103125 7.2 \n\" style=\"fill:none;stroke:#000000;stroke-linecap:square;stroke-linejoin:miter;stroke-width:0.8;\"/>\n   </g>\n   <g id=\"patch_40\">\n    <path d=\"M 364.903125 224.64 \nL 364.903125 7.2 \n\" style=\"fill:none;stroke:#000000;stroke-linecap:square;stroke-linejoin:miter;stroke-width:0.8;\"/>\n   </g>\n   <g id=\"patch_41\">\n    <path d=\"M 30.103125 224.64 \nL 364.903125 224.64 \n\" style=\"fill:none;stroke:#000000;stroke-linecap:square;stroke-linejoin:miter;stroke-width:0.8;\"/>\n   </g>\n   <g id=\"patch_42\">\n    <path d=\"M 30.103125 7.2 \nL 364.903125 7.2 \n\" style=\"fill:none;stroke:#000000;stroke-linecap:square;stroke-linejoin:miter;stroke-width:0.8;\"/>\n   </g>\n  </g>\n </g>\n <defs>\n  <clipPath id=\"pdc213e2aa8\">\n   <rect height=\"217.44\" width=\"334.8\" x=\"30.103125\" y=\"7.2\"/>\n  </clipPath>\n </defs>\n</svg>\n",
      "image/png": "[encoded data removed]"
     },
     "metadata": {
      "needs_background": "light"
     }
    }
   ],
   "source": [
    "from sklearn.neighbors import KernelDensity\n",
    "model = KernelDensity(bandwidth=1e-1, kernel='gaussian')\n",
    "sample = np.array(correlation_list).reshape((len(correlation_list), 1))\n",
    "model.fit(sample)\n",
    "# sample probabilities for a range of outcomes\n",
    "values = np.asarray([value for value in np.linspace(-1,1,100)])\n",
    "values = values.reshape((len(values), 1))\n",
    "probabilities = model.score_samples(values)\n",
    "probabilities = np.exp(probabilities)\n",
    "# plot the histogram and pdf\n",
    "plt.hist(sample, bins=36, density=True)\n",
    "plt.plot(values[:], probabilities)\n",
    "plt.show()"
   ]
  },
  {
   "cell_type": "code",
   "execution_count": null,
   "metadata": {},
   "outputs": [],
   "source": [
    "print(accuracy_score(np.array(y_true), np.array(y_pred)))\n",
    "print(hamming_score(np.array(y_true), np.array(y_pred)))\n",
    "print(f1_score(np.array(y_true), np.array(y_pred), average='samples'))\n",
    "print(f1_score(np.array(y_true), np.array(y_pred), average='micro'))"
   ]
  },
  {
   "cell_type": "code",
   "execution_count": 10,
   "metadata": {},
   "outputs": [],
   "source": [
    "a = np.array([1, 19, 3, 8, 5, 18, 4, 2, 0, 13, 11, 7, 17, 6, 9, 10, 12, 14, 15, 16])\n",
    "b = np.array([19, 1, 2, 7, 3, 5, 18, 17, 13, 4, 8, 11, 0, 10, 6, 12, 9, 14, 15, 16]) \n",
    "\n",
    "c = np.array([19, 1, 2, 17, 10, 18, 7, 8, 3, 12, 4, 6, 5, 13, 11, 9, 14, 15, 0, 16])\n",
    "d = np.array([19, 2, 1, 8, 18, 5, 17, 3, 13, 12, 4, 6, 7, 10, 11, 9, 14, 15, 16, 0]) \n",
    "\n",
    "x = np.array([ 1,8,19,5,13,0,17,2,18,11,3,6,9,10,12,4,7,14,15,16 ])\n",
    "y = np.array([ 19,2,1,8,18,10,12,5,3,4,7,6,11,9,13,17,14,0,15,16 ])\n",
    "\n",
    "e = np.array([ 8,19,17,1,3,5,0,9,18,2,4,6,11,7,13,12,10,14,15,16 ])\n",
    "f = np.array([ 19,1,2,8,7,18,5,3,4,13,11,10,17,0,6,12,9,14,15,16 ])"
   ]
  },
  {
   "cell_type": "code",
   "execution_count": 3,
   "metadata": {},
   "outputs": [
    {
     "output_type": "execute_result",
     "data": {
      "text/plain": [
       "'for i in range(20):\\n    argx[i] *= 1/(argx[i]+1)\\n    argy[i] *= 1/(argy[i]+1)\\n    maxx[i] *= 1/(maxx[i]+1)\\n    maxy[i] *= 1/(maxy[i]+1)'"
      ]
     },
     "metadata": {},
     "execution_count": 3
    }
   ],
   "source": [
    "argx = (np.argsort(a)).astype(np.float)#np.arange(1,21,1).astype(np.float)\n",
    "argy = (np.argsort(b)).astype(np.float)#np.flip(np.arange(1,21,1)).astype(np.float) \n",
    "maxx = np.arange(1,21,1).astype(np.float)\n",
    "maxy = np.flip(np.arange(1,21,1)).astype(np.float) \n",
    "\n",
    "'''for i in range(20):\n",
    "    argx[i] *= 1/(argx[i]+1)\n",
    "    argy[i] *= 1/(argy[i]+1)\n",
    "    maxx[i] *= 1/(maxx[i]+1)\n",
    "    maxy[i] *= 1/(maxy[i]+1)'''\n",
    "\n"
   ]
  },
  {
   "cell_type": "code",
   "execution_count": 9,
   "metadata": {},
   "outputs": [
    {
     "output_type": "stream",
     "name": "stdout",
     "text": [
      "[ 8.  0.  7.  2.  6.  4. 13. 11.  3. 14. 15. 10. 16.  9. 17. 18. 19. 12.\n  5.  1.]\n[12.  1.  2.  4.  9.  5. 14.  3. 10. 16. 13. 11. 15.  8. 17. 18. 19.  7.\n  6.  0.]\n"
     ]
    }
   ],
   "source": [
    "print(argx)\n",
    "print(argy)"
   ]
  },
  {
   "cell_type": "code",
   "execution_count": 6,
   "metadata": {},
   "outputs": [],
   "source": [
    "def WS(rx, ry):\n",
    "    sum_ = 0\n",
    "    ranks_x = np.argsort(rx)\n",
    "    ranks_y = np.argsort(ry)\n",
    "    for i in range(len(rx)):\n",
    "        sum_ += (1/(2**(ranks_x[i]))) * ((np.abs(ranks_x[i] - ranks_y[i]))/(np.max([np.abs(1-ranks_x[i]), np.abs(len(rx) - ranks_x[i])])))\n",
    "    return 1 - sum_"
   ]
  },
  {
   "cell_type": "code",
   "execution_count": 14,
   "metadata": {},
   "outputs": [
    {
     "output_type": "execute_result",
     "data": {
      "text/plain": [
       "0.6403404417406884"
      ]
     },
     "metadata": {},
     "execution_count": 14
    }
   ],
   "source": [
    "WS(e,f)"
   ]
  },
  {
   "cell_type": "code",
   "execution_count": 9,
   "metadata": {},
   "outputs": [
    {
     "output_type": "execute_result",
     "data": {
      "text/plain": [
       "-0.2583333333333333"
      ]
     },
     "metadata": {},
     "execution_count": 9
    }
   ],
   "source": [
    "a = [1,2,3,4,5]\n",
    "b = [5,4,3,2,1]\n",
    "WS(a, b)"
   ]
  },
  {
   "cell_type": "code",
   "execution_count": 11,
   "metadata": {},
   "outputs": [
    {
     "output_type": "execute_result",
     "data": {
      "text/plain": [
       "SpearmanrResult(correlation=-0.7, pvalue=0.1881204043741873)"
      ]
     },
     "metadata": {},
     "execution_count": 11
    }
   ],
   "source": [
    "from scipy.stats import kendalltau, spearmanr\n",
    "spearmanr(x[:5],y[:5])"
   ]
  },
  {
   "cell_type": "code",
   "execution_count": 12,
   "metadata": {},
   "outputs": [
    {
     "output_type": "execute_result",
     "data": {
      "text/plain": [
       "0.15639097744360897"
      ]
     },
     "metadata": {},
     "execution_count": 12
    }
   ],
   "source": [
    "from scipy.spatial.distance import correlation\n",
    "correlation(argx,argy)"
   ]
  },
  {
   "cell_type": "code",
   "execution_count": 13,
   "metadata": {},
   "outputs": [],
   "source": [
    "def dist(x, y, w):\n",
    "    sum_ = 0\n",
    "    for i in range(len(x)):\n",
    "        abs_ = np.abs(x[i] - y[i])\n",
    "        add =  abs_*w[i] if abs_ > 1 else 0\n",
    "        sum_ += add\n",
    "    return sum_\n",
    "        "
   ]
  },
  {
   "cell_type": "code",
   "execution_count": 14,
   "metadata": {},
   "outputs": [
    {
     "output_type": "execute_result",
     "data": {
      "text/plain": [
       "0.00974723033648846"
      ]
     },
     "metadata": {},
     "execution_count": 14
    }
   ],
   "source": [
    "from scipy.spatial import distance\n",
    "((dist(argx, argy, w=1/((3)**(argy*argy))) / np.sqrt(len(argx))) + (dist(argx, argy, w=1/((3)**(argx*argx))) / np.sqrt(len(argx)))) / 2 #/ 0.05617535148406078"
   ]
  },
  {
   "cell_type": "code",
   "execution_count": 15,
   "metadata": {},
   "outputs": [
    {
     "output_type": "execute_result",
     "data": {
      "text/plain": [
       "nan"
      ]
     },
     "metadata": {},
     "execution_count": 15
    }
   ],
   "source": [
    "def rank_correlation(x, y, dist=distance.correlation):\n",
    "        c = np.array([dist(x[i], y[i]) * (1/((y[i]))) for i in range(len(x))]).sum()\n",
    "        return c\n",
    "rank_correlation(argx, argy)"
   ]
  },
  {
   "cell_type": "code",
   "execution_count": 16,
   "metadata": {},
   "outputs": [
    {
     "output_type": "execute_result",
     "data": {
      "text/plain": [
       "array([0.0833, 1.    , 0.5   , 0.25  , 0.1111, 0.2   , 0.0714, 0.3333,\n",
       "       0.1   , 0.0625, 0.0769, 0.0909, 0.0667, 0.125 , 0.0588, 0.0556,\n",
       "       0.0526, 0.1429, 0.1667,    inf])"
      ]
     },
     "metadata": {},
     "execution_count": 16
    }
   ],
   "source": [
    "1/argy"
   ]
  },
  {
   "cell_type": "code",
   "execution_count": 17,
   "metadata": {},
   "outputs": [
    {
     "output_type": "stream",
     "name": "stdout",
     "text": [
      "inf\n"
     ]
    }
   ],
   "source": [
    "from scipy.spatial import distance\n",
    "dist = distance.cityblock # * 1/((argy[i])**2)\n",
    "s = np.array([dist(argx[i], argy[i]) * 1/((argy[i])**2) for i in range(20)]).sum()\n",
    "\n",
    "'''for i in range(20):\n",
    "    s += dist(argx[i], argy[i]) * 1/((argy[i])**2)'''\n",
    "\n",
    "smax = 0\n",
    "for i in range(20):\n",
    "    smax += dist(argx[i], argx[i]) * 1/((argy[i])**2)\n",
    "\n",
    "print(s)"
   ]
  },
  {
   "cell_type": "code",
   "execution_count": 18,
   "metadata": {},
   "outputs": [
    {
     "output_type": "stream",
     "name": "stdout",
     "text": [
      "WeightedTauResult(correlation=-0.6713827328914972, pvalue=nan)\nWeightedTauResult(correlation=0.3524122261236008, pvalue=nan)\nWeightedTauResult(correlation=-0.7990832874910562, pvalue=nan)\n"
     ]
    }
   ],
   "source": [
    "0.5429113076754074\n",
    "55.77\n",
    "weigher = lambda r: 1/((1+r)**2)\n",
    "print(weightedtau(a,b,rank=True, additive=False, weigher=weigher))\n",
    "print(weightedtau(c,d,rank=True, additive=False, weigher=weigher))\n",
    "print(weightedtau(x,y,rank=True, additive=False, weigher=weigher))"
   ]
  },
  {
   "cell_type": "code",
   "execution_count": 19,
   "metadata": {},
   "outputs": [
    {
     "output_type": "stream",
     "name": "stdout",
     "text": [
      "[17 18 19]\n[ 1 10]\n[11 18 19]\n"
     ]
    }
   ],
   "source": [
    "print(np.where(a==b)[0])\n",
    "print(np.where(c==d)[0])\n",
    "print(np.where(x==y)[0])"
   ]
  },
  {
   "cell_type": "code",
   "execution_count": 20,
   "metadata": {},
   "outputs": [
    {
     "output_type": "stream",
     "name": "stdout",
     "text": [
      "WeightedTauResult(correlation=0.6962121412338664, pvalue=nan)\nWeightedTauResult(correlation=0.07118840640971633, pvalue=nan)\nWeightedTauResult(correlation=0.18079986971236403, pvalue=nan)\n"
     ]
    }
   ],
   "source": [
    "weigher = lambda r: 1/((r+1))\n",
    "print(weightedtau(np.argsort(a),np.argsort(b),rank=False, additive=False, weigher=weigher))\n",
    "print(weightedtau(np.argsort(c),np.argsort(d),rank=False, additive=False, weigher=weigher))\n",
    "print(weightedtau(np.argsort(x),np.argsort(y),rank=False, additive=False, weigher=weigher))"
   ]
  },
  {
   "cell_type": "code",
   "execution_count": null,
   "metadata": {},
   "outputs": [],
   "source": []
  }
 ]
}