{
 "metadata": {
  "language_info": {
   "codemirror_mode": {
    "name": "ipython",
    "version": 3
   },
   "file_extension": ".py",
   "mimetype": "text/x-python",
   "name": "python",
   "nbconvert_exporter": "python",
   "pygments_lexer": "ipython3",
   "version": "3.8.8"
  },
  "orig_nbformat": 2,
  "kernelspec": {
   "name": "python3",
   "display_name": "Python 3.8.8 64-bit ('ld3': conda)"
  },
  "interpreter": {
   "hash": "b3d5defd48bcce546b12f2e95f99040e967dfa98e52f7fab83451f06e037fab3"
  }
 },
 "nbformat": 4,
 "nbformat_minor": 2,
 "cells": [
  {
   "cell_type": "code",
   "execution_count": 1,
   "metadata": {},
   "outputs": [],
   "source": [
    "import sys\n",
    "import numpy as np\n",
    "import pandas as pd \n",
    "from skmultiflow.data import DataStream, MultilabelGenerator, ConceptDriftStream\n",
    "from skmultiflow.meta import ClassifierChain\n",
    "from sklearn.linear_model import SGDClassifier, PassiveAggressiveClassifier\n",
    "from skmultiflow.bayes import NaiveBayes\n",
    "from skmultiflow.metrics import hamming_score\n",
    "from sklearn.metrics import accuracy_score, f1_score, hamming_loss\n",
    "from ld3 import LD3\n",
    "from skmultilearn.dataset import load_from_arff\n",
    "from sklearn.preprocessing import MultiLabelBinarizer\n",
    "from skmultiflow.drift_detection import ADWIN, EDDM, KSWIN, HDDM_W, HDDM_A, DDM, PageHinkley\n",
    "from sklearn.naive_bayes import GaussianNB\n",
    "import util\n",
    "import warnings\n",
    "import matplotlib.pyplot as plt\n",
    "from tqdm.notebook import tqdm, trange\n",
    "from river.metrics import ExampleF1\n",
    "from scipy.stats import truncnorm\n",
    "from tornados.drift_detection import fhddm, fhddms, fhddms_add, mddm_a, mddm_e, mddm_g, rddm, seq_drift2\n",
    "from ld3_ import LD3, Window, StreamGenerator\n",
    "\n",
    "warnings.filterwarnings('ignore')\n",
    "np.set_printoptions(precision=4, suppress=True)"
   ]
  },
  {
   "cell_type": "code",
   "execution_count": 7,
   "metadata": {},
   "outputs": [],
   "source": [
    "'''n_features = 100\n",
    "n_targets = 20\n",
    "s1 = MultilabelGenerator(n_samples=6000, n_features=n_features, n_targets=n_targets, n_labels=1, random_state=100) #100\n",
    "s2 = MultilabelGenerator(n_samples=6009, n_features=n_features, n_targets=n_targets, n_labels=2, random_state=250)\n",
    "stream = ConceptDriftStream(stream=s1, drift_stream=s2, position=4000, width=1, random_state=0)\n",
    "sample_size=10000'''\n",
    "\n",
    "#gen = StreamGenerator()\n",
    "#stream, sample_size, n_features, n_targets = gen.get_stream(type='gradual1')\n",
    "\n",
    "X, y = load_from_arff('./datasets/{}'.format('Mediamill.arff'), label_count=101)\n",
    "X = X.toarray()\n",
    "y = y.toarray().astype(np.int8)\n",
    "#X, y = util.induce_drift(X, y, 10000, 19300, 20, 1006, percentage=2)\n",
    "sample_size = len(X)\n",
    "n_features = X.shape[1]\n",
    "\n",
    "if len(np.unique(y)) > 2:\n",
    "    mlb = MultiLabelBinarizer()\n",
    "    y = mlb.fit_transform(y)\n",
    "\n",
    "n_targets = y.shape[1]\n",
    "stream = DataStream(data = X, y=y, n_targets=n_targets)"
   ]
  },
  {
   "cell_type": "code",
   "execution_count": 12,
   "metadata": {
    "tags": []
   },
   "outputs": [
    {
     "output_type": "display_data",
     "data": {
      "text/plain": "  0%|          | 0/43907 [00:00<?, ?it/s]",
      "application/vnd.jupyter.widget-view+json": {
       "version_major": 2,
       "version_minor": 0,
       "model_id": "d1f1f8c9e7744c05a3dbafdae2714cba"
      }
     },
     "metadata": {}
    },
    {
     "output_type": "stream",
     "name": "stdout",
     "text": [
      "\n",
      "0.0545\n",
      "0.5211\n",
      "0.1614\n",
      "0.1034\n",
      "0.0672\n",
      "\n"
     ]
    },
    {
     "output_type": "display_data",
     "data": {
      "text/plain": "  0%|          | 0/43907 [00:00<?, ?it/s]",
      "application/vnd.jupyter.widget-view+json": {
       "version_major": 2,
       "version_minor": 0,
       "model_id": "6bd2888a138f4c7d8e83123239afc5fa"
      }
     },
     "metadata": {}
    },
    {
     "output_type": "stream",
     "name": "stdout",
     "text": [
      "\n",
      "0.0545\n",
      "0.5211\n",
      "0.1614\n",
      "0.1034\n",
      "0.0672\n",
      "\n"
     ]
    },
    {
     "output_type": "display_data",
     "data": {
      "text/plain": "  0%|          | 0/43907 [00:00<?, ?it/s]",
      "application/vnd.jupyter.widget-view+json": {
       "version_major": 2,
       "version_minor": 0,
       "model_id": "d18f9066a85d4a55a097b433c067c123"
      }
     },
     "metadata": {}
    },
    {
     "output_type": "stream",
     "name": "stdout",
     "text": [
      "\n",
      "0.0545\n",
      "0.5211\n",
      "0.1614\n",
      "0.1034\n",
      "0.0672\n",
      "\n"
     ]
    },
    {
     "output_type": "display_data",
     "data": {
      "text/plain": "  0%|          | 0/43907 [00:00<?, ?it/s]",
      "application/vnd.jupyter.widget-view+json": {
       "version_major": 2,
       "version_minor": 0,
       "model_id": "80ceff295e434796939480c63d35a576"
      }
     },
     "metadata": {}
    },
    {
     "output_type": "stream",
     "name": "stdout",
     "text": [
      "\n",
      "0.0545\n",
      "0.5211\n",
      "0.1614\n",
      "0.1034\n",
      "0.0672\n",
      "\n"
     ]
    },
    {
     "output_type": "display_data",
     "data": {
      "text/plain": "  0%|          | 0/43907 [00:00<?, ?it/s]",
      "application/vnd.jupyter.widget-view+json": {
       "version_major": 2,
       "version_minor": 0,
       "model_id": "fdbdde99e0894ab5bac75f3c31725e78"
      }
     },
     "metadata": {}
    },
    {
     "output_type": "stream",
     "name": "stdout",
     "text": [
      "\n",
      "0.0545\n",
      "0.5211\n",
      "0.1614\n",
      "0.1034\n",
      "0.0672\n",
      "\n"
     ]
    },
    {
     "output_type": "display_data",
     "data": {
      "text/plain": "  0%|          | 0/43907 [00:00<?, ?it/s]",
      "application/vnd.jupyter.widget-view+json": {
       "version_major": 2,
       "version_minor": 0,
       "model_id": "db0b9f99a4da4c33b779a566e951d1b8"
      }
     },
     "metadata": {}
    },
    {
     "output_type": "stream",
     "name": "stdout",
     "text": [
      "\n",
      "0.0545\n",
      "0.5211\n",
      "0.1614\n",
      "0.1034\n",
      "0.0672\n",
      "\n"
     ]
    },
    {
     "output_type": "display_data",
     "data": {
      "text/plain": "  0%|          | 0/43907 [00:00<?, ?it/s]",
      "application/vnd.jupyter.widget-view+json": {
       "version_major": 2,
       "version_minor": 0,
       "model_id": "6f7db89e5c3a440fa05e7bccbcb934b9"
      }
     },
     "metadata": {}
    },
    {
     "output_type": "stream",
     "name": "stdout",
     "text": [
      "\n",
      "0.0545\n",
      "0.5211\n",
      "0.1614\n",
      "0.1034\n",
      "0.0672\n",
      "\n"
     ]
    }
   ],
   "source": [
    "thresh = [0.9,1,1.1,1.2]\n",
    "for t in thresh:\n",
    "    detector = LD3(window_size=250, correlation_thresh=t, bandwith=0.1, float_decimal=4) #20NG-0.06   Synthetic_sudden-0.01    tmc 0.4-4/5     imbd 0.15     ohsumed 0.5\n",
    "    clf = ClassifierChain(GaussianNB())#PassiveAggressiveClassifier(random_state=0))\n",
    "    pre_sample = [np.zeros(n_features), np.zeros(n_features)]\n",
    "    pre_label = [np.ones(n_targets), np.zeros(n_targets)]\n",
    "    clf.fit(np.array(pre_sample), np.array(pre_label))\n",
    "\n",
    "    stream.restart()\n",
    "    max_samples = sample_size\n",
    "    y_true = []\n",
    "    y_pred = []\n",
    "    pretrain_X = []\n",
    "    pretrain_y = []\n",
    "    p_bar = tqdm(total=max_samples)\n",
    "    n_samples = 0\n",
    "    drift, warning = False, False\n",
    "    correlation = 0\n",
    "    w_x = Window(max_size=199)\n",
    "    w_y = Window(max_size=199)\n",
    "    while n_samples < max_samples and stream.has_more_samples():\n",
    "        X, y = stream.next_sample()\n",
    "        w_x.queue(X.flatten())\n",
    "        #w_y.queue(y)\n",
    "        w_y.queue(y.flatten())\n",
    "        '''if n_samples % 60 == 0 and n_samples > 0:\n",
    "            clf.reset()\n",
    "            clf.fit(np.array(pre_sample), np.array(pre_label))\n",
    "            try:\n",
    "                clf.fit(w_x.get_window, w_y.get_window)\n",
    "            except:\n",
    "                clf.fit(np.array(pre_sample), np.array(pre_label))'''\n",
    "                \n",
    "        '''if n_samples >= 4000 and n_samples <= 4500:\n",
    "            print('Correlation @', n_samples, ': ', score, correlation)\n",
    "            #print(detector._average_correlation)\n",
    "            #r1, r2 = detector._ranks\n",
    "            #print('[',','.join(list(map(str,r1))), ']', '\\t[', ','.join(list(map(str,r2))), ']')'''\n",
    "        if drift:\n",
    "            print('Drift@', n_samples)\n",
    "            r1, r2 = detector._ranks\n",
    "            #print('[',','.join(list(map(str,r1))), ']', '\\t[', ','.join(list(map(str,r2))), ']')\n",
    "            clf.reset()\n",
    "            clf.fit(np.array(pre_sample), np.array(pre_label))\n",
    "            '''try:\n",
    "                clf.fit(w_x.get_window, w_y.get_window)\n",
    "            except:\n",
    "                w_x.queue(pre_sample[0])\n",
    "                w_x.queue(pre_sample[1])\n",
    "                w_y.queue(pre_label[0])\n",
    "                w_y.queue(pre_label[1])\n",
    "                clf.fit(w_x.get_window, w_y.get_window)'''\n",
    "\n",
    "        pred = clf.predict(X)\n",
    "        #clf.partial_fit(X, np.array([y]))\n",
    "        clf.partial_fit(X, y)\n",
    "        drift, warning, correlation, score = detector.update(pred.astype(np.int32))\n",
    "        #detector.add_element(np.all(pred.flatten() == y))\n",
    "\n",
    "        #y_true.append(y)\n",
    "        y_true.extend(y)\n",
    "        y_pred.extend(pred)\n",
    "\n",
    "        p_bar.update(1)\n",
    "        n_samples += 1\n",
    "    p_bar.close()\n",
    "    stream.restart()\n",
    "\n",
    "\n",
    "    print()\n",
    "    print(np.round(util.accuracy_example(np.array([y_true]), np.array([y_pred])), decimals=4)) # \n",
    "    #print(np.round(accuracy_score(np.array(y_true), np.array(y_pred)), decimals=4))\n",
    "    print(np.round(util.hamming_loss(np.array(y_true), np.array(y_pred)), decimals=4))\n",
    "    print(np.round(f1_score(np.array(y_true), np.array(y_pred), average='samples'),decimals=4))#util.f1_example(np.array([y_true]), np.array([y_pred])))\n",
    "    print(np.round(util.f1_micro(np.array(y_true), np.array(y_pred)), decimals=4))\n",
    "    print(np.round(util.f1_macro(np.array(y_true), np.array(y_pred)), decimals=4))\n",
    "    print()"
   ]
  },
  {
   "cell_type": "code",
   "execution_count": null,
   "metadata": {},
   "outputs": [],
   "source": []
  },
  {
   "cell_type": "code",
   "execution_count": 9,
   "metadata": {},
   "outputs": [
    {
     "output_type": "display_data",
     "data": {
      "text/plain": "  0%|          | 0/43907 [00:00<?, ?it/s]",
      "application/vnd.jupyter.widget-view+json": {
       "version_major": 2,
       "version_minor": 0,
       "model_id": "db2c210df50b477a84fbae28d97dd3f7"
      }
     },
     "metadata": {}
    },
    {
     "output_type": "stream",
     "name": "stdout",
     "text": [
      "Drift@ 16383\n",
      "Drift@ 23583\n",
      "Drift@ 31263\n",
      "Drift@ 35775\n",
      "\n",
      "0.0765\n",
      "0.2219\n",
      "0.2063\n",
      "0.1422\n",
      "0.0611\n",
      "\n"
     ]
    },
    {
     "output_type": "display_data",
     "data": {
      "text/plain": "  0%|          | 0/43907 [00:00<?, ?it/s]",
      "application/vnd.jupyter.widget-view+json": {
       "version_major": 2,
       "version_minor": 0,
       "model_id": "5f7c240c71674fb999f1a32ccbbc6fc8"
      }
     },
     "metadata": {}
    },
    {
     "output_type": "stream",
     "name": "stdout",
     "text": [
      "Drift@ 2759\n",
      "Drift@ 3806\n",
      "Drift@ 5289\n",
      "Drift@ 7234\n",
      "Drift@ 9280\n",
      "Drift@ 10719\n",
      "Drift@ 11619\n",
      "Drift@ 12672\n",
      "Drift@ 13309\n",
      "Drift@ 14575\n",
      "Drift@ 15223\n",
      "Drift@ 17279\n",
      "Drift@ 17958\n",
      "Drift@ 19757\n",
      "Drift@ 21676\n",
      "Drift@ 22817\n",
      "Drift@ 23843\n",
      "Drift@ 26729\n",
      "Drift@ 28593\n",
      "Drift@ 30246\n",
      "Drift@ 31398\n",
      "Drift@ 33225\n",
      "Drift@ 34475\n",
      "Drift@ 35017\n",
      "Drift@ 36329\n",
      "Drift@ 37990\n",
      "Drift@ 39079\n",
      "Drift@ 40653\n",
      "Drift@ 42360\n",
      "\n",
      "0.0591\n",
      "0.2336\n",
      "0.1231\n",
      "0.1116\n",
      "0.0548\n",
      "\n"
     ]
    },
    {
     "output_type": "display_data",
     "data": {
      "text/plain": "  0%|          | 0/43907 [00:00<?, ?it/s]",
      "application/vnd.jupyter.widget-view+json": {
       "version_major": 2,
       "version_minor": 0,
       "model_id": "25772892dff342cfa1c295eec88be58a"
      }
     },
     "metadata": {}
    },
    {
     "output_type": "stream",
     "name": "stdout",
     "text": [
      "Drift@ 87\n",
      "Drift@ 236\n",
      "Drift@ 455\n",
      "Drift@ 1502\n",
      "Drift@ 1774\n",
      "Drift@ 1887\n",
      "Drift@ 1984\n",
      "Drift@ 2380\n",
      "Drift@ 2934\n",
      "Drift@ 3069\n",
      "Drift@ 3399\n",
      "Drift@ 4029\n",
      "Drift@ 4214\n",
      "Drift@ 4415\n",
      "Drift@ 4581\n",
      "Drift@ 4649\n",
      "Drift@ 5334\n",
      "Drift@ 5853\n",
      "Drift@ 5923\n",
      "Drift@ 6183\n",
      "Drift@ 6490\n",
      "Drift@ 6538\n",
      "Drift@ 6905\n",
      "Drift@ 6963\n",
      "Drift@ 7085\n",
      "Drift@ 8279\n",
      "Drift@ 8929\n",
      "Drift@ 9180\n",
      "Drift@ 9244\n",
      "Drift@ 9303\n",
      "Drift@ 9862\n",
      "Drift@ 10021\n",
      "Drift@ 10056\n",
      "Drift@ 10228\n",
      "Drift@ 11023\n",
      "Drift@ 11334\n",
      "Drift@ 11519\n",
      "Drift@ 11970\n",
      "Drift@ 12133\n",
      "Drift@ 12324\n",
      "Drift@ 12487\n",
      "Drift@ 12646\n",
      "Drift@ 12832\n",
      "Drift@ 13309\n",
      "Drift@ 13833\n",
      "Drift@ 13937\n",
      "Drift@ 14043\n",
      "Drift@ 14289\n",
      "Drift@ 14392\n",
      "Drift@ 14496\n",
      "Drift@ 14666\n",
      "Drift@ 14811\n",
      "Drift@ 15011\n",
      "Drift@ 15199\n",
      "Drift@ 16056\n",
      "Drift@ 16287\n",
      "Drift@ 16366\n",
      "Drift@ 16475\n",
      "Drift@ 16617\n",
      "Drift@ 16799\n",
      "Drift@ 17389\n",
      "Drift@ 18455\n",
      "Drift@ 18665\n",
      "Drift@ 18851\n",
      "Drift@ 19626\n",
      "Drift@ 19702\n",
      "Drift@ 19774\n",
      "Drift@ 19938\n",
      "Drift@ 20041\n",
      "Drift@ 20096\n",
      "Drift@ 20260\n",
      "Drift@ 20356\n",
      "Drift@ 21086\n",
      "Drift@ 21436\n",
      "Drift@ 21793\n",
      "Drift@ 22361\n",
      "Drift@ 22417\n",
      "Drift@ 23009\n",
      "Drift@ 23093\n",
      "Drift@ 23239\n",
      "Drift@ 23325\n",
      "Drift@ 23636\n",
      "Drift@ 23884\n",
      "Drift@ 24065\n",
      "Drift@ 24178\n",
      "Drift@ 24580\n",
      "Drift@ 25001\n",
      "Drift@ 25449\n",
      "Drift@ 26225\n",
      "Drift@ 26628\n",
      "Drift@ 26727\n",
      "Drift@ 26766\n",
      "Drift@ 27127\n",
      "Drift@ 27562\n",
      "Drift@ 28285\n",
      "Drift@ 28619\n",
      "Drift@ 28823\n",
      "Drift@ 29167\n",
      "Drift@ 29232\n",
      "Drift@ 29976\n",
      "Drift@ 31241\n",
      "Drift@ 31390\n",
      "Drift@ 31736\n",
      "Drift@ 32200\n",
      "Drift@ 32564\n",
      "Drift@ 33023\n",
      "Drift@ 33527\n",
      "Drift@ 33575\n",
      "Drift@ 33642\n",
      "Drift@ 33745\n",
      "Drift@ 34098\n",
      "Drift@ 34263\n",
      "Drift@ 34326\n",
      "Drift@ 34475\n",
      "Drift@ 34850\n",
      "Drift@ 34919\n",
      "Drift@ 35026\n",
      "Drift@ 35209\n",
      "Drift@ 35467\n",
      "Drift@ 35680\n",
      "Drift@ 35812\n",
      "Drift@ 35845\n",
      "Drift@ 36141\n",
      "Drift@ 36242\n",
      "Drift@ 36919\n",
      "Drift@ 37048\n",
      "Drift@ 37490\n",
      "Drift@ 37787\n",
      "Drift@ 38307\n",
      "Drift@ 38617\n",
      "Drift@ 38654\n",
      "Drift@ 38745\n",
      "Drift@ 38897\n",
      "Drift@ 39597\n",
      "Drift@ 39748\n",
      "Drift@ 40006\n",
      "Drift@ 40369\n",
      "Drift@ 40639\n",
      "Drift@ 41391\n",
      "Drift@ 42018\n",
      "Drift@ 42195\n",
      "Drift@ 43184\n",
      "Drift@ 43264\n",
      "\n",
      "0.0452\n",
      "0.662\n",
      "0.0926\n",
      "0.0864\n",
      "0.064\n",
      "\n"
     ]
    },
    {
     "output_type": "display_data",
     "data": {
      "text/plain": "  0%|          | 0/43907 [00:00<?, ?it/s]",
      "application/vnd.jupyter.widget-view+json": {
       "version_major": 2,
       "version_minor": 0,
       "model_id": "295cacd1a2ef454ab01f06a9d28298ab"
      }
     },
     "metadata": {}
    },
    {
     "output_type": "stream",
     "name": "stdout",
     "text": [
      "\n",
      "0.0545\n",
      "0.5211\n",
      "0.1614\n",
      "0.1034\n",
      "0.0672\n",
      "\n"
     ]
    },
    {
     "output_type": "display_data",
     "data": {
      "text/plain": "  0%|          | 0/43907 [00:00<?, ?it/s]",
      "application/vnd.jupyter.widget-view+json": {
       "version_major": 2,
       "version_minor": 0,
       "model_id": "40718c55892843a4bfabf1a5c1b9b501"
      }
     },
     "metadata": {}
    },
    {
     "output_type": "stream",
     "name": "stdout",
     "text": [
      "\n",
      "0.0545\n",
      "0.5211\n",
      "0.1614\n",
      "0.1034\n",
      "0.0672\n",
      "\n"
     ]
    },
    {
     "output_type": "display_data",
     "data": {
      "text/plain": "  0%|          | 0/43907 [00:00<?, ?it/s]",
      "application/vnd.jupyter.widget-view+json": {
       "version_major": 2,
       "version_minor": 0,
       "model_id": "3cc51d58f9d9455095feb2aa9ca4b5cc"
      }
     },
     "metadata": {}
    },
    {
     "output_type": "stream",
     "name": "stdout",
     "text": [
      "\n",
      "0.0545\n",
      "0.5211\n",
      "0.1614\n",
      "0.1034\n",
      "0.0672\n",
      "\n"
     ]
    }
   ],
   "source": [
    "detectors = [ADWIN(), EDDM(), DDM(), KSWIN(), HDDM_A(), HDDM_W()]\n",
    "for detector in detectors:\n",
    "    #detector = EDDM()#LD3(k=1, window_size=500)\n",
    "    clf = ClassifierChain(GaussianNB())#SGDClassifier(max_iter=1000, random_state=0))#\n",
    "    pre_sample = [np.zeros(n_features), np.zeros(n_features)]\n",
    "    pre_label = [np.ones(n_targets), np.zeros(n_targets)]\n",
    "    clf.fit(np.array(pre_sample), np.array(pre_label))\n",
    "\n",
    "    stream.restart()\n",
    "    max_samples = sample_size\n",
    "    y_true = []\n",
    "    y_pred = []\n",
    "    pretrain_X = []\n",
    "    pretrain_y = []\n",
    "    p_bar = tqdm(total=max_samples)\n",
    "    n_samples = 0\n",
    "    w_x = Window(max_size=199)\n",
    "    w_y = Window(max_size=199)\n",
    "    while n_samples < max_samples and stream.has_more_samples():\n",
    "        X, y = stream.next_sample()\n",
    "        w_x.queue(X.flatten())\n",
    "        w_y.queue(y)\n",
    "        if detector.detected_change():\n",
    "            print('Drift@', n_samples)\n",
    "            detector.reset()\n",
    "            clf.reset()\n",
    "            clf.fit(np.array(pre_sample), np.array(pre_label))\n",
    "            '''try:\n",
    "                clf.fit(w_x.get_window, w_y.get_window)\n",
    "            except:\n",
    "                clf.fit(np.array(pre_sample), np.array(pre_label))'''\n",
    "\n",
    "        pred = clf.predict(X)\n",
    "        #clf.partial_fit(X, np.array([y]))\n",
    "        clf.partial_fit(X, y)\n",
    "        #detector.add_element(pred.astype(np.int32))\n",
    "        #detector.add_element(np.all(pred.flatten() == y))\n",
    "        detector.add_element((pred.astype(np.int32).flatten().tolist())==(y.astype(np.int32).flatten().tolist()))\n",
    "\n",
    "        #y_true.append(y)\n",
    "        y_true.extend(y)\n",
    "        y_pred.extend(pred)\n",
    "\n",
    "        p_bar.update(1)\n",
    "        n_samples += 1\n",
    "    \n",
    "    print()\n",
    "    print(np.round(util.accuracy_example(np.array([y_true]), np.array([y_pred])), decimals=4))\n",
    "    #print(np.round(accuracy_score(np.array(y_true), np.array(y_pred)), decimals=4))\n",
    "    print(np.round(util.hamming_loss(np.array(y_true), np.array(y_pred)), decimals=4))\n",
    "    print(np.round(f1_score(np.array(y_true), np.array(y_pred), average='samples'),decimals=4))#util.f1_example(np.array([y_true]), np.array([y_pred])))\n",
    "    print(np.round(util.f1_micro(np.array(y_true), np.array(y_pred)), decimals=4))\n",
    "    print(np.round(util.f1_macro(np.array(y_true), np.array(y_pred)), decimals=4))\n",
    "    print()\n",
    "\n",
    "    stream.restart()\n"
   ]
  },
  {
   "cell_type": "code",
   "execution_count": 10,
   "metadata": {},
   "outputs": [
    {
     "output_type": "display_data",
     "data": {
      "text/plain": "  0%|          | 0/43907 [00:00<?, ?it/s]",
      "application/vnd.jupyter.widget-view+json": {
       "version_major": 2,
       "version_minor": 0,
       "model_id": "ebb70040f6684c51a12491f28c594529"
      }
     },
     "metadata": {}
    },
    {
     "output_type": "stream",
     "name": "stdout",
     "text": [
      "\n",
      "0.0545\n",
      "0.5211\n",
      "0.1614\n",
      "0.1034\n",
      "0.0672\n",
      "\n"
     ]
    },
    {
     "output_type": "display_data",
     "data": {
      "text/plain": "  0%|          | 0/43907 [00:00<?, ?it/s]",
      "application/vnd.jupyter.widget-view+json": {
       "version_major": 2,
       "version_minor": 0,
       "model_id": "d1c348f490ea43ae94c118a398489e79"
      }
     },
     "metadata": {}
    },
    {
     "output_type": "stream",
     "name": "stdout",
     "text": [
      "\n",
      "0.0545\n",
      "0.5211\n",
      "0.1614\n",
      "0.1034\n",
      "0.0672\n",
      "\n"
     ]
    },
    {
     "output_type": "display_data",
     "data": {
      "text/plain": "  0%|          | 0/43907 [00:00<?, ?it/s]",
      "application/vnd.jupyter.widget-view+json": {
       "version_major": 2,
       "version_minor": 0,
       "model_id": "874d76d3449f44f4812f8e2bc3612f14"
      }
     },
     "metadata": {}
    },
    {
     "output_type": "stream",
     "name": "stdout",
     "text": [
      "\n",
      "0.0545\n",
      "0.5211\n",
      "0.1614\n",
      "0.1034\n",
      "0.0672\n",
      "\n"
     ]
    },
    {
     "output_type": "display_data",
     "data": {
      "text/plain": "  0%|          | 0/43907 [00:00<?, ?it/s]",
      "application/vnd.jupyter.widget-view+json": {
       "version_major": 2,
       "version_minor": 0,
       "model_id": "61056018bd644d699be28729c9e82030"
      }
     },
     "metadata": {}
    },
    {
     "output_type": "stream",
     "name": "stdout",
     "text": [
      "\n",
      "0.0545\n",
      "0.5211\n",
      "0.1614\n",
      "0.1034\n",
      "0.0672\n",
      "\n"
     ]
    },
    {
     "output_type": "display_data",
     "data": {
      "text/plain": "  0%|          | 0/43907 [00:00<?, ?it/s]",
      "application/vnd.jupyter.widget-view+json": {
       "version_major": 2,
       "version_minor": 0,
       "model_id": "f9438e456a8944619479e5d566585685"
      }
     },
     "metadata": {}
    },
    {
     "output_type": "stream",
     "name": "stdout",
     "text": [
      "\n",
      "0.0545\n",
      "0.5211\n",
      "0.1614\n",
      "0.1034\n",
      "0.0672\n",
      "\n"
     ]
    },
    {
     "output_type": "display_data",
     "data": {
      "text/plain": "  0%|          | 0/43907 [00:00<?, ?it/s]",
      "application/vnd.jupyter.widget-view+json": {
       "version_major": 2,
       "version_minor": 0,
       "model_id": "40330c3e4f8349298eaec3c573ec267a"
      }
     },
     "metadata": {}
    },
    {
     "output_type": "stream",
     "name": "stdout",
     "text": [
      "\n",
      "0.0545\n",
      "0.5211\n",
      "0.1614\n",
      "0.1034\n",
      "0.0672\n",
      "\n"
     ]
    },
    {
     "output_type": "display_data",
     "data": {
      "text/plain": "  0%|          | 0/43907 [00:00<?, ?it/s]",
      "application/vnd.jupyter.widget-view+json": {
       "version_major": 2,
       "version_minor": 0,
       "model_id": "d6cb0d0178bf48ff898d9a8429658b15"
      }
     },
     "metadata": {}
    },
    {
     "output_type": "stream",
     "name": "stdout",
     "text": [
      "Drift@ 3000\n",
      "Drift@ 3600\n",
      "\n",
      "0.0555\n",
      "0.4921\n",
      "0.1579\n",
      "0.1051\n",
      "0.0668\n",
      "\n"
     ]
    },
    {
     "output_type": "display_data",
     "data": {
      "text/plain": "  0%|          | 0/43907 [00:00<?, ?it/s]",
      "application/vnd.jupyter.widget-view+json": {
       "version_major": 2,
       "version_minor": 0,
       "model_id": "aed2a5a1028248d3a6fb68669f9accd3"
      }
     },
     "metadata": {}
    },
    {
     "output_type": "stream",
     "name": "stdout",
     "text": [
      "Drift@ 960\n",
      "Drift@ 8083\n",
      "Drift@ 14766\n",
      "Drift@ 19100\n",
      "Drift@ 23560\n",
      "Drift@ 26224\n",
      "Drift@ 29381\n",
      "Drift@ 38287\n",
      "\n",
      "0.0782\n",
      "0.1884\n",
      "0.1886\n",
      "0.145\n",
      "0.0585\n",
      "\n"
     ]
    }
   ],
   "source": [
    "detectors = [fhddm.FHDDM(), fhddms.FHDDMS(), fhddms_add.FHDDMS_add(), mddm_a.MDDM_A(), mddm_e.MDDM_E(), mddm_g.MDDM_G(), seq_drift2.SeqDrift2ChangeDetector(), rddm.RDDM()]\n",
    "for detector in detectors:\n",
    "    #detector = EDDM()#LD3(k=1, window_size=500)\n",
    "    clf = ClassifierChain(GaussianNB())#SGDClassifier(max_iter=1000, random_state=0))#\n",
    "    pre_sample = [np.zeros(n_features), np.zeros(n_features)]\n",
    "    pre_label = [np.ones(n_targets), np.zeros(n_targets)]\n",
    "    clf.fit(np.array(pre_sample), np.array(pre_label))\n",
    "\n",
    "\n",
    "    max_samples = sample_size\n",
    "    y_true = []\n",
    "    y_pred = []\n",
    "    pretrain_X = []\n",
    "    pretrain_y = []\n",
    "    p_bar = tqdm(total=max_samples)\n",
    "    n_samples = 0\n",
    "    drift = False\n",
    "    w_x = Window(max_size=199)\n",
    "    w_y = Window(max_size=199)\n",
    "    while n_samples < max_samples and stream.has_more_samples():\n",
    "        X, y = stream.next_sample()\n",
    "        w_x.queue(X.flatten())\n",
    "        w_y.queue(y)\n",
    "        if drift:\n",
    "            print('Drift@', n_samples)\n",
    "            detector.reset()\n",
    "            clf.reset()\n",
    "            clf.fit(np.array(pre_sample), np.array(pre_label))\n",
    "            '''try:\n",
    "                clf.fit(w_x.get_window, w_y.get_window)\n",
    "            except:\n",
    "                clf.fit(np.array(pre_sample), np.array(pre_label))'''\n",
    "\n",
    "        pred = clf.predict(X)\n",
    "        #clf.partial_fit(X, np.array([y]))\n",
    "        clf.partial_fit(X, y)\n",
    "        #detector.add_element(pred.astype(np.int32))\n",
    "        #detector.add_element(np.all(pred.flatten() == y))\n",
    "        _, drift = detector.run((pred.astype(np.int32).flatten().tolist())==(y.astype(np.int32).flatten().tolist()))\n",
    "\n",
    "        #y_true.append(y)\n",
    "        y_true.extend(y)\n",
    "        y_pred.extend(pred)\n",
    "\n",
    "        p_bar.update(1)\n",
    "        n_samples += 1\n",
    "    \n",
    "    print()\n",
    "    print(np.round(util.accuracy_example(np.array([y_true]), np.array([y_pred])), decimals=4))\n",
    "    #print(np.round(accuracy_score(np.array(y_true), np.array(y_pred)), decimals=4))\n",
    "    print(np.round(util.hamming_loss(np.array(y_true), np.array(y_pred)), decimals=4))\n",
    "    print(np.round(f1_score(np.array(y_true), np.array(y_pred), average='samples'),decimals=4))#util.f1_example(np.array([y_true]), np.array([y_pred])))\n",
    "    print(np.round(util.f1_micro(np.array(y_true), np.array(y_pred)), decimals=4))\n",
    "    print(np.round(util.f1_macro(np.array(y_true), np.array(y_pred)), decimals=4))\n",
    "    print()\n",
    "\n",
    "    stream.restart()"
   ]
  },
  {
   "cell_type": "code",
   "execution_count": 6,
   "metadata": {},
   "outputs": [
    {
     "output_type": "error",
     "ename": "NameError",
     "evalue": "name 'correlation_list' is not defined",
     "traceback": [
      "\u001b[0;31m---------------------------------------------------------------------------\u001b[0m",
      "\u001b[0;31mNameError\u001b[0m                                 Traceback (most recent call last)",
      "\u001b[0;32m<ipython-input-6-242480320688>\u001b[0m in \u001b[0;36m<module>\u001b[0;34m\u001b[0m\n\u001b[1;32m      1\u001b[0m \u001b[0;32mfrom\u001b[0m \u001b[0msklearn\u001b[0m\u001b[0;34m.\u001b[0m\u001b[0mneighbors\u001b[0m \u001b[0;32mimport\u001b[0m \u001b[0mKernelDensity\u001b[0m\u001b[0;34m\u001b[0m\u001b[0;34m\u001b[0m\u001b[0m\n\u001b[1;32m      2\u001b[0m \u001b[0mmodel\u001b[0m \u001b[0;34m=\u001b[0m \u001b[0mKernelDensity\u001b[0m\u001b[0;34m(\u001b[0m\u001b[0mbandwidth\u001b[0m\u001b[0;34m=\u001b[0m\u001b[0;36m1e-1\u001b[0m\u001b[0;34m,\u001b[0m \u001b[0mkernel\u001b[0m\u001b[0;34m=\u001b[0m\u001b[0;34m'gaussian'\u001b[0m\u001b[0;34m)\u001b[0m\u001b[0;34m\u001b[0m\u001b[0;34m\u001b[0m\u001b[0m\n\u001b[0;32m----> 3\u001b[0;31m \u001b[0msample\u001b[0m \u001b[0;34m=\u001b[0m \u001b[0mnp\u001b[0m\u001b[0;34m.\u001b[0m\u001b[0marray\u001b[0m\u001b[0;34m(\u001b[0m\u001b[0mcorrelation_list\u001b[0m\u001b[0;34m)\u001b[0m\u001b[0;34m.\u001b[0m\u001b[0mreshape\u001b[0m\u001b[0;34m(\u001b[0m\u001b[0;34m(\u001b[0m\u001b[0mlen\u001b[0m\u001b[0;34m(\u001b[0m\u001b[0mcorrelation_list\u001b[0m\u001b[0;34m)\u001b[0m\u001b[0;34m,\u001b[0m \u001b[0;36m1\u001b[0m\u001b[0;34m)\u001b[0m\u001b[0;34m)\u001b[0m\u001b[0;34m\u001b[0m\u001b[0;34m\u001b[0m\u001b[0m\n\u001b[0m\u001b[1;32m      4\u001b[0m \u001b[0mmodel\u001b[0m\u001b[0;34m.\u001b[0m\u001b[0mfit\u001b[0m\u001b[0;34m(\u001b[0m\u001b[0msample\u001b[0m\u001b[0;34m)\u001b[0m\u001b[0;34m\u001b[0m\u001b[0;34m\u001b[0m\u001b[0m\n\u001b[1;32m      5\u001b[0m \u001b[0;31m# sample probabilities for a range of outcomes\u001b[0m\u001b[0;34m\u001b[0m\u001b[0;34m\u001b[0m\u001b[0;34m\u001b[0m\u001b[0m\n",
      "\u001b[0;31mNameError\u001b[0m: name 'correlation_list' is not defined"
     ]
    }
   ],
   "source": [
    "from sklearn.neighbors import KernelDensity\n",
    "model = KernelDensity(bandwidth=1e-1, kernel='gaussian')\n",
    "sample = np.array(correlation_list).reshape((len(correlation_list), 1))\n",
    "model.fit(sample)\n",
    "# sample probabilities for a range of outcomes\n",
    "values = np.asarray([value for value in np.linspace(-1,1,100)])\n",
    "values = values.reshape((len(values), 1))\n",
    "probabilities = model.score_samples(values)\n",
    "probabilities = np.exp(probabilities)\n",
    "# plot the histogram and pdf\n",
    "plt.hist(sample, bins=36, density=True)\n",
    "plt.plot(values[:], probabilities)\n",
    "plt.show()"
   ]
  },
  {
   "cell_type": "code",
   "execution_count": 8,
   "metadata": {},
   "outputs": [
    {
     "output_type": "stream",
     "name": "stdout",
     "text": [
      "0.2979274611398964\n0.9229740932642487\n0.40461090550209716\n0.38694379149655656\n"
     ]
    }
   ],
   "source": [
    "print(accuracy_score(np.array(y_true), np.array(y_pred)))\n",
    "print(hamming_score(np.array(y_true), np.array(y_pred)))\n",
    "print(f1_score(np.array(y_true), np.array(y_pred), average='samples'))\n",
    "print(f1_score(np.array(y_true), np.array(y_pred), average='micro'))"
   ]
  },
  {
   "cell_type": "code",
   "execution_count": 9,
   "metadata": {},
   "outputs": [],
   "source": [
    "a = np.array([1, 19, 3, 8, 5, 18, 4, 2, 0, 13, 11, 7, 17, 6, 9, 10, 12, 14, 15, 16])\n",
    "b = np.array([19, 1, 2, 7, 3, 5, 18, 17, 13, 4, 8, 11, 0, 10, 6, 12, 9, 14, 15, 16]) \n",
    "\n",
    "c = np.array([19, 1, 2, 17, 10, 18, 7, 8, 3, 12, 4, 6, 5, 13, 11, 9, 14, 15, 0, 16])\n",
    "d = np.array([19, 2, 1, 8, 18, 5, 17, 3, 13, 12, 4, 6, 7, 10, 11, 9, 14, 15, 16, 0]) \n",
    "\n",
    "x = np.array([ 1,8,19,5,13,0,17,2,18,11,3,6,9,10,12,4,7,14,15,16 ])\n",
    "y = np.array([ 19,2,1,8,18,10,12,5,3,4,7,6,11,9,13,17,14,0,15,16 ])\n",
    "\n",
    "e = np.array([ 8,19,17,1,3,5,0,9,18,2,4,6,11,7,13,12,10,14,15,16 ])\n",
    "f = np.array([ 19,1,2,8,7,18,5,3,4,13,11,10,17,0,6,12,9,14,15,16 ])"
   ]
  },
  {
   "cell_type": "code",
   "execution_count": 10,
   "metadata": {},
   "outputs": [
    {
     "output_type": "execute_result",
     "data": {
      "text/plain": [
       "'for i in range(20):\\n    argx[i] *= 1/(argx[i]+1)\\n    argy[i] *= 1/(argy[i]+1)\\n    maxx[i] *= 1/(maxx[i]+1)\\n    maxy[i] *= 1/(maxy[i]+1)'"
      ]
     },
     "metadata": {},
     "execution_count": 10
    }
   ],
   "source": [
    "argx = (np.argsort(a)).astype(np.float)#np.arange(1,21,1).astype(np.float)\n",
    "argy = (np.argsort(b)).astype(np.float)#np.flip(np.arange(1,21,1)).astype(np.float) \n",
    "maxx = np.arange(1,21,1).astype(np.float)\n",
    "maxy = np.flip(np.arange(1,21,1)).astype(np.float) \n",
    "\n",
    "'''for i in range(20):\n",
    "    argx[i] *= 1/(argx[i]+1)\n",
    "    argy[i] *= 1/(argy[i]+1)\n",
    "    maxx[i] *= 1/(maxx[i]+1)\n",
    "    maxy[i] *= 1/(maxy[i]+1)'''\n",
    "\n"
   ]
  },
  {
   "cell_type": "code",
   "execution_count": 11,
   "metadata": {},
   "outputs": [
    {
     "output_type": "stream",
     "name": "stdout",
     "text": [
      "[ 8.  0.  7.  2.  6.  4. 13. 11.  3. 14. 15. 10. 16.  9. 17. 18. 19. 12.\n  5.  1.]\n[12.  1.  2.  4.  9.  5. 14.  3. 10. 16. 13. 11. 15.  8. 17. 18. 19.  7.\n  6.  0.]\n"
     ]
    }
   ],
   "source": [
    "print(argx)\n",
    "print(argy)"
   ]
  },
  {
   "cell_type": "code",
   "execution_count": 12,
   "metadata": {},
   "outputs": [],
   "source": [
    "def WS(rx, ry):\n",
    "    sum_ = 0\n",
    "    ranks_x = np.argsort(rx)\n",
    "    ranks_y = np.argsort(ry)\n",
    "    for i in range(len(rx)):\n",
    "        sum_ += (1/(2**(ranks_x[i]))) * ((np.abs(ranks_x[i] - ranks_y[i]))/(np.max([np.abs(1-ranks_x[i]), np.abs(len(rx) - ranks_x[i])])))\n",
    "    return 1 - sum_"
   ]
  },
  {
   "cell_type": "code",
   "execution_count": 13,
   "metadata": {},
   "outputs": [
    {
     "output_type": "execute_result",
     "data": {
      "text/plain": [
       "0.6403404417406884"
      ]
     },
     "metadata": {},
     "execution_count": 13
    }
   ],
   "source": [
    "WS(e,f)"
   ]
  },
  {
   "cell_type": "code",
   "execution_count": 14,
   "metadata": {},
   "outputs": [
    {
     "output_type": "execute_result",
     "data": {
      "text/plain": [
       "-0.2583333333333333"
      ]
     },
     "metadata": {},
     "execution_count": 14
    }
   ],
   "source": [
    "a = [1,2,3,4,5]\n",
    "b = [5,4,3,2,1]\n",
    "WS(a, b)"
   ]
  },
  {
   "cell_type": "code",
   "execution_count": 15,
   "metadata": {},
   "outputs": [
    {
     "output_type": "execute_result",
     "data": {
      "text/plain": [
       "SpearmanrResult(correlation=-0.7, pvalue=0.1881204043741873)"
      ]
     },
     "metadata": {},
     "execution_count": 15
    }
   ],
   "source": [
    "from scipy.stats import kendalltau, spearmanr\n",
    "spearmanr(x[:5],y[:5])"
   ]
  },
  {
   "cell_type": "code",
   "execution_count": 16,
   "metadata": {},
   "outputs": [
    {
     "output_type": "execute_result",
     "data": {
      "text/plain": [
       "0.15639097744360897"
      ]
     },
     "metadata": {},
     "execution_count": 16
    }
   ],
   "source": [
    "from scipy.spatial.distance import correlation\n",
    "correlation(argx,argy)"
   ]
  },
  {
   "cell_type": "code",
   "execution_count": 17,
   "metadata": {},
   "outputs": [],
   "source": [
    "def dist(x, y, w):\n",
    "    sum_ = 0\n",
    "    for i in range(len(x)):\n",
    "        abs_ = np.abs(x[i] - y[i])\n",
    "        add =  abs_*w[i] if abs_ > 1 else 0\n",
    "        sum_ += add\n",
    "    return sum_\n",
    "        "
   ]
  },
  {
   "cell_type": "code",
   "execution_count": 18,
   "metadata": {},
   "outputs": [
    {
     "output_type": "execute_result",
     "data": {
      "text/plain": [
       "0.00974723033648846"
      ]
     },
     "metadata": {},
     "execution_count": 18
    }
   ],
   "source": [
    "from scipy.spatial import distance\n",
    "((dist(argx, argy, w=1/((3)**(argy*argy))) / np.sqrt(len(argx))) + (dist(argx, argy, w=1/((3)**(argx*argx))) / np.sqrt(len(argx)))) / 2 #/ 0.05617535148406078"
   ]
  },
  {
   "cell_type": "code",
   "execution_count": 19,
   "metadata": {},
   "outputs": [
    {
     "output_type": "execute_result",
     "data": {
      "text/plain": [
       "nan"
      ]
     },
     "metadata": {},
     "execution_count": 19
    }
   ],
   "source": [
    "def rank_correlation(x, y, dist=distance.correlation):\n",
    "        c = np.array([dist(x[i], y[i]) * (1/((y[i]))) for i in range(len(x))]).sum()\n",
    "        return c\n",
    "rank_correlation(argx, argy)"
   ]
  },
  {
   "cell_type": "code",
   "execution_count": 20,
   "metadata": {},
   "outputs": [
    {
     "output_type": "execute_result",
     "data": {
      "text/plain": [
       "array([0.0833, 1.    , 0.5   , 0.25  , 0.1111, 0.2   , 0.0714, 0.3333,\n",
       "       0.1   , 0.0625, 0.0769, 0.0909, 0.0667, 0.125 , 0.0588, 0.0556,\n",
       "       0.0526, 0.1429, 0.1667,    inf])"
      ]
     },
     "metadata": {},
     "execution_count": 20
    }
   ],
   "source": [
    "1/argy"
   ]
  },
  {
   "cell_type": "code",
   "execution_count": 21,
   "metadata": {},
   "outputs": [
    {
     "output_type": "stream",
     "name": "stdout",
     "text": [
      "inf\n"
     ]
    }
   ],
   "source": [
    "from scipy.spatial import distance\n",
    "dist = distance.cityblock # * 1/((argy[i])**2)\n",
    "s = np.array([dist(argx[i], argy[i]) * 1/((argy[i])**2) for i in range(20)]).sum()\n",
    "\n",
    "'''for i in range(20):\n",
    "    s += dist(argx[i], argy[i]) * 1/((argy[i])**2)'''\n",
    "\n",
    "smax = 0\n",
    "for i in range(20):\n",
    "    smax += dist(argx[i], argx[i]) * 1/((argy[i])**2)\n",
    "\n",
    "print(s)"
   ]
  },
  {
   "cell_type": "code",
   "execution_count": 22,
   "metadata": {},
   "outputs": [
    {
     "output_type": "error",
     "ename": "NameError",
     "evalue": "name 'weightedtau' is not defined",
     "traceback": [
      "\u001b[0;31m---------------------------------------------------------------------------\u001b[0m",
      "\u001b[0;31mNameError\u001b[0m                                 Traceback (most recent call last)",
      "\u001b[0;32m<ipython-input-22-f86ada2f573c>\u001b[0m in \u001b[0;36m<module>\u001b[0;34m\u001b[0m\n\u001b[1;32m      2\u001b[0m \u001b[0;36m55.77\u001b[0m\u001b[0;34m\u001b[0m\u001b[0;34m\u001b[0m\u001b[0m\n\u001b[1;32m      3\u001b[0m \u001b[0mweigher\u001b[0m \u001b[0;34m=\u001b[0m \u001b[0;32mlambda\u001b[0m \u001b[0mr\u001b[0m\u001b[0;34m:\u001b[0m \u001b[0;36m1\u001b[0m\u001b[0;34m/\u001b[0m\u001b[0;34m(\u001b[0m\u001b[0;34m(\u001b[0m\u001b[0;36m1\u001b[0m\u001b[0;34m+\u001b[0m\u001b[0mr\u001b[0m\u001b[0;34m)\u001b[0m\u001b[0;34m**\u001b[0m\u001b[0;36m2\u001b[0m\u001b[0;34m)\u001b[0m\u001b[0;34m\u001b[0m\u001b[0;34m\u001b[0m\u001b[0m\n\u001b[0;32m----> 4\u001b[0;31m \u001b[0mprint\u001b[0m\u001b[0;34m(\u001b[0m\u001b[0mweightedtau\u001b[0m\u001b[0;34m(\u001b[0m\u001b[0ma\u001b[0m\u001b[0;34m,\u001b[0m\u001b[0mb\u001b[0m\u001b[0;34m,\u001b[0m\u001b[0mrank\u001b[0m\u001b[0;34m=\u001b[0m\u001b[0;32mTrue\u001b[0m\u001b[0;34m,\u001b[0m \u001b[0madditive\u001b[0m\u001b[0;34m=\u001b[0m\u001b[0;32mFalse\u001b[0m\u001b[0;34m,\u001b[0m \u001b[0mweigher\u001b[0m\u001b[0;34m=\u001b[0m\u001b[0mweigher\u001b[0m\u001b[0;34m)\u001b[0m\u001b[0;34m)\u001b[0m\u001b[0;34m\u001b[0m\u001b[0;34m\u001b[0m\u001b[0m\n\u001b[0m\u001b[1;32m      5\u001b[0m \u001b[0mprint\u001b[0m\u001b[0;34m(\u001b[0m\u001b[0mweightedtau\u001b[0m\u001b[0;34m(\u001b[0m\u001b[0mc\u001b[0m\u001b[0;34m,\u001b[0m\u001b[0md\u001b[0m\u001b[0;34m,\u001b[0m\u001b[0mrank\u001b[0m\u001b[0;34m=\u001b[0m\u001b[0;32mTrue\u001b[0m\u001b[0;34m,\u001b[0m \u001b[0madditive\u001b[0m\u001b[0;34m=\u001b[0m\u001b[0;32mFalse\u001b[0m\u001b[0;34m,\u001b[0m \u001b[0mweigher\u001b[0m\u001b[0;34m=\u001b[0m\u001b[0mweigher\u001b[0m\u001b[0;34m)\u001b[0m\u001b[0;34m)\u001b[0m\u001b[0;34m\u001b[0m\u001b[0;34m\u001b[0m\u001b[0m\n\u001b[1;32m      6\u001b[0m \u001b[0mprint\u001b[0m\u001b[0;34m(\u001b[0m\u001b[0mweightedtau\u001b[0m\u001b[0;34m(\u001b[0m\u001b[0mx\u001b[0m\u001b[0;34m,\u001b[0m\u001b[0my\u001b[0m\u001b[0;34m,\u001b[0m\u001b[0mrank\u001b[0m\u001b[0;34m=\u001b[0m\u001b[0;32mTrue\u001b[0m\u001b[0;34m,\u001b[0m \u001b[0madditive\u001b[0m\u001b[0;34m=\u001b[0m\u001b[0;32mFalse\u001b[0m\u001b[0;34m,\u001b[0m \u001b[0mweigher\u001b[0m\u001b[0;34m=\u001b[0m\u001b[0mweigher\u001b[0m\u001b[0;34m)\u001b[0m\u001b[0;34m)\u001b[0m\u001b[0;34m\u001b[0m\u001b[0;34m\u001b[0m\u001b[0m\n",
      "\u001b[0;31mNameError\u001b[0m: name 'weightedtau' is not defined"
     ]
    }
   ],
   "source": [
    "0.5429113076754074\n",
    "55.77\n",
    "weigher = lambda r: 1/((1+r)**2)\n",
    "print(weightedtau(a,b,rank=True, additive=False, weigher=weigher))\n",
    "print(weightedtau(c,d,rank=True, additive=False, weigher=weigher))\n",
    "print(weightedtau(x,y,rank=True, additive=False, weigher=weigher))"
   ]
  },
  {
   "cell_type": "code",
   "execution_count": 19,
   "metadata": {},
   "outputs": [
    {
     "output_type": "stream",
     "name": "stdout",
     "text": [
      "[17 18 19]\n[ 1 10]\n[11 18 19]\n"
     ]
    }
   ],
   "source": [
    "print(np.where(a==b)[0])\n",
    "print(np.where(c==d)[0])\n",
    "print(np.where(x==y)[0])"
   ]
  },
  {
   "cell_type": "code",
   "execution_count": 20,
   "metadata": {},
   "outputs": [
    {
     "output_type": "stream",
     "name": "stdout",
     "text": [
      "WeightedTauResult(correlation=0.6962121412338664, pvalue=nan)\nWeightedTauResult(correlation=0.07118840640971633, pvalue=nan)\nWeightedTauResult(correlation=0.18079986971236403, pvalue=nan)\n"
     ]
    }
   ],
   "source": [
    "weigher = lambda r: 1/((r+1))\n",
    "print(weightedtau(np.argsort(a),np.argsort(b),rank=False, additive=False, weigher=weigher))\n",
    "print(weightedtau(np.argsort(c),np.argsort(d),rank=False, additive=False, weigher=weigher))\n",
    "print(weightedtau(np.argsort(x),np.argsort(y),rank=False, additive=False, weigher=weigher))"
   ]
  },
  {
   "cell_type": "code",
   "execution_count": null,
   "metadata": {},
   "outputs": [],
   "source": []
  }
 ]
}